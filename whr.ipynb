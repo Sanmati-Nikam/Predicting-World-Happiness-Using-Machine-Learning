{
 "cells": [
  {
   "cell_type": "code",
   "execution_count": 1,
   "metadata": {},
   "outputs": [
    {
     "data": {
      "text/html": [
       "        <script type=\"text/javascript\">\n",
       "        window.PlotlyConfig = {MathJaxConfig: 'local'};\n",
       "        if (window.MathJax) {MathJax.Hub.Config({SVG: {font: \"STIX-Web\"}});}\n",
       "        if (typeof require !== 'undefined') {\n",
       "        require.undef(\"plotly\");\n",
       "        requirejs.config({\n",
       "            paths: {\n",
       "                'plotly': ['https://cdn.plot.ly/plotly-latest.min']\n",
       "            }\n",
       "        });\n",
       "        require(['plotly'], function(Plotly) {\n",
       "            window._Plotly = Plotly;\n",
       "        });\n",
       "        }\n",
       "        </script>\n",
       "        "
      ]
     },
     "metadata": {},
     "output_type": "display_data"
    }
   ],
   "source": [
    "import numpy as np # linear algebra\n",
    "import pandas as pd # data processing\n",
    "import matplotlib.pyplot as plt #visualize\n",
    "plt.style.use(\"seaborn-whitegrid\")\n",
    "import seaborn as sns\n",
    "import plotly as py\n",
    "from plotly.offline import init_notebook_mode, iplot, plot\n",
    "init_notebook_mode(connected=True)\n",
    "\n",
    "import plotly.graph_objs as go"
   ]
  },
  {
   "cell_type": "code",
   "execution_count": 2,
   "metadata": {},
   "outputs": [],
   "source": [
    "world_happiness_report_2015 = pd.read_csv(\"2015.csv\")\n",
    "world_happiness_report_2016 = pd.read_csv(\"2016.csv\")\n",
    "world_happiness_report_2017 = pd.read_csv(\"2017.csv\")\n",
    "world_happiness_report_2018 = pd.read_csv(\"2018.csv\")\n",
    "world_happiness_report_2019 = pd.read_csv(\"2019.csv\")\n",
    "world_happiness_report_2020 = pd.read_csv(\"2020.csv\")\n",
    "world_happiness_report_2021 = pd.read_csv(\"2021.csv\")"
   ]
  },
  {
   "cell_type": "code",
   "execution_count": 3,
   "metadata": {},
   "outputs": [
    {
     "data": {
      "text/html": [
       "<div>\n",
       "<style scoped>\n",
       "    .dataframe tbody tr th:only-of-type {\n",
       "        vertical-align: middle;\n",
       "    }\n",
       "\n",
       "    .dataframe tbody tr th {\n",
       "        vertical-align: top;\n",
       "    }\n",
       "\n",
       "    .dataframe thead th {\n",
       "        text-align: right;\n",
       "    }\n",
       "</style>\n",
       "<table border=\"1\" class=\"dataframe\">\n",
       "  <thead>\n",
       "    <tr style=\"text-align: right;\">\n",
       "      <th></th>\n",
       "      <th>Country name</th>\n",
       "      <th>Regional indicator</th>\n",
       "      <th>Ladder score</th>\n",
       "      <th>Standard error of ladder score</th>\n",
       "      <th>upperwhisker</th>\n",
       "      <th>lowerwhisker</th>\n",
       "      <th>Logged GDP per capita</th>\n",
       "      <th>Social support</th>\n",
       "      <th>Healthy life expectancy</th>\n",
       "      <th>Freedom to make life choices</th>\n",
       "      <th>Generosity</th>\n",
       "      <th>Perceptions of corruption</th>\n",
       "      <th>Ladder score in Dystopia</th>\n",
       "      <th>Explained by: Log GDP per capita</th>\n",
       "      <th>Explained by: Social support</th>\n",
       "      <th>Explained by: Healthy life expectancy</th>\n",
       "      <th>Explained by: Freedom to make life choices</th>\n",
       "      <th>Explained by: Generosity</th>\n",
       "      <th>Explained by: Perceptions of corruption</th>\n",
       "      <th>Dystopia + residual</th>\n",
       "    </tr>\n",
       "  </thead>\n",
       "  <tbody>\n",
       "    <tr>\n",
       "      <th>124</th>\n",
       "      <td>Palestinian Territories</td>\n",
       "      <td>Middle East and North Africa</td>\n",
       "      <td>4.517</td>\n",
       "      <td>0.067</td>\n",
       "      <td>4.649</td>\n",
       "      <td>4.384</td>\n",
       "      <td>8.485</td>\n",
       "      <td>0.826</td>\n",
       "      <td>62.250</td>\n",
       "      <td>0.653</td>\n",
       "      <td>-0.163</td>\n",
       "      <td>0.821</td>\n",
       "      <td>2.43</td>\n",
       "      <td>0.646</td>\n",
       "      <td>0.819</td>\n",
       "      <td>0.434</td>\n",
       "      <td>0.330</td>\n",
       "      <td>0.082</td>\n",
       "      <td>0.075</td>\n",
       "      <td>2.131</td>\n",
       "    </tr>\n",
       "    <tr>\n",
       "      <th>125</th>\n",
       "      <td>Myanmar</td>\n",
       "      <td>Southeast Asia</td>\n",
       "      <td>4.426</td>\n",
       "      <td>0.052</td>\n",
       "      <td>4.527</td>\n",
       "      <td>4.324</td>\n",
       "      <td>8.541</td>\n",
       "      <td>0.779</td>\n",
       "      <td>59.302</td>\n",
       "      <td>0.876</td>\n",
       "      <td>0.509</td>\n",
       "      <td>0.660</td>\n",
       "      <td>2.43</td>\n",
       "      <td>0.666</td>\n",
       "      <td>0.713</td>\n",
       "      <td>0.341</td>\n",
       "      <td>0.601</td>\n",
       "      <td>0.520</td>\n",
       "      <td>0.178</td>\n",
       "      <td>1.407</td>\n",
       "    </tr>\n",
       "    <tr>\n",
       "      <th>126</th>\n",
       "      <td>Jordan</td>\n",
       "      <td>Middle East and North Africa</td>\n",
       "      <td>4.395</td>\n",
       "      <td>0.062</td>\n",
       "      <td>4.516</td>\n",
       "      <td>4.273</td>\n",
       "      <td>9.182</td>\n",
       "      <td>0.767</td>\n",
       "      <td>67.000</td>\n",
       "      <td>0.755</td>\n",
       "      <td>-0.167</td>\n",
       "      <td>0.705</td>\n",
       "      <td>2.43</td>\n",
       "      <td>0.890</td>\n",
       "      <td>0.685</td>\n",
       "      <td>0.583</td>\n",
       "      <td>0.455</td>\n",
       "      <td>0.079</td>\n",
       "      <td>0.150</td>\n",
       "      <td>1.553</td>\n",
       "    </tr>\n",
       "    <tr>\n",
       "      <th>127</th>\n",
       "      <td>Chad</td>\n",
       "      <td>Sub-Saharan Africa</td>\n",
       "      <td>4.355</td>\n",
       "      <td>0.094</td>\n",
       "      <td>4.540</td>\n",
       "      <td>4.171</td>\n",
       "      <td>7.364</td>\n",
       "      <td>0.619</td>\n",
       "      <td>48.478</td>\n",
       "      <td>0.579</td>\n",
       "      <td>0.041</td>\n",
       "      <td>0.807</td>\n",
       "      <td>2.43</td>\n",
       "      <td>0.255</td>\n",
       "      <td>0.353</td>\n",
       "      <td>0.000</td>\n",
       "      <td>0.240</td>\n",
       "      <td>0.215</td>\n",
       "      <td>0.084</td>\n",
       "      <td>3.209</td>\n",
       "    </tr>\n",
       "    <tr>\n",
       "      <th>128</th>\n",
       "      <td>Sri Lanka</td>\n",
       "      <td>South Asia</td>\n",
       "      <td>4.325</td>\n",
       "      <td>0.066</td>\n",
       "      <td>4.454</td>\n",
       "      <td>4.196</td>\n",
       "      <td>9.470</td>\n",
       "      <td>0.827</td>\n",
       "      <td>67.299</td>\n",
       "      <td>0.841</td>\n",
       "      <td>0.079</td>\n",
       "      <td>0.863</td>\n",
       "      <td>2.43</td>\n",
       "      <td>0.990</td>\n",
       "      <td>0.820</td>\n",
       "      <td>0.593</td>\n",
       "      <td>0.559</td>\n",
       "      <td>0.239</td>\n",
       "      <td>0.049</td>\n",
       "      <td>1.075</td>\n",
       "    </tr>\n",
       "    <tr>\n",
       "      <th>129</th>\n",
       "      <td>Swaziland</td>\n",
       "      <td>Sub-Saharan Africa</td>\n",
       "      <td>4.308</td>\n",
       "      <td>0.071</td>\n",
       "      <td>4.448</td>\n",
       "      <td>4.168</td>\n",
       "      <td>9.065</td>\n",
       "      <td>0.770</td>\n",
       "      <td>50.833</td>\n",
       "      <td>0.647</td>\n",
       "      <td>-0.185</td>\n",
       "      <td>0.708</td>\n",
       "      <td>2.43</td>\n",
       "      <td>0.849</td>\n",
       "      <td>0.693</td>\n",
       "      <td>0.074</td>\n",
       "      <td>0.323</td>\n",
       "      <td>0.067</td>\n",
       "      <td>0.147</td>\n",
       "      <td>2.155</td>\n",
       "    </tr>\n",
       "    <tr>\n",
       "      <th>130</th>\n",
       "      <td>Comoros</td>\n",
       "      <td>Sub-Saharan Africa</td>\n",
       "      <td>4.289</td>\n",
       "      <td>0.084</td>\n",
       "      <td>4.454</td>\n",
       "      <td>4.123</td>\n",
       "      <td>8.031</td>\n",
       "      <td>0.626</td>\n",
       "      <td>57.349</td>\n",
       "      <td>0.548</td>\n",
       "      <td>0.082</td>\n",
       "      <td>0.781</td>\n",
       "      <td>2.43</td>\n",
       "      <td>0.488</td>\n",
       "      <td>0.367</td>\n",
       "      <td>0.279</td>\n",
       "      <td>0.202</td>\n",
       "      <td>0.241</td>\n",
       "      <td>0.101</td>\n",
       "      <td>2.610</td>\n",
       "    </tr>\n",
       "    <tr>\n",
       "      <th>131</th>\n",
       "      <td>Egypt</td>\n",
       "      <td>Middle East and North Africa</td>\n",
       "      <td>4.283</td>\n",
       "      <td>0.045</td>\n",
       "      <td>4.371</td>\n",
       "      <td>4.195</td>\n",
       "      <td>9.367</td>\n",
       "      <td>0.750</td>\n",
       "      <td>61.998</td>\n",
       "      <td>0.749</td>\n",
       "      <td>-0.182</td>\n",
       "      <td>0.795</td>\n",
       "      <td>2.43</td>\n",
       "      <td>0.954</td>\n",
       "      <td>0.647</td>\n",
       "      <td>0.426</td>\n",
       "      <td>0.446</td>\n",
       "      <td>0.069</td>\n",
       "      <td>0.092</td>\n",
       "      <td>1.648</td>\n",
       "    </tr>\n",
       "    <tr>\n",
       "      <th>132</th>\n",
       "      <td>Ethiopia</td>\n",
       "      <td>Sub-Saharan Africa</td>\n",
       "      <td>4.275</td>\n",
       "      <td>0.051</td>\n",
       "      <td>4.374</td>\n",
       "      <td>4.175</td>\n",
       "      <td>7.694</td>\n",
       "      <td>0.764</td>\n",
       "      <td>59.000</td>\n",
       "      <td>0.752</td>\n",
       "      <td>0.082</td>\n",
       "      <td>0.761</td>\n",
       "      <td>2.43</td>\n",
       "      <td>0.370</td>\n",
       "      <td>0.679</td>\n",
       "      <td>0.331</td>\n",
       "      <td>0.451</td>\n",
       "      <td>0.241</td>\n",
       "      <td>0.114</td>\n",
       "      <td>2.089</td>\n",
       "    </tr>\n",
       "    <tr>\n",
       "      <th>133</th>\n",
       "      <td>Mauritania</td>\n",
       "      <td>Sub-Saharan Africa</td>\n",
       "      <td>4.227</td>\n",
       "      <td>0.070</td>\n",
       "      <td>4.365</td>\n",
       "      <td>4.090</td>\n",
       "      <td>8.542</td>\n",
       "      <td>0.795</td>\n",
       "      <td>57.161</td>\n",
       "      <td>0.561</td>\n",
       "      <td>-0.106</td>\n",
       "      <td>0.731</td>\n",
       "      <td>2.43</td>\n",
       "      <td>0.666</td>\n",
       "      <td>0.749</td>\n",
       "      <td>0.273</td>\n",
       "      <td>0.218</td>\n",
       "      <td>0.119</td>\n",
       "      <td>0.133</td>\n",
       "      <td>2.069</td>\n",
       "    </tr>\n",
       "    <tr>\n",
       "      <th>134</th>\n",
       "      <td>Madagascar</td>\n",
       "      <td>Sub-Saharan Africa</td>\n",
       "      <td>4.208</td>\n",
       "      <td>0.072</td>\n",
       "      <td>4.349</td>\n",
       "      <td>4.068</td>\n",
       "      <td>7.396</td>\n",
       "      <td>0.686</td>\n",
       "      <td>59.305</td>\n",
       "      <td>0.552</td>\n",
       "      <td>-0.005</td>\n",
       "      <td>0.803</td>\n",
       "      <td>2.43</td>\n",
       "      <td>0.266</td>\n",
       "      <td>0.503</td>\n",
       "      <td>0.341</td>\n",
       "      <td>0.207</td>\n",
       "      <td>0.185</td>\n",
       "      <td>0.087</td>\n",
       "      <td>2.620</td>\n",
       "    </tr>\n",
       "    <tr>\n",
       "      <th>135</th>\n",
       "      <td>Togo</td>\n",
       "      <td>Sub-Saharan Africa</td>\n",
       "      <td>4.107</td>\n",
       "      <td>0.077</td>\n",
       "      <td>4.258</td>\n",
       "      <td>3.956</td>\n",
       "      <td>7.362</td>\n",
       "      <td>0.569</td>\n",
       "      <td>54.914</td>\n",
       "      <td>0.619</td>\n",
       "      <td>0.032</td>\n",
       "      <td>0.772</td>\n",
       "      <td>2.43</td>\n",
       "      <td>0.254</td>\n",
       "      <td>0.239</td>\n",
       "      <td>0.203</td>\n",
       "      <td>0.289</td>\n",
       "      <td>0.209</td>\n",
       "      <td>0.107</td>\n",
       "      <td>2.806</td>\n",
       "    </tr>\n",
       "    <tr>\n",
       "      <th>136</th>\n",
       "      <td>Zambia</td>\n",
       "      <td>Sub-Saharan Africa</td>\n",
       "      <td>4.073</td>\n",
       "      <td>0.069</td>\n",
       "      <td>4.209</td>\n",
       "      <td>3.938</td>\n",
       "      <td>8.145</td>\n",
       "      <td>0.708</td>\n",
       "      <td>55.809</td>\n",
       "      <td>0.782</td>\n",
       "      <td>0.061</td>\n",
       "      <td>0.823</td>\n",
       "      <td>2.43</td>\n",
       "      <td>0.528</td>\n",
       "      <td>0.552</td>\n",
       "      <td>0.231</td>\n",
       "      <td>0.487</td>\n",
       "      <td>0.227</td>\n",
       "      <td>0.074</td>\n",
       "      <td>1.975</td>\n",
       "    </tr>\n",
       "    <tr>\n",
       "      <th>137</th>\n",
       "      <td>Sierra Leone</td>\n",
       "      <td>Sub-Saharan Africa</td>\n",
       "      <td>3.849</td>\n",
       "      <td>0.077</td>\n",
       "      <td>4.001</td>\n",
       "      <td>3.698</td>\n",
       "      <td>7.434</td>\n",
       "      <td>0.630</td>\n",
       "      <td>51.651</td>\n",
       "      <td>0.717</td>\n",
       "      <td>0.084</td>\n",
       "      <td>0.866</td>\n",
       "      <td>2.43</td>\n",
       "      <td>0.279</td>\n",
       "      <td>0.377</td>\n",
       "      <td>0.100</td>\n",
       "      <td>0.408</td>\n",
       "      <td>0.243</td>\n",
       "      <td>0.047</td>\n",
       "      <td>2.396</td>\n",
       "    </tr>\n",
       "    <tr>\n",
       "      <th>138</th>\n",
       "      <td>India</td>\n",
       "      <td>South Asia</td>\n",
       "      <td>3.819</td>\n",
       "      <td>0.026</td>\n",
       "      <td>3.869</td>\n",
       "      <td>3.769</td>\n",
       "      <td>8.755</td>\n",
       "      <td>0.603</td>\n",
       "      <td>60.633</td>\n",
       "      <td>0.893</td>\n",
       "      <td>0.089</td>\n",
       "      <td>0.774</td>\n",
       "      <td>2.43</td>\n",
       "      <td>0.741</td>\n",
       "      <td>0.316</td>\n",
       "      <td>0.383</td>\n",
       "      <td>0.622</td>\n",
       "      <td>0.246</td>\n",
       "      <td>0.106</td>\n",
       "      <td>1.405</td>\n",
       "    </tr>\n",
       "    <tr>\n",
       "      <th>139</th>\n",
       "      <td>Burundi</td>\n",
       "      <td>Sub-Saharan Africa</td>\n",
       "      <td>3.775</td>\n",
       "      <td>0.107</td>\n",
       "      <td>3.985</td>\n",
       "      <td>3.565</td>\n",
       "      <td>6.635</td>\n",
       "      <td>0.490</td>\n",
       "      <td>53.400</td>\n",
       "      <td>0.626</td>\n",
       "      <td>-0.024</td>\n",
       "      <td>0.607</td>\n",
       "      <td>2.43</td>\n",
       "      <td>0.000</td>\n",
       "      <td>0.062</td>\n",
       "      <td>0.155</td>\n",
       "      <td>0.298</td>\n",
       "      <td>0.172</td>\n",
       "      <td>0.212</td>\n",
       "      <td>2.876</td>\n",
       "    </tr>\n",
       "    <tr>\n",
       "      <th>140</th>\n",
       "      <td>Yemen</td>\n",
       "      <td>Middle East and North Africa</td>\n",
       "      <td>3.658</td>\n",
       "      <td>0.070</td>\n",
       "      <td>3.794</td>\n",
       "      <td>3.521</td>\n",
       "      <td>7.578</td>\n",
       "      <td>0.832</td>\n",
       "      <td>57.122</td>\n",
       "      <td>0.602</td>\n",
       "      <td>-0.147</td>\n",
       "      <td>0.800</td>\n",
       "      <td>2.43</td>\n",
       "      <td>0.329</td>\n",
       "      <td>0.831</td>\n",
       "      <td>0.272</td>\n",
       "      <td>0.268</td>\n",
       "      <td>0.092</td>\n",
       "      <td>0.089</td>\n",
       "      <td>1.776</td>\n",
       "    </tr>\n",
       "    <tr>\n",
       "      <th>141</th>\n",
       "      <td>Tanzania</td>\n",
       "      <td>Sub-Saharan Africa</td>\n",
       "      <td>3.623</td>\n",
       "      <td>0.071</td>\n",
       "      <td>3.762</td>\n",
       "      <td>3.485</td>\n",
       "      <td>7.876</td>\n",
       "      <td>0.702</td>\n",
       "      <td>57.999</td>\n",
       "      <td>0.833</td>\n",
       "      <td>0.183</td>\n",
       "      <td>0.577</td>\n",
       "      <td>2.43</td>\n",
       "      <td>0.433</td>\n",
       "      <td>0.540</td>\n",
       "      <td>0.300</td>\n",
       "      <td>0.549</td>\n",
       "      <td>0.307</td>\n",
       "      <td>0.231</td>\n",
       "      <td>1.263</td>\n",
       "    </tr>\n",
       "    <tr>\n",
       "      <th>142</th>\n",
       "      <td>Haiti</td>\n",
       "      <td>Latin America and Caribbean</td>\n",
       "      <td>3.615</td>\n",
       "      <td>0.173</td>\n",
       "      <td>3.953</td>\n",
       "      <td>3.276</td>\n",
       "      <td>7.477</td>\n",
       "      <td>0.540</td>\n",
       "      <td>55.700</td>\n",
       "      <td>0.593</td>\n",
       "      <td>0.422</td>\n",
       "      <td>0.721</td>\n",
       "      <td>2.43</td>\n",
       "      <td>0.294</td>\n",
       "      <td>0.173</td>\n",
       "      <td>0.227</td>\n",
       "      <td>0.257</td>\n",
       "      <td>0.463</td>\n",
       "      <td>0.139</td>\n",
       "      <td>2.060</td>\n",
       "    </tr>\n",
       "    <tr>\n",
       "      <th>143</th>\n",
       "      <td>Malawi</td>\n",
       "      <td>Sub-Saharan Africa</td>\n",
       "      <td>3.600</td>\n",
       "      <td>0.092</td>\n",
       "      <td>3.781</td>\n",
       "      <td>3.419</td>\n",
       "      <td>6.958</td>\n",
       "      <td>0.537</td>\n",
       "      <td>57.948</td>\n",
       "      <td>0.780</td>\n",
       "      <td>0.038</td>\n",
       "      <td>0.729</td>\n",
       "      <td>2.43</td>\n",
       "      <td>0.113</td>\n",
       "      <td>0.168</td>\n",
       "      <td>0.298</td>\n",
       "      <td>0.484</td>\n",
       "      <td>0.213</td>\n",
       "      <td>0.134</td>\n",
       "      <td>2.190</td>\n",
       "    </tr>\n",
       "    <tr>\n",
       "      <th>144</th>\n",
       "      <td>Lesotho</td>\n",
       "      <td>Sub-Saharan Africa</td>\n",
       "      <td>3.512</td>\n",
       "      <td>0.120</td>\n",
       "      <td>3.748</td>\n",
       "      <td>3.276</td>\n",
       "      <td>7.926</td>\n",
       "      <td>0.787</td>\n",
       "      <td>48.700</td>\n",
       "      <td>0.715</td>\n",
       "      <td>-0.131</td>\n",
       "      <td>0.915</td>\n",
       "      <td>2.43</td>\n",
       "      <td>0.451</td>\n",
       "      <td>0.731</td>\n",
       "      <td>0.007</td>\n",
       "      <td>0.405</td>\n",
       "      <td>0.103</td>\n",
       "      <td>0.015</td>\n",
       "      <td>1.800</td>\n",
       "    </tr>\n",
       "    <tr>\n",
       "      <th>145</th>\n",
       "      <td>Botswana</td>\n",
       "      <td>Sub-Saharan Africa</td>\n",
       "      <td>3.467</td>\n",
       "      <td>0.074</td>\n",
       "      <td>3.611</td>\n",
       "      <td>3.322</td>\n",
       "      <td>9.782</td>\n",
       "      <td>0.784</td>\n",
       "      <td>59.269</td>\n",
       "      <td>0.824</td>\n",
       "      <td>-0.246</td>\n",
       "      <td>0.801</td>\n",
       "      <td>2.43</td>\n",
       "      <td>1.099</td>\n",
       "      <td>0.724</td>\n",
       "      <td>0.340</td>\n",
       "      <td>0.539</td>\n",
       "      <td>0.027</td>\n",
       "      <td>0.088</td>\n",
       "      <td>0.648</td>\n",
       "    </tr>\n",
       "    <tr>\n",
       "      <th>146</th>\n",
       "      <td>Rwanda</td>\n",
       "      <td>Sub-Saharan Africa</td>\n",
       "      <td>3.415</td>\n",
       "      <td>0.068</td>\n",
       "      <td>3.548</td>\n",
       "      <td>3.282</td>\n",
       "      <td>7.676</td>\n",
       "      <td>0.552</td>\n",
       "      <td>61.400</td>\n",
       "      <td>0.897</td>\n",
       "      <td>0.061</td>\n",
       "      <td>0.167</td>\n",
       "      <td>2.43</td>\n",
       "      <td>0.364</td>\n",
       "      <td>0.202</td>\n",
       "      <td>0.407</td>\n",
       "      <td>0.627</td>\n",
       "      <td>0.227</td>\n",
       "      <td>0.493</td>\n",
       "      <td>1.095</td>\n",
       "    </tr>\n",
       "    <tr>\n",
       "      <th>147</th>\n",
       "      <td>Zimbabwe</td>\n",
       "      <td>Sub-Saharan Africa</td>\n",
       "      <td>3.145</td>\n",
       "      <td>0.058</td>\n",
       "      <td>3.259</td>\n",
       "      <td>3.030</td>\n",
       "      <td>7.943</td>\n",
       "      <td>0.750</td>\n",
       "      <td>56.201</td>\n",
       "      <td>0.677</td>\n",
       "      <td>-0.047</td>\n",
       "      <td>0.821</td>\n",
       "      <td>2.43</td>\n",
       "      <td>0.457</td>\n",
       "      <td>0.649</td>\n",
       "      <td>0.243</td>\n",
       "      <td>0.359</td>\n",
       "      <td>0.157</td>\n",
       "      <td>0.075</td>\n",
       "      <td>1.205</td>\n",
       "    </tr>\n",
       "    <tr>\n",
       "      <th>148</th>\n",
       "      <td>Afghanistan</td>\n",
       "      <td>South Asia</td>\n",
       "      <td>2.523</td>\n",
       "      <td>0.038</td>\n",
       "      <td>2.596</td>\n",
       "      <td>2.449</td>\n",
       "      <td>7.695</td>\n",
       "      <td>0.463</td>\n",
       "      <td>52.493</td>\n",
       "      <td>0.382</td>\n",
       "      <td>-0.102</td>\n",
       "      <td>0.924</td>\n",
       "      <td>2.43</td>\n",
       "      <td>0.370</td>\n",
       "      <td>0.000</td>\n",
       "      <td>0.126</td>\n",
       "      <td>0.000</td>\n",
       "      <td>0.122</td>\n",
       "      <td>0.010</td>\n",
       "      <td>1.895</td>\n",
       "    </tr>\n",
       "  </tbody>\n",
       "</table>\n",
       "</div>"
      ],
      "text/plain": [
       "                Country name            Regional indicator  Ladder score  \\\n",
       "124  Palestinian Territories  Middle East and North Africa         4.517   \n",
       "125                  Myanmar                Southeast Asia         4.426   \n",
       "126                   Jordan  Middle East and North Africa         4.395   \n",
       "127                     Chad            Sub-Saharan Africa         4.355   \n",
       "128                Sri Lanka                    South Asia         4.325   \n",
       "129                Swaziland            Sub-Saharan Africa         4.308   \n",
       "130                  Comoros            Sub-Saharan Africa         4.289   \n",
       "131                    Egypt  Middle East and North Africa         4.283   \n",
       "132                 Ethiopia            Sub-Saharan Africa         4.275   \n",
       "133               Mauritania            Sub-Saharan Africa         4.227   \n",
       "134               Madagascar            Sub-Saharan Africa         4.208   \n",
       "135                     Togo            Sub-Saharan Africa         4.107   \n",
       "136                   Zambia            Sub-Saharan Africa         4.073   \n",
       "137             Sierra Leone            Sub-Saharan Africa         3.849   \n",
       "138                    India                    South Asia         3.819   \n",
       "139                  Burundi            Sub-Saharan Africa         3.775   \n",
       "140                    Yemen  Middle East and North Africa         3.658   \n",
       "141                 Tanzania            Sub-Saharan Africa         3.623   \n",
       "142                    Haiti   Latin America and Caribbean         3.615   \n",
       "143                   Malawi            Sub-Saharan Africa         3.600   \n",
       "144                  Lesotho            Sub-Saharan Africa         3.512   \n",
       "145                 Botswana            Sub-Saharan Africa         3.467   \n",
       "146                   Rwanda            Sub-Saharan Africa         3.415   \n",
       "147                 Zimbabwe            Sub-Saharan Africa         3.145   \n",
       "148              Afghanistan                    South Asia         2.523   \n",
       "\n",
       "     Standard error of ladder score  upperwhisker  lowerwhisker  \\\n",
       "124                           0.067         4.649         4.384   \n",
       "125                           0.052         4.527         4.324   \n",
       "126                           0.062         4.516         4.273   \n",
       "127                           0.094         4.540         4.171   \n",
       "128                           0.066         4.454         4.196   \n",
       "129                           0.071         4.448         4.168   \n",
       "130                           0.084         4.454         4.123   \n",
       "131                           0.045         4.371         4.195   \n",
       "132                           0.051         4.374         4.175   \n",
       "133                           0.070         4.365         4.090   \n",
       "134                           0.072         4.349         4.068   \n",
       "135                           0.077         4.258         3.956   \n",
       "136                           0.069         4.209         3.938   \n",
       "137                           0.077         4.001         3.698   \n",
       "138                           0.026         3.869         3.769   \n",
       "139                           0.107         3.985         3.565   \n",
       "140                           0.070         3.794         3.521   \n",
       "141                           0.071         3.762         3.485   \n",
       "142                           0.173         3.953         3.276   \n",
       "143                           0.092         3.781         3.419   \n",
       "144                           0.120         3.748         3.276   \n",
       "145                           0.074         3.611         3.322   \n",
       "146                           0.068         3.548         3.282   \n",
       "147                           0.058         3.259         3.030   \n",
       "148                           0.038         2.596         2.449   \n",
       "\n",
       "     Logged GDP per capita  Social support  Healthy life expectancy  \\\n",
       "124                  8.485           0.826                   62.250   \n",
       "125                  8.541           0.779                   59.302   \n",
       "126                  9.182           0.767                   67.000   \n",
       "127                  7.364           0.619                   48.478   \n",
       "128                  9.470           0.827                   67.299   \n",
       "129                  9.065           0.770                   50.833   \n",
       "130                  8.031           0.626                   57.349   \n",
       "131                  9.367           0.750                   61.998   \n",
       "132                  7.694           0.764                   59.000   \n",
       "133                  8.542           0.795                   57.161   \n",
       "134                  7.396           0.686                   59.305   \n",
       "135                  7.362           0.569                   54.914   \n",
       "136                  8.145           0.708                   55.809   \n",
       "137                  7.434           0.630                   51.651   \n",
       "138                  8.755           0.603                   60.633   \n",
       "139                  6.635           0.490                   53.400   \n",
       "140                  7.578           0.832                   57.122   \n",
       "141                  7.876           0.702                   57.999   \n",
       "142                  7.477           0.540                   55.700   \n",
       "143                  6.958           0.537                   57.948   \n",
       "144                  7.926           0.787                   48.700   \n",
       "145                  9.782           0.784                   59.269   \n",
       "146                  7.676           0.552                   61.400   \n",
       "147                  7.943           0.750                   56.201   \n",
       "148                  7.695           0.463                   52.493   \n",
       "\n",
       "     Freedom to make life choices  Generosity  Perceptions of corruption  \\\n",
       "124                         0.653      -0.163                      0.821   \n",
       "125                         0.876       0.509                      0.660   \n",
       "126                         0.755      -0.167                      0.705   \n",
       "127                         0.579       0.041                      0.807   \n",
       "128                         0.841       0.079                      0.863   \n",
       "129                         0.647      -0.185                      0.708   \n",
       "130                         0.548       0.082                      0.781   \n",
       "131                         0.749      -0.182                      0.795   \n",
       "132                         0.752       0.082                      0.761   \n",
       "133                         0.561      -0.106                      0.731   \n",
       "134                         0.552      -0.005                      0.803   \n",
       "135                         0.619       0.032                      0.772   \n",
       "136                         0.782       0.061                      0.823   \n",
       "137                         0.717       0.084                      0.866   \n",
       "138                         0.893       0.089                      0.774   \n",
       "139                         0.626      -0.024                      0.607   \n",
       "140                         0.602      -0.147                      0.800   \n",
       "141                         0.833       0.183                      0.577   \n",
       "142                         0.593       0.422                      0.721   \n",
       "143                         0.780       0.038                      0.729   \n",
       "144                         0.715      -0.131                      0.915   \n",
       "145                         0.824      -0.246                      0.801   \n",
       "146                         0.897       0.061                      0.167   \n",
       "147                         0.677      -0.047                      0.821   \n",
       "148                         0.382      -0.102                      0.924   \n",
       "\n",
       "     Ladder score in Dystopia  Explained by: Log GDP per capita  \\\n",
       "124                      2.43                             0.646   \n",
       "125                      2.43                             0.666   \n",
       "126                      2.43                             0.890   \n",
       "127                      2.43                             0.255   \n",
       "128                      2.43                             0.990   \n",
       "129                      2.43                             0.849   \n",
       "130                      2.43                             0.488   \n",
       "131                      2.43                             0.954   \n",
       "132                      2.43                             0.370   \n",
       "133                      2.43                             0.666   \n",
       "134                      2.43                             0.266   \n",
       "135                      2.43                             0.254   \n",
       "136                      2.43                             0.528   \n",
       "137                      2.43                             0.279   \n",
       "138                      2.43                             0.741   \n",
       "139                      2.43                             0.000   \n",
       "140                      2.43                             0.329   \n",
       "141                      2.43                             0.433   \n",
       "142                      2.43                             0.294   \n",
       "143                      2.43                             0.113   \n",
       "144                      2.43                             0.451   \n",
       "145                      2.43                             1.099   \n",
       "146                      2.43                             0.364   \n",
       "147                      2.43                             0.457   \n",
       "148                      2.43                             0.370   \n",
       "\n",
       "     Explained by: Social support  Explained by: Healthy life expectancy  \\\n",
       "124                         0.819                                  0.434   \n",
       "125                         0.713                                  0.341   \n",
       "126                         0.685                                  0.583   \n",
       "127                         0.353                                  0.000   \n",
       "128                         0.820                                  0.593   \n",
       "129                         0.693                                  0.074   \n",
       "130                         0.367                                  0.279   \n",
       "131                         0.647                                  0.426   \n",
       "132                         0.679                                  0.331   \n",
       "133                         0.749                                  0.273   \n",
       "134                         0.503                                  0.341   \n",
       "135                         0.239                                  0.203   \n",
       "136                         0.552                                  0.231   \n",
       "137                         0.377                                  0.100   \n",
       "138                         0.316                                  0.383   \n",
       "139                         0.062                                  0.155   \n",
       "140                         0.831                                  0.272   \n",
       "141                         0.540                                  0.300   \n",
       "142                         0.173                                  0.227   \n",
       "143                         0.168                                  0.298   \n",
       "144                         0.731                                  0.007   \n",
       "145                         0.724                                  0.340   \n",
       "146                         0.202                                  0.407   \n",
       "147                         0.649                                  0.243   \n",
       "148                         0.000                                  0.126   \n",
       "\n",
       "     Explained by: Freedom to make life choices  Explained by: Generosity  \\\n",
       "124                                       0.330                     0.082   \n",
       "125                                       0.601                     0.520   \n",
       "126                                       0.455                     0.079   \n",
       "127                                       0.240                     0.215   \n",
       "128                                       0.559                     0.239   \n",
       "129                                       0.323                     0.067   \n",
       "130                                       0.202                     0.241   \n",
       "131                                       0.446                     0.069   \n",
       "132                                       0.451                     0.241   \n",
       "133                                       0.218                     0.119   \n",
       "134                                       0.207                     0.185   \n",
       "135                                       0.289                     0.209   \n",
       "136                                       0.487                     0.227   \n",
       "137                                       0.408                     0.243   \n",
       "138                                       0.622                     0.246   \n",
       "139                                       0.298                     0.172   \n",
       "140                                       0.268                     0.092   \n",
       "141                                       0.549                     0.307   \n",
       "142                                       0.257                     0.463   \n",
       "143                                       0.484                     0.213   \n",
       "144                                       0.405                     0.103   \n",
       "145                                       0.539                     0.027   \n",
       "146                                       0.627                     0.227   \n",
       "147                                       0.359                     0.157   \n",
       "148                                       0.000                     0.122   \n",
       "\n",
       "     Explained by: Perceptions of corruption  Dystopia + residual  \n",
       "124                                    0.075                2.131  \n",
       "125                                    0.178                1.407  \n",
       "126                                    0.150                1.553  \n",
       "127                                    0.084                3.209  \n",
       "128                                    0.049                1.075  \n",
       "129                                    0.147                2.155  \n",
       "130                                    0.101                2.610  \n",
       "131                                    0.092                1.648  \n",
       "132                                    0.114                2.089  \n",
       "133                                    0.133                2.069  \n",
       "134                                    0.087                2.620  \n",
       "135                                    0.107                2.806  \n",
       "136                                    0.074                1.975  \n",
       "137                                    0.047                2.396  \n",
       "138                                    0.106                1.405  \n",
       "139                                    0.212                2.876  \n",
       "140                                    0.089                1.776  \n",
       "141                                    0.231                1.263  \n",
       "142                                    0.139                2.060  \n",
       "143                                    0.134                2.190  \n",
       "144                                    0.015                1.800  \n",
       "145                                    0.088                0.648  \n",
       "146                                    0.493                1.095  \n",
       "147                                    0.075                1.205  \n",
       "148                                    0.010                1.895  "
      ]
     },
     "execution_count": 3,
     "metadata": {},
     "output_type": "execute_result"
    }
   ],
   "source": [
    "world_happiness_report_2021.tail(25)"
   ]
  },
  {
   "cell_type": "code",
   "execution_count": 4,
   "metadata": {},
   "outputs": [],
   "source": [
    "world_happiness_report_2021 = world_happiness_report_2021.rename(columns = {'Country name': 'Country','Logged GDP per capita':'GDP per capita', 'Ladder score': 'score','Freedom to make life choices':'Freedom'}, inplace = False)"
   ]
  },
  {
   "cell_type": "code",
   "execution_count": 5,
   "metadata": {},
   "outputs": [],
   "source": [
    "arr = [2021]*149\n",
    "world_happiness_report_2021['Year'] = arr"
   ]
  },
  {
   "cell_type": "code",
   "execution_count": 6,
   "metadata": {},
   "outputs": [
    {
     "data": {
      "text/html": [
       "<div>\n",
       "<style scoped>\n",
       "    .dataframe tbody tr th:only-of-type {\n",
       "        vertical-align: middle;\n",
       "    }\n",
       "\n",
       "    .dataframe tbody tr th {\n",
       "        vertical-align: top;\n",
       "    }\n",
       "\n",
       "    .dataframe thead th {\n",
       "        text-align: right;\n",
       "    }\n",
       "</style>\n",
       "<table border=\"1\" class=\"dataframe\">\n",
       "  <thead>\n",
       "    <tr style=\"text-align: right;\">\n",
       "      <th></th>\n",
       "      <th>Country name</th>\n",
       "      <th>Regional indicator</th>\n",
       "      <th>Ladder score</th>\n",
       "      <th>Standard error of ladder score</th>\n",
       "      <th>upperwhisker</th>\n",
       "      <th>lowerwhisker</th>\n",
       "      <th>Logged GDP per capita</th>\n",
       "      <th>Social support</th>\n",
       "      <th>Healthy life expectancy</th>\n",
       "      <th>Freedom to make life choices</th>\n",
       "      <th>Generosity</th>\n",
       "      <th>Perceptions of corruption</th>\n",
       "      <th>Ladder score in Dystopia</th>\n",
       "      <th>Explained by: Log GDP per capita</th>\n",
       "      <th>Explained by: Social support</th>\n",
       "      <th>Explained by: Healthy life expectancy</th>\n",
       "      <th>Explained by: Freedom to make life choices</th>\n",
       "      <th>Explained by: Generosity</th>\n",
       "      <th>Explained by: Perceptions of corruption</th>\n",
       "      <th>Dystopia + residual</th>\n",
       "    </tr>\n",
       "  </thead>\n",
       "  <tbody>\n",
       "    <tr>\n",
       "      <th>0</th>\n",
       "      <td>Finland</td>\n",
       "      <td>Western Europe</td>\n",
       "      <td>7.8087</td>\n",
       "      <td>0.031156</td>\n",
       "      <td>7.869766</td>\n",
       "      <td>7.747634</td>\n",
       "      <td>10.639267</td>\n",
       "      <td>0.954330</td>\n",
       "      <td>71.900825</td>\n",
       "      <td>0.949172</td>\n",
       "      <td>-0.059482</td>\n",
       "      <td>0.195445</td>\n",
       "      <td>1.972317</td>\n",
       "      <td>1.285190</td>\n",
       "      <td>1.499526</td>\n",
       "      <td>0.961271</td>\n",
       "      <td>0.662317</td>\n",
       "      <td>0.159670</td>\n",
       "      <td>0.477857</td>\n",
       "      <td>2.762835</td>\n",
       "    </tr>\n",
       "    <tr>\n",
       "      <th>1</th>\n",
       "      <td>Denmark</td>\n",
       "      <td>Western Europe</td>\n",
       "      <td>7.6456</td>\n",
       "      <td>0.033492</td>\n",
       "      <td>7.711245</td>\n",
       "      <td>7.579955</td>\n",
       "      <td>10.774001</td>\n",
       "      <td>0.955991</td>\n",
       "      <td>72.402504</td>\n",
       "      <td>0.951444</td>\n",
       "      <td>0.066202</td>\n",
       "      <td>0.168489</td>\n",
       "      <td>1.972317</td>\n",
       "      <td>1.326949</td>\n",
       "      <td>1.503449</td>\n",
       "      <td>0.979333</td>\n",
       "      <td>0.665040</td>\n",
       "      <td>0.242793</td>\n",
       "      <td>0.495260</td>\n",
       "      <td>2.432741</td>\n",
       "    </tr>\n",
       "    <tr>\n",
       "      <th>2</th>\n",
       "      <td>Switzerland</td>\n",
       "      <td>Western Europe</td>\n",
       "      <td>7.5599</td>\n",
       "      <td>0.035014</td>\n",
       "      <td>7.628528</td>\n",
       "      <td>7.491272</td>\n",
       "      <td>10.979933</td>\n",
       "      <td>0.942847</td>\n",
       "      <td>74.102448</td>\n",
       "      <td>0.921337</td>\n",
       "      <td>0.105911</td>\n",
       "      <td>0.303728</td>\n",
       "      <td>1.972317</td>\n",
       "      <td>1.390774</td>\n",
       "      <td>1.472403</td>\n",
       "      <td>1.040533</td>\n",
       "      <td>0.628954</td>\n",
       "      <td>0.269056</td>\n",
       "      <td>0.407946</td>\n",
       "      <td>2.350267</td>\n",
       "    </tr>\n",
       "    <tr>\n",
       "      <th>3</th>\n",
       "      <td>Iceland</td>\n",
       "      <td>Western Europe</td>\n",
       "      <td>7.5045</td>\n",
       "      <td>0.059616</td>\n",
       "      <td>7.621347</td>\n",
       "      <td>7.387653</td>\n",
       "      <td>10.772559</td>\n",
       "      <td>0.974670</td>\n",
       "      <td>73.000000</td>\n",
       "      <td>0.948892</td>\n",
       "      <td>0.246944</td>\n",
       "      <td>0.711710</td>\n",
       "      <td>1.972317</td>\n",
       "      <td>1.326502</td>\n",
       "      <td>1.547567</td>\n",
       "      <td>1.000843</td>\n",
       "      <td>0.661981</td>\n",
       "      <td>0.362330</td>\n",
       "      <td>0.144541</td>\n",
       "      <td>2.460688</td>\n",
       "    </tr>\n",
       "    <tr>\n",
       "      <th>4</th>\n",
       "      <td>Norway</td>\n",
       "      <td>Western Europe</td>\n",
       "      <td>7.4880</td>\n",
       "      <td>0.034837</td>\n",
       "      <td>7.556281</td>\n",
       "      <td>7.419719</td>\n",
       "      <td>11.087804</td>\n",
       "      <td>0.952487</td>\n",
       "      <td>73.200783</td>\n",
       "      <td>0.955750</td>\n",
       "      <td>0.134533</td>\n",
       "      <td>0.263218</td>\n",
       "      <td>1.972317</td>\n",
       "      <td>1.424207</td>\n",
       "      <td>1.495173</td>\n",
       "      <td>1.008072</td>\n",
       "      <td>0.670201</td>\n",
       "      <td>0.287985</td>\n",
       "      <td>0.434101</td>\n",
       "      <td>2.168266</td>\n",
       "    </tr>\n",
       "  </tbody>\n",
       "</table>\n",
       "</div>"
      ],
      "text/plain": [
       "  Country name Regional indicator  Ladder score  \\\n",
       "0      Finland     Western Europe        7.8087   \n",
       "1      Denmark     Western Europe        7.6456   \n",
       "2  Switzerland     Western Europe        7.5599   \n",
       "3      Iceland     Western Europe        7.5045   \n",
       "4       Norway     Western Europe        7.4880   \n",
       "\n",
       "   Standard error of ladder score  upperwhisker  lowerwhisker  \\\n",
       "0                        0.031156      7.869766      7.747634   \n",
       "1                        0.033492      7.711245      7.579955   \n",
       "2                        0.035014      7.628528      7.491272   \n",
       "3                        0.059616      7.621347      7.387653   \n",
       "4                        0.034837      7.556281      7.419719   \n",
       "\n",
       "   Logged GDP per capita  Social support  Healthy life expectancy  \\\n",
       "0              10.639267        0.954330                71.900825   \n",
       "1              10.774001        0.955991                72.402504   \n",
       "2              10.979933        0.942847                74.102448   \n",
       "3              10.772559        0.974670                73.000000   \n",
       "4              11.087804        0.952487                73.200783   \n",
       "\n",
       "   Freedom to make life choices  Generosity  Perceptions of corruption  \\\n",
       "0                      0.949172   -0.059482                   0.195445   \n",
       "1                      0.951444    0.066202                   0.168489   \n",
       "2                      0.921337    0.105911                   0.303728   \n",
       "3                      0.948892    0.246944                   0.711710   \n",
       "4                      0.955750    0.134533                   0.263218   \n",
       "\n",
       "   Ladder score in Dystopia  Explained by: Log GDP per capita  \\\n",
       "0                  1.972317                          1.285190   \n",
       "1                  1.972317                          1.326949   \n",
       "2                  1.972317                          1.390774   \n",
       "3                  1.972317                          1.326502   \n",
       "4                  1.972317                          1.424207   \n",
       "\n",
       "   Explained by: Social support  Explained by: Healthy life expectancy  \\\n",
       "0                      1.499526                               0.961271   \n",
       "1                      1.503449                               0.979333   \n",
       "2                      1.472403                               1.040533   \n",
       "3                      1.547567                               1.000843   \n",
       "4                      1.495173                               1.008072   \n",
       "\n",
       "   Explained by: Freedom to make life choices  Explained by: Generosity  \\\n",
       "0                                    0.662317                  0.159670   \n",
       "1                                    0.665040                  0.242793   \n",
       "2                                    0.628954                  0.269056   \n",
       "3                                    0.661981                  0.362330   \n",
       "4                                    0.670201                  0.287985   \n",
       "\n",
       "   Explained by: Perceptions of corruption  Dystopia + residual  \n",
       "0                                 0.477857             2.762835  \n",
       "1                                 0.495260             2.432741  \n",
       "2                                 0.407946             2.350267  \n",
       "3                                 0.144541             2.460688  \n",
       "4                                 0.434101             2.168266  "
      ]
     },
     "execution_count": 6,
     "metadata": {},
     "output_type": "execute_result"
    }
   ],
   "source": [
    "world_happiness_report_2020.head(5)"
   ]
  },
  {
   "cell_type": "code",
   "execution_count": 7,
   "metadata": {},
   "outputs": [],
   "source": [
    "arr = [2020]*153\n",
    "world_happiness_report_2020['Year'] = arr"
   ]
  },
  {
   "cell_type": "code",
   "execution_count": 8,
   "metadata": {},
   "outputs": [],
   "source": [
    "world_happiness_report_2020 = world_happiness_report_2020.rename(columns = {'Country name': 'Country','Logged GDP per capita':'GDP per capita', 'Ladder score': 'score','Freedom to make life choices':'Freedom'}, inplace = False)"
   ]
  },
  {
   "cell_type": "code",
   "execution_count": 9,
   "metadata": {},
   "outputs": [
    {
     "data": {
      "text/html": [
       "<div>\n",
       "<style scoped>\n",
       "    .dataframe tbody tr th:only-of-type {\n",
       "        vertical-align: middle;\n",
       "    }\n",
       "\n",
       "    .dataframe tbody tr th {\n",
       "        vertical-align: top;\n",
       "    }\n",
       "\n",
       "    .dataframe thead th {\n",
       "        text-align: right;\n",
       "    }\n",
       "</style>\n",
       "<table border=\"1\" class=\"dataframe\">\n",
       "  <thead>\n",
       "    <tr style=\"text-align: right;\">\n",
       "      <th></th>\n",
       "      <th>Overall rank</th>\n",
       "      <th>Country or region</th>\n",
       "      <th>Score</th>\n",
       "      <th>GDP per capita</th>\n",
       "      <th>Social support</th>\n",
       "      <th>Healthy life expectancy</th>\n",
       "      <th>Freedom to make life choices</th>\n",
       "      <th>Generosity</th>\n",
       "      <th>Perceptions of corruption</th>\n",
       "    </tr>\n",
       "  </thead>\n",
       "  <tbody>\n",
       "    <tr>\n",
       "      <th>0</th>\n",
       "      <td>1</td>\n",
       "      <td>Finland</td>\n",
       "      <td>7.769</td>\n",
       "      <td>1.340</td>\n",
       "      <td>1.587</td>\n",
       "      <td>0.986</td>\n",
       "      <td>0.596</td>\n",
       "      <td>0.153</td>\n",
       "      <td>0.393</td>\n",
       "    </tr>\n",
       "    <tr>\n",
       "      <th>1</th>\n",
       "      <td>2</td>\n",
       "      <td>Denmark</td>\n",
       "      <td>7.600</td>\n",
       "      <td>1.383</td>\n",
       "      <td>1.573</td>\n",
       "      <td>0.996</td>\n",
       "      <td>0.592</td>\n",
       "      <td>0.252</td>\n",
       "      <td>0.410</td>\n",
       "    </tr>\n",
       "    <tr>\n",
       "      <th>2</th>\n",
       "      <td>3</td>\n",
       "      <td>Norway</td>\n",
       "      <td>7.554</td>\n",
       "      <td>1.488</td>\n",
       "      <td>1.582</td>\n",
       "      <td>1.028</td>\n",
       "      <td>0.603</td>\n",
       "      <td>0.271</td>\n",
       "      <td>0.341</td>\n",
       "    </tr>\n",
       "    <tr>\n",
       "      <th>3</th>\n",
       "      <td>4</td>\n",
       "      <td>Iceland</td>\n",
       "      <td>7.494</td>\n",
       "      <td>1.380</td>\n",
       "      <td>1.624</td>\n",
       "      <td>1.026</td>\n",
       "      <td>0.591</td>\n",
       "      <td>0.354</td>\n",
       "      <td>0.118</td>\n",
       "    </tr>\n",
       "    <tr>\n",
       "      <th>4</th>\n",
       "      <td>5</td>\n",
       "      <td>Netherlands</td>\n",
       "      <td>7.488</td>\n",
       "      <td>1.396</td>\n",
       "      <td>1.522</td>\n",
       "      <td>0.999</td>\n",
       "      <td>0.557</td>\n",
       "      <td>0.322</td>\n",
       "      <td>0.298</td>\n",
       "    </tr>\n",
       "  </tbody>\n",
       "</table>\n",
       "</div>"
      ],
      "text/plain": [
       "   Overall rank Country or region  Score  GDP per capita  Social support  \\\n",
       "0             1           Finland  7.769           1.340           1.587   \n",
       "1             2           Denmark  7.600           1.383           1.573   \n",
       "2             3            Norway  7.554           1.488           1.582   \n",
       "3             4           Iceland  7.494           1.380           1.624   \n",
       "4             5       Netherlands  7.488           1.396           1.522   \n",
       "\n",
       "   Healthy life expectancy  Freedom to make life choices  Generosity  \\\n",
       "0                    0.986                         0.596       0.153   \n",
       "1                    0.996                         0.592       0.252   \n",
       "2                    1.028                         0.603       0.271   \n",
       "3                    1.026                         0.591       0.354   \n",
       "4                    0.999                         0.557       0.322   \n",
       "\n",
       "   Perceptions of corruption  \n",
       "0                      0.393  \n",
       "1                      0.410  \n",
       "2                      0.341  \n",
       "3                      0.118  \n",
       "4                      0.298  "
      ]
     },
     "execution_count": 9,
     "metadata": {},
     "output_type": "execute_result"
    }
   ],
   "source": [
    "world_happiness_report_2019.head(5)"
   ]
  },
  {
   "cell_type": "code",
   "execution_count": 10,
   "metadata": {},
   "outputs": [],
   "source": [
    "world_happiness_report_2019 = world_happiness_report_2019.rename(columns = {'Score':'score','Country or region': 'Country','Freedom to make life choices':'Freedom'}, inplace = False)\n",
    "world_happiness_report_2019[\"Healthy life expectancy\"] = 100 * world_happiness_report_2019[\"Healthy life expectancy\"]"
   ]
  },
  {
   "cell_type": "code",
   "execution_count": 11,
   "metadata": {},
   "outputs": [],
   "source": [
    "arr = [2019]*156\n",
    "world_happiness_report_2019['Year'] = arr"
   ]
  },
  {
   "cell_type": "code",
   "execution_count": 12,
   "metadata": {},
   "outputs": [
    {
     "data": {
      "text/html": [
       "<div>\n",
       "<style scoped>\n",
       "    .dataframe tbody tr th:only-of-type {\n",
       "        vertical-align: middle;\n",
       "    }\n",
       "\n",
       "    .dataframe tbody tr th {\n",
       "        vertical-align: top;\n",
       "    }\n",
       "\n",
       "    .dataframe thead th {\n",
       "        text-align: right;\n",
       "    }\n",
       "</style>\n",
       "<table border=\"1\" class=\"dataframe\">\n",
       "  <thead>\n",
       "    <tr style=\"text-align: right;\">\n",
       "      <th></th>\n",
       "      <th>Overall rank</th>\n",
       "      <th>Country or region</th>\n",
       "      <th>Score</th>\n",
       "      <th>GDP per capita</th>\n",
       "      <th>Social support</th>\n",
       "      <th>Healthy life expectancy</th>\n",
       "      <th>Freedom to make life choices</th>\n",
       "      <th>Generosity</th>\n",
       "      <th>Perceptions of corruption</th>\n",
       "    </tr>\n",
       "  </thead>\n",
       "  <tbody>\n",
       "    <tr>\n",
       "      <th>0</th>\n",
       "      <td>1</td>\n",
       "      <td>Finland</td>\n",
       "      <td>7.632</td>\n",
       "      <td>1.305</td>\n",
       "      <td>1.592</td>\n",
       "      <td>0.874</td>\n",
       "      <td>0.681</td>\n",
       "      <td>0.202</td>\n",
       "      <td>0.393</td>\n",
       "    </tr>\n",
       "    <tr>\n",
       "      <th>1</th>\n",
       "      <td>2</td>\n",
       "      <td>Norway</td>\n",
       "      <td>7.594</td>\n",
       "      <td>1.456</td>\n",
       "      <td>1.582</td>\n",
       "      <td>0.861</td>\n",
       "      <td>0.686</td>\n",
       "      <td>0.286</td>\n",
       "      <td>0.340</td>\n",
       "    </tr>\n",
       "    <tr>\n",
       "      <th>2</th>\n",
       "      <td>3</td>\n",
       "      <td>Denmark</td>\n",
       "      <td>7.555</td>\n",
       "      <td>1.351</td>\n",
       "      <td>1.590</td>\n",
       "      <td>0.868</td>\n",
       "      <td>0.683</td>\n",
       "      <td>0.284</td>\n",
       "      <td>0.408</td>\n",
       "    </tr>\n",
       "    <tr>\n",
       "      <th>3</th>\n",
       "      <td>4</td>\n",
       "      <td>Iceland</td>\n",
       "      <td>7.495</td>\n",
       "      <td>1.343</td>\n",
       "      <td>1.644</td>\n",
       "      <td>0.914</td>\n",
       "      <td>0.677</td>\n",
       "      <td>0.353</td>\n",
       "      <td>0.138</td>\n",
       "    </tr>\n",
       "    <tr>\n",
       "      <th>4</th>\n",
       "      <td>5</td>\n",
       "      <td>Switzerland</td>\n",
       "      <td>7.487</td>\n",
       "      <td>1.420</td>\n",
       "      <td>1.549</td>\n",
       "      <td>0.927</td>\n",
       "      <td>0.660</td>\n",
       "      <td>0.256</td>\n",
       "      <td>0.357</td>\n",
       "    </tr>\n",
       "  </tbody>\n",
       "</table>\n",
       "</div>"
      ],
      "text/plain": [
       "   Overall rank Country or region  Score  GDP per capita  Social support  \\\n",
       "0             1           Finland  7.632           1.305           1.592   \n",
       "1             2            Norway  7.594           1.456           1.582   \n",
       "2             3           Denmark  7.555           1.351           1.590   \n",
       "3             4           Iceland  7.495           1.343           1.644   \n",
       "4             5       Switzerland  7.487           1.420           1.549   \n",
       "\n",
       "   Healthy life expectancy  Freedom to make life choices  Generosity  \\\n",
       "0                    0.874                         0.681       0.202   \n",
       "1                    0.861                         0.686       0.286   \n",
       "2                    0.868                         0.683       0.284   \n",
       "3                    0.914                         0.677       0.353   \n",
       "4                    0.927                         0.660       0.256   \n",
       "\n",
       "   Perceptions of corruption  \n",
       "0                      0.393  \n",
       "1                      0.340  \n",
       "2                      0.408  \n",
       "3                      0.138  \n",
       "4                      0.357  "
      ]
     },
     "execution_count": 12,
     "metadata": {},
     "output_type": "execute_result"
    }
   ],
   "source": [
    "world_happiness_report_2018.head()"
   ]
  },
  {
   "cell_type": "code",
   "execution_count": 13,
   "metadata": {},
   "outputs": [],
   "source": [
    "world_happiness_report_2018 = world_happiness_report_2018.rename(columns = {'Score':'score','Country or region': 'Country','Freedom to make life choices':'Freedom'}, inplace = False)\n",
    "world_happiness_report_2018[\"Healthy life expectancy\"] = 100 * world_happiness_report_2018[\"Healthy life expectancy\"]"
   ]
  },
  {
   "cell_type": "code",
   "execution_count": 14,
   "metadata": {},
   "outputs": [],
   "source": [
    "arr = [2018]*156\n",
    "world_happiness_report_2018['Year'] = arr"
   ]
  },
  {
   "cell_type": "code",
   "execution_count": 15,
   "metadata": {},
   "outputs": [
    {
     "data": {
      "text/html": [
       "<div>\n",
       "<style scoped>\n",
       "    .dataframe tbody tr th:only-of-type {\n",
       "        vertical-align: middle;\n",
       "    }\n",
       "\n",
       "    .dataframe tbody tr th {\n",
       "        vertical-align: top;\n",
       "    }\n",
       "\n",
       "    .dataframe thead th {\n",
       "        text-align: right;\n",
       "    }\n",
       "</style>\n",
       "<table border=\"1\" class=\"dataframe\">\n",
       "  <thead>\n",
       "    <tr style=\"text-align: right;\">\n",
       "      <th></th>\n",
       "      <th>Country</th>\n",
       "      <th>Happiness.Rank</th>\n",
       "      <th>Happiness.Score</th>\n",
       "      <th>Whisker.high</th>\n",
       "      <th>Whisker.low</th>\n",
       "      <th>Economy..GDP.per.Capita.</th>\n",
       "      <th>Family</th>\n",
       "      <th>Health..Life.Expectancy.</th>\n",
       "      <th>Freedom</th>\n",
       "      <th>Generosity</th>\n",
       "      <th>Trust..Government.Corruption.</th>\n",
       "      <th>Dystopia.Residual</th>\n",
       "    </tr>\n",
       "  </thead>\n",
       "  <tbody>\n",
       "    <tr>\n",
       "      <th>0</th>\n",
       "      <td>Norway</td>\n",
       "      <td>1</td>\n",
       "      <td>7.537</td>\n",
       "      <td>7.594445</td>\n",
       "      <td>7.479556</td>\n",
       "      <td>1.616463</td>\n",
       "      <td>1.533524</td>\n",
       "      <td>0.796667</td>\n",
       "      <td>0.635423</td>\n",
       "      <td>0.362012</td>\n",
       "      <td>0.315964</td>\n",
       "      <td>2.277027</td>\n",
       "    </tr>\n",
       "    <tr>\n",
       "      <th>1</th>\n",
       "      <td>Denmark</td>\n",
       "      <td>2</td>\n",
       "      <td>7.522</td>\n",
       "      <td>7.581728</td>\n",
       "      <td>7.462272</td>\n",
       "      <td>1.482383</td>\n",
       "      <td>1.551122</td>\n",
       "      <td>0.792566</td>\n",
       "      <td>0.626007</td>\n",
       "      <td>0.355280</td>\n",
       "      <td>0.400770</td>\n",
       "      <td>2.313707</td>\n",
       "    </tr>\n",
       "    <tr>\n",
       "      <th>2</th>\n",
       "      <td>Iceland</td>\n",
       "      <td>3</td>\n",
       "      <td>7.504</td>\n",
       "      <td>7.622030</td>\n",
       "      <td>7.385970</td>\n",
       "      <td>1.480633</td>\n",
       "      <td>1.610574</td>\n",
       "      <td>0.833552</td>\n",
       "      <td>0.627163</td>\n",
       "      <td>0.475540</td>\n",
       "      <td>0.153527</td>\n",
       "      <td>2.322715</td>\n",
       "    </tr>\n",
       "    <tr>\n",
       "      <th>3</th>\n",
       "      <td>Switzerland</td>\n",
       "      <td>4</td>\n",
       "      <td>7.494</td>\n",
       "      <td>7.561772</td>\n",
       "      <td>7.426227</td>\n",
       "      <td>1.564980</td>\n",
       "      <td>1.516912</td>\n",
       "      <td>0.858131</td>\n",
       "      <td>0.620071</td>\n",
       "      <td>0.290549</td>\n",
       "      <td>0.367007</td>\n",
       "      <td>2.276716</td>\n",
       "    </tr>\n",
       "    <tr>\n",
       "      <th>4</th>\n",
       "      <td>Finland</td>\n",
       "      <td>5</td>\n",
       "      <td>7.469</td>\n",
       "      <td>7.527542</td>\n",
       "      <td>7.410458</td>\n",
       "      <td>1.443572</td>\n",
       "      <td>1.540247</td>\n",
       "      <td>0.809158</td>\n",
       "      <td>0.617951</td>\n",
       "      <td>0.245483</td>\n",
       "      <td>0.382612</td>\n",
       "      <td>2.430182</td>\n",
       "    </tr>\n",
       "  </tbody>\n",
       "</table>\n",
       "</div>"
      ],
      "text/plain": [
       "       Country  Happiness.Rank  Happiness.Score  Whisker.high  Whisker.low  \\\n",
       "0       Norway               1            7.537      7.594445     7.479556   \n",
       "1      Denmark               2            7.522      7.581728     7.462272   \n",
       "2      Iceland               3            7.504      7.622030     7.385970   \n",
       "3  Switzerland               4            7.494      7.561772     7.426227   \n",
       "4      Finland               5            7.469      7.527542     7.410458   \n",
       "\n",
       "   Economy..GDP.per.Capita.    Family  Health..Life.Expectancy.   Freedom  \\\n",
       "0                  1.616463  1.533524                  0.796667  0.635423   \n",
       "1                  1.482383  1.551122                  0.792566  0.626007   \n",
       "2                  1.480633  1.610574                  0.833552  0.627163   \n",
       "3                  1.564980  1.516912                  0.858131  0.620071   \n",
       "4                  1.443572  1.540247                  0.809158  0.617951   \n",
       "\n",
       "   Generosity  Trust..Government.Corruption.  Dystopia.Residual  \n",
       "0    0.362012                       0.315964           2.277027  \n",
       "1    0.355280                       0.400770           2.313707  \n",
       "2    0.475540                       0.153527           2.322715  \n",
       "3    0.290549                       0.367007           2.276716  \n",
       "4    0.245483                       0.382612           2.430182  "
      ]
     },
     "execution_count": 15,
     "metadata": {},
     "output_type": "execute_result"
    }
   ],
   "source": [
    "world_happiness_report_2017.head(5)"
   ]
  },
  {
   "cell_type": "code",
   "execution_count": 16,
   "metadata": {},
   "outputs": [],
   "source": [
    "world_happiness_report_2017 = world_happiness_report_2017.rename(columns = {'Happiness.Score': 'score','Happiness.Rank':'Overall rank','Health..Life.Expectancy.':'Healthy life expectancy','Economy..GDP.per.Capita.':'GDP per capita','Dystopia.Residual':'Dystopia + residual','Whisker.high':'upperwhisker','Whisker.low':'lowerwhisker','Happiness.Rank':'Overall rank'}, inplace = False)\n",
    "world_happiness_report_2017[\"Healthy life expectancy\"] = 100 * world_happiness_report_2017[\"Healthy life expectancy\"]"
   ]
  },
  {
   "cell_type": "code",
   "execution_count": 17,
   "metadata": {},
   "outputs": [],
   "source": [
    "arr = [2017]*155\n",
    "world_happiness_report_2017['Year'] = arr"
   ]
  },
  {
   "cell_type": "code",
   "execution_count": 18,
   "metadata": {},
   "outputs": [
    {
     "data": {
      "text/html": [
       "<div>\n",
       "<style scoped>\n",
       "    .dataframe tbody tr th:only-of-type {\n",
       "        vertical-align: middle;\n",
       "    }\n",
       "\n",
       "    .dataframe tbody tr th {\n",
       "        vertical-align: top;\n",
       "    }\n",
       "\n",
       "    .dataframe thead th {\n",
       "        text-align: right;\n",
       "    }\n",
       "</style>\n",
       "<table border=\"1\" class=\"dataframe\">\n",
       "  <thead>\n",
       "    <tr style=\"text-align: right;\">\n",
       "      <th></th>\n",
       "      <th>Country</th>\n",
       "      <th>Region</th>\n",
       "      <th>Happiness Rank</th>\n",
       "      <th>Happiness Score</th>\n",
       "      <th>Lower Confidence Interval</th>\n",
       "      <th>Upper Confidence Interval</th>\n",
       "      <th>Economy (GDP per Capita)</th>\n",
       "      <th>Family</th>\n",
       "      <th>Health (Life Expectancy)</th>\n",
       "      <th>Freedom</th>\n",
       "      <th>Trust (Government Corruption)</th>\n",
       "      <th>Generosity</th>\n",
       "      <th>Dystopia Residual</th>\n",
       "    </tr>\n",
       "  </thead>\n",
       "  <tbody>\n",
       "    <tr>\n",
       "      <th>0</th>\n",
       "      <td>Denmark</td>\n",
       "      <td>Western Europe</td>\n",
       "      <td>1</td>\n",
       "      <td>7.526</td>\n",
       "      <td>7.460</td>\n",
       "      <td>7.592</td>\n",
       "      <td>1.44178</td>\n",
       "      <td>1.16374</td>\n",
       "      <td>0.79504</td>\n",
       "      <td>0.57941</td>\n",
       "      <td>0.44453</td>\n",
       "      <td>0.36171</td>\n",
       "      <td>2.73939</td>\n",
       "    </tr>\n",
       "    <tr>\n",
       "      <th>1</th>\n",
       "      <td>Switzerland</td>\n",
       "      <td>Western Europe</td>\n",
       "      <td>2</td>\n",
       "      <td>7.509</td>\n",
       "      <td>7.428</td>\n",
       "      <td>7.590</td>\n",
       "      <td>1.52733</td>\n",
       "      <td>1.14524</td>\n",
       "      <td>0.86303</td>\n",
       "      <td>0.58557</td>\n",
       "      <td>0.41203</td>\n",
       "      <td>0.28083</td>\n",
       "      <td>2.69463</td>\n",
       "    </tr>\n",
       "    <tr>\n",
       "      <th>2</th>\n",
       "      <td>Iceland</td>\n",
       "      <td>Western Europe</td>\n",
       "      <td>3</td>\n",
       "      <td>7.501</td>\n",
       "      <td>7.333</td>\n",
       "      <td>7.669</td>\n",
       "      <td>1.42666</td>\n",
       "      <td>1.18326</td>\n",
       "      <td>0.86733</td>\n",
       "      <td>0.56624</td>\n",
       "      <td>0.14975</td>\n",
       "      <td>0.47678</td>\n",
       "      <td>2.83137</td>\n",
       "    </tr>\n",
       "    <tr>\n",
       "      <th>3</th>\n",
       "      <td>Norway</td>\n",
       "      <td>Western Europe</td>\n",
       "      <td>4</td>\n",
       "      <td>7.498</td>\n",
       "      <td>7.421</td>\n",
       "      <td>7.575</td>\n",
       "      <td>1.57744</td>\n",
       "      <td>1.12690</td>\n",
       "      <td>0.79579</td>\n",
       "      <td>0.59609</td>\n",
       "      <td>0.35776</td>\n",
       "      <td>0.37895</td>\n",
       "      <td>2.66465</td>\n",
       "    </tr>\n",
       "    <tr>\n",
       "      <th>4</th>\n",
       "      <td>Finland</td>\n",
       "      <td>Western Europe</td>\n",
       "      <td>5</td>\n",
       "      <td>7.413</td>\n",
       "      <td>7.351</td>\n",
       "      <td>7.475</td>\n",
       "      <td>1.40598</td>\n",
       "      <td>1.13464</td>\n",
       "      <td>0.81091</td>\n",
       "      <td>0.57104</td>\n",
       "      <td>0.41004</td>\n",
       "      <td>0.25492</td>\n",
       "      <td>2.82596</td>\n",
       "    </tr>\n",
       "  </tbody>\n",
       "</table>\n",
       "</div>"
      ],
      "text/plain": [
       "       Country          Region  Happiness Rank  Happiness Score  \\\n",
       "0      Denmark  Western Europe               1            7.526   \n",
       "1  Switzerland  Western Europe               2            7.509   \n",
       "2      Iceland  Western Europe               3            7.501   \n",
       "3       Norway  Western Europe               4            7.498   \n",
       "4      Finland  Western Europe               5            7.413   \n",
       "\n",
       "   Lower Confidence Interval  Upper Confidence Interval  \\\n",
       "0                      7.460                      7.592   \n",
       "1                      7.428                      7.590   \n",
       "2                      7.333                      7.669   \n",
       "3                      7.421                      7.575   \n",
       "4                      7.351                      7.475   \n",
       "\n",
       "   Economy (GDP per Capita)   Family  Health (Life Expectancy)  Freedom  \\\n",
       "0                   1.44178  1.16374                   0.79504  0.57941   \n",
       "1                   1.52733  1.14524                   0.86303  0.58557   \n",
       "2                   1.42666  1.18326                   0.86733  0.56624   \n",
       "3                   1.57744  1.12690                   0.79579  0.59609   \n",
       "4                   1.40598  1.13464                   0.81091  0.57104   \n",
       "\n",
       "   Trust (Government Corruption)  Generosity  Dystopia Residual  \n",
       "0                        0.44453     0.36171            2.73939  \n",
       "1                        0.41203     0.28083            2.69463  \n",
       "2                        0.14975     0.47678            2.83137  \n",
       "3                        0.35776     0.37895            2.66465  \n",
       "4                        0.41004     0.25492            2.82596  "
      ]
     },
     "execution_count": 18,
     "metadata": {},
     "output_type": "execute_result"
    }
   ],
   "source": [
    "world_happiness_report_2016.head(5)"
   ]
  },
  {
   "cell_type": "code",
   "execution_count": 19,
   "metadata": {},
   "outputs": [],
   "source": [
    "world_happiness_report_2016 = world_happiness_report_2016.rename(columns = {'Happiness Score': 'score','Trust (Government Corruption)':'Trust..Government.Corruption.','Economy (GDP per Capita)':'GDP per capita','Health (Life Expectancy)':'Healthy life expectancy','Happiness Rank':'Overall rank','Dystopia Residual':'Dystopia + residual'}, inplace = False)\n",
    "world_happiness_report_2016[\"Healthy life expectancy\"] = 100 * world_happiness_report_2016[\"Healthy life expectancy\"]"
   ]
  },
  {
   "cell_type": "code",
   "execution_count": 20,
   "metadata": {},
   "outputs": [],
   "source": [
    "arr = [2016]*157\n",
    "world_happiness_report_2016['Year'] = arr"
   ]
  },
  {
   "cell_type": "code",
   "execution_count": 21,
   "metadata": {},
   "outputs": [
    {
     "data": {
      "text/html": [
       "<div>\n",
       "<style scoped>\n",
       "    .dataframe tbody tr th:only-of-type {\n",
       "        vertical-align: middle;\n",
       "    }\n",
       "\n",
       "    .dataframe tbody tr th {\n",
       "        vertical-align: top;\n",
       "    }\n",
       "\n",
       "    .dataframe thead th {\n",
       "        text-align: right;\n",
       "    }\n",
       "</style>\n",
       "<table border=\"1\" class=\"dataframe\">\n",
       "  <thead>\n",
       "    <tr style=\"text-align: right;\">\n",
       "      <th></th>\n",
       "      <th>Country</th>\n",
       "      <th>Region</th>\n",
       "      <th>Happiness Rank</th>\n",
       "      <th>Happiness Score</th>\n",
       "      <th>Standard Error</th>\n",
       "      <th>Economy (GDP per Capita)</th>\n",
       "      <th>Family</th>\n",
       "      <th>Health (Life Expectancy)</th>\n",
       "      <th>Freedom</th>\n",
       "      <th>Trust (Government Corruption)</th>\n",
       "      <th>Generosity</th>\n",
       "      <th>Dystopia Residual</th>\n",
       "    </tr>\n",
       "  </thead>\n",
       "  <tbody>\n",
       "    <tr>\n",
       "      <th>153</th>\n",
       "      <td>Rwanda</td>\n",
       "      <td>Sub-Saharan Africa</td>\n",
       "      <td>154</td>\n",
       "      <td>3.465</td>\n",
       "      <td>0.03464</td>\n",
       "      <td>0.22208</td>\n",
       "      <td>0.77370</td>\n",
       "      <td>0.42864</td>\n",
       "      <td>0.59201</td>\n",
       "      <td>0.55191</td>\n",
       "      <td>0.22628</td>\n",
       "      <td>0.67042</td>\n",
       "    </tr>\n",
       "    <tr>\n",
       "      <th>154</th>\n",
       "      <td>Benin</td>\n",
       "      <td>Sub-Saharan Africa</td>\n",
       "      <td>155</td>\n",
       "      <td>3.340</td>\n",
       "      <td>0.03656</td>\n",
       "      <td>0.28665</td>\n",
       "      <td>0.35386</td>\n",
       "      <td>0.31910</td>\n",
       "      <td>0.48450</td>\n",
       "      <td>0.08010</td>\n",
       "      <td>0.18260</td>\n",
       "      <td>1.63328</td>\n",
       "    </tr>\n",
       "    <tr>\n",
       "      <th>155</th>\n",
       "      <td>Syria</td>\n",
       "      <td>Middle East and Northern Africa</td>\n",
       "      <td>156</td>\n",
       "      <td>3.006</td>\n",
       "      <td>0.05015</td>\n",
       "      <td>0.66320</td>\n",
       "      <td>0.47489</td>\n",
       "      <td>0.72193</td>\n",
       "      <td>0.15684</td>\n",
       "      <td>0.18906</td>\n",
       "      <td>0.47179</td>\n",
       "      <td>0.32858</td>\n",
       "    </tr>\n",
       "    <tr>\n",
       "      <th>156</th>\n",
       "      <td>Burundi</td>\n",
       "      <td>Sub-Saharan Africa</td>\n",
       "      <td>157</td>\n",
       "      <td>2.905</td>\n",
       "      <td>0.08658</td>\n",
       "      <td>0.01530</td>\n",
       "      <td>0.41587</td>\n",
       "      <td>0.22396</td>\n",
       "      <td>0.11850</td>\n",
       "      <td>0.10062</td>\n",
       "      <td>0.19727</td>\n",
       "      <td>1.83302</td>\n",
       "    </tr>\n",
       "    <tr>\n",
       "      <th>157</th>\n",
       "      <td>Togo</td>\n",
       "      <td>Sub-Saharan Africa</td>\n",
       "      <td>158</td>\n",
       "      <td>2.839</td>\n",
       "      <td>0.06727</td>\n",
       "      <td>0.20868</td>\n",
       "      <td>0.13995</td>\n",
       "      <td>0.28443</td>\n",
       "      <td>0.36453</td>\n",
       "      <td>0.10731</td>\n",
       "      <td>0.16681</td>\n",
       "      <td>1.56726</td>\n",
       "    </tr>\n",
       "  </tbody>\n",
       "</table>\n",
       "</div>"
      ],
      "text/plain": [
       "     Country                           Region  Happiness Rank  \\\n",
       "153   Rwanda               Sub-Saharan Africa             154   \n",
       "154    Benin               Sub-Saharan Africa             155   \n",
       "155    Syria  Middle East and Northern Africa             156   \n",
       "156  Burundi               Sub-Saharan Africa             157   \n",
       "157     Togo               Sub-Saharan Africa             158   \n",
       "\n",
       "     Happiness Score  Standard Error  Economy (GDP per Capita)   Family  \\\n",
       "153            3.465         0.03464                   0.22208  0.77370   \n",
       "154            3.340         0.03656                   0.28665  0.35386   \n",
       "155            3.006         0.05015                   0.66320  0.47489   \n",
       "156            2.905         0.08658                   0.01530  0.41587   \n",
       "157            2.839         0.06727                   0.20868  0.13995   \n",
       "\n",
       "     Health (Life Expectancy)  Freedom  Trust (Government Corruption)  \\\n",
       "153                   0.42864  0.59201                        0.55191   \n",
       "154                   0.31910  0.48450                        0.08010   \n",
       "155                   0.72193  0.15684                        0.18906   \n",
       "156                   0.22396  0.11850                        0.10062   \n",
       "157                   0.28443  0.36453                        0.10731   \n",
       "\n",
       "     Generosity  Dystopia Residual  \n",
       "153     0.22628            0.67042  \n",
       "154     0.18260            1.63328  \n",
       "155     0.47179            0.32858  \n",
       "156     0.19727            1.83302  \n",
       "157     0.16681            1.56726  "
      ]
     },
     "execution_count": 21,
     "metadata": {},
     "output_type": "execute_result"
    }
   ],
   "source": [
    "world_happiness_report_2015.tail(5)"
   ]
  },
  {
   "cell_type": "code",
   "execution_count": 22,
   "metadata": {},
   "outputs": [],
   "source": [
    "world_happiness_report_2015 = world_happiness_report_2015.rename(columns = {'Happiness Score': 'score','Trust (Government Corruption)':'Trust..Government.Corruption.','Economy (GDP per Capita)':'GDP per capita','Logged GDP per capita':'GDP per capita','Health (Life Expectancy)':'Healthy life expectancy','Happiness Rank':'Overall rank','Dystopia Residual':'Dystopia + residual'}, inplace = False)\n",
    "world_happiness_report_2015[\"Healthy life expectancy\"] = 100 * world_happiness_report_2015[\"Healthy life expectancy\"]"
   ]
  },
  {
   "cell_type": "code",
   "execution_count": 23,
   "metadata": {},
   "outputs": [],
   "source": [
    "arr = [2015]*158\n",
    "world_happiness_report_2015['Year'] = arr"
   ]
  },
  {
   "cell_type": "code",
   "execution_count": 24,
   "metadata": {},
   "outputs": [
    {
     "data": {
      "text/html": [
       "<div>\n",
       "<style scoped>\n",
       "    .dataframe tbody tr th:only-of-type {\n",
       "        vertical-align: middle;\n",
       "    }\n",
       "\n",
       "    .dataframe tbody tr th {\n",
       "        vertical-align: top;\n",
       "    }\n",
       "\n",
       "    .dataframe thead th {\n",
       "        text-align: right;\n",
       "    }\n",
       "</style>\n",
       "<table border=\"1\" class=\"dataframe\">\n",
       "  <thead>\n",
       "    <tr style=\"text-align: right;\">\n",
       "      <th></th>\n",
       "      <th>score</th>\n",
       "      <th>Standard error of ladder score</th>\n",
       "      <th>upperwhisker</th>\n",
       "      <th>lowerwhisker</th>\n",
       "      <th>GDP per capita</th>\n",
       "      <th>Social support</th>\n",
       "      <th>Healthy life expectancy</th>\n",
       "      <th>Freedom</th>\n",
       "      <th>Generosity</th>\n",
       "      <th>Perceptions of corruption</th>\n",
       "      <th>Ladder score in Dystopia</th>\n",
       "      <th>Explained by: Log GDP per capita</th>\n",
       "      <th>Explained by: Social support</th>\n",
       "      <th>Explained by: Healthy life expectancy</th>\n",
       "      <th>Explained by: Freedom to make life choices</th>\n",
       "      <th>Explained by: Generosity</th>\n",
       "      <th>Explained by: Perceptions of corruption</th>\n",
       "      <th>Dystopia + residual</th>\n",
       "      <th>Year</th>\n",
       "    </tr>\n",
       "  </thead>\n",
       "  <tbody>\n",
       "    <tr>\n",
       "      <th>count</th>\n",
       "      <td>149.000000</td>\n",
       "      <td>149.000000</td>\n",
       "      <td>149.000000</td>\n",
       "      <td>149.000000</td>\n",
       "      <td>149.000000</td>\n",
       "      <td>149.000000</td>\n",
       "      <td>149.000000</td>\n",
       "      <td>149.000000</td>\n",
       "      <td>149.000000</td>\n",
       "      <td>149.000000</td>\n",
       "      <td>1.490000e+02</td>\n",
       "      <td>149.000000</td>\n",
       "      <td>149.000000</td>\n",
       "      <td>149.000000</td>\n",
       "      <td>149.000000</td>\n",
       "      <td>149.000000</td>\n",
       "      <td>149.000000</td>\n",
       "      <td>149.000000</td>\n",
       "      <td>149.0</td>\n",
       "    </tr>\n",
       "    <tr>\n",
       "      <th>mean</th>\n",
       "      <td>5.532839</td>\n",
       "      <td>0.058752</td>\n",
       "      <td>5.648007</td>\n",
       "      <td>5.417631</td>\n",
       "      <td>9.432208</td>\n",
       "      <td>0.814745</td>\n",
       "      <td>64.992799</td>\n",
       "      <td>0.791597</td>\n",
       "      <td>-0.015134</td>\n",
       "      <td>0.727450</td>\n",
       "      <td>2.430000e+00</td>\n",
       "      <td>0.977161</td>\n",
       "      <td>0.793315</td>\n",
       "      <td>0.520161</td>\n",
       "      <td>0.498711</td>\n",
       "      <td>0.178047</td>\n",
       "      <td>0.135141</td>\n",
       "      <td>2.430329</td>\n",
       "      <td>2021.0</td>\n",
       "    </tr>\n",
       "    <tr>\n",
       "      <th>std</th>\n",
       "      <td>1.073924</td>\n",
       "      <td>0.022001</td>\n",
       "      <td>1.054330</td>\n",
       "      <td>1.094879</td>\n",
       "      <td>1.158601</td>\n",
       "      <td>0.114889</td>\n",
       "      <td>6.762043</td>\n",
       "      <td>0.113332</td>\n",
       "      <td>0.150657</td>\n",
       "      <td>0.179226</td>\n",
       "      <td>5.347044e-15</td>\n",
       "      <td>0.404740</td>\n",
       "      <td>0.258871</td>\n",
       "      <td>0.213019</td>\n",
       "      <td>0.137888</td>\n",
       "      <td>0.098270</td>\n",
       "      <td>0.114361</td>\n",
       "      <td>0.537645</td>\n",
       "      <td>0.0</td>\n",
       "    </tr>\n",
       "    <tr>\n",
       "      <th>min</th>\n",
       "      <td>2.523000</td>\n",
       "      <td>0.026000</td>\n",
       "      <td>2.596000</td>\n",
       "      <td>2.449000</td>\n",
       "      <td>6.635000</td>\n",
       "      <td>0.463000</td>\n",
       "      <td>48.478000</td>\n",
       "      <td>0.382000</td>\n",
       "      <td>-0.288000</td>\n",
       "      <td>0.082000</td>\n",
       "      <td>2.430000e+00</td>\n",
       "      <td>0.000000</td>\n",
       "      <td>0.000000</td>\n",
       "      <td>0.000000</td>\n",
       "      <td>0.000000</td>\n",
       "      <td>0.000000</td>\n",
       "      <td>0.000000</td>\n",
       "      <td>0.648000</td>\n",
       "      <td>2021.0</td>\n",
       "    </tr>\n",
       "    <tr>\n",
       "      <th>25%</th>\n",
       "      <td>4.852000</td>\n",
       "      <td>0.043000</td>\n",
       "      <td>4.991000</td>\n",
       "      <td>4.706000</td>\n",
       "      <td>8.541000</td>\n",
       "      <td>0.750000</td>\n",
       "      <td>59.802000</td>\n",
       "      <td>0.718000</td>\n",
       "      <td>-0.126000</td>\n",
       "      <td>0.667000</td>\n",
       "      <td>2.430000e+00</td>\n",
       "      <td>0.666000</td>\n",
       "      <td>0.647000</td>\n",
       "      <td>0.357000</td>\n",
       "      <td>0.409000</td>\n",
       "      <td>0.105000</td>\n",
       "      <td>0.060000</td>\n",
       "      <td>2.138000</td>\n",
       "      <td>2021.0</td>\n",
       "    </tr>\n",
       "    <tr>\n",
       "      <th>50%</th>\n",
       "      <td>5.534000</td>\n",
       "      <td>0.054000</td>\n",
       "      <td>5.625000</td>\n",
       "      <td>5.413000</td>\n",
       "      <td>9.569000</td>\n",
       "      <td>0.832000</td>\n",
       "      <td>66.603000</td>\n",
       "      <td>0.804000</td>\n",
       "      <td>-0.036000</td>\n",
       "      <td>0.781000</td>\n",
       "      <td>2.430000e+00</td>\n",
       "      <td>1.025000</td>\n",
       "      <td>0.832000</td>\n",
       "      <td>0.571000</td>\n",
       "      <td>0.514000</td>\n",
       "      <td>0.164000</td>\n",
       "      <td>0.101000</td>\n",
       "      <td>2.509000</td>\n",
       "      <td>2021.0</td>\n",
       "    </tr>\n",
       "    <tr>\n",
       "      <th>75%</th>\n",
       "      <td>6.255000</td>\n",
       "      <td>0.070000</td>\n",
       "      <td>6.344000</td>\n",
       "      <td>6.128000</td>\n",
       "      <td>10.421000</td>\n",
       "      <td>0.905000</td>\n",
       "      <td>69.600000</td>\n",
       "      <td>0.877000</td>\n",
       "      <td>0.079000</td>\n",
       "      <td>0.845000</td>\n",
       "      <td>2.430000e+00</td>\n",
       "      <td>1.323000</td>\n",
       "      <td>0.996000</td>\n",
       "      <td>0.665000</td>\n",
       "      <td>0.603000</td>\n",
       "      <td>0.239000</td>\n",
       "      <td>0.174000</td>\n",
       "      <td>2.794000</td>\n",
       "      <td>2021.0</td>\n",
       "    </tr>\n",
       "    <tr>\n",
       "      <th>max</th>\n",
       "      <td>7.842000</td>\n",
       "      <td>0.173000</td>\n",
       "      <td>7.904000</td>\n",
       "      <td>7.780000</td>\n",
       "      <td>11.647000</td>\n",
       "      <td>0.983000</td>\n",
       "      <td>76.953000</td>\n",
       "      <td>0.970000</td>\n",
       "      <td>0.542000</td>\n",
       "      <td>0.939000</td>\n",
       "      <td>2.430000e+00</td>\n",
       "      <td>1.751000</td>\n",
       "      <td>1.172000</td>\n",
       "      <td>0.897000</td>\n",
       "      <td>0.716000</td>\n",
       "      <td>0.541000</td>\n",
       "      <td>0.547000</td>\n",
       "      <td>3.482000</td>\n",
       "      <td>2021.0</td>\n",
       "    </tr>\n",
       "  </tbody>\n",
       "</table>\n",
       "</div>"
      ],
      "text/plain": [
       "            score  Standard error of ladder score  upperwhisker  lowerwhisker  \\\n",
       "count  149.000000                      149.000000    149.000000    149.000000   \n",
       "mean     5.532839                        0.058752      5.648007      5.417631   \n",
       "std      1.073924                        0.022001      1.054330      1.094879   \n",
       "min      2.523000                        0.026000      2.596000      2.449000   \n",
       "25%      4.852000                        0.043000      4.991000      4.706000   \n",
       "50%      5.534000                        0.054000      5.625000      5.413000   \n",
       "75%      6.255000                        0.070000      6.344000      6.128000   \n",
       "max      7.842000                        0.173000      7.904000      7.780000   \n",
       "\n",
       "       GDP per capita  Social support  Healthy life expectancy     Freedom  \\\n",
       "count      149.000000      149.000000               149.000000  149.000000   \n",
       "mean         9.432208        0.814745                64.992799    0.791597   \n",
       "std          1.158601        0.114889                 6.762043    0.113332   \n",
       "min          6.635000        0.463000                48.478000    0.382000   \n",
       "25%          8.541000        0.750000                59.802000    0.718000   \n",
       "50%          9.569000        0.832000                66.603000    0.804000   \n",
       "75%         10.421000        0.905000                69.600000    0.877000   \n",
       "max         11.647000        0.983000                76.953000    0.970000   \n",
       "\n",
       "       Generosity  Perceptions of corruption  Ladder score in Dystopia  \\\n",
       "count  149.000000                 149.000000              1.490000e+02   \n",
       "mean    -0.015134                   0.727450              2.430000e+00   \n",
       "std      0.150657                   0.179226              5.347044e-15   \n",
       "min     -0.288000                   0.082000              2.430000e+00   \n",
       "25%     -0.126000                   0.667000              2.430000e+00   \n",
       "50%     -0.036000                   0.781000              2.430000e+00   \n",
       "75%      0.079000                   0.845000              2.430000e+00   \n",
       "max      0.542000                   0.939000              2.430000e+00   \n",
       "\n",
       "       Explained by: Log GDP per capita  Explained by: Social support  \\\n",
       "count                        149.000000                    149.000000   \n",
       "mean                           0.977161                      0.793315   \n",
       "std                            0.404740                      0.258871   \n",
       "min                            0.000000                      0.000000   \n",
       "25%                            0.666000                      0.647000   \n",
       "50%                            1.025000                      0.832000   \n",
       "75%                            1.323000                      0.996000   \n",
       "max                            1.751000                      1.172000   \n",
       "\n",
       "       Explained by: Healthy life expectancy  \\\n",
       "count                             149.000000   \n",
       "mean                                0.520161   \n",
       "std                                 0.213019   \n",
       "min                                 0.000000   \n",
       "25%                                 0.357000   \n",
       "50%                                 0.571000   \n",
       "75%                                 0.665000   \n",
       "max                                 0.897000   \n",
       "\n",
       "       Explained by: Freedom to make life choices  Explained by: Generosity  \\\n",
       "count                                  149.000000                149.000000   \n",
       "mean                                     0.498711                  0.178047   \n",
       "std                                      0.137888                  0.098270   \n",
       "min                                      0.000000                  0.000000   \n",
       "25%                                      0.409000                  0.105000   \n",
       "50%                                      0.514000                  0.164000   \n",
       "75%                                      0.603000                  0.239000   \n",
       "max                                      0.716000                  0.541000   \n",
       "\n",
       "       Explained by: Perceptions of corruption  Dystopia + residual    Year  \n",
       "count                               149.000000           149.000000   149.0  \n",
       "mean                                  0.135141             2.430329  2021.0  \n",
       "std                                   0.114361             0.537645     0.0  \n",
       "min                                   0.000000             0.648000  2021.0  \n",
       "25%                                   0.060000             2.138000  2021.0  \n",
       "50%                                   0.101000             2.509000  2021.0  \n",
       "75%                                   0.174000             2.794000  2021.0  \n",
       "max                                   0.547000             3.482000  2021.0  "
      ]
     },
     "execution_count": 24,
     "metadata": {},
     "output_type": "execute_result"
    }
   ],
   "source": [
    "## statistical summary of our data\n",
    "world_happiness_report_2021.describe()"
   ]
  },
  {
   "cell_type": "code",
   "execution_count": 25,
   "metadata": {},
   "outputs": [
    {
     "name": "stdout",
     "output_type": "stream",
     "text": [
      "<class 'pandas.core.frame.DataFrame'>\n",
      "RangeIndex: 149 entries, 0 to 148\n",
      "Data columns (total 21 columns):\n",
      " #   Column                                      Non-Null Count  Dtype  \n",
      "---  ------                                      --------------  -----  \n",
      " 0   Country                                     149 non-null    object \n",
      " 1   Regional indicator                          149 non-null    object \n",
      " 2   score                                       149 non-null    float64\n",
      " 3   Standard error of ladder score              149 non-null    float64\n",
      " 4   upperwhisker                                149 non-null    float64\n",
      " 5   lowerwhisker                                149 non-null    float64\n",
      " 6   GDP per capita                              149 non-null    float64\n",
      " 7   Social support                              149 non-null    float64\n",
      " 8   Healthy life expectancy                     149 non-null    float64\n",
      " 9   Freedom                                     149 non-null    float64\n",
      " 10  Generosity                                  149 non-null    float64\n",
      " 11  Perceptions of corruption                   149 non-null    float64\n",
      " 12  Ladder score in Dystopia                    149 non-null    float64\n",
      " 13  Explained by: Log GDP per capita            149 non-null    float64\n",
      " 14  Explained by: Social support                149 non-null    float64\n",
      " 15  Explained by: Healthy life expectancy       149 non-null    float64\n",
      " 16  Explained by: Freedom to make life choices  149 non-null    float64\n",
      " 17  Explained by: Generosity                    149 non-null    float64\n",
      " 18  Explained by: Perceptions of corruption     149 non-null    float64\n",
      " 19  Dystopia + residual                         149 non-null    float64\n",
      " 20  Year                                        149 non-null    int64  \n",
      "dtypes: float64(18), int64(1), object(2)\n",
      "memory usage: 24.6+ KB\n"
     ]
    }
   ],
   "source": [
    "world_happiness_report_2021.info()"
   ]
  },
  {
   "cell_type": "code",
   "execution_count": 26,
   "metadata": {},
   "outputs": [],
   "source": [
    "# No world rankings in 2020 and 2021.So we add it ourselves with this simple method\n",
    "world_happiness_report_2021[\"Overall rank\"] = (world_happiness_report_2021.index + 1) # Happiness Rank (we make it start from 1)"
   ]
  },
  {
   "cell_type": "code",
   "execution_count": 27,
   "metadata": {},
   "outputs": [
    {
     "data": {
      "text/plain": [
       "0      0.124\n",
       "1      0.208\n",
       "2      0.204\n",
       "3      0.293\n",
       "4      0.302\n",
       "       ...  \n",
       "144    0.103\n",
       "145    0.027\n",
       "146    0.227\n",
       "147    0.157\n",
       "148    0.122\n",
       "Name: Explained by: Generosity, Length: 149, dtype: float64"
      ]
     },
     "execution_count": 27,
     "metadata": {},
     "output_type": "execute_result"
    }
   ],
   "source": [
    "world_happiness_report_2021[\"Explained by: Generosity\"]"
   ]
  },
  {
   "cell_type": "code",
   "execution_count": 28,
   "metadata": {},
   "outputs": [],
   "source": [
    "regions = world_happiness_report_2021[\"Regional indicator\"]"
   ]
  },
  {
   "cell_type": "code",
   "execution_count": 29,
   "metadata": {},
   "outputs": [],
   "source": [
    "regions_counts = regions.value_counts()"
   ]
  },
  {
   "cell_type": "code",
   "execution_count": 30,
   "metadata": {},
   "outputs": [
    {
     "data": {
      "image/png": "[encoded data removed]",
      "text/plain": [
       "<Figure size 864x432 with 1 Axes>"
      ]
     },
     "metadata": {},
     "output_type": "display_data"
    }
   ],
   "source": [
    "plt.figure(figsize=(12,6))\n",
    "plt.bar(regions_counts.index, regions_counts.values,color = \"DarkSeaGreen\", edgecolor = \"black\", linewidth = 2)\n",
    "plt.xticks(rotation = \"90\",size = 10)\n",
    "plt.ylabel(\"Number of Countries\")\n",
    "plt.title(\"Regional indicator\",size = 20)\n",
    "plt.show()"
   ]
  },
  {
   "cell_type": "code",
   "execution_count": 31,
   "metadata": {},
   "outputs": [],
   "source": [
    "def plot_hist(variable):\n",
    "    \"\"\"\n",
    "    input : variable ex : \"Ladder score\"\n",
    "    output : Hist plot  \n",
    "    \"\"\"\n",
    "    plt.figure(figsize=(9,3))\n",
    "    plt.hist(world_happiness_report_2021[variable])\n",
    "    plt.xlabel(variable)\n",
    "    plt.ylabel(\"Frequency\")\n",
    "    plt.title(\"{} distribution with hist \".format(variable))\n",
    "    plt.show()"
   ]
  },
  {
   "cell_type": "code",
   "execution_count": 32,
   "metadata": {},
   "outputs": [
    {
     "data": {
      "image/png": "[encoded data removed]",
      "text/plain": [
       "<Figure size 648x216 with 1 Axes>"
      ]
     },
     "metadata": {},
     "output_type": "display_data"
    },
    {
     "data": {
      "image/png": "[encoded data removed]",
      "text/plain": [
       "<Figure size 648x216 with 1 Axes>"
      ]
     },
     "metadata": {},
     "output_type": "display_data"
    },
    {
     "data": {
      "image/png": "[encoded data removed]",
      "text/plain": [
       "<Figure size 648x216 with 1 Axes>"
      ]
     },
     "metadata": {},
     "output_type": "display_data"
    },
    {
     "data": {
      "image/png": "[encoded data removed]",
      "text/plain": [
       "<Figure size 648x216 with 1 Axes>"
      ]
     },
     "metadata": {},
     "output_type": "display_data"
    },
    {
     "data": {
      "image/png": "[encoded data removed]",
      "text/plain": [
       "<Figure size 648x216 with 1 Axes>"
      ]
     },
     "metadata": {},
     "output_type": "display_data"
    },
    {
     "data": {
      "image/png": "[encoded data removed]",
      "text/plain": [
       "<Figure size 648x216 with 1 Axes>"
      ]
     },
     "metadata": {},
     "output_type": "display_data"
    },
    {
     "data": {
      "image/png": "[encoded data removed]",
      "text/plain": [
       "<Figure size 648x216 with 1 Axes>"
      ]
     },
     "metadata": {},
     "output_type": "display_data"
    },
    {
     "data": {
      "image/png": "[encoded data removed]",
      "text/plain": [
       "<Figure size 648x216 with 1 Axes>"
      ]
     },
     "metadata": {},
     "output_type": "display_data"
    },
    {
     "data": {
      "image/png": "[encoded data removed]",
      "text/plain": [
       "<Figure size 648x216 with 1 Axes>"
      ]
     },
     "metadata": {},
     "output_type": "display_data"
    },
    {
     "data": {
      "image/png": "[encoded data removed]",
      "text/plain": [
       "<Figure size 648x216 with 1 Axes>"
      ]
     },
     "metadata": {},
     "output_type": "display_data"
    },
    {
     "data": {
      "image/png": "[encoded data removed]",
      "text/plain": [
       "<Figure size 648x216 with 1 Axes>"
      ]
     },
     "metadata": {},
     "output_type": "display_data"
    },
    {
     "data": {
      "image/png": "[encoded data removed]",
      "text/plain": [
       "<Figure size 648x216 with 1 Axes>"
      ]
     },
     "metadata": {},
     "output_type": "display_data"
    },
    {
     "data": {
      "image/png": "[encoded data removed]",
      "text/plain": [
       "<Figure size 648x216 with 1 Axes>"
      ]
     },
     "metadata": {},
     "output_type": "display_data"
    },
    {
     "data": {
      "image/png": "[encoded data removed]",
      "text/plain": [
       "<Figure size 648x216 with 1 Axes>"
      ]
     },
     "metadata": {},
     "output_type": "display_data"
    },
    {
     "data": {
      "image/png": "[encoded data removed]",
      "text/plain": [
       "<Figure size 648x216 with 1 Axes>"
      ]
     },
     "metadata": {},
     "output_type": "display_data"
    },
    {
     "data": {
      "image/png": "[encoded data removed]",
      "text/plain": [
       "<Figure size 648x216 with 1 Axes>"
      ]
     },
     "metadata": {},
     "output_type": "display_data"
    },
    {
     "data": {
      "image/png": "[encoded data removed]",
      "text/plain": [
       "<Figure size 648x216 with 1 Axes>"
      ]
     },
     "metadata": {},
     "output_type": "display_data"
    }
   ],
   "source": [
    "# we visualize our numerical data to examine\n",
    "# we send our numerical properties to the function we do\n",
    "numericVar = [\"score\", \"Standard error of ladder score\", \"upperwhisker\", \"lowerwhisker\", \"GDP per capita\", \"Social support\", \"Healthy life expectancy\", \"Freedom\", \"Generosity\", \"Perceptions of corruption\", \"Explained by: Log GDP per capita\", \"Explained by: Social support\", \"Explained by: Healthy life expectancy\", \"Explained by: Freedom to make life choices\", \"Explained by: Generosity\", \"Explained by: Perceptions of corruption\", \"Dystopia + residual\"]\n",
    "for n in numericVar:\n",
    "    plot_hist(n)"
   ]
  },
  {
   "cell_type": "code",
   "execution_count": 33,
   "metadata": {},
   "outputs": [
    {
     "data": {
      "text/html": [
       "<div>\n",
       "<style scoped>\n",
       "    .dataframe tbody tr th:only-of-type {\n",
       "        vertical-align: middle;\n",
       "    }\n",
       "\n",
       "    .dataframe tbody tr th {\n",
       "        vertical-align: top;\n",
       "    }\n",
       "\n",
       "    .dataframe thead th {\n",
       "        text-align: right;\n",
       "    }\n",
       "</style>\n",
       "<table border=\"1\" class=\"dataframe\">\n",
       "  <thead>\n",
       "    <tr style=\"text-align: right;\">\n",
       "      <th></th>\n",
       "      <th>GDP per capita</th>\n",
       "      <th>score</th>\n",
       "    </tr>\n",
       "  </thead>\n",
       "  <tbody>\n",
       "    <tr>\n",
       "      <th>128</th>\n",
       "      <td>10.775</td>\n",
       "      <td>7.842</td>\n",
       "    </tr>\n",
       "    <tr>\n",
       "      <th>139</th>\n",
       "      <td>10.933</td>\n",
       "      <td>7.620</td>\n",
       "    </tr>\n",
       "    <tr>\n",
       "      <th>144</th>\n",
       "      <td>11.117</td>\n",
       "      <td>7.571</td>\n",
       "    </tr>\n",
       "    <tr>\n",
       "      <th>136</th>\n",
       "      <td>10.878</td>\n",
       "      <td>7.554</td>\n",
       "    </tr>\n",
       "    <tr>\n",
       "      <th>138</th>\n",
       "      <td>10.932</td>\n",
       "      <td>7.464</td>\n",
       "    </tr>\n",
       "    <tr>\n",
       "      <th>...</th>\n",
       "      <td>...</td>\n",
       "      <td>...</td>\n",
       "    </tr>\n",
       "    <tr>\n",
       "      <th>20</th>\n",
       "      <td>7.926</td>\n",
       "      <td>3.512</td>\n",
       "    </tr>\n",
       "    <tr>\n",
       "      <th>85</th>\n",
       "      <td>9.782</td>\n",
       "      <td>3.467</td>\n",
       "    </tr>\n",
       "    <tr>\n",
       "      <th>11</th>\n",
       "      <td>7.676</td>\n",
       "      <td>3.415</td>\n",
       "    </tr>\n",
       "    <tr>\n",
       "      <th>21</th>\n",
       "      <td>7.943</td>\n",
       "      <td>3.145</td>\n",
       "    </tr>\n",
       "    <tr>\n",
       "      <th>16</th>\n",
       "      <td>7.695</td>\n",
       "      <td>2.523</td>\n",
       "    </tr>\n",
       "  </tbody>\n",
       "</table>\n",
       "<p>148 rows × 2 columns</p>\n",
       "</div>"
      ],
      "text/plain": [
       "     GDP per capita  score\n",
       "128          10.775  7.842\n",
       "139          10.933  7.620\n",
       "144          11.117  7.571\n",
       "136          10.878  7.554\n",
       "138          10.932  7.464\n",
       "..              ...    ...\n",
       "20            7.926  3.512\n",
       "85            9.782  3.467\n",
       "11            7.676  3.415\n",
       "21            7.943  3.145\n",
       "16            7.695  2.523\n",
       "\n",
       "[148 rows x 2 columns]"
      ]
     },
     "execution_count": 33,
     "metadata": {},
     "output_type": "execute_result"
    }
   ],
   "source": [
    "# groupby : performs grouping\n",
    "# group by Logged GDP per capita and average\n",
    "# Sort by Ladder score\n",
    "world_happiness_report_2021[[\"GDP per capita\",\"score\"]].groupby([\"GDP per capita\"], as_index = False).mean().sort_values(by = \"score\",ascending = False)"
   ]
  },
  {
   "cell_type": "code",
   "execution_count": 34,
   "metadata": {},
   "outputs": [
    {
     "data": {
      "text/plain": [
       "Country                          0\n",
       "Region                           0\n",
       "Overall rank                     0\n",
       "score                            0\n",
       "Standard Error                   0\n",
       "GDP per capita                   0\n",
       "Family                           0\n",
       "Healthy life expectancy          0\n",
       "Freedom                          0\n",
       "Trust..Government.Corruption.    0\n",
       "Generosity                       0\n",
       "Dystopia + residual              0\n",
       "Year                             0\n",
       "dtype: int64"
      ]
     },
     "execution_count": 34,
     "metadata": {},
     "output_type": "execute_result"
    }
   ],
   "source": [
    "(world_happiness_report_2015.isna()).sum()"
   ]
  },
  {
   "cell_type": "code",
   "execution_count": 35,
   "metadata": {},
   "outputs": [],
   "source": [
    " world_happiness_report_2020[\"Overall rank\"] = (world_happiness_report_2020.index + 1) # Happiness Rank (we make it start from 1)"
   ]
  },
  {
   "cell_type": "code",
   "execution_count": 36,
   "metadata": {},
   "outputs": [],
   "source": [
    "# we take the first thirty countries\n",
    "df2015 = world_happiness_report_2015.iloc[:30,:] \n",
    "df2016 = world_happiness_report_2016.iloc[:30,:]\n",
    "df2017 = world_happiness_report_2017.iloc[:30,:]\n",
    "df2018 = world_happiness_report_2018.iloc[:30,:]\n",
    "df2019 = world_happiness_report_2019.iloc[:30,:]\n",
    "df2020 = world_happiness_report_2020.iloc[:30,:]\n",
    "df2021 = world_happiness_report_2021.iloc[:30,:]"
   ]
  },
  {
   "cell_type": "code",
   "execution_count": 37,
   "metadata": {},
   "outputs": [
    {
     "data": {
      "text/html": [
       "<div>\n",
       "<style scoped>\n",
       "    .dataframe tbody tr th:only-of-type {\n",
       "        vertical-align: middle;\n",
       "    }\n",
       "\n",
       "    .dataframe tbody tr th {\n",
       "        vertical-align: top;\n",
       "    }\n",
       "\n",
       "    .dataframe thead th {\n",
       "        text-align: right;\n",
       "    }\n",
       "</style>\n",
       "<table border=\"1\" class=\"dataframe\">\n",
       "  <thead>\n",
       "    <tr style=\"text-align: right;\">\n",
       "      <th></th>\n",
       "      <th>Country</th>\n",
       "      <th>Regional indicator</th>\n",
       "      <th>score</th>\n",
       "      <th>Standard error of ladder score</th>\n",
       "      <th>upperwhisker</th>\n",
       "      <th>lowerwhisker</th>\n",
       "      <th>GDP per capita</th>\n",
       "      <th>Social support</th>\n",
       "      <th>Healthy life expectancy</th>\n",
       "      <th>Freedom</th>\n",
       "      <th>...</th>\n",
       "      <th>Ladder score in Dystopia</th>\n",
       "      <th>Explained by: Log GDP per capita</th>\n",
       "      <th>Explained by: Social support</th>\n",
       "      <th>Explained by: Healthy life expectancy</th>\n",
       "      <th>Explained by: Freedom to make life choices</th>\n",
       "      <th>Explained by: Generosity</th>\n",
       "      <th>Explained by: Perceptions of corruption</th>\n",
       "      <th>Dystopia + residual</th>\n",
       "      <th>Year</th>\n",
       "      <th>Overall rank</th>\n",
       "    </tr>\n",
       "  </thead>\n",
       "  <tbody>\n",
       "    <tr>\n",
       "      <th>0</th>\n",
       "      <td>Finland</td>\n",
       "      <td>Western Europe</td>\n",
       "      <td>7.8087</td>\n",
       "      <td>0.031156</td>\n",
       "      <td>7.869766</td>\n",
       "      <td>7.747634</td>\n",
       "      <td>10.639267</td>\n",
       "      <td>0.954330</td>\n",
       "      <td>71.900825</td>\n",
       "      <td>0.949172</td>\n",
       "      <td>...</td>\n",
       "      <td>1.972317</td>\n",
       "      <td>1.285190</td>\n",
       "      <td>1.499526</td>\n",
       "      <td>0.961271</td>\n",
       "      <td>0.662317</td>\n",
       "      <td>0.159670</td>\n",
       "      <td>0.477857</td>\n",
       "      <td>2.762835</td>\n",
       "      <td>2020</td>\n",
       "      <td>1</td>\n",
       "    </tr>\n",
       "    <tr>\n",
       "      <th>1</th>\n",
       "      <td>Denmark</td>\n",
       "      <td>Western Europe</td>\n",
       "      <td>7.6456</td>\n",
       "      <td>0.033492</td>\n",
       "      <td>7.711245</td>\n",
       "      <td>7.579955</td>\n",
       "      <td>10.774001</td>\n",
       "      <td>0.955991</td>\n",
       "      <td>72.402504</td>\n",
       "      <td>0.951444</td>\n",
       "      <td>...</td>\n",
       "      <td>1.972317</td>\n",
       "      <td>1.326949</td>\n",
       "      <td>1.503449</td>\n",
       "      <td>0.979333</td>\n",
       "      <td>0.665040</td>\n",
       "      <td>0.242793</td>\n",
       "      <td>0.495260</td>\n",
       "      <td>2.432741</td>\n",
       "      <td>2020</td>\n",
       "      <td>2</td>\n",
       "    </tr>\n",
       "    <tr>\n",
       "      <th>2</th>\n",
       "      <td>Switzerland</td>\n",
       "      <td>Western Europe</td>\n",
       "      <td>7.5599</td>\n",
       "      <td>0.035014</td>\n",
       "      <td>7.628528</td>\n",
       "      <td>7.491272</td>\n",
       "      <td>10.979933</td>\n",
       "      <td>0.942847</td>\n",
       "      <td>74.102448</td>\n",
       "      <td>0.921337</td>\n",
       "      <td>...</td>\n",
       "      <td>1.972317</td>\n",
       "      <td>1.390774</td>\n",
       "      <td>1.472403</td>\n",
       "      <td>1.040533</td>\n",
       "      <td>0.628954</td>\n",
       "      <td>0.269056</td>\n",
       "      <td>0.407946</td>\n",
       "      <td>2.350267</td>\n",
       "      <td>2020</td>\n",
       "      <td>3</td>\n",
       "    </tr>\n",
       "    <tr>\n",
       "      <th>3</th>\n",
       "      <td>Iceland</td>\n",
       "      <td>Western Europe</td>\n",
       "      <td>7.5045</td>\n",
       "      <td>0.059616</td>\n",
       "      <td>7.621347</td>\n",
       "      <td>7.387653</td>\n",
       "      <td>10.772559</td>\n",
       "      <td>0.974670</td>\n",
       "      <td>73.000000</td>\n",
       "      <td>0.948892</td>\n",
       "      <td>...</td>\n",
       "      <td>1.972317</td>\n",
       "      <td>1.326502</td>\n",
       "      <td>1.547567</td>\n",
       "      <td>1.000843</td>\n",
       "      <td>0.661981</td>\n",
       "      <td>0.362330</td>\n",
       "      <td>0.144541</td>\n",
       "      <td>2.460688</td>\n",
       "      <td>2020</td>\n",
       "      <td>4</td>\n",
       "    </tr>\n",
       "    <tr>\n",
       "      <th>4</th>\n",
       "      <td>Norway</td>\n",
       "      <td>Western Europe</td>\n",
       "      <td>7.4880</td>\n",
       "      <td>0.034837</td>\n",
       "      <td>7.556281</td>\n",
       "      <td>7.419719</td>\n",
       "      <td>11.087804</td>\n",
       "      <td>0.952487</td>\n",
       "      <td>73.200783</td>\n",
       "      <td>0.955750</td>\n",
       "      <td>...</td>\n",
       "      <td>1.972317</td>\n",
       "      <td>1.424207</td>\n",
       "      <td>1.495173</td>\n",
       "      <td>1.008072</td>\n",
       "      <td>0.670201</td>\n",
       "      <td>0.287985</td>\n",
       "      <td>0.434101</td>\n",
       "      <td>2.168266</td>\n",
       "      <td>2020</td>\n",
       "      <td>5</td>\n",
       "    </tr>\n",
       "    <tr>\n",
       "      <th>5</th>\n",
       "      <td>Netherlands</td>\n",
       "      <td>Western Europe</td>\n",
       "      <td>7.4489</td>\n",
       "      <td>0.027792</td>\n",
       "      <td>7.503372</td>\n",
       "      <td>7.394428</td>\n",
       "      <td>10.812712</td>\n",
       "      <td>0.939139</td>\n",
       "      <td>72.300919</td>\n",
       "      <td>0.908548</td>\n",
       "      <td>...</td>\n",
       "      <td>1.972317</td>\n",
       "      <td>1.338946</td>\n",
       "      <td>1.463646</td>\n",
       "      <td>0.975675</td>\n",
       "      <td>0.613626</td>\n",
       "      <td>0.336318</td>\n",
       "      <td>0.368570</td>\n",
       "      <td>2.352117</td>\n",
       "      <td>2020</td>\n",
       "      <td>6</td>\n",
       "    </tr>\n",
       "    <tr>\n",
       "      <th>6</th>\n",
       "      <td>Sweden</td>\n",
       "      <td>Western Europe</td>\n",
       "      <td>7.3535</td>\n",
       "      <td>0.036234</td>\n",
       "      <td>7.424519</td>\n",
       "      <td>7.282481</td>\n",
       "      <td>10.758794</td>\n",
       "      <td>0.926311</td>\n",
       "      <td>72.600769</td>\n",
       "      <td>0.939144</td>\n",
       "      <td>...</td>\n",
       "      <td>1.972317</td>\n",
       "      <td>1.322235</td>\n",
       "      <td>1.433348</td>\n",
       "      <td>0.986470</td>\n",
       "      <td>0.650298</td>\n",
       "      <td>0.272828</td>\n",
       "      <td>0.442066</td>\n",
       "      <td>2.246299</td>\n",
       "      <td>2020</td>\n",
       "      <td>7</td>\n",
       "    </tr>\n",
       "    <tr>\n",
       "      <th>7</th>\n",
       "      <td>New Zealand</td>\n",
       "      <td>North America and ANZ</td>\n",
       "      <td>7.2996</td>\n",
       "      <td>0.039465</td>\n",
       "      <td>7.376953</td>\n",
       "      <td>7.222248</td>\n",
       "      <td>10.500943</td>\n",
       "      <td>0.949119</td>\n",
       "      <td>73.202629</td>\n",
       "      <td>0.936217</td>\n",
       "      <td>...</td>\n",
       "      <td>1.972317</td>\n",
       "      <td>1.242318</td>\n",
       "      <td>1.487218</td>\n",
       "      <td>1.008138</td>\n",
       "      <td>0.646790</td>\n",
       "      <td>0.325726</td>\n",
       "      <td>0.461268</td>\n",
       "      <td>2.128108</td>\n",
       "      <td>2020</td>\n",
       "      <td>8</td>\n",
       "    </tr>\n",
       "    <tr>\n",
       "      <th>8</th>\n",
       "      <td>Austria</td>\n",
       "      <td>Western Europe</td>\n",
       "      <td>7.2942</td>\n",
       "      <td>0.033365</td>\n",
       "      <td>7.359596</td>\n",
       "      <td>7.228804</td>\n",
       "      <td>10.742824</td>\n",
       "      <td>0.928046</td>\n",
       "      <td>73.002502</td>\n",
       "      <td>0.899989</td>\n",
       "      <td>...</td>\n",
       "      <td>1.972317</td>\n",
       "      <td>1.317286</td>\n",
       "      <td>1.437445</td>\n",
       "      <td>1.000934</td>\n",
       "      <td>0.603369</td>\n",
       "      <td>0.255510</td>\n",
       "      <td>0.281256</td>\n",
       "      <td>2.398446</td>\n",
       "      <td>2020</td>\n",
       "      <td>9</td>\n",
       "    </tr>\n",
       "    <tr>\n",
       "      <th>9</th>\n",
       "      <td>Luxembourg</td>\n",
       "      <td>Western Europe</td>\n",
       "      <td>7.2375</td>\n",
       "      <td>0.030852</td>\n",
       "      <td>7.297970</td>\n",
       "      <td>7.177031</td>\n",
       "      <td>11.450681</td>\n",
       "      <td>0.906912</td>\n",
       "      <td>72.599998</td>\n",
       "      <td>0.905636</td>\n",
       "      <td>...</td>\n",
       "      <td>1.972317</td>\n",
       "      <td>1.536676</td>\n",
       "      <td>1.387528</td>\n",
       "      <td>0.986443</td>\n",
       "      <td>0.610137</td>\n",
       "      <td>0.195954</td>\n",
       "      <td>0.367041</td>\n",
       "      <td>2.153700</td>\n",
       "      <td>2020</td>\n",
       "      <td>10</td>\n",
       "    </tr>\n",
       "    <tr>\n",
       "      <th>10</th>\n",
       "      <td>Canada</td>\n",
       "      <td>North America and ANZ</td>\n",
       "      <td>7.2321</td>\n",
       "      <td>0.040405</td>\n",
       "      <td>7.311295</td>\n",
       "      <td>7.152905</td>\n",
       "      <td>10.692369</td>\n",
       "      <td>0.927177</td>\n",
       "      <td>73.601601</td>\n",
       "      <td>0.933913</td>\n",
       "      <td>...</td>\n",
       "      <td>1.972317</td>\n",
       "      <td>1.301648</td>\n",
       "      <td>1.435392</td>\n",
       "      <td>1.022502</td>\n",
       "      <td>0.644028</td>\n",
       "      <td>0.281529</td>\n",
       "      <td>0.351702</td>\n",
       "      <td>2.195269</td>\n",
       "      <td>2020</td>\n",
       "      <td>11</td>\n",
       "    </tr>\n",
       "    <tr>\n",
       "      <th>11</th>\n",
       "      <td>Australia</td>\n",
       "      <td>North America and ANZ</td>\n",
       "      <td>7.2228</td>\n",
       "      <td>0.041841</td>\n",
       "      <td>7.304808</td>\n",
       "      <td>7.140791</td>\n",
       "      <td>10.720596</td>\n",
       "      <td>0.944855</td>\n",
       "      <td>73.604538</td>\n",
       "      <td>0.915432</td>\n",
       "      <td>...</td>\n",
       "      <td>1.972317</td>\n",
       "      <td>1.310396</td>\n",
       "      <td>1.477146</td>\n",
       "      <td>1.022608</td>\n",
       "      <td>0.621877</td>\n",
       "      <td>0.324974</td>\n",
       "      <td>0.335996</td>\n",
       "      <td>2.129804</td>\n",
       "      <td>2020</td>\n",
       "      <td>12</td>\n",
       "    </tr>\n",
       "    <tr>\n",
       "      <th>12</th>\n",
       "      <td>United Kingdom</td>\n",
       "      <td>Western Europe</td>\n",
       "      <td>7.1645</td>\n",
       "      <td>0.037162</td>\n",
       "      <td>7.237338</td>\n",
       "      <td>7.091663</td>\n",
       "      <td>10.600135</td>\n",
       "      <td>0.936683</td>\n",
       "      <td>72.301605</td>\n",
       "      <td>0.834744</td>\n",
       "      <td>...</td>\n",
       "      <td>1.972317</td>\n",
       "      <td>1.273061</td>\n",
       "      <td>1.457845</td>\n",
       "      <td>0.975700</td>\n",
       "      <td>0.525169</td>\n",
       "      <td>0.373433</td>\n",
       "      <td>0.322602</td>\n",
       "      <td>2.236722</td>\n",
       "      <td>2020</td>\n",
       "      <td>13</td>\n",
       "    </tr>\n",
       "    <tr>\n",
       "      <th>13</th>\n",
       "      <td>Israel</td>\n",
       "      <td>Middle East and North Africa</td>\n",
       "      <td>7.1286</td>\n",
       "      <td>0.042515</td>\n",
       "      <td>7.211930</td>\n",
       "      <td>7.045270</td>\n",
       "      <td>10.417525</td>\n",
       "      <td>0.913571</td>\n",
       "      <td>73.200256</td>\n",
       "      <td>0.747581</td>\n",
       "      <td>...</td>\n",
       "      <td>1.972317</td>\n",
       "      <td>1.216464</td>\n",
       "      <td>1.403257</td>\n",
       "      <td>1.008053</td>\n",
       "      <td>0.420699</td>\n",
       "      <td>0.266862</td>\n",
       "      <td>0.099898</td>\n",
       "      <td>2.713358</td>\n",
       "      <td>2020</td>\n",
       "      <td>14</td>\n",
       "    </tr>\n",
       "    <tr>\n",
       "      <th>14</th>\n",
       "      <td>Costa Rica</td>\n",
       "      <td>Latin America and Caribbean</td>\n",
       "      <td>7.1214</td>\n",
       "      <td>0.044816</td>\n",
       "      <td>7.209239</td>\n",
       "      <td>7.033560</td>\n",
       "      <td>9.658156</td>\n",
       "      <td>0.901546</td>\n",
       "      <td>71.299850</td>\n",
       "      <td>0.934739</td>\n",
       "      <td>...</td>\n",
       "      <td>1.972317</td>\n",
       "      <td>0.981108</td>\n",
       "      <td>1.374854</td>\n",
       "      <td>0.939635</td>\n",
       "      <td>0.645018</td>\n",
       "      <td>0.131266</td>\n",
       "      <td>0.096362</td>\n",
       "      <td>2.953135</td>\n",
       "      <td>2020</td>\n",
       "      <td>15</td>\n",
       "    </tr>\n",
       "    <tr>\n",
       "      <th>15</th>\n",
       "      <td>Ireland</td>\n",
       "      <td>Western Europe</td>\n",
       "      <td>7.0937</td>\n",
       "      <td>0.039863</td>\n",
       "      <td>7.171832</td>\n",
       "      <td>7.015568</td>\n",
       "      <td>11.160978</td>\n",
       "      <td>0.942082</td>\n",
       "      <td>72.300789</td>\n",
       "      <td>0.886983</td>\n",
       "      <td>...</td>\n",
       "      <td>1.972317</td>\n",
       "      <td>1.446887</td>\n",
       "      <td>1.470596</td>\n",
       "      <td>0.975671</td>\n",
       "      <td>0.587780</td>\n",
       "      <td>0.295427</td>\n",
       "      <td>0.373433</td>\n",
       "      <td>1.943878</td>\n",
       "      <td>2020</td>\n",
       "      <td>16</td>\n",
       "    </tr>\n",
       "    <tr>\n",
       "      <th>16</th>\n",
       "      <td>Germany</td>\n",
       "      <td>Western Europe</td>\n",
       "      <td>7.0758</td>\n",
       "      <td>0.035610</td>\n",
       "      <td>7.145595</td>\n",
       "      <td>7.006005</td>\n",
       "      <td>10.732819</td>\n",
       "      <td>0.898874</td>\n",
       "      <td>72.202019</td>\n",
       "      <td>0.867371</td>\n",
       "      <td>...</td>\n",
       "      <td>1.972317</td>\n",
       "      <td>1.314185</td>\n",
       "      <td>1.368544</td>\n",
       "      <td>0.972115</td>\n",
       "      <td>0.564274</td>\n",
       "      <td>0.252038</td>\n",
       "      <td>0.309362</td>\n",
       "      <td>2.295249</td>\n",
       "      <td>2020</td>\n",
       "      <td>17</td>\n",
       "    </tr>\n",
       "    <tr>\n",
       "      <th>17</th>\n",
       "      <td>United States</td>\n",
       "      <td>North America and ANZ</td>\n",
       "      <td>6.9396</td>\n",
       "      <td>0.047316</td>\n",
       "      <td>7.032340</td>\n",
       "      <td>6.846860</td>\n",
       "      <td>10.925769</td>\n",
       "      <td>0.914219</td>\n",
       "      <td>68.299500</td>\n",
       "      <td>0.842620</td>\n",
       "      <td>...</td>\n",
       "      <td>1.972317</td>\n",
       "      <td>1.373987</td>\n",
       "      <td>1.404787</td>\n",
       "      <td>0.831618</td>\n",
       "      <td>0.534608</td>\n",
       "      <td>0.298143</td>\n",
       "      <td>0.152285</td>\n",
       "      <td>2.344125</td>\n",
       "      <td>2020</td>\n",
       "      <td>18</td>\n",
       "    </tr>\n",
       "    <tr>\n",
       "      <th>18</th>\n",
       "      <td>Czech Republic</td>\n",
       "      <td>Central and Eastern Europe</td>\n",
       "      <td>6.9109</td>\n",
       "      <td>0.042891</td>\n",
       "      <td>6.994967</td>\n",
       "      <td>6.826833</td>\n",
       "      <td>10.404163</td>\n",
       "      <td>0.914431</td>\n",
       "      <td>70.047935</td>\n",
       "      <td>0.818537</td>\n",
       "      <td>...</td>\n",
       "      <td>1.972317</td>\n",
       "      <td>1.212322</td>\n",
       "      <td>1.405287</td>\n",
       "      <td>0.894564</td>\n",
       "      <td>0.505745</td>\n",
       "      <td>0.046326</td>\n",
       "      <td>0.049803</td>\n",
       "      <td>2.796808</td>\n",
       "      <td>2020</td>\n",
       "      <td>19</td>\n",
       "    </tr>\n",
       "    <tr>\n",
       "      <th>19</th>\n",
       "      <td>Belgium</td>\n",
       "      <td>Western Europe</td>\n",
       "      <td>6.8635</td>\n",
       "      <td>0.034370</td>\n",
       "      <td>6.930866</td>\n",
       "      <td>6.796134</td>\n",
       "      <td>10.673639</td>\n",
       "      <td>0.911633</td>\n",
       "      <td>72.001648</td>\n",
       "      <td>0.813582</td>\n",
       "      <td>...</td>\n",
       "      <td>1.972317</td>\n",
       "      <td>1.295843</td>\n",
       "      <td>1.398678</td>\n",
       "      <td>0.964901</td>\n",
       "      <td>0.499805</td>\n",
       "      <td>0.146966</td>\n",
       "      <td>0.208724</td>\n",
       "      <td>2.348627</td>\n",
       "      <td>2020</td>\n",
       "      <td>20</td>\n",
       "    </tr>\n",
       "    <tr>\n",
       "      <th>20</th>\n",
       "      <td>United Arab Emirates</td>\n",
       "      <td>Middle East and North Africa</td>\n",
       "      <td>6.7908</td>\n",
       "      <td>0.040698</td>\n",
       "      <td>6.870569</td>\n",
       "      <td>6.711031</td>\n",
       "      <td>11.109999</td>\n",
       "      <td>0.849181</td>\n",
       "      <td>67.082787</td>\n",
       "      <td>0.941346</td>\n",
       "      <td>...</td>\n",
       "      <td>1.972317</td>\n",
       "      <td>1.431086</td>\n",
       "      <td>1.251171</td>\n",
       "      <td>0.787814</td>\n",
       "      <td>0.652936</td>\n",
       "      <td>0.280656</td>\n",
       "      <td>0.220214</td>\n",
       "      <td>2.166966</td>\n",
       "      <td>2020</td>\n",
       "      <td>21</td>\n",
       "    </tr>\n",
       "    <tr>\n",
       "      <th>21</th>\n",
       "      <td>Malta</td>\n",
       "      <td>Western Europe</td>\n",
       "      <td>6.7728</td>\n",
       "      <td>0.042958</td>\n",
       "      <td>6.856998</td>\n",
       "      <td>6.688602</td>\n",
       "      <td>10.533838</td>\n",
       "      <td>0.930380</td>\n",
       "      <td>72.199997</td>\n",
       "      <td>0.924911</td>\n",
       "      <td>...</td>\n",
       "      <td>1.972317</td>\n",
       "      <td>1.252513</td>\n",
       "      <td>1.442957</td>\n",
       "      <td>0.972042</td>\n",
       "      <td>0.633239</td>\n",
       "      <td>0.341181</td>\n",
       "      <td>0.178864</td>\n",
       "      <td>1.952012</td>\n",
       "      <td>2020</td>\n",
       "      <td>22</td>\n",
       "    </tr>\n",
       "    <tr>\n",
       "      <th>22</th>\n",
       "      <td>France</td>\n",
       "      <td>Western Europe</td>\n",
       "      <td>6.6638</td>\n",
       "      <td>0.037577</td>\n",
       "      <td>6.737450</td>\n",
       "      <td>6.590149</td>\n",
       "      <td>10.584223</td>\n",
       "      <td>0.937104</td>\n",
       "      <td>73.801933</td>\n",
       "      <td>0.825468</td>\n",
       "      <td>...</td>\n",
       "      <td>1.972317</td>\n",
       "      <td>1.268129</td>\n",
       "      <td>1.458839</td>\n",
       "      <td>1.029714</td>\n",
       "      <td>0.514051</td>\n",
       "      <td>0.112608</td>\n",
       "      <td>0.227303</td>\n",
       "      <td>2.053198</td>\n",
       "      <td>2020</td>\n",
       "      <td>23</td>\n",
       "    </tr>\n",
       "    <tr>\n",
       "      <th>23</th>\n",
       "      <td>Mexico</td>\n",
       "      <td>Latin America and Caribbean</td>\n",
       "      <td>6.4650</td>\n",
       "      <td>0.048122</td>\n",
       "      <td>6.559320</td>\n",
       "      <td>6.370680</td>\n",
       "      <td>9.797797</td>\n",
       "      <td>0.838665</td>\n",
       "      <td>68.299026</td>\n",
       "      <td>0.858709</td>\n",
       "      <td>...</td>\n",
       "      <td>1.972317</td>\n",
       "      <td>1.024387</td>\n",
       "      <td>1.226333</td>\n",
       "      <td>0.831601</td>\n",
       "      <td>0.553893</td>\n",
       "      <td>0.083094</td>\n",
       "      <td>0.083134</td>\n",
       "      <td>2.662540</td>\n",
       "      <td>2020</td>\n",
       "      <td>24</td>\n",
       "    </tr>\n",
       "    <tr>\n",
       "      <th>24</th>\n",
       "      <td>Taiwan Province of China</td>\n",
       "      <td>East Asia</td>\n",
       "      <td>6.4554</td>\n",
       "      <td>0.039140</td>\n",
       "      <td>6.532114</td>\n",
       "      <td>6.378686</td>\n",
       "      <td>10.775685</td>\n",
       "      <td>0.894309</td>\n",
       "      <td>69.599998</td>\n",
       "      <td>0.771530</td>\n",
       "      <td>...</td>\n",
       "      <td>1.972317</td>\n",
       "      <td>1.327471</td>\n",
       "      <td>1.357761</td>\n",
       "      <td>0.878438</td>\n",
       "      <td>0.449404</td>\n",
       "      <td>0.150599</td>\n",
       "      <td>0.131516</td>\n",
       "      <td>2.160239</td>\n",
       "      <td>2020</td>\n",
       "      <td>25</td>\n",
       "    </tr>\n",
       "    <tr>\n",
       "      <th>25</th>\n",
       "      <td>Uruguay</td>\n",
       "      <td>Latin America and Caribbean</td>\n",
       "      <td>6.4401</td>\n",
       "      <td>0.045419</td>\n",
       "      <td>6.529121</td>\n",
       "      <td>6.351079</td>\n",
       "      <td>9.948193</td>\n",
       "      <td>0.922811</td>\n",
       "      <td>69.002548</td>\n",
       "      <td>0.892395</td>\n",
       "      <td>...</td>\n",
       "      <td>1.972317</td>\n",
       "      <td>1.071000</td>\n",
       "      <td>1.425081</td>\n",
       "      <td>0.856929</td>\n",
       "      <td>0.594267</td>\n",
       "      <td>0.132144</td>\n",
       "      <td>0.193425</td>\n",
       "      <td>2.167276</td>\n",
       "      <td>2020</td>\n",
       "      <td>26</td>\n",
       "    </tr>\n",
       "    <tr>\n",
       "      <th>26</th>\n",
       "      <td>Saudi Arabia</td>\n",
       "      <td>Middle East and North Africa</td>\n",
       "      <td>6.4065</td>\n",
       "      <td>0.056534</td>\n",
       "      <td>6.517306</td>\n",
       "      <td>6.295694</td>\n",
       "      <td>10.797812</td>\n",
       "      <td>0.874067</td>\n",
       "      <td>66.305145</td>\n",
       "      <td>0.854191</td>\n",
       "      <td>...</td>\n",
       "      <td>1.972317</td>\n",
       "      <td>1.334329</td>\n",
       "      <td>1.309950</td>\n",
       "      <td>0.759818</td>\n",
       "      <td>0.548477</td>\n",
       "      <td>0.087441</td>\n",
       "      <td>0.163322</td>\n",
       "      <td>2.203119</td>\n",
       "      <td>2020</td>\n",
       "      <td>27</td>\n",
       "    </tr>\n",
       "    <tr>\n",
       "      <th>27</th>\n",
       "      <td>Spain</td>\n",
       "      <td>Western Europe</td>\n",
       "      <td>6.4009</td>\n",
       "      <td>0.042300</td>\n",
       "      <td>6.483809</td>\n",
       "      <td>6.317991</td>\n",
       "      <td>10.462927</td>\n",
       "      <td>0.921125</td>\n",
       "      <td>74.402710</td>\n",
       "      <td>0.751990</td>\n",
       "      <td>...</td>\n",
       "      <td>1.972317</td>\n",
       "      <td>1.230535</td>\n",
       "      <td>1.421099</td>\n",
       "      <td>1.051343</td>\n",
       "      <td>0.425984</td>\n",
       "      <td>0.165305</td>\n",
       "      <td>0.109580</td>\n",
       "      <td>1.997088</td>\n",
       "      <td>2020</td>\n",
       "      <td>28</td>\n",
       "    </tr>\n",
       "    <tr>\n",
       "      <th>28</th>\n",
       "      <td>Guatemala</td>\n",
       "      <td>Latin America and Caribbean</td>\n",
       "      <td>6.3989</td>\n",
       "      <td>0.058398</td>\n",
       "      <td>6.513361</td>\n",
       "      <td>6.284440</td>\n",
       "      <td>8.924806</td>\n",
       "      <td>0.816621</td>\n",
       "      <td>64.808945</td>\n",
       "      <td>0.908148</td>\n",
       "      <td>...</td>\n",
       "      <td>1.972317</td>\n",
       "      <td>0.753816</td>\n",
       "      <td>1.174267</td>\n",
       "      <td>0.705953</td>\n",
       "      <td>0.613147</td>\n",
       "      <td>0.170612</td>\n",
       "      <td>0.098360</td>\n",
       "      <td>2.882723</td>\n",
       "      <td>2020</td>\n",
       "      <td>29</td>\n",
       "    </tr>\n",
       "    <tr>\n",
       "      <th>29</th>\n",
       "      <td>Italy</td>\n",
       "      <td>Western Europe</td>\n",
       "      <td>6.3874</td>\n",
       "      <td>0.043288</td>\n",
       "      <td>6.472245</td>\n",
       "      <td>6.302556</td>\n",
       "      <td>10.481836</td>\n",
       "      <td>0.889879</td>\n",
       "      <td>73.601685</td>\n",
       "      <td>0.664652</td>\n",
       "      <td>...</td>\n",
       "      <td>1.972317</td>\n",
       "      <td>1.236396</td>\n",
       "      <td>1.347296</td>\n",
       "      <td>1.022505</td>\n",
       "      <td>0.321306</td>\n",
       "      <td>0.170266</td>\n",
       "      <td>0.040146</td>\n",
       "      <td>2.249506</td>\n",
       "      <td>2020</td>\n",
       "      <td>30</td>\n",
       "    </tr>\n",
       "  </tbody>\n",
       "</table>\n",
       "<p>30 rows × 22 columns</p>\n",
       "</div>"
      ],
      "text/plain": [
       "                     Country            Regional indicator   score  \\\n",
       "0                    Finland                Western Europe  7.8087   \n",
       "1                    Denmark                Western Europe  7.6456   \n",
       "2                Switzerland                Western Europe  7.5599   \n",
       "3                    Iceland                Western Europe  7.5045   \n",
       "4                     Norway                Western Europe  7.4880   \n",
       "5                Netherlands                Western Europe  7.4489   \n",
       "6                     Sweden                Western Europe  7.3535   \n",
       "7                New Zealand         North America and ANZ  7.2996   \n",
       "8                    Austria                Western Europe  7.2942   \n",
       "9                 Luxembourg                Western Europe  7.2375   \n",
       "10                    Canada         North America and ANZ  7.2321   \n",
       "11                 Australia         North America and ANZ  7.2228   \n",
       "12            United Kingdom                Western Europe  7.1645   \n",
       "13                    Israel  Middle East and North Africa  7.1286   \n",
       "14                Costa Rica   Latin America and Caribbean  7.1214   \n",
       "15                   Ireland                Western Europe  7.0937   \n",
       "16                   Germany                Western Europe  7.0758   \n",
       "17             United States         North America and ANZ  6.9396   \n",
       "18            Czech Republic    Central and Eastern Europe  6.9109   \n",
       "19                   Belgium                Western Europe  6.8635   \n",
       "20      United Arab Emirates  Middle East and North Africa  6.7908   \n",
       "21                     Malta                Western Europe  6.7728   \n",
       "22                    France                Western Europe  6.6638   \n",
       "23                    Mexico   Latin America and Caribbean  6.4650   \n",
       "24  Taiwan Province of China                     East Asia  6.4554   \n",
       "25                   Uruguay   Latin America and Caribbean  6.4401   \n",
       "26              Saudi Arabia  Middle East and North Africa  6.4065   \n",
       "27                     Spain                Western Europe  6.4009   \n",
       "28                 Guatemala   Latin America and Caribbean  6.3989   \n",
       "29                     Italy                Western Europe  6.3874   \n",
       "\n",
       "    Standard error of ladder score  upperwhisker  lowerwhisker  \\\n",
       "0                         0.031156      7.869766      7.747634   \n",
       "1                         0.033492      7.711245      7.579955   \n",
       "2                         0.035014      7.628528      7.491272   \n",
       "3                         0.059616      7.621347      7.387653   \n",
       "4                         0.034837      7.556281      7.419719   \n",
       "5                         0.027792      7.503372      7.394428   \n",
       "6                         0.036234      7.424519      7.282481   \n",
       "7                         0.039465      7.376953      7.222248   \n",
       "8                         0.033365      7.359596      7.228804   \n",
       "9                         0.030852      7.297970      7.177031   \n",
       "10                        0.040405      7.311295      7.152905   \n",
       "11                        0.041841      7.304808      7.140791   \n",
       "12                        0.037162      7.237338      7.091663   \n",
       "13                        0.042515      7.211930      7.045270   \n",
       "14                        0.044816      7.209239      7.033560   \n",
       "15                        0.039863      7.171832      7.015568   \n",
       "16                        0.035610      7.145595      7.006005   \n",
       "17                        0.047316      7.032340      6.846860   \n",
       "18                        0.042891      6.994967      6.826833   \n",
       "19                        0.034370      6.930866      6.796134   \n",
       "20                        0.040698      6.870569      6.711031   \n",
       "21                        0.042958      6.856998      6.688602   \n",
       "22                        0.037577      6.737450      6.590149   \n",
       "23                        0.048122      6.559320      6.370680   \n",
       "24                        0.039140      6.532114      6.378686   \n",
       "25                        0.045419      6.529121      6.351079   \n",
       "26                        0.056534      6.517306      6.295694   \n",
       "27                        0.042300      6.483809      6.317991   \n",
       "28                        0.058398      6.513361      6.284440   \n",
       "29                        0.043288      6.472245      6.302556   \n",
       "\n",
       "    GDP per capita  Social support  Healthy life expectancy   Freedom  ...  \\\n",
       "0        10.639267        0.954330                71.900825  0.949172  ...   \n",
       "1        10.774001        0.955991                72.402504  0.951444  ...   \n",
       "2        10.979933        0.942847                74.102448  0.921337  ...   \n",
       "3        10.772559        0.974670                73.000000  0.948892  ...   \n",
       "4        11.087804        0.952487                73.200783  0.955750  ...   \n",
       "5        10.812712        0.939139                72.300919  0.908548  ...   \n",
       "6        10.758794        0.926311                72.600769  0.939144  ...   \n",
       "7        10.500943        0.949119                73.202629  0.936217  ...   \n",
       "8        10.742824        0.928046                73.002502  0.899989  ...   \n",
       "9        11.450681        0.906912                72.599998  0.905636  ...   \n",
       "10       10.692369        0.927177                73.601601  0.933913  ...   \n",
       "11       10.720596        0.944855                73.604538  0.915432  ...   \n",
       "12       10.600135        0.936683                72.301605  0.834744  ...   \n",
       "13       10.417525        0.913571                73.200256  0.747581  ...   \n",
       "14        9.658156        0.901546                71.299850  0.934739  ...   \n",
       "15       11.160978        0.942082                72.300789  0.886983  ...   \n",
       "16       10.732819        0.898874                72.202019  0.867371  ...   \n",
       "17       10.925769        0.914219                68.299500  0.842620  ...   \n",
       "18       10.404163        0.914431                70.047935  0.818537  ...   \n",
       "19       10.673639        0.911633                72.001648  0.813582  ...   \n",
       "20       11.109999        0.849181                67.082787  0.941346  ...   \n",
       "21       10.533838        0.930380                72.199997  0.924911  ...   \n",
       "22       10.584223        0.937104                73.801933  0.825468  ...   \n",
       "23        9.797797        0.838665                68.299026  0.858709  ...   \n",
       "24       10.775685        0.894309                69.599998  0.771530  ...   \n",
       "25        9.948193        0.922811                69.002548  0.892395  ...   \n",
       "26       10.797812        0.874067                66.305145  0.854191  ...   \n",
       "27       10.462927        0.921125                74.402710  0.751990  ...   \n",
       "28        8.924806        0.816621                64.808945  0.908148  ...   \n",
       "29       10.481836        0.889879                73.601685  0.664652  ...   \n",
       "\n",
       "    Ladder score in Dystopia  Explained by: Log GDP per capita  \\\n",
       "0                   1.972317                          1.285190   \n",
       "1                   1.972317                          1.326949   \n",
       "2                   1.972317                          1.390774   \n",
       "3                   1.972317                          1.326502   \n",
       "4                   1.972317                          1.424207   \n",
       "5                   1.972317                          1.338946   \n",
       "6                   1.972317                          1.322235   \n",
       "7                   1.972317                          1.242318   \n",
       "8                   1.972317                          1.317286   \n",
       "9                   1.972317                          1.536676   \n",
       "10                  1.972317                          1.301648   \n",
       "11                  1.972317                          1.310396   \n",
       "12                  1.972317                          1.273061   \n",
       "13                  1.972317                          1.216464   \n",
       "14                  1.972317                          0.981108   \n",
       "15                  1.972317                          1.446887   \n",
       "16                  1.972317                          1.314185   \n",
       "17                  1.972317                          1.373987   \n",
       "18                  1.972317                          1.212322   \n",
       "19                  1.972317                          1.295843   \n",
       "20                  1.972317                          1.431086   \n",
       "21                  1.972317                          1.252513   \n",
       "22                  1.972317                          1.268129   \n",
       "23                  1.972317                          1.024387   \n",
       "24                  1.972317                          1.327471   \n",
       "25                  1.972317                          1.071000   \n",
       "26                  1.972317                          1.334329   \n",
       "27                  1.972317                          1.230535   \n",
       "28                  1.972317                          0.753816   \n",
       "29                  1.972317                          1.236396   \n",
       "\n",
       "    Explained by: Social support  Explained by: Healthy life expectancy  \\\n",
       "0                       1.499526                               0.961271   \n",
       "1                       1.503449                               0.979333   \n",
       "2                       1.472403                               1.040533   \n",
       "3                       1.547567                               1.000843   \n",
       "4                       1.495173                               1.008072   \n",
       "5                       1.463646                               0.975675   \n",
       "6                       1.433348                               0.986470   \n",
       "7                       1.487218                               1.008138   \n",
       "8                       1.437445                               1.000934   \n",
       "9                       1.387528                               0.986443   \n",
       "10                      1.435392                               1.022502   \n",
       "11                      1.477146                               1.022608   \n",
       "12                      1.457845                               0.975700   \n",
       "13                      1.403257                               1.008053   \n",
       "14                      1.374854                               0.939635   \n",
       "15                      1.470596                               0.975671   \n",
       "16                      1.368544                               0.972115   \n",
       "17                      1.404787                               0.831618   \n",
       "18                      1.405287                               0.894564   \n",
       "19                      1.398678                               0.964901   \n",
       "20                      1.251171                               0.787814   \n",
       "21                      1.442957                               0.972042   \n",
       "22                      1.458839                               1.029714   \n",
       "23                      1.226333                               0.831601   \n",
       "24                      1.357761                               0.878438   \n",
       "25                      1.425081                               0.856929   \n",
       "26                      1.309950                               0.759818   \n",
       "27                      1.421099                               1.051343   \n",
       "28                      1.174267                               0.705953   \n",
       "29                      1.347296                               1.022505   \n",
       "\n",
       "    Explained by: Freedom to make life choices  Explained by: Generosity  \\\n",
       "0                                     0.662317                  0.159670   \n",
       "1                                     0.665040                  0.242793   \n",
       "2                                     0.628954                  0.269056   \n",
       "3                                     0.661981                  0.362330   \n",
       "4                                     0.670201                  0.287985   \n",
       "5                                     0.613626                  0.336318   \n",
       "6                                     0.650298                  0.272828   \n",
       "7                                     0.646790                  0.325726   \n",
       "8                                     0.603369                  0.255510   \n",
       "9                                     0.610137                  0.195954   \n",
       "10                                    0.644028                  0.281529   \n",
       "11                                    0.621877                  0.324974   \n",
       "12                                    0.525169                  0.373433   \n",
       "13                                    0.420699                  0.266862   \n",
       "14                                    0.645018                  0.131266   \n",
       "15                                    0.587780                  0.295427   \n",
       "16                                    0.564274                  0.252038   \n",
       "17                                    0.534608                  0.298143   \n",
       "18                                    0.505745                  0.046326   \n",
       "19                                    0.499805                  0.146966   \n",
       "20                                    0.652936                  0.280656   \n",
       "21                                    0.633239                  0.341181   \n",
       "22                                    0.514051                  0.112608   \n",
       "23                                    0.553893                  0.083094   \n",
       "24                                    0.449404                  0.150599   \n",
       "25                                    0.594267                  0.132144   \n",
       "26                                    0.548477                  0.087441   \n",
       "27                                    0.425984                  0.165305   \n",
       "28                                    0.613147                  0.170612   \n",
       "29                                    0.321306                  0.170266   \n",
       "\n",
       "    Explained by: Perceptions of corruption  Dystopia + residual  Year  \\\n",
       "0                                  0.477857             2.762835  2020   \n",
       "1                                  0.495260             2.432741  2020   \n",
       "2                                  0.407946             2.350267  2020   \n",
       "3                                  0.144541             2.460688  2020   \n",
       "4                                  0.434101             2.168266  2020   \n",
       "5                                  0.368570             2.352117  2020   \n",
       "6                                  0.442066             2.246299  2020   \n",
       "7                                  0.461268             2.128108  2020   \n",
       "8                                  0.281256             2.398446  2020   \n",
       "9                                  0.367041             2.153700  2020   \n",
       "10                                 0.351702             2.195269  2020   \n",
       "11                                 0.335996             2.129804  2020   \n",
       "12                                 0.322602             2.236722  2020   \n",
       "13                                 0.099898             2.713358  2020   \n",
       "14                                 0.096362             2.953135  2020   \n",
       "15                                 0.373433             1.943878  2020   \n",
       "16                                 0.309362             2.295249  2020   \n",
       "17                                 0.152285             2.344125  2020   \n",
       "18                                 0.049803             2.796808  2020   \n",
       "19                                 0.208724             2.348627  2020   \n",
       "20                                 0.220214             2.166966  2020   \n",
       "21                                 0.178864             1.952012  2020   \n",
       "22                                 0.227303             2.053198  2020   \n",
       "23                                 0.083134             2.662540  2020   \n",
       "24                                 0.131516             2.160239  2020   \n",
       "25                                 0.193425             2.167276  2020   \n",
       "26                                 0.163322             2.203119  2020   \n",
       "27                                 0.109580             1.997088  2020   \n",
       "28                                 0.098360             2.882723  2020   \n",
       "29                                 0.040146             2.249506  2020   \n",
       "\n",
       "    Overall rank  \n",
       "0              1  \n",
       "1              2  \n",
       "2              3  \n",
       "3              4  \n",
       "4              5  \n",
       "5              6  \n",
       "6              7  \n",
       "7              8  \n",
       "8              9  \n",
       "9             10  \n",
       "10            11  \n",
       "11            12  \n",
       "12            13  \n",
       "13            14  \n",
       "14            15  \n",
       "15            16  \n",
       "16            17  \n",
       "17            18  \n",
       "18            19  \n",
       "19            20  \n",
       "20            21  \n",
       "21            22  \n",
       "22            23  \n",
       "23            24  \n",
       "24            25  \n",
       "25            26  \n",
       "26            27  \n",
       "27            28  \n",
       "28            29  \n",
       "29            30  \n",
       "\n",
       "[30 rows x 22 columns]"
      ]
     },
     "execution_count": 37,
     "metadata": {},
     "output_type": "execute_result"
    }
   ],
   "source": [
    "df2020"
   ]
  },
  {
   "cell_type": "code",
   "execution_count": 38,
   "metadata": {},
   "outputs": [],
   "source": [
    " world_happiness_report_2020[\"Overall rank\"] = (world_happiness_report_2020.index + 1) # Happiness Rank (we make it start from 1)"
   ]
  },
  {
   "cell_type": "code",
   "execution_count": 39,
   "metadata": {},
   "outputs": [
    {
     "data": {
      "text/html": [
       "<div>\n",
       "<style scoped>\n",
       "    .dataframe tbody tr th:only-of-type {\n",
       "        vertical-align: middle;\n",
       "    }\n",
       "\n",
       "    .dataframe tbody tr th {\n",
       "        vertical-align: top;\n",
       "    }\n",
       "\n",
       "    .dataframe thead th {\n",
       "        text-align: right;\n",
       "    }\n",
       "</style>\n",
       "<table border=\"1\" class=\"dataframe\">\n",
       "  <thead>\n",
       "    <tr style=\"text-align: right;\">\n",
       "      <th></th>\n",
       "      <th>Country</th>\n",
       "      <th>Regional indicator</th>\n",
       "      <th>score</th>\n",
       "      <th>Standard error of ladder score</th>\n",
       "      <th>upperwhisker</th>\n",
       "      <th>lowerwhisker</th>\n",
       "      <th>GDP per capita</th>\n",
       "      <th>Social support</th>\n",
       "      <th>Healthy life expectancy</th>\n",
       "      <th>Freedom</th>\n",
       "      <th>...</th>\n",
       "      <th>Ladder score in Dystopia</th>\n",
       "      <th>Explained by: Log GDP per capita</th>\n",
       "      <th>Explained by: Social support</th>\n",
       "      <th>Explained by: Healthy life expectancy</th>\n",
       "      <th>Explained by: Freedom to make life choices</th>\n",
       "      <th>Explained by: Generosity</th>\n",
       "      <th>Explained by: Perceptions of corruption</th>\n",
       "      <th>Dystopia + residual</th>\n",
       "      <th>Year</th>\n",
       "      <th>Overall rank</th>\n",
       "    </tr>\n",
       "  </thead>\n",
       "  <tbody>\n",
       "    <tr>\n",
       "      <th>0</th>\n",
       "      <td>Finland</td>\n",
       "      <td>Western Europe</td>\n",
       "      <td>7.8087</td>\n",
       "      <td>0.031156</td>\n",
       "      <td>7.869766</td>\n",
       "      <td>7.747634</td>\n",
       "      <td>10.639267</td>\n",
       "      <td>0.954330</td>\n",
       "      <td>71.900825</td>\n",
       "      <td>0.949172</td>\n",
       "      <td>...</td>\n",
       "      <td>1.972317</td>\n",
       "      <td>1.285190</td>\n",
       "      <td>1.499526</td>\n",
       "      <td>0.961271</td>\n",
       "      <td>0.662317</td>\n",
       "      <td>0.159670</td>\n",
       "      <td>0.477857</td>\n",
       "      <td>2.762835</td>\n",
       "      <td>2020</td>\n",
       "      <td>1</td>\n",
       "    </tr>\n",
       "    <tr>\n",
       "      <th>1</th>\n",
       "      <td>Denmark</td>\n",
       "      <td>Western Europe</td>\n",
       "      <td>7.6456</td>\n",
       "      <td>0.033492</td>\n",
       "      <td>7.711245</td>\n",
       "      <td>7.579955</td>\n",
       "      <td>10.774001</td>\n",
       "      <td>0.955991</td>\n",
       "      <td>72.402504</td>\n",
       "      <td>0.951444</td>\n",
       "      <td>...</td>\n",
       "      <td>1.972317</td>\n",
       "      <td>1.326949</td>\n",
       "      <td>1.503449</td>\n",
       "      <td>0.979333</td>\n",
       "      <td>0.665040</td>\n",
       "      <td>0.242793</td>\n",
       "      <td>0.495260</td>\n",
       "      <td>2.432741</td>\n",
       "      <td>2020</td>\n",
       "      <td>2</td>\n",
       "    </tr>\n",
       "    <tr>\n",
       "      <th>2</th>\n",
       "      <td>Switzerland</td>\n",
       "      <td>Western Europe</td>\n",
       "      <td>7.5599</td>\n",
       "      <td>0.035014</td>\n",
       "      <td>7.628528</td>\n",
       "      <td>7.491272</td>\n",
       "      <td>10.979933</td>\n",
       "      <td>0.942847</td>\n",
       "      <td>74.102448</td>\n",
       "      <td>0.921337</td>\n",
       "      <td>...</td>\n",
       "      <td>1.972317</td>\n",
       "      <td>1.390774</td>\n",
       "      <td>1.472403</td>\n",
       "      <td>1.040533</td>\n",
       "      <td>0.628954</td>\n",
       "      <td>0.269056</td>\n",
       "      <td>0.407946</td>\n",
       "      <td>2.350267</td>\n",
       "      <td>2020</td>\n",
       "      <td>3</td>\n",
       "    </tr>\n",
       "    <tr>\n",
       "      <th>3</th>\n",
       "      <td>Iceland</td>\n",
       "      <td>Western Europe</td>\n",
       "      <td>7.5045</td>\n",
       "      <td>0.059616</td>\n",
       "      <td>7.621347</td>\n",
       "      <td>7.387653</td>\n",
       "      <td>10.772559</td>\n",
       "      <td>0.974670</td>\n",
       "      <td>73.000000</td>\n",
       "      <td>0.948892</td>\n",
       "      <td>...</td>\n",
       "      <td>1.972317</td>\n",
       "      <td>1.326502</td>\n",
       "      <td>1.547567</td>\n",
       "      <td>1.000843</td>\n",
       "      <td>0.661981</td>\n",
       "      <td>0.362330</td>\n",
       "      <td>0.144541</td>\n",
       "      <td>2.460688</td>\n",
       "      <td>2020</td>\n",
       "      <td>4</td>\n",
       "    </tr>\n",
       "    <tr>\n",
       "      <th>4</th>\n",
       "      <td>Norway</td>\n",
       "      <td>Western Europe</td>\n",
       "      <td>7.4880</td>\n",
       "      <td>0.034837</td>\n",
       "      <td>7.556281</td>\n",
       "      <td>7.419719</td>\n",
       "      <td>11.087804</td>\n",
       "      <td>0.952487</td>\n",
       "      <td>73.200783</td>\n",
       "      <td>0.955750</td>\n",
       "      <td>...</td>\n",
       "      <td>1.972317</td>\n",
       "      <td>1.424207</td>\n",
       "      <td>1.495173</td>\n",
       "      <td>1.008072</td>\n",
       "      <td>0.670201</td>\n",
       "      <td>0.287985</td>\n",
       "      <td>0.434101</td>\n",
       "      <td>2.168266</td>\n",
       "      <td>2020</td>\n",
       "      <td>5</td>\n",
       "    </tr>\n",
       "    <tr>\n",
       "      <th>...</th>\n",
       "      <td>...</td>\n",
       "      <td>...</td>\n",
       "      <td>...</td>\n",
       "      <td>...</td>\n",
       "      <td>...</td>\n",
       "      <td>...</td>\n",
       "      <td>...</td>\n",
       "      <td>...</td>\n",
       "      <td>...</td>\n",
       "      <td>...</td>\n",
       "      <td>...</td>\n",
       "      <td>...</td>\n",
       "      <td>...</td>\n",
       "      <td>...</td>\n",
       "      <td>...</td>\n",
       "      <td>...</td>\n",
       "      <td>...</td>\n",
       "      <td>...</td>\n",
       "      <td>...</td>\n",
       "      <td>...</td>\n",
       "      <td>...</td>\n",
       "    </tr>\n",
       "    <tr>\n",
       "      <th>148</th>\n",
       "      <td>Central African Republic</td>\n",
       "      <td>Sub-Saharan Africa</td>\n",
       "      <td>3.4759</td>\n",
       "      <td>0.115183</td>\n",
       "      <td>3.701658</td>\n",
       "      <td>3.250141</td>\n",
       "      <td>6.625160</td>\n",
       "      <td>0.319460</td>\n",
       "      <td>45.200001</td>\n",
       "      <td>0.640881</td>\n",
       "      <td>...</td>\n",
       "      <td>1.972317</td>\n",
       "      <td>0.041072</td>\n",
       "      <td>0.000000</td>\n",
       "      <td>0.000000</td>\n",
       "      <td>0.292814</td>\n",
       "      <td>0.253513</td>\n",
       "      <td>0.028265</td>\n",
       "      <td>2.860198</td>\n",
       "      <td>2020</td>\n",
       "      <td>149</td>\n",
       "    </tr>\n",
       "    <tr>\n",
       "      <th>149</th>\n",
       "      <td>Rwanda</td>\n",
       "      <td>Sub-Saharan Africa</td>\n",
       "      <td>3.3123</td>\n",
       "      <td>0.052425</td>\n",
       "      <td>3.415053</td>\n",
       "      <td>3.209547</td>\n",
       "      <td>7.600104</td>\n",
       "      <td>0.540835</td>\n",
       "      <td>61.098846</td>\n",
       "      <td>0.900589</td>\n",
       "      <td>...</td>\n",
       "      <td>1.972317</td>\n",
       "      <td>0.343243</td>\n",
       "      <td>0.522876</td>\n",
       "      <td>0.572383</td>\n",
       "      <td>0.604088</td>\n",
       "      <td>0.235705</td>\n",
       "      <td>0.485542</td>\n",
       "      <td>0.548445</td>\n",
       "      <td>2020</td>\n",
       "      <td>150</td>\n",
       "    </tr>\n",
       "    <tr>\n",
       "      <th>150</th>\n",
       "      <td>Zimbabwe</td>\n",
       "      <td>Sub-Saharan Africa</td>\n",
       "      <td>3.2992</td>\n",
       "      <td>0.058674</td>\n",
       "      <td>3.414202</td>\n",
       "      <td>3.184198</td>\n",
       "      <td>7.865712</td>\n",
       "      <td>0.763093</td>\n",
       "      <td>55.617260</td>\n",
       "      <td>0.711458</td>\n",
       "      <td>...</td>\n",
       "      <td>1.972317</td>\n",
       "      <td>0.425564</td>\n",
       "      <td>1.047835</td>\n",
       "      <td>0.375038</td>\n",
       "      <td>0.377405</td>\n",
       "      <td>0.151349</td>\n",
       "      <td>0.080929</td>\n",
       "      <td>0.841031</td>\n",
       "      <td>2020</td>\n",
       "      <td>151</td>\n",
       "    </tr>\n",
       "    <tr>\n",
       "      <th>151</th>\n",
       "      <td>South Sudan</td>\n",
       "      <td>Sub-Saharan Africa</td>\n",
       "      <td>2.8166</td>\n",
       "      <td>0.107610</td>\n",
       "      <td>3.027516</td>\n",
       "      <td>2.605684</td>\n",
       "      <td>7.425360</td>\n",
       "      <td>0.553707</td>\n",
       "      <td>51.000000</td>\n",
       "      <td>0.451314</td>\n",
       "      <td>...</td>\n",
       "      <td>1.972317</td>\n",
       "      <td>0.289083</td>\n",
       "      <td>0.553279</td>\n",
       "      <td>0.208809</td>\n",
       "      <td>0.065609</td>\n",
       "      <td>0.209935</td>\n",
       "      <td>0.111157</td>\n",
       "      <td>1.378751</td>\n",
       "      <td>2020</td>\n",
       "      <td>152</td>\n",
       "    </tr>\n",
       "    <tr>\n",
       "      <th>152</th>\n",
       "      <td>Afghanistan</td>\n",
       "      <td>South Asia</td>\n",
       "      <td>2.5669</td>\n",
       "      <td>0.031311</td>\n",
       "      <td>2.628270</td>\n",
       "      <td>2.505530</td>\n",
       "      <td>7.462861</td>\n",
       "      <td>0.470367</td>\n",
       "      <td>52.590000</td>\n",
       "      <td>0.396573</td>\n",
       "      <td>...</td>\n",
       "      <td>1.972317</td>\n",
       "      <td>0.300706</td>\n",
       "      <td>0.356434</td>\n",
       "      <td>0.266052</td>\n",
       "      <td>0.000000</td>\n",
       "      <td>0.135235</td>\n",
       "      <td>0.001226</td>\n",
       "      <td>1.507236</td>\n",
       "      <td>2020</td>\n",
       "      <td>153</td>\n",
       "    </tr>\n",
       "  </tbody>\n",
       "</table>\n",
       "<p>153 rows × 22 columns</p>\n",
       "</div>"
      ],
      "text/plain": [
       "                      Country  Regional indicator   score  \\\n",
       "0                     Finland      Western Europe  7.8087   \n",
       "1                     Denmark      Western Europe  7.6456   \n",
       "2                 Switzerland      Western Europe  7.5599   \n",
       "3                     Iceland      Western Europe  7.5045   \n",
       "4                      Norway      Western Europe  7.4880   \n",
       "..                        ...                 ...     ...   \n",
       "148  Central African Republic  Sub-Saharan Africa  3.4759   \n",
       "149                    Rwanda  Sub-Saharan Africa  3.3123   \n",
       "150                  Zimbabwe  Sub-Saharan Africa  3.2992   \n",
       "151               South Sudan  Sub-Saharan Africa  2.8166   \n",
       "152               Afghanistan          South Asia  2.5669   \n",
       "\n",
       "     Standard error of ladder score  upperwhisker  lowerwhisker  \\\n",
       "0                          0.031156      7.869766      7.747634   \n",
       "1                          0.033492      7.711245      7.579955   \n",
       "2                          0.035014      7.628528      7.491272   \n",
       "3                          0.059616      7.621347      7.387653   \n",
       "4                          0.034837      7.556281      7.419719   \n",
       "..                              ...           ...           ...   \n",
       "148                        0.115183      3.701658      3.250141   \n",
       "149                        0.052425      3.415053      3.209547   \n",
       "150                        0.058674      3.414202      3.184198   \n",
       "151                        0.107610      3.027516      2.605684   \n",
       "152                        0.031311      2.628270      2.505530   \n",
       "\n",
       "     GDP per capita  Social support  Healthy life expectancy   Freedom  ...  \\\n",
       "0         10.639267        0.954330                71.900825  0.949172  ...   \n",
       "1         10.774001        0.955991                72.402504  0.951444  ...   \n",
       "2         10.979933        0.942847                74.102448  0.921337  ...   \n",
       "3         10.772559        0.974670                73.000000  0.948892  ...   \n",
       "4         11.087804        0.952487                73.200783  0.955750  ...   \n",
       "..              ...             ...                      ...       ...  ...   \n",
       "148        6.625160        0.319460                45.200001  0.640881  ...   \n",
       "149        7.600104        0.540835                61.098846  0.900589  ...   \n",
       "150        7.865712        0.763093                55.617260  0.711458  ...   \n",
       "151        7.425360        0.553707                51.000000  0.451314  ...   \n",
       "152        7.462861        0.470367                52.590000  0.396573  ...   \n",
       "\n",
       "     Ladder score in Dystopia  Explained by: Log GDP per capita  \\\n",
       "0                    1.972317                          1.285190   \n",
       "1                    1.972317                          1.326949   \n",
       "2                    1.972317                          1.390774   \n",
       "3                    1.972317                          1.326502   \n",
       "4                    1.972317                          1.424207   \n",
       "..                        ...                               ...   \n",
       "148                  1.972317                          0.041072   \n",
       "149                  1.972317                          0.343243   \n",
       "150                  1.972317                          0.425564   \n",
       "151                  1.972317                          0.289083   \n",
       "152                  1.972317                          0.300706   \n",
       "\n",
       "     Explained by: Social support  Explained by: Healthy life expectancy  \\\n",
       "0                        1.499526                               0.961271   \n",
       "1                        1.503449                               0.979333   \n",
       "2                        1.472403                               1.040533   \n",
       "3                        1.547567                               1.000843   \n",
       "4                        1.495173                               1.008072   \n",
       "..                            ...                                    ...   \n",
       "148                      0.000000                               0.000000   \n",
       "149                      0.522876                               0.572383   \n",
       "150                      1.047835                               0.375038   \n",
       "151                      0.553279                               0.208809   \n",
       "152                      0.356434                               0.266052   \n",
       "\n",
       "     Explained by: Freedom to make life choices  Explained by: Generosity  \\\n",
       "0                                      0.662317                  0.159670   \n",
       "1                                      0.665040                  0.242793   \n",
       "2                                      0.628954                  0.269056   \n",
       "3                                      0.661981                  0.362330   \n",
       "4                                      0.670201                  0.287985   \n",
       "..                                          ...                       ...   \n",
       "148                                    0.292814                  0.253513   \n",
       "149                                    0.604088                  0.235705   \n",
       "150                                    0.377405                  0.151349   \n",
       "151                                    0.065609                  0.209935   \n",
       "152                                    0.000000                  0.135235   \n",
       "\n",
       "     Explained by: Perceptions of corruption  Dystopia + residual  Year  \\\n",
       "0                                   0.477857             2.762835  2020   \n",
       "1                                   0.495260             2.432741  2020   \n",
       "2                                   0.407946             2.350267  2020   \n",
       "3                                   0.144541             2.460688  2020   \n",
       "4                                   0.434101             2.168266  2020   \n",
       "..                                       ...                  ...   ...   \n",
       "148                                 0.028265             2.860198  2020   \n",
       "149                                 0.485542             0.548445  2020   \n",
       "150                                 0.080929             0.841031  2020   \n",
       "151                                 0.111157             1.378751  2020   \n",
       "152                                 0.001226             1.507236  2020   \n",
       "\n",
       "     Overall rank  \n",
       "0               1  \n",
       "1               2  \n",
       "2               3  \n",
       "3               4  \n",
       "4               5  \n",
       "..            ...  \n",
       "148           149  \n",
       "149           150  \n",
       "150           151  \n",
       "151           152  \n",
       "152           153  \n",
       "\n",
       "[153 rows x 22 columns]"
      ]
     },
     "execution_count": 39,
     "metadata": {},
     "output_type": "execute_result"
    }
   ],
   "source": [
    " world_happiness_report_2020"
   ]
  },
  {
   "cell_type": "code",
   "execution_count": 40,
   "metadata": {},
   "outputs": [],
   "source": [
    "Population = [5540720, 5792202, 8654622, 341243,5421241,17134872,10099265,4822233,9006398,625978,37742154,25499884,67886011,8655535,5094118,4937786,83783942,331002651,10708981,11589623,9890402,441543,65273511,128932753,23816775,3473730,34813871,46754778,17915568,60461826]"
   ]
  },
  {
   "cell_type": "code",
   "execution_count": 41,
   "metadata": {},
   "outputs": [],
   "source": [
    "#df2020['Population'] = Population\n",
    "df2020_new = df2020.assign(Population= [5540720, 5792202, 8654622, 341243,5421241,17134872,10099265,4822233,9006398,625978,37742154,25499884,67886011,8655535,5094118,4937786,83783942,331002651,10708981,11589623,9890402,441543,65273511,128932753,23816775,3473730,34813871,46754778,17915568,60461826])"
   ]
  },
  {
   "cell_type": "code",
   "execution_count": 42,
   "metadata": {},
   "outputs": [
    {
     "data": {
      "application/vnd.plotly.v1+json": {
       "config": {
        "linkText": "Export to plot.ly",
        "plotlyServerURL": "https://plot.ly",
        "showLink": false
       },
       "data": [
        {
         "marker": {
          "color": "rgba(100, 20, 120, 0.5)"
         },
         "mode": "markers",
         "name": "2015",
         "text": [
          "Switzerland",
          "Iceland",
          "Denmark",
          "Norway",
          "Canada",
          "Finland",
          "Netherlands",
          "Sweden",
          "New Zealand",
          "Australia",
          "Israel",
          "Costa Rica",
          "Austria",
          "Mexico",
          "United States",
          "Brazil",
          "Luxembourg",
          "Ireland",
          "Belgium",
          "United Arab Emirates",
          "United Kingdom",
          "Oman",
          "Venezuela",
          "Singapore",
          "Panama",
          "Germany",
          "Chile",
          "Qatar",
          "France",
          "Argentina"
         ],
         "type": "scatter",
         "x": [
          1,
          2,
          3,
          4,
          5,
          6,
          7,
          8,
          9,
          10,
          11,
          12,
          13,
          14,
          15,
          16,
          17,
          18,
          19,
          20,
          21,
          22,
          23,
          24,
          25,
          26,
          27,
          28,
          29,
          30
         ],
         "y": [
          7.587000000000001,
          7.561,
          7.527,
          7.522,
          7.4270000000000005,
          7.406000000000001,
          7.377999999999999,
          7.364,
          7.2860000000000005,
          7.284,
          7.278,
          7.226,
          7.2,
          7.187,
          7.119,
          6.983,
          6.946000000000001,
          6.94,
          6.937,
          6.901,
          6.867000000000001,
          6.853,
          6.81,
          6.797999999999999,
          6.7860000000000005,
          6.75,
          6.67,
          6.611000000000001,
          6.575,
          6.574
         ]
        },
        {
         "marker": {
          "color": "rgba(0, 99, 20, 0.6)"
         },
         "mode": "markers",
         "name": "2016",
         "text": [
          "Denmark",
          "Switzerland",
          "Iceland",
          "Norway",
          "Finland",
          "Canada",
          "Netherlands",
          "New Zealand",
          "Australia",
          "Sweden",
          "Israel",
          "Austria",
          "United States",
          "Costa Rica",
          "Puerto Rico",
          "Germany",
          "Brazil",
          "Belgium",
          "Ireland",
          "Luxembourg",
          "Mexico",
          "Singapore",
          "United Kingdom",
          "Chile",
          "Panama",
          "Argentina",
          "Czech Republic",
          "United Arab Emirates",
          "Uruguay",
          "Malta"
         ],
         "type": "scatter",
         "x": [
          1,
          2,
          3,
          4,
          5,
          6,
          7,
          8,
          9,
          10,
          11,
          12,
          13,
          14,
          15,
          16,
          17,
          18,
          19,
          20,
          21,
          22,
          23,
          24,
          25,
          26,
          27,
          28,
          29,
          30
         ],
         "y": [
          7.526,
          7.5089999999999995,
          7.501,
          7.497999999999999,
          7.412999999999999,
          7.404,
          7.3389999999999995,
          7.334,
          7.313,
          7.291,
          7.267,
          7.119,
          7.104,
          7.087000000000001,
          7.039,
          6.994,
          6.952000000000001,
          6.928999999999999,
          6.907,
          6.871,
          6.778,
          6.739,
          6.725,
          6.705,
          6.7010000000000005,
          6.65,
          6.596,
          6.5729999999999995,
          6.545,
          6.4879999999999995
         ]
        },
        {
         "marker": {
          "color": "rgba(0, 0, 200, 0.7)"
         },
         "mode": "markers",
         "name": "2017",
         "text": [
          "Norway",
          "Denmark",
          "Iceland",
          "Switzerland",
          "Finland",
          "Netherlands",
          "Canada",
          "New Zealand",
          "Sweden",
          "Australia",
          "Israel",
          "Costa Rica",
          "Austria",
          "United States",
          "Ireland",
          "Germany",
          "Belgium",
          "Luxembourg",
          "United Kingdom",
          "Chile",
          "United Arab Emirates",
          "Brazil",
          "Czech Republic",
          "Argentina",
          "Mexico",
          "Singapore",
          "Malta",
          "Uruguay",
          "Guatemala",
          "Panama"
         ],
         "type": "scatter",
         "x": [
          1,
          2,
          3,
          4,
          5,
          6,
          7,
          8,
          9,
          10,
          11,
          12,
          13,
          14,
          15,
          16,
          17,
          18,
          19,
          20,
          21,
          22,
          23,
          24,
          25,
          26,
          27,
          28,
          29,
          30
         ],
         "y": [
          7.537000179290769,
          7.52199983596802,
          7.50400018692017,
          7.49399995803833,
          7.468999862670901,
          7.3769998550415,
          7.31599998474121,
          7.31400012969971,
          7.28399991989136,
          7.28399991989136,
          7.212999820709231,
          7.0789999961853,
          7.00600004196167,
          6.993000030517581,
          6.9770002365112305,
          6.9510002136230495,
          6.89099979400635,
          6.86299991607666,
          6.71400022506714,
          6.65199995040894,
          6.6479997634887695,
          6.6350002288818395,
          6.60900020599365,
          6.59899997711182,
          6.57800006866455,
          6.57200002670288,
          6.52699995040894,
          6.4539999961853,
          6.4539999961853,
          6.4520001411438
         ]
        },
        {
         "marker": {
          "color": "rgba(255, 0, 255, 0.8)"
         },
         "mode": "markers",
         "name": "2018",
         "text": [
          "Finland",
          "Norway",
          "Denmark",
          "Iceland",
          "Switzerland",
          "Netherlands",
          "Canada",
          "New Zealand",
          "Sweden",
          "Australia",
          "United Kingdom",
          "Austria",
          "Costa Rica",
          "Ireland",
          "Germany",
          "Belgium",
          "Luxembourg",
          "United States",
          "Israel",
          "United Arab Emirates",
          "Czech Republic",
          "Malta",
          "France",
          "Mexico",
          "Chile",
          "Taiwan",
          "Panama",
          "Brazil",
          "Argentina",
          "Guatemala"
         ],
         "type": "scatter",
         "x": [
          1,
          2,
          3,
          4,
          5,
          6,
          7,
          8,
          9,
          10,
          11,
          12,
          13,
          14,
          15,
          16,
          17,
          18,
          19,
          20,
          21,
          22,
          23,
          24,
          25,
          26,
          27,
          28,
          29,
          30
         ],
         "y": [
          7.632000000000001,
          7.593999999999999,
          7.555,
          7.495,
          7.487,
          7.441,
          7.327999999999999,
          7.324,
          7.314,
          7.272,
          7.19,
          7.138999999999999,
          7.072,
          6.977,
          6.965,
          6.9270000000000005,
          6.91,
          6.886,
          6.814,
          6.774,
          6.711,
          6.627000000000001,
          6.489,
          6.4879999999999995,
          6.476,
          6.441,
          6.43,
          6.419,
          6.388,
          6.382000000000001
         ]
        },
        {
         "marker": {
          "color": "rgba(255, 128, 2, 0.9)"
         },
         "mode": "markers",
         "name": "2019",
         "text": [
          "Finland",
          "Denmark",
          "Norway",
          "Iceland",
          "Netherlands",
          "Switzerland",
          "Sweden",
          "New Zealand",
          "Canada",
          "Austria",
          "Australia",
          "Costa Rica",
          "Israel",
          "Luxembourg",
          "United Kingdom",
          "Ireland",
          "Germany",
          "Belgium",
          "United States",
          "Czech Republic",
          "United Arab Emirates",
          "Malta",
          "Mexico",
          "France",
          "Taiwan",
          "Chile",
          "Guatemala",
          "Saudi Arabia",
          "Qatar",
          "Spain"
         ],
         "type": "scatter",
         "x": [
          1,
          2,
          3,
          4,
          5,
          6,
          7,
          8,
          9,
          10,
          11,
          12,
          13,
          14,
          15,
          16,
          17,
          18,
          19,
          20,
          21,
          22,
          23,
          24,
          25,
          26,
          27,
          28,
          29,
          30
         ],
         "y": [
          7.769,
          7.6,
          7.553999999999999,
          7.494,
          7.4879999999999995,
          7.48,
          7.343,
          7.307,
          7.278,
          7.246,
          7.228,
          7.167000000000001,
          7.138999999999999,
          7.09,
          7.053999999999999,
          7.021,
          6.985,
          6.922999999999999,
          6.892,
          6.852,
          6.825,
          6.726,
          6.595,
          6.5920000000000005,
          6.446000000000001,
          6.444,
          6.436,
          6.375,
          6.374,
          6.354
         ]
        },
        {
         "marker": {
          "color": "rgba(255, 0, 2, 1)"
         },
         "mode": "markers",
         "name": "2020",
         "text": [
          "Finland",
          "Denmark",
          "Switzerland",
          "Iceland",
          "Norway",
          "Netherlands",
          "Sweden",
          "New Zealand",
          "Austria",
          "Luxembourg",
          "Canada",
          "Australia",
          "United Kingdom",
          "Israel",
          "Costa Rica",
          "Ireland",
          "Germany",
          "United States",
          "Czech Republic",
          "Belgium",
          "United Arab Emirates",
          "Malta",
          "France",
          "Mexico",
          "Taiwan Province of China",
          "Uruguay",
          "Saudi Arabia",
          "Spain",
          "Guatemala",
          "Italy"
         ],
         "type": "scatter",
         "x": [
          1,
          2,
          3,
          4,
          5,
          6,
          7,
          8,
          9,
          10,
          11,
          12,
          13,
          14,
          15,
          16,
          17,
          18,
          19,
          20,
          21,
          22,
          23,
          24,
          25,
          26,
          27,
          28,
          29,
          30
         ],
         "y": [
          7.808700085,
          7.645599842,
          7.559899807000001,
          7.504499912000001,
          7.487999916000001,
          7.448900223,
          7.353499889,
          7.2996001239999995,
          7.294199944,
          7.2375001910000005,
          7.23210001,
          7.222799778,
          7.164500237,
          7.128600121,
          7.121399879,
          7.093699932000001,
          7.075799942000001,
          6.939599991000001,
          6.9109001160000005,
          6.863500117999999,
          6.790800095,
          6.772799968999999,
          6.663799762999999,
          6.465000152999999,
          6.45539999,
          6.440100192999999,
          6.406499863,
          6.4008998870000005,
          6.398900032,
          6.38740015
         ]
        },
        {
         "marker": {
          "color": "rgba(255, 0, 20, 1)"
         },
         "mode": "markers",
         "name": "2021",
         "text": [
          "Finland",
          "Denmark",
          "Switzerland",
          "Iceland",
          "Netherlands",
          "Norway",
          "Sweden",
          "Luxembourg",
          "New Zealand",
          "Austria",
          "Australia",
          "Israel",
          "Germany",
          "Canada",
          "Ireland",
          "Costa Rica",
          "United Kingdom",
          "Czech Republic",
          "United States",
          "Belgium",
          "France",
          "Bahrain",
          "Malta",
          "Taiwan Province of China",
          "United Arab Emirates",
          "Saudi Arabia",
          "Spain",
          "Italy",
          "Slovenia",
          "Guatemala"
         ],
         "type": "scatter",
         "x": [
          1,
          2,
          3,
          4,
          5,
          6,
          7,
          8,
          9,
          10,
          11,
          12,
          13,
          14,
          15,
          16,
          17,
          18,
          19,
          20,
          21,
          22,
          23,
          24,
          25,
          26,
          27,
          28,
          29,
          30
         ],
         "y": [
          7.8420000000000005,
          7.62,
          7.571000000000001,
          7.553999999999999,
          7.4639999999999995,
          7.392,
          7.3629999999999995,
          7.324,
          7.277,
          7.268,
          7.183,
          7.157,
          7.155,
          7.103,
          7.085,
          7.069,
          7.064,
          6.965,
          6.9510000000000005,
          6.834,
          6.69,
          6.647,
          6.602,
          6.584,
          6.561,
          6.494,
          6.4910000000000005,
          6.483,
          6.461,
          6.435
         ]
        }
       ],
       "layout": {
        "template": {
         "data": {
          "bar": [
           {
            "error_x": {
             "color": "#2a3f5f"
            },
            "error_y": {
             "color": "#2a3f5f"
            },
            "marker": {
             "line": {
              "color": "#E5ECF6",
              "width": 0.5
             }
            },
            "type": "bar"
           }
          ],
          "barpolar": [
           {
            "marker": {
             "line": {
              "color": "#E5ECF6",
              "width": 0.5
             }
            },
            "type": "barpolar"
           }
          ],
          "carpet": [
           {
            "aaxis": {
             "endlinecolor": "#2a3f5f",
             "gridcolor": "white",
             "linecolor": "white",
             "minorgridcolor": "white",
             "startlinecolor": "#2a3f5f"
            },
            "baxis": {
             "endlinecolor": "#2a3f5f",
             "gridcolor": "white",
             "linecolor": "white",
             "minorgridcolor": "white",
             "startlinecolor": "#2a3f5f"
            },
            "type": "carpet"
           }
          ],
          "choropleth": [
           {
            "colorbar": {
             "outlinewidth": 0,
             "ticks": ""
            },
            "type": "choropleth"
           }
          ],
          "contour": [
           {
            "colorbar": {
             "outlinewidth": 0,
             "ticks": ""
            },
            "colorscale": [
             [
              0,
              "#0d0887"
             ],
             [
              0.1111111111111111,
              "#46039f"
             ],
             [
              0.2222222222222222,
              "#7201a8"
             ],
             [
              0.3333333333333333,
              "#9c179e"
             ],
             [
              0.4444444444444444,
              "#bd3786"
             ],
             [
              0.5555555555555556,
              "#d8576b"
             ],
             [
              0.6666666666666666,
              "#ed7953"
             ],
             [
              0.7777777777777778,
              "#fb9f3a"
             ],
             [
              0.8888888888888888,
              "#fdca26"
             ],
             [
              1,
              "#f0f921"
             ]
            ],
            "type": "contour"
           }
          ],
          "contourcarpet": [
           {
            "colorbar": {
             "outlinewidth": 0,
             "ticks": ""
            },
            "type": "contourcarpet"
           }
          ],
          "heatmap": [
           {
            "colorbar": {
             "outlinewidth": 0,
             "ticks": ""
            },
            "colorscale": [
             [
              0,
              "#0d0887"
             ],
             [
              0.1111111111111111,
              "#46039f"
             ],
             [
              0.2222222222222222,
              "#7201a8"
             ],
             [
              0.3333333333333333,
              "#9c179e"
             ],
             [
              0.4444444444444444,
              "#bd3786"
             ],
             [
              0.5555555555555556,
              "#d8576b"
             ],
             [
              0.6666666666666666,
              "#ed7953"
             ],
             [
              0.7777777777777778,
              "#fb9f3a"
             ],
             [
              0.8888888888888888,
              "#fdca26"
             ],
             [
              1,
              "#f0f921"
             ]
            ],
            "type": "heatmap"
           }
          ],
          "heatmapgl": [
           {
            "colorbar": {
             "outlinewidth": 0,
             "ticks": ""
            },
            "colorscale": [
             [
              0,
              "#0d0887"
             ],
             [
              0.1111111111111111,
              "#46039f"
             ],
             [
              0.2222222222222222,
              "#7201a8"
             ],
             [
              0.3333333333333333,
              "#9c179e"
             ],
             [
              0.4444444444444444,
              "#bd3786"
             ],
             [
              0.5555555555555556,
              "#d8576b"
             ],
             [
              0.6666666666666666,
              "#ed7953"
             ],
             [
              0.7777777777777778,
              "#fb9f3a"
             ],
             [
              0.8888888888888888,
              "#fdca26"
             ],
             [
              1,
              "#f0f921"
             ]
            ],
            "type": "heatmapgl"
           }
          ],
          "histogram": [
           {
            "marker": {
             "colorbar": {
              "outlinewidth": 0,
              "ticks": ""
             }
            },
            "type": "histogram"
           }
          ],
          "histogram2d": [
           {
            "colorbar": {
             "outlinewidth": 0,
             "ticks": ""
            },
            "colorscale": [
             [
              0,
              "#0d0887"
             ],
             [
              0.1111111111111111,
              "#46039f"
             ],
             [
              0.2222222222222222,
              "#7201a8"
             ],
             [
              0.3333333333333333,
              "#9c179e"
             ],
             [
              0.4444444444444444,
              "#bd3786"
             ],
             [
              0.5555555555555556,
              "#d8576b"
             ],
             [
              0.6666666666666666,
              "#ed7953"
             ],
             [
              0.7777777777777778,
              "#fb9f3a"
             ],
             [
              0.8888888888888888,
              "#fdca26"
             ],
             [
              1,
              "#f0f921"
             ]
            ],
            "type": "histogram2d"
           }
          ],
          "histogram2dcontour": [
           {
            "colorbar": {
             "outlinewidth": 0,
             "ticks": ""
            },
            "colorscale": [
             [
              0,
              "#0d0887"
             ],
             [
              0.1111111111111111,
              "#46039f"
             ],
             [
              0.2222222222222222,
              "#7201a8"
             ],
             [
              0.3333333333333333,
              "#9c179e"
             ],
             [
              0.4444444444444444,
              "#bd3786"
             ],
             [
              0.5555555555555556,
              "#d8576b"
             ],
             [
              0.6666666666666666,
              "#ed7953"
             ],
             [
              0.7777777777777778,
              "#fb9f3a"
             ],
             [
              0.8888888888888888,
              "#fdca26"
             ],
             [
              1,
              "#f0f921"
             ]
            ],
            "type": "histogram2dcontour"
           }
          ],
          "mesh3d": [
           {
            "colorbar": {
             "outlinewidth": 0,
             "ticks": ""
            },
            "type": "mesh3d"
           }
          ],
          "parcoords": [
           {
            "line": {
             "colorbar": {
              "outlinewidth": 0,
              "ticks": ""
             }
            },
            "type": "parcoords"
           }
          ],
          "pie": [
           {
            "automargin": true,
            "type": "pie"
           }
          ],
          "scatter": [
           {
            "marker": {
             "colorbar": {
              "outlinewidth": 0,
              "ticks": ""
             }
            },
            "type": "scatter"
           }
          ],
          "scatter3d": [
           {
            "line": {
             "colorbar": {
              "outlinewidth": 0,
              "ticks": ""
             }
            },
            "marker": {
             "colorbar": {
              "outlinewidth": 0,
              "ticks": ""
             }
            },
            "type": "scatter3d"
           }
          ],
          "scattercarpet": [
           {
            "marker": {
             "colorbar": {
              "outlinewidth": 0,
              "ticks": ""
             }
            },
            "type": "scattercarpet"
           }
          ],
          "scattergeo": [
           {
            "marker": {
             "colorbar": {
              "outlinewidth": 0,
              "ticks": ""
             }
            },
            "type": "scattergeo"
           }
          ],
          "scattergl": [
           {
            "marker": {
             "colorbar": {
              "outlinewidth": 0,
              "ticks": ""
             }
            },
            "type": "scattergl"
           }
          ],
          "scattermapbox": [
           {
            "marker": {
             "colorbar": {
              "outlinewidth": 0,
              "ticks": ""
             }
            },
            "type": "scattermapbox"
           }
          ],
          "scatterpolar": [
           {
            "marker": {
             "colorbar": {
              "outlinewidth": 0,
              "ticks": ""
             }
            },
            "type": "scatterpolar"
           }
          ],
          "scatterpolargl": [
           {
            "marker": {
             "colorbar": {
              "outlinewidth": 0,
              "ticks": ""
             }
            },
            "type": "scatterpolargl"
           }
          ],
          "scatterternary": [
           {
            "marker": {
             "colorbar": {
              "outlinewidth": 0,
              "ticks": ""
             }
            },
            "type": "scatterternary"
           }
          ],
          "surface": [
           {
            "colorbar": {
             "outlinewidth": 0,
             "ticks": ""
            },
            "colorscale": [
             [
              0,
              "#0d0887"
             ],
             [
              0.1111111111111111,
              "#46039f"
             ],
             [
              0.2222222222222222,
              "#7201a8"
             ],
             [
              0.3333333333333333,
              "#9c179e"
             ],
             [
              0.4444444444444444,
              "#bd3786"
             ],
             [
              0.5555555555555556,
              "#d8576b"
             ],
             [
              0.6666666666666666,
              "#ed7953"
             ],
             [
              0.7777777777777778,
              "#fb9f3a"
             ],
             [
              0.8888888888888888,
              "#fdca26"
             ],
             [
              1,
              "#f0f921"
             ]
            ],
            "type": "surface"
           }
          ],
          "table": [
           {
            "cells": {
             "fill": {
              "color": "#EBF0F8"
             },
             "line": {
              "color": "white"
             }
            },
            "header": {
             "fill": {
              "color": "#C8D4E3"
             },
             "line": {
              "color": "white"
             }
            },
            "type": "table"
           }
          ]
         },
         "layout": {
          "annotationdefaults": {
           "arrowcolor": "#2a3f5f",
           "arrowhead": 0,
           "arrowwidth": 1
          },
          "autotypenumbers": "strict",
          "coloraxis": {
           "colorbar": {
            "outlinewidth": 0,
            "ticks": ""
           }
          },
          "colorscale": {
           "diverging": [
            [
             0,
             "#8e0152"
            ],
            [
             0.1,
             "#c51b7d"
            ],
            [
             0.2,
             "#de77ae"
            ],
            [
             0.3,
             "#f1b6da"
            ],
            [
             0.4,
             "#fde0ef"
            ],
            [
             0.5,
             "#f7f7f7"
            ],
            [
             0.6,
             "#e6f5d0"
            ],
            [
             0.7,
             "#b8e186"
            ],
            [
             0.8,
             "#7fbc41"
            ],
            [
             0.9,
             "#4d9221"
            ],
            [
             1,
             "#276419"
            ]
           ],
           "sequential": [
            [
             0,
             "#0d0887"
            ],
            [
             0.1111111111111111,
             "#46039f"
            ],
            [
             0.2222222222222222,
             "#7201a8"
            ],
            [
             0.3333333333333333,
             "#9c179e"
            ],
            [
             0.4444444444444444,
             "#bd3786"
            ],
            [
             0.5555555555555556,
             "#d8576b"
            ],
            [
             0.6666666666666666,
             "#ed7953"
            ],
            [
             0.7777777777777778,
             "#fb9f3a"
            ],
            [
             0.8888888888888888,
             "#fdca26"
            ],
            [
             1,
             "#f0f921"
            ]
           ],
           "sequentialminus": [
            [
             0,
             "#0d0887"
            ],
            [
             0.1111111111111111,
             "#46039f"
            ],
            [
             0.2222222222222222,
             "#7201a8"
            ],
            [
             0.3333333333333333,
             "#9c179e"
            ],
            [
             0.4444444444444444,
             "#bd3786"
            ],
            [
             0.5555555555555556,
             "#d8576b"
            ],
            [
             0.6666666666666666,
             "#ed7953"
            ],
            [
             0.7777777777777778,
             "#fb9f3a"
            ],
            [
             0.8888888888888888,
             "#fdca26"
            ],
            [
             1,
             "#f0f921"
            ]
           ]
          },
          "colorway": [
           "#636efa",
           "#EF553B",
           "#00cc96",
           "#ab63fa",
           "#FFA15A",
           "#19d3f3",
           "#FF6692",
           "#B6E880",
           "#FF97FF",
           "#FECB52"
          ],
          "font": {
           "color": "#2a3f5f"
          },
          "geo": {
           "bgcolor": "white",
           "lakecolor": "white",
           "landcolor": "#E5ECF6",
           "showlakes": true,
           "showland": true,
           "subunitcolor": "white"
          },
          "hoverlabel": {
           "align": "left"
          },
          "hovermode": "closest",
          "mapbox": {
           "style": "light"
          },
          "paper_bgcolor": "white",
          "plot_bgcolor": "#E5ECF6",
          "polar": {
           "angularaxis": {
            "gridcolor": "white",
            "linecolor": "white",
            "ticks": ""
           },
           "bgcolor": "#E5ECF6",
           "radialaxis": {
            "gridcolor": "white",
            "linecolor": "white",
            "ticks": ""
           }
          },
          "scene": {
           "xaxis": {
            "backgroundcolor": "#E5ECF6",
            "gridcolor": "white",
            "gridwidth": 2,
            "linecolor": "white",
            "showbackground": true,
            "ticks": "",
            "zerolinecolor": "white"
           },
           "yaxis": {
            "backgroundcolor": "#E5ECF6",
            "gridcolor": "white",
            "gridwidth": 2,
            "linecolor": "white",
            "showbackground": true,
            "ticks": "",
            "zerolinecolor": "white"
           },
           "zaxis": {
            "backgroundcolor": "#E5ECF6",
            "gridcolor": "white",
            "gridwidth": 2,
            "linecolor": "white",
            "showbackground": true,
            "ticks": "",
            "zerolinecolor": "white"
           }
          },
          "shapedefaults": {
           "line": {
            "color": "#2a3f5f"
           }
          },
          "ternary": {
           "aaxis": {
            "gridcolor": "white",
            "linecolor": "white",
            "ticks": ""
           },
           "baxis": {
            "gridcolor": "white",
            "linecolor": "white",
            "ticks": ""
           },
           "bgcolor": "#E5ECF6",
           "caxis": {
            "gridcolor": "white",
            "linecolor": "white",
            "ticks": ""
           }
          },
          "title": {
           "x": 0.05
          },
          "xaxis": {
           "automargin": true,
           "gridcolor": "white",
           "linecolor": "white",
           "ticks": "",
           "title": {
            "standoff": 15
           },
           "zerolinecolor": "white",
           "zerolinewidth": 2
          },
          "yaxis": {
           "automargin": true,
           "gridcolor": "white",
           "linecolor": "white",
           "ticks": "",
           "title": {
            "standoff": 15
           },
           "zerolinecolor": "white",
           "zerolinewidth": 2
          }
         }
        },
        "title": {
         "text": "Happiness ranking of the top 30 countries with 2015,2016,2017,2018,2019,2020 years"
        },
        "xaxis": {
         "ticklen": 5,
         "title": {
          "text": "Happiness Ranking"
         },
         "zeroline": false
        },
        "yaxis": {
         "ticklen": 5,
         "title": {
          "text": "Happiness Score"
         },
         "zeroline": false
        }
       }
      },
      "text/html": [
       "<div>                            <div id=\"872d1028-6503-4a9d-be21-f7caca433c6a\" class=\"plotly-graph-div\" style=\"height:525px; width:100%;\"></div>            <script type=\"text/javascript\">                require([\"plotly\"], function(Plotly) {                    window.PLOTLYENV=window.PLOTLYENV || {};                                    if (document.getElementById(\"872d1028-6503-4a9d-be21-f7caca433c6a\")) {                    Plotly.newPlot(                        \"872d1028-6503-4a9d-be21-f7caca433c6a\",                        [{\"marker\": {\"color\": \"rgba(100, 20, 120, 0.5)\"}, \"mode\": \"markers\", \"name\": \"2015\", \"text\": [\"Switzerland\", \"Iceland\", \"Denmark\", \"Norway\", \"Canada\", \"Finland\", \"Netherlands\", \"Sweden\", \"New Zealand\", \"Australia\", \"Israel\", \"Costa Rica\", \"Austria\", \"Mexico\", \"United States\", \"Brazil\", \"Luxembourg\", \"Ireland\", \"Belgium\", \"United Arab Emirates\", \"United Kingdom\", \"Oman\", \"Venezuela\", \"Singapore\", \"Panama\", \"Germany\", \"Chile\", \"Qatar\", \"France\", \"Argentina\"], \"type\": \"scatter\", \"x\": [1, 2, 3, 4, 5, 6, 7, 8, 9, 10, 11, 12, 13, 14, 15, 16, 17, 18, 19, 20, 21, 22, 23, 24, 25, 26, 27, 28, 29, 30], \"y\": [7.587000000000001, 7.561, 7.527, 7.522, 7.4270000000000005, 7.406000000000001, 7.377999999999999, 7.364, 7.2860000000000005, 7.284, 7.278, 7.226, 7.2, 7.187, 7.119, 6.983, 6.946000000000001, 6.94, 6.937, 6.901, 6.867000000000001, 6.853, 6.81, 6.797999999999999, 6.7860000000000005, 6.75, 6.67, 6.611000000000001, 6.575, 6.574]}, {\"marker\": {\"color\": \"rgba(0, 99, 20, 0.6)\"}, \"mode\": \"markers\", \"name\": \"2016\", \"text\": [\"Denmark\", \"Switzerland\", \"Iceland\", \"Norway\", \"Finland\", \"Canada\", \"Netherlands\", \"New Zealand\", \"Australia\", \"Sweden\", \"Israel\", \"Austria\", \"United States\", \"Costa Rica\", \"Puerto Rico\", \"Germany\", \"Brazil\", \"Belgium\", \"Ireland\", \"Luxembourg\", \"Mexico\", \"Singapore\", \"United Kingdom\", \"Chile\", \"Panama\", \"Argentina\", \"Czech Republic\", \"United Arab Emirates\", \"Uruguay\", \"Malta\"], \"type\": \"scatter\", \"x\": [1, 2, 3, 4, 5, 6, 7, 8, 9, 10, 11, 12, 13, 14, 15, 16, 17, 18, 19, 20, 21, 22, 23, 24, 25, 26, 27, 28, 29, 30], \"y\": [7.526, 7.5089999999999995, 7.501, 7.497999999999999, 7.412999999999999, 7.404, 7.3389999999999995, 7.334, 7.313, 7.291, 7.267, 7.119, 7.104, 7.087000000000001, 7.039, 6.994, 6.952000000000001, 6.928999999999999, 6.907, 6.871, 6.778, 6.739, 6.725, 6.705, 6.7010000000000005, 6.65, 6.596, 6.5729999999999995, 6.545, 6.4879999999999995]}, {\"marker\": {\"color\": \"rgba(0, 0, 200, 0.7)\"}, \"mode\": \"markers\", \"name\": \"2017\", \"text\": [\"Norway\", \"Denmark\", \"Iceland\", \"Switzerland\", \"Finland\", \"Netherlands\", \"Canada\", \"New Zealand\", \"Sweden\", \"Australia\", \"Israel\", \"Costa Rica\", \"Austria\", \"United States\", \"Ireland\", \"Germany\", \"Belgium\", \"Luxembourg\", \"United Kingdom\", \"Chile\", \"United Arab Emirates\", \"Brazil\", \"Czech Republic\", \"Argentina\", \"Mexico\", \"Singapore\", \"Malta\", \"Uruguay\", \"Guatemala\", \"Panama\"], \"type\": \"scatter\", \"x\": [1, 2, 3, 4, 5, 6, 7, 8, 9, 10, 11, 12, 13, 14, 15, 16, 17, 18, 19, 20, 21, 22, 23, 24, 25, 26, 27, 28, 29, 30], \"y\": [7.537000179290769, 7.52199983596802, 7.50400018692017, 7.49399995803833, 7.468999862670901, 7.3769998550415, 7.31599998474121, 7.31400012969971, 7.28399991989136, 7.28399991989136, 7.212999820709231, 7.0789999961853, 7.00600004196167, 6.993000030517581, 6.9770002365112305, 6.9510002136230495, 6.89099979400635, 6.86299991607666, 6.71400022506714, 6.65199995040894, 6.6479997634887695, 6.6350002288818395, 6.60900020599365, 6.59899997711182, 6.57800006866455, 6.57200002670288, 6.52699995040894, 6.4539999961853, 6.4539999961853, 6.4520001411438]}, {\"marker\": {\"color\": \"rgba(255, 0, 255, 0.8)\"}, \"mode\": \"markers\", \"name\": \"2018\", \"text\": [\"Finland\", \"Norway\", \"Denmark\", \"Iceland\", \"Switzerland\", \"Netherlands\", \"Canada\", \"New Zealand\", \"Sweden\", \"Australia\", \"United Kingdom\", \"Austria\", \"Costa Rica\", \"Ireland\", \"Germany\", \"Belgium\", \"Luxembourg\", \"United States\", \"Israel\", \"United Arab Emirates\", \"Czech Republic\", \"Malta\", \"France\", \"Mexico\", \"Chile\", \"Taiwan\", \"Panama\", \"Brazil\", \"Argentina\", \"Guatemala\"], \"type\": \"scatter\", \"x\": [1, 2, 3, 4, 5, 6, 7, 8, 9, 10, 11, 12, 13, 14, 15, 16, 17, 18, 19, 20, 21, 22, 23, 24, 25, 26, 27, 28, 29, 30], \"y\": [7.632000000000001, 7.593999999999999, 7.555, 7.495, 7.487, 7.441, 7.327999999999999, 7.324, 7.314, 7.272, 7.19, 7.138999999999999, 7.072, 6.977, 6.965, 6.9270000000000005, 6.91, 6.886, 6.814, 6.774, 6.711, 6.627000000000001, 6.489, 6.4879999999999995, 6.476, 6.441, 6.43, 6.419, 6.388, 6.382000000000001]}, {\"marker\": {\"color\": \"rgba(255, 128, 2, 0.9)\"}, \"mode\": \"markers\", \"name\": \"2019\", \"text\": [\"Finland\", \"Denmark\", \"Norway\", \"Iceland\", \"Netherlands\", \"Switzerland\", \"Sweden\", \"New Zealand\", \"Canada\", \"Austria\", \"Australia\", \"Costa Rica\", \"Israel\", \"Luxembourg\", \"United Kingdom\", \"Ireland\", \"Germany\", \"Belgium\", \"United States\", \"Czech Republic\", \"United Arab Emirates\", \"Malta\", \"Mexico\", \"France\", \"Taiwan\", \"Chile\", \"Guatemala\", \"Saudi Arabia\", \"Qatar\", \"Spain\"], \"type\": \"scatter\", \"x\": [1, 2, 3, 4, 5, 6, 7, 8, 9, 10, 11, 12, 13, 14, 15, 16, 17, 18, 19, 20, 21, 22, 23, 24, 25, 26, 27, 28, 29, 30], \"y\": [7.769, 7.6, 7.553999999999999, 7.494, 7.4879999999999995, 7.48, 7.343, 7.307, 7.278, 7.246, 7.228, 7.167000000000001, 7.138999999999999, 7.09, 7.053999999999999, 7.021, 6.985, 6.922999999999999, 6.892, 6.852, 6.825, 6.726, 6.595, 6.5920000000000005, 6.446000000000001, 6.444, 6.436, 6.375, 6.374, 6.354]}, {\"marker\": {\"color\": \"rgba(255, 0, 2, 1)\"}, \"mode\": \"markers\", \"name\": \"2020\", \"text\": [\"Finland\", \"Denmark\", \"Switzerland\", \"Iceland\", \"Norway\", \"Netherlands\", \"Sweden\", \"New Zealand\", \"Austria\", \"Luxembourg\", \"Canada\", \"Australia\", \"United Kingdom\", \"Israel\", \"Costa Rica\", \"Ireland\", \"Germany\", \"United States\", \"Czech Republic\", \"Belgium\", \"United Arab Emirates\", \"Malta\", \"France\", \"Mexico\", \"Taiwan Province of China\", \"Uruguay\", \"Saudi Arabia\", \"Spain\", \"Guatemala\", \"Italy\"], \"type\": \"scatter\", \"x\": [1, 2, 3, 4, 5, 6, 7, 8, 9, 10, 11, 12, 13, 14, 15, 16, 17, 18, 19, 20, 21, 22, 23, 24, 25, 26, 27, 28, 29, 30], \"y\": [7.808700085, 7.645599842, 7.559899807000001, 7.504499912000001, 7.487999916000001, 7.448900223, 7.353499889, 7.2996001239999995, 7.294199944, 7.2375001910000005, 7.23210001, 7.222799778, 7.164500237, 7.128600121, 7.121399879, 7.093699932000001, 7.075799942000001, 6.939599991000001, 6.9109001160000005, 6.863500117999999, 6.790800095, 6.772799968999999, 6.663799762999999, 6.465000152999999, 6.45539999, 6.440100192999999, 6.406499863, 6.4008998870000005, 6.398900032, 6.38740015]}, {\"marker\": {\"color\": \"rgba(255, 0, 20, 1)\"}, \"mode\": \"markers\", \"name\": \"2021\", \"text\": [\"Finland\", \"Denmark\", \"Switzerland\", \"Iceland\", \"Netherlands\", \"Norway\", \"Sweden\", \"Luxembourg\", \"New Zealand\", \"Austria\", \"Australia\", \"Israel\", \"Germany\", \"Canada\", \"Ireland\", \"Costa Rica\", \"United Kingdom\", \"Czech Republic\", \"United States\", \"Belgium\", \"France\", \"Bahrain\", \"Malta\", \"Taiwan Province of China\", \"United Arab Emirates\", \"Saudi Arabia\", \"Spain\", \"Italy\", \"Slovenia\", \"Guatemala\"], \"type\": \"scatter\", \"x\": [1, 2, 3, 4, 5, 6, 7, 8, 9, 10, 11, 12, 13, 14, 15, 16, 17, 18, 19, 20, 21, 22, 23, 24, 25, 26, 27, 28, 29, 30], \"y\": [7.8420000000000005, 7.62, 7.571000000000001, 7.553999999999999, 7.4639999999999995, 7.392, 7.3629999999999995, 7.324, 7.277, 7.268, 7.183, 7.157, 7.155, 7.103, 7.085, 7.069, 7.064, 6.965, 6.9510000000000005, 6.834, 6.69, 6.647, 6.602, 6.584, 6.561, 6.494, 6.4910000000000005, 6.483, 6.461, 6.435]}],                        {\"template\": {\"data\": {\"bar\": [{\"error_x\": {\"color\": \"#2a3f5f\"}, \"error_y\": {\"color\": \"#2a3f5f\"}, \"marker\": {\"line\": {\"color\": \"#E5ECF6\", \"width\": 0.5}}, \"type\": \"bar\"}], \"barpolar\": [{\"marker\": {\"line\": {\"color\": \"#E5ECF6\", \"width\": 0.5}}, \"type\": \"barpolar\"}], \"carpet\": [{\"aaxis\": {\"endlinecolor\": \"#2a3f5f\", \"gridcolor\": \"white\", \"linecolor\": \"white\", \"minorgridcolor\": \"white\", \"startlinecolor\": \"#2a3f5f\"}, \"baxis\": {\"endlinecolor\": \"#2a3f5f\", \"gridcolor\": \"white\", \"linecolor\": \"white\", \"minorgridcolor\": \"white\", \"startlinecolor\": \"#2a3f5f\"}, \"type\": \"carpet\"}], \"choropleth\": [{\"colorbar\": {\"outlinewidth\": 0, \"ticks\": \"\"}, \"type\": \"choropleth\"}], \"contour\": [{\"colorbar\": {\"outlinewidth\": 0, \"ticks\": \"\"}, \"colorscale\": [[0.0, \"#0d0887\"], [0.1111111111111111, \"#46039f\"], [0.2222222222222222, \"#7201a8\"], [0.3333333333333333, \"#9c179e\"], [0.4444444444444444, \"#bd3786\"], [0.5555555555555556, \"#d8576b\"], [0.6666666666666666, \"#ed7953\"], [0.7777777777777778, \"#fb9f3a\"], [0.8888888888888888, \"#fdca26\"], [1.0, \"#f0f921\"]], \"type\": \"contour\"}], \"contourcarpet\": [{\"colorbar\": {\"outlinewidth\": 0, \"ticks\": \"\"}, \"type\": \"contourcarpet\"}], \"heatmap\": [{\"colorbar\": {\"outlinewidth\": 0, \"ticks\": \"\"}, \"colorscale\": [[0.0, \"#0d0887\"], [0.1111111111111111, \"#46039f\"], [0.2222222222222222, \"#7201a8\"], [0.3333333333333333, \"#9c179e\"], [0.4444444444444444, \"#bd3786\"], [0.5555555555555556, \"#d8576b\"], [0.6666666666666666, \"#ed7953\"], [0.7777777777777778, \"#fb9f3a\"], [0.8888888888888888, \"#fdca26\"], [1.0, \"#f0f921\"]], \"type\": \"heatmap\"}], \"heatmapgl\": [{\"colorbar\": {\"outlinewidth\": 0, \"ticks\": \"\"}, \"colorscale\": [[0.0, \"#0d0887\"], [0.1111111111111111, \"#46039f\"], [0.2222222222222222, \"#7201a8\"], [0.3333333333333333, \"#9c179e\"], [0.4444444444444444, \"#bd3786\"], [0.5555555555555556, \"#d8576b\"], [0.6666666666666666, \"#ed7953\"], [0.7777777777777778, \"#fb9f3a\"], [0.8888888888888888, \"#fdca26\"], [1.0, \"#f0f921\"]], \"type\": \"heatmapgl\"}], \"histogram\": [{\"marker\": {\"colorbar\": {\"outlinewidth\": 0, \"ticks\": \"\"}}, \"type\": \"histogram\"}], \"histogram2d\": [{\"colorbar\": {\"outlinewidth\": 0, \"ticks\": \"\"}, \"colorscale\": [[0.0, \"#0d0887\"], [0.1111111111111111, \"#46039f\"], [0.2222222222222222, \"#7201a8\"], [0.3333333333333333, \"#9c179e\"], [0.4444444444444444, \"#bd3786\"], [0.5555555555555556, \"#d8576b\"], [0.6666666666666666, \"#ed7953\"], [0.7777777777777778, \"#fb9f3a\"], [0.8888888888888888, \"#fdca26\"], [1.0, \"#f0f921\"]], \"type\": \"histogram2d\"}], \"histogram2dcontour\": [{\"colorbar\": {\"outlinewidth\": 0, \"ticks\": \"\"}, \"colorscale\": [[0.0, \"#0d0887\"], [0.1111111111111111, \"#46039f\"], [0.2222222222222222, \"#7201a8\"], [0.3333333333333333, \"#9c179e\"], [0.4444444444444444, \"#bd3786\"], [0.5555555555555556, \"#d8576b\"], [0.6666666666666666, \"#ed7953\"], [0.7777777777777778, \"#fb9f3a\"], [0.8888888888888888, \"#fdca26\"], [1.0, \"#f0f921\"]], \"type\": \"histogram2dcontour\"}], \"mesh3d\": [{\"colorbar\": {\"outlinewidth\": 0, \"ticks\": \"\"}, \"type\": \"mesh3d\"}], \"parcoords\": [{\"line\": {\"colorbar\": {\"outlinewidth\": 0, \"ticks\": \"\"}}, \"type\": \"parcoords\"}], \"pie\": [{\"automargin\": true, \"type\": \"pie\"}], \"scatter\": [{\"marker\": {\"colorbar\": {\"outlinewidth\": 0, \"ticks\": \"\"}}, \"type\": \"scatter\"}], \"scatter3d\": [{\"line\": {\"colorbar\": {\"outlinewidth\": 0, \"ticks\": \"\"}}, \"marker\": {\"colorbar\": {\"outlinewidth\": 0, \"ticks\": \"\"}}, \"type\": \"scatter3d\"}], \"scattercarpet\": [{\"marker\": {\"colorbar\": {\"outlinewidth\": 0, \"ticks\": \"\"}}, \"type\": \"scattercarpet\"}], \"scattergeo\": [{\"marker\": {\"colorbar\": {\"outlinewidth\": 0, \"ticks\": \"\"}}, \"type\": \"scattergeo\"}], \"scattergl\": [{\"marker\": {\"colorbar\": {\"outlinewidth\": 0, \"ticks\": \"\"}}, \"type\": \"scattergl\"}], \"scattermapbox\": [{\"marker\": {\"colorbar\": {\"outlinewidth\": 0, \"ticks\": \"\"}}, \"type\": \"scattermapbox\"}], \"scatterpolar\": [{\"marker\": {\"colorbar\": {\"outlinewidth\": 0, \"ticks\": \"\"}}, \"type\": \"scatterpolar\"}], \"scatterpolargl\": [{\"marker\": {\"colorbar\": {\"outlinewidth\": 0, \"ticks\": \"\"}}, \"type\": \"scatterpolargl\"}], \"scatterternary\": [{\"marker\": {\"colorbar\": {\"outlinewidth\": 0, \"ticks\": \"\"}}, \"type\": \"scatterternary\"}], \"surface\": [{\"colorbar\": {\"outlinewidth\": 0, \"ticks\": \"\"}, \"colorscale\": [[0.0, \"#0d0887\"], [0.1111111111111111, \"#46039f\"], [0.2222222222222222, \"#7201a8\"], [0.3333333333333333, \"#9c179e\"], [0.4444444444444444, \"#bd3786\"], [0.5555555555555556, \"#d8576b\"], [0.6666666666666666, \"#ed7953\"], [0.7777777777777778, \"#fb9f3a\"], [0.8888888888888888, \"#fdca26\"], [1.0, \"#f0f921\"]], \"type\": \"surface\"}], \"table\": [{\"cells\": {\"fill\": {\"color\": \"#EBF0F8\"}, \"line\": {\"color\": \"white\"}}, \"header\": {\"fill\": {\"color\": \"#C8D4E3\"}, \"line\": {\"color\": \"white\"}}, \"type\": \"table\"}]}, \"layout\": {\"annotationdefaults\": {\"arrowcolor\": \"#2a3f5f\", \"arrowhead\": 0, \"arrowwidth\": 1}, \"autotypenumbers\": \"strict\", \"coloraxis\": {\"colorbar\": {\"outlinewidth\": 0, \"ticks\": \"\"}}, \"colorscale\": {\"diverging\": [[0, \"#8e0152\"], [0.1, \"#c51b7d\"], [0.2, \"#de77ae\"], [0.3, \"#f1b6da\"], [0.4, \"#fde0ef\"], [0.5, \"#f7f7f7\"], [0.6, \"#e6f5d0\"], [0.7, \"#b8e186\"], [0.8, \"#7fbc41\"], [0.9, \"#4d9221\"], [1, \"#276419\"]], \"sequential\": [[0.0, \"#0d0887\"], [0.1111111111111111, \"#46039f\"], [0.2222222222222222, \"#7201a8\"], [0.3333333333333333, \"#9c179e\"], [0.4444444444444444, \"#bd3786\"], [0.5555555555555556, \"#d8576b\"], [0.6666666666666666, \"#ed7953\"], [0.7777777777777778, \"#fb9f3a\"], [0.8888888888888888, \"#fdca26\"], [1.0, \"#f0f921\"]], \"sequentialminus\": [[0.0, \"#0d0887\"], [0.1111111111111111, \"#46039f\"], [0.2222222222222222, \"#7201a8\"], [0.3333333333333333, \"#9c179e\"], [0.4444444444444444, \"#bd3786\"], [0.5555555555555556, \"#d8576b\"], [0.6666666666666666, \"#ed7953\"], [0.7777777777777778, \"#fb9f3a\"], [0.8888888888888888, \"#fdca26\"], [1.0, \"#f0f921\"]]}, \"colorway\": [\"#636efa\", \"#EF553B\", \"#00cc96\", \"#ab63fa\", \"#FFA15A\", \"#19d3f3\", \"#FF6692\", \"#B6E880\", \"#FF97FF\", \"#FECB52\"], \"font\": {\"color\": \"#2a3f5f\"}, \"geo\": {\"bgcolor\": \"white\", \"lakecolor\": \"white\", \"landcolor\": \"#E5ECF6\", \"showlakes\": true, \"showland\": true, \"subunitcolor\": \"white\"}, \"hoverlabel\": {\"align\": \"left\"}, \"hovermode\": \"closest\", \"mapbox\": {\"style\": \"light\"}, \"paper_bgcolor\": \"white\", \"plot_bgcolor\": \"#E5ECF6\", \"polar\": {\"angularaxis\": {\"gridcolor\": \"white\", \"linecolor\": \"white\", \"ticks\": \"\"}, \"bgcolor\": \"#E5ECF6\", \"radialaxis\": {\"gridcolor\": \"white\", \"linecolor\": \"white\", \"ticks\": \"\"}}, \"scene\": {\"xaxis\": {\"backgroundcolor\": \"#E5ECF6\", \"gridcolor\": \"white\", \"gridwidth\": 2, \"linecolor\": \"white\", \"showbackground\": true, \"ticks\": \"\", \"zerolinecolor\": \"white\"}, \"yaxis\": {\"backgroundcolor\": \"#E5ECF6\", \"gridcolor\": \"white\", \"gridwidth\": 2, \"linecolor\": \"white\", \"showbackground\": true, \"ticks\": \"\", \"zerolinecolor\": \"white\"}, \"zaxis\": {\"backgroundcolor\": \"#E5ECF6\", \"gridcolor\": \"white\", \"gridwidth\": 2, \"linecolor\": \"white\", \"showbackground\": true, \"ticks\": \"\", \"zerolinecolor\": \"white\"}}, \"shapedefaults\": {\"line\": {\"color\": \"#2a3f5f\"}}, \"ternary\": {\"aaxis\": {\"gridcolor\": \"white\", \"linecolor\": \"white\", \"ticks\": \"\"}, \"baxis\": {\"gridcolor\": \"white\", \"linecolor\": \"white\", \"ticks\": \"\"}, \"bgcolor\": \"#E5ECF6\", \"caxis\": {\"gridcolor\": \"white\", \"linecolor\": \"white\", \"ticks\": \"\"}}, \"title\": {\"x\": 0.05}, \"xaxis\": {\"automargin\": true, \"gridcolor\": \"white\", \"linecolor\": \"white\", \"ticks\": \"\", \"title\": {\"standoff\": 15}, \"zerolinecolor\": \"white\", \"zerolinewidth\": 2}, \"yaxis\": {\"automargin\": true, \"gridcolor\": \"white\", \"linecolor\": \"white\", \"ticks\": \"\", \"title\": {\"standoff\": 15}, \"zerolinecolor\": \"white\", \"zerolinewidth\": 2}}}, \"title\": {\"text\": \"Happiness ranking of the top 30 countries with 2015,2016,2017,2018,2019,2020 years\"}, \"xaxis\": {\"ticklen\": 5, \"title\": {\"text\": \"Happiness Ranking\"}, \"zeroline\": false}, \"yaxis\": {\"ticklen\": 5, \"title\": {\"text\": \"Happiness Score\"}, \"zeroline\": false}},                        {\"responsive\": true}                    ).then(function(){\n",
       "                            \n",
       "var gd = document.getElementById('872d1028-6503-4a9d-be21-f7caca433c6a');\n",
       "var x = new MutationObserver(function (mutations, observer) {{\n",
       "        var display = window.getComputedStyle(gd).display;\n",
       "        if (!display || display === 'none') {{\n",
       "            console.log([gd, 'removed!']);\n",
       "            Plotly.purge(gd);\n",
       "            observer.disconnect();\n",
       "        }}\n",
       "}});\n",
       "\n",
       "// Listen for the removal of the full notebook cells\n",
       "var notebookContainer = gd.closest('#notebook-container');\n",
       "if (notebookContainer) {{\n",
       "    x.observe(notebookContainer, {childList: true});\n",
       "}}\n",
       "\n",
       "// Listen for the clearing of the current output cell\n",
       "var outputEl = gd.closest('.output');\n",
       "if (outputEl) {{\n",
       "    x.observe(outputEl, {childList: true});\n",
       "}}\n",
       "\n",
       "                        })                };                });            </script>        </div>"
      ]
     },
     "metadata": {},
     "output_type": "display_data"
    }
   ],
   "source": [
    "# creating trace1(year 2015)\n",
    "trace1 =go.Scatter(\n",
    "                    x = df2015[\"Overall rank\"], # world ranking\n",
    "                    y = df2015[\"score\"],\n",
    "                    mode = \"markers\",\n",
    "                    name = \"2015\",\n",
    "                    marker = dict(color = 'rgba(100, 20, 120, 0.5)'),\n",
    "                    text= df2015[\"Country\"])\n",
    "# creating trace2(year 2016)\n",
    "trace2 =go.Scatter(\n",
    "                    x = df2016[\"Overall rank\"], # world ranking\n",
    "                    y = df2016[\"score\"],\n",
    "                    mode = \"markers\",\n",
    "                    name = \"2016\",\n",
    "                    marker = dict(color = 'rgba(0, 99, 20, 0.6)'),\n",
    "                    text= df2016[\"Country\"])\n",
    "# creating trace3(year 2017)\n",
    "trace3 =go.Scatter(\n",
    "                    x = df2017[\"Overall rank\"], # world ranking\n",
    "                    y = df2017[\"score\"],\n",
    "                    mode = \"markers\",\n",
    "                    name = \"2017\",\n",
    "                    marker = dict(color = 'rgba(0, 0, 200, 0.7)'),\n",
    "                    text= df2017[\"Country\"])\n",
    "# creating trace4(year 2018)\n",
    "trace4 =go.Scatter(\n",
    "                    x = df2018[\"Overall rank\"], # world ranking\n",
    "                    y = df2018[\"score\"],\n",
    "                    mode = \"markers\",\n",
    "                    name = \"2018\",\n",
    "                    marker = dict(color = 'rgba(255, 0, 255, 0.8)'),\n",
    "                    text= df2018[\"Country\"])\n",
    "# creating trace5(year 2019)\n",
    "trace5 =go.Scatter(\n",
    "                    x = df2019[\"Overall rank\"], # world ranking\n",
    "                    y = df2019[\"score\"],\n",
    "                    mode = \"markers\",\n",
    "                    name = \"2019\",\n",
    "                        marker = dict(color = 'rgba(255, 128, 2, 0.9)'),\n",
    "                    text= df2019[\"Country\"])\n",
    "# creating trace6(year 2020)\n",
    "trace6 =go.Scatter(\n",
    "                    x = df2020[\"Overall rank\"], # world ranking\n",
    "                    y = df2020[\"score\"],\n",
    "                    mode = \"markers\",\n",
    "                    name = \"2020\",\n",
    "                    marker = dict(color = 'rgba(255, 0, 2, 1)'),\n",
    "                    text= df2020[\"Country\"])\n",
    "# creating trace7(year 2021)\n",
    "trace7 =go.Scatter(\n",
    "                    x = df2021[\"Overall rank\"], # world ranking\n",
    "                    y = df2021[\"score\"],\n",
    "                    mode = \"markers\",\n",
    "                    name = \"2021\",\n",
    "                    marker = dict(color = 'rgba(255, 0, 20, 1)'),\n",
    "                    text= df2021[\"Country\"])\n",
    "\n",
    "# We combine traces\n",
    "data = [trace1, trace2, trace3, trace4, trace5, trace6, trace7]\n",
    "layout = dict(title = 'Happiness ranking of the top 30 countries with 2015,2016,2017,2018,2019,2020 years',\n",
    "              xaxis= dict(title= 'Happiness Ranking',ticklen= 5,zeroline= False),\n",
    "              yaxis= dict(title= 'Happiness Score',ticklen= 5,zeroline= False))\n",
    "\n",
    "# We combine our data and layout\n",
    "# create figure\n",
    "fig = go.Figure(data = data, layout = layout)\n",
    "iplot(fig)"
   ]
  },
  {
   "cell_type": "markdown",
   "metadata": {},
   "source": [
    "2020 PLOT"
   ]
  },
  {
   "cell_type": "code",
   "execution_count": 43,
   "metadata": {},
   "outputs": [
    {
     "data": {
      "application/vnd.plotly.v1+json": {
       "config": {
        "plotlyServerURL": "https://plot.ly"
       },
       "data": [
        {
         "hovertemplate": "<b>%{hovertext}</b><br><br>Country=Finland<br>GDP per capita=%{x}<br>Healthy life expectancy=%{y}<br>Population=%{marker.size}<extra></extra>",
         "hovertext": [
          "Finland"
         ],
         "legendgroup": "Finland",
         "marker": {
          "color": "#636efa",
          "size": [
           5540720
          ],
          "sizemode": "area",
          "sizeref": 91945.18083333333,
          "symbol": "circle"
         },
         "mode": "markers",
         "name": "Finland",
         "orientation": "v",
         "showlegend": true,
         "type": "scatter",
         "x": [
          10.63926697
         ],
         "xaxis": "x",
         "y": [
          71.9008255
         ],
         "yaxis": "y"
        },
        {
         "hovertemplate": "<b>%{hovertext}</b><br><br>Country=Denmark<br>GDP per capita=%{x}<br>Healthy life expectancy=%{y}<br>Population=%{marker.size}<extra></extra>",
         "hovertext": [
          "Denmark"
         ],
         "legendgroup": "Denmark",
         "marker": {
          "color": "#EF553B",
          "size": [
           5792202
          ],
          "sizemode": "area",
          "sizeref": 91945.18083333333,
          "symbol": "circle"
         },
         "mode": "markers",
         "name": "Denmark",
         "orientation": "v",
         "showlegend": true,
         "type": "scatter",
         "x": [
          10.77400112
         ],
         "xaxis": "x",
         "y": [
          72.40250397
         ],
         "yaxis": "y"
        },
        {
         "hovertemplate": "<b>%{hovertext}</b><br><br>Country=Switzerland<br>GDP per capita=%{x}<br>Healthy life expectancy=%{y}<br>Population=%{marker.size}<extra></extra>",
         "hovertext": [
          "Switzerland"
         ],
         "legendgroup": "Switzerland",
         "marker": {
          "color": "#00cc96",
          "size": [
           8654622
          ],
          "sizemode": "area",
          "sizeref": 91945.18083333333,
          "symbol": "circle"
         },
         "mode": "markers",
         "name": "Switzerland",
         "orientation": "v",
         "showlegend": true,
         "type": "scatter",
         "x": [
          10.97993279
         ],
         "xaxis": "x",
         "y": [
          74.10244751
         ],
         "yaxis": "y"
        },
        {
         "hovertemplate": "<b>%{hovertext}</b><br><br>Country=Iceland<br>GDP per capita=%{x}<br>Healthy life expectancy=%{y}<br>Population=%{marker.size}<extra></extra>",
         "hovertext": [
          "Iceland"
         ],
         "legendgroup": "Iceland",
         "marker": {
          "color": "#ab63fa",
          "size": [
           341243
          ],
          "sizemode": "area",
          "sizeref": 91945.18083333333,
          "symbol": "circle"
         },
         "mode": "markers",
         "name": "Iceland",
         "orientation": "v",
         "showlegend": true,
         "type": "scatter",
         "x": [
          10.77255917
         ],
         "xaxis": "x",
         "y": [
          73
         ],
         "yaxis": "y"
        },
        {
         "hovertemplate": "<b>%{hovertext}</b><br><br>Country=Norway<br>GDP per capita=%{x}<br>Healthy life expectancy=%{y}<br>Population=%{marker.size}<extra></extra>",
         "hovertext": [
          "Norway"
         ],
         "legendgroup": "Norway",
         "marker": {
          "color": "#FFA15A",
          "size": [
           5421241
          ],
          "sizemode": "area",
          "sizeref": 91945.18083333333,
          "symbol": "circle"
         },
         "mode": "markers",
         "name": "Norway",
         "orientation": "v",
         "showlegend": true,
         "type": "scatter",
         "x": [
          11.08780384
         ],
         "xaxis": "x",
         "y": [
          73.20078278
         ],
         "yaxis": "y"
        },
        {
         "hovertemplate": "<b>%{hovertext}</b><br><br>Country=Netherlands<br>GDP per capita=%{x}<br>Healthy life expectancy=%{y}<br>Population=%{marker.size}<extra></extra>",
         "hovertext": [
          "Netherlands"
         ],
         "legendgroup": "Netherlands",
         "marker": {
          "color": "#19d3f3",
          "size": [
           17134872
          ],
          "sizemode": "area",
          "sizeref": 91945.18083333333,
          "symbol": "circle"
         },
         "mode": "markers",
         "name": "Netherlands",
         "orientation": "v",
         "showlegend": true,
         "type": "scatter",
         "x": [
          10.81271172
         ],
         "xaxis": "x",
         "y": [
          72.30091858
         ],
         "yaxis": "y"
        },
        {
         "hovertemplate": "<b>%{hovertext}</b><br><br>Country=Sweden<br>GDP per capita=%{x}<br>Healthy life expectancy=%{y}<br>Population=%{marker.size}<extra></extra>",
         "hovertext": [
          "Sweden"
         ],
         "legendgroup": "Sweden",
         "marker": {
          "color": "#FF6692",
          "size": [
           10099265
          ],
          "sizemode": "area",
          "sizeref": 91945.18083333333,
          "symbol": "circle"
         },
         "mode": "markers",
         "name": "Sweden",
         "orientation": "v",
         "showlegend": true,
         "type": "scatter",
         "x": [
          10.75879383
         ],
         "xaxis": "x",
         "y": [
          72.60076904
         ],
         "yaxis": "y"
        },
        {
         "hovertemplate": "<b>%{hovertext}</b><br><br>Country=New Zealand<br>GDP per capita=%{x}<br>Healthy life expectancy=%{y}<br>Population=%{marker.size}<extra></extra>",
         "hovertext": [
          "New Zealand"
         ],
         "legendgroup": "New Zealand",
         "marker": {
          "color": "#B6E880",
          "size": [
           4822233
          ],
          "sizemode": "area",
          "sizeref": 91945.18083333333,
          "symbol": "circle"
         },
         "mode": "markers",
         "name": "New Zealand",
         "orientation": "v",
         "showlegend": true,
         "type": "scatter",
         "x": [
          10.50094318
         ],
         "xaxis": "x",
         "y": [
          73.20262909
         ],
         "yaxis": "y"
        },
        {
         "hovertemplate": "<b>%{hovertext}</b><br><br>Country=Austria<br>GDP per capita=%{x}<br>Healthy life expectancy=%{y}<br>Population=%{marker.size}<extra></extra>",
         "hovertext": [
          "Austria"
         ],
         "legendgroup": "Austria",
         "marker": {
          "color": "#FF97FF",
          "size": [
           9006398
          ],
          "sizemode": "area",
          "sizeref": 91945.18083333333,
          "symbol": "circle"
         },
         "mode": "markers",
         "name": "Austria",
         "orientation": "v",
         "showlegend": true,
         "type": "scatter",
         "x": [
          10.7428236
         ],
         "xaxis": "x",
         "y": [
          73.00250244
         ],
         "yaxis": "y"
        },
        {
         "hovertemplate": "<b>%{hovertext}</b><br><br>Country=Luxembourg<br>GDP per capita=%{x}<br>Healthy life expectancy=%{y}<br>Population=%{marker.size}<extra></extra>",
         "hovertext": [
          "Luxembourg"
         ],
         "legendgroup": "Luxembourg",
         "marker": {
          "color": "#FECB52",
          "size": [
           625978
          ],
          "sizemode": "area",
          "sizeref": 91945.18083333333,
          "symbol": "circle"
         },
         "mode": "markers",
         "name": "Luxembourg",
         "orientation": "v",
         "showlegend": true,
         "type": "scatter",
         "x": [
          11.45068073
         ],
         "xaxis": "x",
         "y": [
          72.59999847
         ],
         "yaxis": "y"
        },
        {
         "hovertemplate": "<b>%{hovertext}</b><br><br>Country=Canada<br>GDP per capita=%{x}<br>Healthy life expectancy=%{y}<br>Population=%{marker.size}<extra></extra>",
         "hovertext": [
          "Canada"
         ],
         "legendgroup": "Canada",
         "marker": {
          "color": "#636efa",
          "size": [
           37742154
          ],
          "sizemode": "area",
          "sizeref": 91945.18083333333,
          "symbol": "circle"
         },
         "mode": "markers",
         "name": "Canada",
         "orientation": "v",
         "showlegend": true,
         "type": "scatter",
         "x": [
          10.69236851
         ],
         "xaxis": "x",
         "y": [
          73.60160065
         ],
         "yaxis": "y"
        },
        {
         "hovertemplate": "<b>%{hovertext}</b><br><br>Country=Australia<br>GDP per capita=%{x}<br>Healthy life expectancy=%{y}<br>Population=%{marker.size}<extra></extra>",
         "hovertext": [
          "Australia"
         ],
         "legendgroup": "Australia",
         "marker": {
          "color": "#EF553B",
          "size": [
           25499884
          ],
          "sizemode": "area",
          "sizeref": 91945.18083333333,
          "symbol": "circle"
         },
         "mode": "markers",
         "name": "Australia",
         "orientation": "v",
         "showlegend": true,
         "type": "scatter",
         "x": [
          10.72059631
         ],
         "xaxis": "x",
         "y": [
          73.60453796
         ],
         "yaxis": "y"
        },
        {
         "hovertemplate": "<b>%{hovertext}</b><br><br>Country=United Kingdom<br>GDP per capita=%{x}<br>Healthy life expectancy=%{y}<br>Population=%{marker.size}<extra></extra>",
         "hovertext": [
          "United Kingdom"
         ],
         "legendgroup": "United Kingdom",
         "marker": {
          "color": "#00cc96",
          "size": [
           67886011
          ],
          "sizemode": "area",
          "sizeref": 91945.18083333333,
          "symbol": "circle"
         },
         "mode": "markers",
         "name": "United Kingdom",
         "orientation": "v",
         "showlegend": true,
         "type": "scatter",
         "x": [
          10.60013485
         ],
         "xaxis": "x",
         "y": [
          72.30160522
         ],
         "yaxis": "y"
        },
        {
         "hovertemplate": "<b>%{hovertext}</b><br><br>Country=Israel<br>GDP per capita=%{x}<br>Healthy life expectancy=%{y}<br>Population=%{marker.size}<extra></extra>",
         "hovertext": [
          "Israel"
         ],
         "legendgroup": "Israel",
         "marker": {
          "color": "#ab63fa",
          "size": [
           8655535
          ],
          "sizemode": "area",
          "sizeref": 91945.18083333333,
          "symbol": "circle"
         },
         "mode": "markers",
         "name": "Israel",
         "orientation": "v",
         "showlegend": true,
         "type": "scatter",
         "x": [
          10.41752529
         ],
         "xaxis": "x",
         "y": [
          73.20025635
         ],
         "yaxis": "y"
        },
        {
         "hovertemplate": "<b>%{hovertext}</b><br><br>Country=Costa Rica<br>GDP per capita=%{x}<br>Healthy life expectancy=%{y}<br>Population=%{marker.size}<extra></extra>",
         "hovertext": [
          "Costa Rica"
         ],
         "legendgroup": "Costa Rica",
         "marker": {
          "color": "#FFA15A",
          "size": [
           5094118
          ],
          "sizemode": "area",
          "sizeref": 91945.18083333333,
          "symbol": "circle"
         },
         "mode": "markers",
         "name": "Costa Rica",
         "orientation": "v",
         "showlegend": true,
         "type": "scatter",
         "x": [
          9.658156395
         ],
         "xaxis": "x",
         "y": [
          71.29985046
         ],
         "yaxis": "y"
        },
        {
         "hovertemplate": "<b>%{hovertext}</b><br><br>Country=Ireland<br>GDP per capita=%{x}<br>Healthy life expectancy=%{y}<br>Population=%{marker.size}<extra></extra>",
         "hovertext": [
          "Ireland"
         ],
         "legendgroup": "Ireland",
         "marker": {
          "color": "#19d3f3",
          "size": [
           4937786
          ],
          "sizemode": "area",
          "sizeref": 91945.18083333333,
          "symbol": "circle"
         },
         "mode": "markers",
         "name": "Ireland",
         "orientation": "v",
         "showlegend": true,
         "type": "scatter",
         "x": [
          11.16097832
         ],
         "xaxis": "x",
         "y": [
          72.30078888
         ],
         "yaxis": "y"
        },
        {
         "hovertemplate": "<b>%{hovertext}</b><br><br>Country=Germany<br>GDP per capita=%{x}<br>Healthy life expectancy=%{y}<br>Population=%{marker.size}<extra></extra>",
         "hovertext": [
          "Germany"
         ],
         "legendgroup": "Germany",
         "marker": {
          "color": "#FF6692",
          "size": [
           83783942
          ],
          "sizemode": "area",
          "sizeref": 91945.18083333333,
          "symbol": "circle"
         },
         "mode": "markers",
         "name": "Germany",
         "orientation": "v",
         "showlegend": true,
         "type": "scatter",
         "x": [
          10.7328186
         ],
         "xaxis": "x",
         "y": [
          72.20201874
         ],
         "yaxis": "y"
        },
        {
         "hovertemplate": "<b>%{hovertext}</b><br><br>Country=United States<br>GDP per capita=%{x}<br>Healthy life expectancy=%{y}<br>Population=%{marker.size}<extra></extra>",
         "hovertext": [
          "United States"
         ],
         "legendgroup": "United States",
         "marker": {
          "color": "#B6E880",
          "size": [
           331002651
          ],
          "sizemode": "area",
          "sizeref": 91945.18083333333,
          "symbol": "circle"
         },
         "mode": "markers",
         "name": "United States",
         "orientation": "v",
         "showlegend": true,
         "type": "scatter",
         "x": [
          10.92576885
         ],
         "xaxis": "x",
         "y": [
          68.29949951
         ],
         "yaxis": "y"
        },
        {
         "hovertemplate": "<b>%{hovertext}</b><br><br>Country=Czech Republic<br>GDP per capita=%{x}<br>Healthy life expectancy=%{y}<br>Population=%{marker.size}<extra></extra>",
         "hovertext": [
          "Czech Republic"
         ],
         "legendgroup": "Czech Republic",
         "marker": {
          "color": "#FF97FF",
          "size": [
           10708981
          ],
          "sizemode": "area",
          "sizeref": 91945.18083333333,
          "symbol": "circle"
         },
         "mode": "markers",
         "name": "Czech Republic",
         "orientation": "v",
         "showlegend": true,
         "type": "scatter",
         "x": [
          10.40416336
         ],
         "xaxis": "x",
         "y": [
          70.04793549
         ],
         "yaxis": "y"
        },
        {
         "hovertemplate": "<b>%{hovertext}</b><br><br>Country=Belgium<br>GDP per capita=%{x}<br>Healthy life expectancy=%{y}<br>Population=%{marker.size}<extra></extra>",
         "hovertext": [
          "Belgium"
         ],
         "legendgroup": "Belgium",
         "marker": {
          "color": "#FECB52",
          "size": [
           11589623
          ],
          "sizemode": "area",
          "sizeref": 91945.18083333333,
          "symbol": "circle"
         },
         "mode": "markers",
         "name": "Belgium",
         "orientation": "v",
         "showlegend": true,
         "type": "scatter",
         "x": [
          10.673639300000001
         ],
         "xaxis": "x",
         "y": [
          72.00164795
         ],
         "yaxis": "y"
        },
        {
         "hovertemplate": "<b>%{hovertext}</b><br><br>Country=United Arab Emirates<br>GDP per capita=%{x}<br>Healthy life expectancy=%{y}<br>Population=%{marker.size}<extra></extra>",
         "hovertext": [
          "United Arab Emirates"
         ],
         "legendgroup": "United Arab Emirates",
         "marker": {
          "color": "#636efa",
          "size": [
           9890402
          ],
          "sizemode": "area",
          "sizeref": 91945.18083333333,
          "symbol": "circle"
         },
         "mode": "markers",
         "name": "United Arab Emirates",
         "orientation": "v",
         "showlegend": true,
         "type": "scatter",
         "x": [
          11.1099987
         ],
         "xaxis": "x",
         "y": [
          67.08278656
         ],
         "yaxis": "y"
        },
        {
         "hovertemplate": "<b>%{hovertext}</b><br><br>Country=Malta<br>GDP per capita=%{x}<br>Healthy life expectancy=%{y}<br>Population=%{marker.size}<extra></extra>",
         "hovertext": [
          "Malta"
         ],
         "legendgroup": "Malta",
         "marker": {
          "color": "#EF553B",
          "size": [
           441543
          ],
          "sizemode": "area",
          "sizeref": 91945.18083333333,
          "symbol": "circle"
         },
         "mode": "markers",
         "name": "Malta",
         "orientation": "v",
         "showlegend": true,
         "type": "scatter",
         "x": [
          10.53383827
         ],
         "xaxis": "x",
         "y": [
          72.19999695
         ],
         "yaxis": "y"
        },
        {
         "hovertemplate": "<b>%{hovertext}</b><br><br>Country=France<br>GDP per capita=%{x}<br>Healthy life expectancy=%{y}<br>Population=%{marker.size}<extra></extra>",
         "hovertext": [
          "France"
         ],
         "legendgroup": "France",
         "marker": {
          "color": "#00cc96",
          "size": [
           65273511
          ],
          "sizemode": "area",
          "sizeref": 91945.18083333333,
          "symbol": "circle"
         },
         "mode": "markers",
         "name": "France",
         "orientation": "v",
         "showlegend": true,
         "type": "scatter",
         "x": [
          10.58422279
         ],
         "xaxis": "x",
         "y": [
          73.80193329
         ],
         "yaxis": "y"
        },
        {
         "hovertemplate": "<b>%{hovertext}</b><br><br>Country=Mexico<br>GDP per capita=%{x}<br>Healthy life expectancy=%{y}<br>Population=%{marker.size}<extra></extra>",
         "hovertext": [
          "Mexico"
         ],
         "legendgroup": "Mexico",
         "marker": {
          "color": "#ab63fa",
          "size": [
           128932753
          ],
          "sizemode": "area",
          "sizeref": 91945.18083333333,
          "symbol": "circle"
         },
         "mode": "markers",
         "name": "Mexico",
         "orientation": "v",
         "showlegend": true,
         "type": "scatter",
         "x": [
          9.797797203
         ],
         "xaxis": "x",
         "y": [
          68.29902649
         ],
         "yaxis": "y"
        },
        {
         "hovertemplate": "<b>%{hovertext}</b><br><br>Country=Taiwan Province of China<br>GDP per capita=%{x}<br>Healthy life expectancy=%{y}<br>Population=%{marker.size}<extra></extra>",
         "hovertext": [
          "Taiwan Province of China"
         ],
         "legendgroup": "Taiwan Province of China",
         "marker": {
          "color": "#FFA15A",
          "size": [
           23816775
          ],
          "sizemode": "area",
          "sizeref": 91945.18083333333,
          "symbol": "circle"
         },
         "mode": "markers",
         "name": "Taiwan Province of China",
         "orientation": "v",
         "showlegend": true,
         "type": "scatter",
         "x": [
          10.77568531
         ],
         "xaxis": "x",
         "y": [
          69.59999847
         ],
         "yaxis": "y"
        },
        {
         "hovertemplate": "<b>%{hovertext}</b><br><br>Country=Uruguay<br>GDP per capita=%{x}<br>Healthy life expectancy=%{y}<br>Population=%{marker.size}<extra></extra>",
         "hovertext": [
          "Uruguay"
         ],
         "legendgroup": "Uruguay",
         "marker": {
          "color": "#19d3f3",
          "size": [
           3473730
          ],
          "sizemode": "area",
          "sizeref": 91945.18083333333,
          "symbol": "circle"
         },
         "mode": "markers",
         "name": "Uruguay",
         "orientation": "v",
         "showlegend": true,
         "type": "scatter",
         "x": [
          9.948192596
         ],
         "xaxis": "x",
         "y": [
          69.00254822
         ],
         "yaxis": "y"
        },
        {
         "hovertemplate": "<b>%{hovertext}</b><br><br>Country=Saudi Arabia<br>GDP per capita=%{x}<br>Healthy life expectancy=%{y}<br>Population=%{marker.size}<extra></extra>",
         "hovertext": [
          "Saudi Arabia"
         ],
         "legendgroup": "Saudi Arabia",
         "marker": {
          "color": "#FF6692",
          "size": [
           34813871
          ],
          "sizemode": "area",
          "sizeref": 91945.18083333333,
          "symbol": "circle"
         },
         "mode": "markers",
         "name": "Saudi Arabia",
         "orientation": "v",
         "showlegend": true,
         "type": "scatter",
         "x": [
          10.79781246
         ],
         "xaxis": "x",
         "y": [
          66.30514526
         ],
         "yaxis": "y"
        },
        {
         "hovertemplate": "<b>%{hovertext}</b><br><br>Country=Spain<br>GDP per capita=%{x}<br>Healthy life expectancy=%{y}<br>Population=%{marker.size}<extra></extra>",
         "hovertext": [
          "Spain"
         ],
         "legendgroup": "Spain",
         "marker": {
          "color": "#B6E880",
          "size": [
           46754778
          ],
          "sizemode": "area",
          "sizeref": 91945.18083333333,
          "symbol": "circle"
         },
         "mode": "markers",
         "name": "Spain",
         "orientation": "v",
         "showlegend": true,
         "type": "scatter",
         "x": [
          10.46292686
         ],
         "xaxis": "x",
         "y": [
          74.40270996
         ],
         "yaxis": "y"
        },
        {
         "hovertemplate": "<b>%{hovertext}</b><br><br>Country=Guatemala<br>GDP per capita=%{x}<br>Healthy life expectancy=%{y}<br>Population=%{marker.size}<extra></extra>",
         "hovertext": [
          "Guatemala"
         ],
         "legendgroup": "Guatemala",
         "marker": {
          "color": "#FF97FF",
          "size": [
           17915568
          ],
          "sizemode": "area",
          "sizeref": 91945.18083333333,
          "symbol": "circle"
         },
         "mode": "markers",
         "name": "Guatemala",
         "orientation": "v",
         "showlegend": true,
         "type": "scatter",
         "x": [
          8.924805641
         ],
         "xaxis": "x",
         "y": [
          64.8089447
         ],
         "yaxis": "y"
        },
        {
         "hovertemplate": "<b>%{hovertext}</b><br><br>Country=Italy<br>GDP per capita=%{x}<br>Healthy life expectancy=%{y}<br>Population=%{marker.size}<extra></extra>",
         "hovertext": [
          "Italy"
         ],
         "legendgroup": "Italy",
         "marker": {
          "color": "#FECB52",
          "size": [
           60461826
          ],
          "sizemode": "area",
          "sizeref": 91945.18083333333,
          "symbol": "circle"
         },
         "mode": "markers",
         "name": "Italy",
         "orientation": "v",
         "showlegend": true,
         "type": "scatter",
         "x": [
          10.48183632
         ],
         "xaxis": "x",
         "y": [
          73.60168457
         ],
         "yaxis": "y"
        }
       ],
       "layout": {
        "height": 500,
        "legend": {
         "itemsizing": "constant",
         "title": {
          "text": "Country"
         },
         "tracegroupgap": 0
        },
        "template": {
         "data": {
          "bar": [
           {
            "error_x": {
             "color": "#2a3f5f"
            },
            "error_y": {
             "color": "#2a3f5f"
            },
            "marker": {
             "line": {
              "color": "#E5ECF6",
              "width": 0.5
             }
            },
            "type": "bar"
           }
          ],
          "barpolar": [
           {
            "marker": {
             "line": {
              "color": "#E5ECF6",
              "width": 0.5
             }
            },
            "type": "barpolar"
           }
          ],
          "carpet": [
           {
            "aaxis": {
             "endlinecolor": "#2a3f5f",
             "gridcolor": "white",
             "linecolor": "white",
             "minorgridcolor": "white",
             "startlinecolor": "#2a3f5f"
            },
            "baxis": {
             "endlinecolor": "#2a3f5f",
             "gridcolor": "white",
             "linecolor": "white",
             "minorgridcolor": "white",
             "startlinecolor": "#2a3f5f"
            },
            "type": "carpet"
           }
          ],
          "choropleth": [
           {
            "colorbar": {
             "outlinewidth": 0,
             "ticks": ""
            },
            "type": "choropleth"
           }
          ],
          "contour": [
           {
            "colorbar": {
             "outlinewidth": 0,
             "ticks": ""
            },
            "colorscale": [
             [
              0,
              "#0d0887"
             ],
             [
              0.1111111111111111,
              "#46039f"
             ],
             [
              0.2222222222222222,
              "#7201a8"
             ],
             [
              0.3333333333333333,
              "#9c179e"
             ],
             [
              0.4444444444444444,
              "#bd3786"
             ],
             [
              0.5555555555555556,
              "#d8576b"
             ],
             [
              0.6666666666666666,
              "#ed7953"
             ],
             [
              0.7777777777777778,
              "#fb9f3a"
             ],
             [
              0.8888888888888888,
              "#fdca26"
             ],
             [
              1,
              "#f0f921"
             ]
            ],
            "type": "contour"
           }
          ],
          "contourcarpet": [
           {
            "colorbar": {
             "outlinewidth": 0,
             "ticks": ""
            },
            "type": "contourcarpet"
           }
          ],
          "heatmap": [
           {
            "colorbar": {
             "outlinewidth": 0,
             "ticks": ""
            },
            "colorscale": [
             [
              0,
              "#0d0887"
             ],
             [
              0.1111111111111111,
              "#46039f"
             ],
             [
              0.2222222222222222,
              "#7201a8"
             ],
             [
              0.3333333333333333,
              "#9c179e"
             ],
             [
              0.4444444444444444,
              "#bd3786"
             ],
             [
              0.5555555555555556,
              "#d8576b"
             ],
             [
              0.6666666666666666,
              "#ed7953"
             ],
             [
              0.7777777777777778,
              "#fb9f3a"
             ],
             [
              0.8888888888888888,
              "#fdca26"
             ],
             [
              1,
              "#f0f921"
             ]
            ],
            "type": "heatmap"
           }
          ],
          "heatmapgl": [
           {
            "colorbar": {
             "outlinewidth": 0,
             "ticks": ""
            },
            "colorscale": [
             [
              0,
              "#0d0887"
             ],
             [
              0.1111111111111111,
              "#46039f"
             ],
             [
              0.2222222222222222,
              "#7201a8"
             ],
             [
              0.3333333333333333,
              "#9c179e"
             ],
             [
              0.4444444444444444,
              "#bd3786"
             ],
             [
              0.5555555555555556,
              "#d8576b"
             ],
             [
              0.6666666666666666,
              "#ed7953"
             ],
             [
              0.7777777777777778,
              "#fb9f3a"
             ],
             [
              0.8888888888888888,
              "#fdca26"
             ],
             [
              1,
              "#f0f921"
             ]
            ],
            "type": "heatmapgl"
           }
          ],
          "histogram": [
           {
            "marker": {
             "colorbar": {
              "outlinewidth": 0,
              "ticks": ""
             }
            },
            "type": "histogram"
           }
          ],
          "histogram2d": [
           {
            "colorbar": {
             "outlinewidth": 0,
             "ticks": ""
            },
            "colorscale": [
             [
              0,
              "#0d0887"
             ],
             [
              0.1111111111111111,
              "#46039f"
             ],
             [
              0.2222222222222222,
              "#7201a8"
             ],
             [
              0.3333333333333333,
              "#9c179e"
             ],
             [
              0.4444444444444444,
              "#bd3786"
             ],
             [
              0.5555555555555556,
              "#d8576b"
             ],
             [
              0.6666666666666666,
              "#ed7953"
             ],
             [
              0.7777777777777778,
              "#fb9f3a"
             ],
             [
              0.8888888888888888,
              "#fdca26"
             ],
             [
              1,
              "#f0f921"
             ]
            ],
            "type": "histogram2d"
           }
          ],
          "histogram2dcontour": [
           {
            "colorbar": {
             "outlinewidth": 0,
             "ticks": ""
            },
            "colorscale": [
             [
              0,
              "#0d0887"
             ],
             [
              0.1111111111111111,
              "#46039f"
             ],
             [
              0.2222222222222222,
              "#7201a8"
             ],
             [
              0.3333333333333333,
              "#9c179e"
             ],
             [
              0.4444444444444444,
              "#bd3786"
             ],
             [
              0.5555555555555556,
              "#d8576b"
             ],
             [
              0.6666666666666666,
              "#ed7953"
             ],
             [
              0.7777777777777778,
              "#fb9f3a"
             ],
             [
              0.8888888888888888,
              "#fdca26"
             ],
             [
              1,
              "#f0f921"
             ]
            ],
            "type": "histogram2dcontour"
           }
          ],
          "mesh3d": [
           {
            "colorbar": {
             "outlinewidth": 0,
             "ticks": ""
            },
            "type": "mesh3d"
           }
          ],
          "parcoords": [
           {
            "line": {
             "colorbar": {
              "outlinewidth": 0,
              "ticks": ""
             }
            },
            "type": "parcoords"
           }
          ],
          "pie": [
           {
            "automargin": true,
            "type": "pie"
           }
          ],
          "scatter": [
           {
            "marker": {
             "colorbar": {
              "outlinewidth": 0,
              "ticks": ""
             }
            },
            "type": "scatter"
           }
          ],
          "scatter3d": [
           {
            "line": {
             "colorbar": {
              "outlinewidth": 0,
              "ticks": ""
             }
            },
            "marker": {
             "colorbar": {
              "outlinewidth": 0,
              "ticks": ""
             }
            },
            "type": "scatter3d"
           }
          ],
          "scattercarpet": [
           {
            "marker": {
             "colorbar": {
              "outlinewidth": 0,
              "ticks": ""
             }
            },
            "type": "scattercarpet"
           }
          ],
          "scattergeo": [
           {
            "marker": {
             "colorbar": {
              "outlinewidth": 0,
              "ticks": ""
             }
            },
            "type": "scattergeo"
           }
          ],
          "scattergl": [
           {
            "marker": {
             "colorbar": {
              "outlinewidth": 0,
              "ticks": ""
             }
            },
            "type": "scattergl"
           }
          ],
          "scattermapbox": [
           {
            "marker": {
             "colorbar": {
              "outlinewidth": 0,
              "ticks": ""
             }
            },
            "type": "scattermapbox"
           }
          ],
          "scatterpolar": [
           {
            "marker": {
             "colorbar": {
              "outlinewidth": 0,
              "ticks": ""
             }
            },
            "type": "scatterpolar"
           }
          ],
          "scatterpolargl": [
           {
            "marker": {
             "colorbar": {
              "outlinewidth": 0,
              "ticks": ""
             }
            },
            "type": "scatterpolargl"
           }
          ],
          "scatterternary": [
           {
            "marker": {
             "colorbar": {
              "outlinewidth": 0,
              "ticks": ""
             }
            },
            "type": "scatterternary"
           }
          ],
          "surface": [
           {
            "colorbar": {
             "outlinewidth": 0,
             "ticks": ""
            },
            "colorscale": [
             [
              0,
              "#0d0887"
             ],
             [
              0.1111111111111111,
              "#46039f"
             ],
             [
              0.2222222222222222,
              "#7201a8"
             ],
             [
              0.3333333333333333,
              "#9c179e"
             ],
             [
              0.4444444444444444,
              "#bd3786"
             ],
             [
              0.5555555555555556,
              "#d8576b"
             ],
             [
              0.6666666666666666,
              "#ed7953"
             ],
             [
              0.7777777777777778,
              "#fb9f3a"
             ],
             [
              0.8888888888888888,
              "#fdca26"
             ],
             [
              1,
              "#f0f921"
             ]
            ],
            "type": "surface"
           }
          ],
          "table": [
           {
            "cells": {
             "fill": {
              "color": "#EBF0F8"
             },
             "line": {
              "color": "white"
             }
            },
            "header": {
             "fill": {
              "color": "#C8D4E3"
             },
             "line": {
              "color": "white"
             }
            },
            "type": "table"
           }
          ]
         },
         "layout": {
          "annotationdefaults": {
           "arrowcolor": "#2a3f5f",
           "arrowhead": 0,
           "arrowwidth": 1
          },
          "autotypenumbers": "strict",
          "coloraxis": {
           "colorbar": {
            "outlinewidth": 0,
            "ticks": ""
           }
          },
          "colorscale": {
           "diverging": [
            [
             0,
             "#8e0152"
            ],
            [
             0.1,
             "#c51b7d"
            ],
            [
             0.2,
             "#de77ae"
            ],
            [
             0.3,
             "#f1b6da"
            ],
            [
             0.4,
             "#fde0ef"
            ],
            [
             0.5,
             "#f7f7f7"
            ],
            [
             0.6,
             "#e6f5d0"
            ],
            [
             0.7,
             "#b8e186"
            ],
            [
             0.8,
             "#7fbc41"
            ],
            [
             0.9,
             "#4d9221"
            ],
            [
             1,
             "#276419"
            ]
           ],
           "sequential": [
            [
             0,
             "#0d0887"
            ],
            [
             0.1111111111111111,
             "#46039f"
            ],
            [
             0.2222222222222222,
             "#7201a8"
            ],
            [
             0.3333333333333333,
             "#9c179e"
            ],
            [
             0.4444444444444444,
             "#bd3786"
            ],
            [
             0.5555555555555556,
             "#d8576b"
            ],
            [
             0.6666666666666666,
             "#ed7953"
            ],
            [
             0.7777777777777778,
             "#fb9f3a"
            ],
            [
             0.8888888888888888,
             "#fdca26"
            ],
            [
             1,
             "#f0f921"
            ]
           ],
           "sequentialminus": [
            [
             0,
             "#0d0887"
            ],
            [
             0.1111111111111111,
             "#46039f"
            ],
            [
             0.2222222222222222,
             "#7201a8"
            ],
            [
             0.3333333333333333,
             "#9c179e"
            ],
            [
             0.4444444444444444,
             "#bd3786"
            ],
            [
             0.5555555555555556,
             "#d8576b"
            ],
            [
             0.6666666666666666,
             "#ed7953"
            ],
            [
             0.7777777777777778,
             "#fb9f3a"
            ],
            [
             0.8888888888888888,
             "#fdca26"
            ],
            [
             1,
             "#f0f921"
            ]
           ]
          },
          "colorway": [
           "#636efa",
           "#EF553B",
           "#00cc96",
           "#ab63fa",
           "#FFA15A",
           "#19d3f3",
           "#FF6692",
           "#B6E880",
           "#FF97FF",
           "#FECB52"
          ],
          "font": {
           "color": "#2a3f5f"
          },
          "geo": {
           "bgcolor": "white",
           "lakecolor": "white",
           "landcolor": "#E5ECF6",
           "showlakes": true,
           "showland": true,
           "subunitcolor": "white"
          },
          "hoverlabel": {
           "align": "left"
          },
          "hovermode": "closest",
          "mapbox": {
           "style": "light"
          },
          "paper_bgcolor": "white",
          "plot_bgcolor": "#E5ECF6",
          "polar": {
           "angularaxis": {
            "gridcolor": "white",
            "linecolor": "white",
            "ticks": ""
           },
           "bgcolor": "#E5ECF6",
           "radialaxis": {
            "gridcolor": "white",
            "linecolor": "white",
            "ticks": ""
           }
          },
          "scene": {
           "xaxis": {
            "backgroundcolor": "#E5ECF6",
            "gridcolor": "white",
            "gridwidth": 2,
            "linecolor": "white",
            "showbackground": true,
            "ticks": "",
            "zerolinecolor": "white"
           },
           "yaxis": {
            "backgroundcolor": "#E5ECF6",
            "gridcolor": "white",
            "gridwidth": 2,
            "linecolor": "white",
            "showbackground": true,
            "ticks": "",
            "zerolinecolor": "white"
           },
           "zaxis": {
            "backgroundcolor": "#E5ECF6",
            "gridcolor": "white",
            "gridwidth": 2,
            "linecolor": "white",
            "showbackground": true,
            "ticks": "",
            "zerolinecolor": "white"
           }
          },
          "shapedefaults": {
           "line": {
            "color": "#2a3f5f"
           }
          },
          "ternary": {
           "aaxis": {
            "gridcolor": "white",
            "linecolor": "white",
            "ticks": ""
           },
           "baxis": {
            "gridcolor": "white",
            "linecolor": "white",
            "ticks": ""
           },
           "bgcolor": "#E5ECF6",
           "caxis": {
            "gridcolor": "white",
            "linecolor": "white",
            "ticks": ""
           }
          },
          "title": {
           "x": 0.05
          },
          "xaxis": {
           "automargin": true,
           "gridcolor": "white",
           "linecolor": "white",
           "ticks": "",
           "title": {
            "standoff": 15
           },
           "zerolinecolor": "white",
           "zerolinewidth": 2
          },
          "yaxis": {
           "automargin": true,
           "gridcolor": "white",
           "linecolor": "white",
           "ticks": "",
           "title": {
            "standoff": 15
           },
           "zerolinecolor": "white",
           "zerolinewidth": 2
          }
         }
        },
        "title": {
         "text": "GDP Vs Healthy Life Expectancy"
        },
        "width": 1080,
        "xaxis": {
         "anchor": "y",
         "domain": [
          0,
          1
         ],
         "title": {
          "text": "GDP per capita"
         },
         "type": "log"
        },
        "yaxis": {
         "anchor": "x",
         "domain": [
          0,
          1
         ],
         "title": {
          "text": "Healthy life expectancy"
         }
        }
       }
      },
      "text/html": [
       "<div>                            <div id=\"15295340-f4c4-46f6-bddd-fb087b6eda83\" class=\"plotly-graph-div\" style=\"height:500px; width:1080px;\"></div>            <script type=\"text/javascript\">                require([\"plotly\"], function(Plotly) {                    window.PLOTLYENV=window.PLOTLYENV || {};                                    if (document.getElementById(\"15295340-f4c4-46f6-bddd-fb087b6eda83\")) {                    Plotly.newPlot(                        \"15295340-f4c4-46f6-bddd-fb087b6eda83\",                        [{\"hovertemplate\": \"<b>%{hovertext}</b><br><br>Country=Finland<br>GDP per capita=%{x}<br>Healthy life expectancy=%{y}<br>Population=%{marker.size}<extra></extra>\", \"hovertext\": [\"Finland\"], \"legendgroup\": \"Finland\", \"marker\": {\"color\": \"#636efa\", \"size\": [5540720], \"sizemode\": \"area\", \"sizeref\": 91945.18083333333, \"symbol\": \"circle\"}, \"mode\": \"markers\", \"name\": \"Finland\", \"orientation\": \"v\", \"showlegend\": true, \"type\": \"scatter\", \"x\": [10.63926697], \"xaxis\": \"x\", \"y\": [71.9008255], \"yaxis\": \"y\"}, {\"hovertemplate\": \"<b>%{hovertext}</b><br><br>Country=Denmark<br>GDP per capita=%{x}<br>Healthy life expectancy=%{y}<br>Population=%{marker.size}<extra></extra>\", \"hovertext\": [\"Denmark\"], \"legendgroup\": \"Denmark\", \"marker\": {\"color\": \"#EF553B\", \"size\": [5792202], \"sizemode\": \"area\", \"sizeref\": 91945.18083333333, \"symbol\": \"circle\"}, \"mode\": \"markers\", \"name\": \"Denmark\", \"orientation\": \"v\", \"showlegend\": true, \"type\": \"scatter\", \"x\": [10.77400112], \"xaxis\": \"x\", \"y\": [72.40250397], \"yaxis\": \"y\"}, {\"hovertemplate\": \"<b>%{hovertext}</b><br><br>Country=Switzerland<br>GDP per capita=%{x}<br>Healthy life expectancy=%{y}<br>Population=%{marker.size}<extra></extra>\", \"hovertext\": [\"Switzerland\"], \"legendgroup\": \"Switzerland\", \"marker\": {\"color\": \"#00cc96\", \"size\": [8654622], \"sizemode\": \"area\", \"sizeref\": 91945.18083333333, \"symbol\": \"circle\"}, \"mode\": \"markers\", \"name\": \"Switzerland\", \"orientation\": \"v\", \"showlegend\": true, \"type\": \"scatter\", \"x\": [10.97993279], \"xaxis\": \"x\", \"y\": [74.10244751], \"yaxis\": \"y\"}, {\"hovertemplate\": \"<b>%{hovertext}</b><br><br>Country=Iceland<br>GDP per capita=%{x}<br>Healthy life expectancy=%{y}<br>Population=%{marker.size}<extra></extra>\", \"hovertext\": [\"Iceland\"], \"legendgroup\": \"Iceland\", \"marker\": {\"color\": \"#ab63fa\", \"size\": [341243], \"sizemode\": \"area\", \"sizeref\": 91945.18083333333, \"symbol\": \"circle\"}, \"mode\": \"markers\", \"name\": \"Iceland\", \"orientation\": \"v\", \"showlegend\": true, \"type\": \"scatter\", \"x\": [10.77255917], \"xaxis\": \"x\", \"y\": [73.0], \"yaxis\": \"y\"}, {\"hovertemplate\": \"<b>%{hovertext}</b><br><br>Country=Norway<br>GDP per capita=%{x}<br>Healthy life expectancy=%{y}<br>Population=%{marker.size}<extra></extra>\", \"hovertext\": [\"Norway\"], \"legendgroup\": \"Norway\", \"marker\": {\"color\": \"#FFA15A\", \"size\": [5421241], \"sizemode\": \"area\", \"sizeref\": 91945.18083333333, \"symbol\": \"circle\"}, \"mode\": \"markers\", \"name\": \"Norway\", \"orientation\": \"v\", \"showlegend\": true, \"type\": \"scatter\", \"x\": [11.08780384], \"xaxis\": \"x\", \"y\": [73.20078278], \"yaxis\": \"y\"}, {\"hovertemplate\": \"<b>%{hovertext}</b><br><br>Country=Netherlands<br>GDP per capita=%{x}<br>Healthy life expectancy=%{y}<br>Population=%{marker.size}<extra></extra>\", \"hovertext\": [\"Netherlands\"], \"legendgroup\": \"Netherlands\", \"marker\": {\"color\": \"#19d3f3\", \"size\": [17134872], \"sizemode\": \"area\", \"sizeref\": 91945.18083333333, \"symbol\": \"circle\"}, \"mode\": \"markers\", \"name\": \"Netherlands\", \"orientation\": \"v\", \"showlegend\": true, \"type\": \"scatter\", \"x\": [10.81271172], \"xaxis\": \"x\", \"y\": [72.30091858], \"yaxis\": \"y\"}, {\"hovertemplate\": \"<b>%{hovertext}</b><br><br>Country=Sweden<br>GDP per capita=%{x}<br>Healthy life expectancy=%{y}<br>Population=%{marker.size}<extra></extra>\", \"hovertext\": [\"Sweden\"], \"legendgroup\": \"Sweden\", \"marker\": {\"color\": \"#FF6692\", \"size\": [10099265], \"sizemode\": \"area\", \"sizeref\": 91945.18083333333, \"symbol\": \"circle\"}, \"mode\": \"markers\", \"name\": \"Sweden\", \"orientation\": \"v\", \"showlegend\": true, \"type\": \"scatter\", \"x\": [10.75879383], \"xaxis\": \"x\", \"y\": [72.60076904], \"yaxis\": \"y\"}, {\"hovertemplate\": \"<b>%{hovertext}</b><br><br>Country=New Zealand<br>GDP per capita=%{x}<br>Healthy life expectancy=%{y}<br>Population=%{marker.size}<extra></extra>\", \"hovertext\": [\"New Zealand\"], \"legendgroup\": \"New Zealand\", \"marker\": {\"color\": \"#B6E880\", \"size\": [4822233], \"sizemode\": \"area\", \"sizeref\": 91945.18083333333, \"symbol\": \"circle\"}, \"mode\": \"markers\", \"name\": \"New Zealand\", \"orientation\": \"v\", \"showlegend\": true, \"type\": \"scatter\", \"x\": [10.50094318], \"xaxis\": \"x\", \"y\": [73.20262909], \"yaxis\": \"y\"}, {\"hovertemplate\": \"<b>%{hovertext}</b><br><br>Country=Austria<br>GDP per capita=%{x}<br>Healthy life expectancy=%{y}<br>Population=%{marker.size}<extra></extra>\", \"hovertext\": [\"Austria\"], \"legendgroup\": \"Austria\", \"marker\": {\"color\": \"#FF97FF\", \"size\": [9006398], \"sizemode\": \"area\", \"sizeref\": 91945.18083333333, \"symbol\": \"circle\"}, \"mode\": \"markers\", \"name\": \"Austria\", \"orientation\": \"v\", \"showlegend\": true, \"type\": \"scatter\", \"x\": [10.7428236], \"xaxis\": \"x\", \"y\": [73.00250244], \"yaxis\": \"y\"}, {\"hovertemplate\": \"<b>%{hovertext}</b><br><br>Country=Luxembourg<br>GDP per capita=%{x}<br>Healthy life expectancy=%{y}<br>Population=%{marker.size}<extra></extra>\", \"hovertext\": [\"Luxembourg\"], \"legendgroup\": \"Luxembourg\", \"marker\": {\"color\": \"#FECB52\", \"size\": [625978], \"sizemode\": \"area\", \"sizeref\": 91945.18083333333, \"symbol\": \"circle\"}, \"mode\": \"markers\", \"name\": \"Luxembourg\", \"orientation\": \"v\", \"showlegend\": true, \"type\": \"scatter\", \"x\": [11.45068073], \"xaxis\": \"x\", \"y\": [72.59999847], \"yaxis\": \"y\"}, {\"hovertemplate\": \"<b>%{hovertext}</b><br><br>Country=Canada<br>GDP per capita=%{x}<br>Healthy life expectancy=%{y}<br>Population=%{marker.size}<extra></extra>\", \"hovertext\": [\"Canada\"], \"legendgroup\": \"Canada\", \"marker\": {\"color\": \"#636efa\", \"size\": [37742154], \"sizemode\": \"area\", \"sizeref\": 91945.18083333333, \"symbol\": \"circle\"}, \"mode\": \"markers\", \"name\": \"Canada\", \"orientation\": \"v\", \"showlegend\": true, \"type\": \"scatter\", \"x\": [10.69236851], \"xaxis\": \"x\", \"y\": [73.60160065], \"yaxis\": \"y\"}, {\"hovertemplate\": \"<b>%{hovertext}</b><br><br>Country=Australia<br>GDP per capita=%{x}<br>Healthy life expectancy=%{y}<br>Population=%{marker.size}<extra></extra>\", \"hovertext\": [\"Australia\"], \"legendgroup\": \"Australia\", \"marker\": {\"color\": \"#EF553B\", \"size\": [25499884], \"sizemode\": \"area\", \"sizeref\": 91945.18083333333, \"symbol\": \"circle\"}, \"mode\": \"markers\", \"name\": \"Australia\", \"orientation\": \"v\", \"showlegend\": true, \"type\": \"scatter\", \"x\": [10.72059631], \"xaxis\": \"x\", \"y\": [73.60453796], \"yaxis\": \"y\"}, {\"hovertemplate\": \"<b>%{hovertext}</b><br><br>Country=United Kingdom<br>GDP per capita=%{x}<br>Healthy life expectancy=%{y}<br>Population=%{marker.size}<extra></extra>\", \"hovertext\": [\"United Kingdom\"], \"legendgroup\": \"United Kingdom\", \"marker\": {\"color\": \"#00cc96\", \"size\": [67886011], \"sizemode\": \"area\", \"sizeref\": 91945.18083333333, \"symbol\": \"circle\"}, \"mode\": \"markers\", \"name\": \"United Kingdom\", \"orientation\": \"v\", \"showlegend\": true, \"type\": \"scatter\", \"x\": [10.60013485], \"xaxis\": \"x\", \"y\": [72.30160522], \"yaxis\": \"y\"}, {\"hovertemplate\": \"<b>%{hovertext}</b><br><br>Country=Israel<br>GDP per capita=%{x}<br>Healthy life expectancy=%{y}<br>Population=%{marker.size}<extra></extra>\", \"hovertext\": [\"Israel\"], \"legendgroup\": \"Israel\", \"marker\": {\"color\": \"#ab63fa\", \"size\": [8655535], \"sizemode\": \"area\", \"sizeref\": 91945.18083333333, \"symbol\": \"circle\"}, \"mode\": \"markers\", \"name\": \"Israel\", \"orientation\": \"v\", \"showlegend\": true, \"type\": \"scatter\", \"x\": [10.41752529], \"xaxis\": \"x\", \"y\": [73.20025635], \"yaxis\": \"y\"}, {\"hovertemplate\": \"<b>%{hovertext}</b><br><br>Country=Costa Rica<br>GDP per capita=%{x}<br>Healthy life expectancy=%{y}<br>Population=%{marker.size}<extra></extra>\", \"hovertext\": [\"Costa Rica\"], \"legendgroup\": \"Costa Rica\", \"marker\": {\"color\": \"#FFA15A\", \"size\": [5094118], \"sizemode\": \"area\", \"sizeref\": 91945.18083333333, \"symbol\": \"circle\"}, \"mode\": \"markers\", \"name\": \"Costa Rica\", \"orientation\": \"v\", \"showlegend\": true, \"type\": \"scatter\", \"x\": [9.658156395], \"xaxis\": \"x\", \"y\": [71.29985046], \"yaxis\": \"y\"}, {\"hovertemplate\": \"<b>%{hovertext}</b><br><br>Country=Ireland<br>GDP per capita=%{x}<br>Healthy life expectancy=%{y}<br>Population=%{marker.size}<extra></extra>\", \"hovertext\": [\"Ireland\"], \"legendgroup\": \"Ireland\", \"marker\": {\"color\": \"#19d3f3\", \"size\": [4937786], \"sizemode\": \"area\", \"sizeref\": 91945.18083333333, \"symbol\": \"circle\"}, \"mode\": \"markers\", \"name\": \"Ireland\", \"orientation\": \"v\", \"showlegend\": true, \"type\": \"scatter\", \"x\": [11.16097832], \"xaxis\": \"x\", \"y\": [72.30078888], \"yaxis\": \"y\"}, {\"hovertemplate\": \"<b>%{hovertext}</b><br><br>Country=Germany<br>GDP per capita=%{x}<br>Healthy life expectancy=%{y}<br>Population=%{marker.size}<extra></extra>\", \"hovertext\": [\"Germany\"], \"legendgroup\": \"Germany\", \"marker\": {\"color\": \"#FF6692\", \"size\": [83783942], \"sizemode\": \"area\", \"sizeref\": 91945.18083333333, \"symbol\": \"circle\"}, \"mode\": \"markers\", \"name\": \"Germany\", \"orientation\": \"v\", \"showlegend\": true, \"type\": \"scatter\", \"x\": [10.7328186], \"xaxis\": \"x\", \"y\": [72.20201874], \"yaxis\": \"y\"}, {\"hovertemplate\": \"<b>%{hovertext}</b><br><br>Country=United States<br>GDP per capita=%{x}<br>Healthy life expectancy=%{y}<br>Population=%{marker.size}<extra></extra>\", \"hovertext\": [\"United States\"], \"legendgroup\": \"United States\", \"marker\": {\"color\": \"#B6E880\", \"size\": [331002651], \"sizemode\": \"area\", \"sizeref\": 91945.18083333333, \"symbol\": \"circle\"}, \"mode\": \"markers\", \"name\": \"United States\", \"orientation\": \"v\", \"showlegend\": true, \"type\": \"scatter\", \"x\": [10.92576885], \"xaxis\": \"x\", \"y\": [68.29949951], \"yaxis\": \"y\"}, {\"hovertemplate\": \"<b>%{hovertext}</b><br><br>Country=Czech Republic<br>GDP per capita=%{x}<br>Healthy life expectancy=%{y}<br>Population=%{marker.size}<extra></extra>\", \"hovertext\": [\"Czech Republic\"], \"legendgroup\": \"Czech Republic\", \"marker\": {\"color\": \"#FF97FF\", \"size\": [10708981], \"sizemode\": \"area\", \"sizeref\": 91945.18083333333, \"symbol\": \"circle\"}, \"mode\": \"markers\", \"name\": \"Czech Republic\", \"orientation\": \"v\", \"showlegend\": true, \"type\": \"scatter\", \"x\": [10.40416336], \"xaxis\": \"x\", \"y\": [70.04793549], \"yaxis\": \"y\"}, {\"hovertemplate\": \"<b>%{hovertext}</b><br><br>Country=Belgium<br>GDP per capita=%{x}<br>Healthy life expectancy=%{y}<br>Population=%{marker.size}<extra></extra>\", \"hovertext\": [\"Belgium\"], \"legendgroup\": \"Belgium\", \"marker\": {\"color\": \"#FECB52\", \"size\": [11589623], \"sizemode\": \"area\", \"sizeref\": 91945.18083333333, \"symbol\": \"circle\"}, \"mode\": \"markers\", \"name\": \"Belgium\", \"orientation\": \"v\", \"showlegend\": true, \"type\": \"scatter\", \"x\": [10.673639300000001], \"xaxis\": \"x\", \"y\": [72.00164795], \"yaxis\": \"y\"}, {\"hovertemplate\": \"<b>%{hovertext}</b><br><br>Country=United Arab Emirates<br>GDP per capita=%{x}<br>Healthy life expectancy=%{y}<br>Population=%{marker.size}<extra></extra>\", \"hovertext\": [\"United Arab Emirates\"], \"legendgroup\": \"United Arab Emirates\", \"marker\": {\"color\": \"#636efa\", \"size\": [9890402], \"sizemode\": \"area\", \"sizeref\": 91945.18083333333, \"symbol\": \"circle\"}, \"mode\": \"markers\", \"name\": \"United Arab Emirates\", \"orientation\": \"v\", \"showlegend\": true, \"type\": \"scatter\", \"x\": [11.1099987], \"xaxis\": \"x\", \"y\": [67.08278656], \"yaxis\": \"y\"}, {\"hovertemplate\": \"<b>%{hovertext}</b><br><br>Country=Malta<br>GDP per capita=%{x}<br>Healthy life expectancy=%{y}<br>Population=%{marker.size}<extra></extra>\", \"hovertext\": [\"Malta\"], \"legendgroup\": \"Malta\", \"marker\": {\"color\": \"#EF553B\", \"size\": [441543], \"sizemode\": \"area\", \"sizeref\": 91945.18083333333, \"symbol\": \"circle\"}, \"mode\": \"markers\", \"name\": \"Malta\", \"orientation\": \"v\", \"showlegend\": true, \"type\": \"scatter\", \"x\": [10.53383827], \"xaxis\": \"x\", \"y\": [72.19999695], \"yaxis\": \"y\"}, {\"hovertemplate\": \"<b>%{hovertext}</b><br><br>Country=France<br>GDP per capita=%{x}<br>Healthy life expectancy=%{y}<br>Population=%{marker.size}<extra></extra>\", \"hovertext\": [\"France\"], \"legendgroup\": \"France\", \"marker\": {\"color\": \"#00cc96\", \"size\": [65273511], \"sizemode\": \"area\", \"sizeref\": 91945.18083333333, \"symbol\": \"circle\"}, \"mode\": \"markers\", \"name\": \"France\", \"orientation\": \"v\", \"showlegend\": true, \"type\": \"scatter\", \"x\": [10.58422279], \"xaxis\": \"x\", \"y\": [73.80193329], \"yaxis\": \"y\"}, {\"hovertemplate\": \"<b>%{hovertext}</b><br><br>Country=Mexico<br>GDP per capita=%{x}<br>Healthy life expectancy=%{y}<br>Population=%{marker.size}<extra></extra>\", \"hovertext\": [\"Mexico\"], \"legendgroup\": \"Mexico\", \"marker\": {\"color\": \"#ab63fa\", \"size\": [128932753], \"sizemode\": \"area\", \"sizeref\": 91945.18083333333, \"symbol\": \"circle\"}, \"mode\": \"markers\", \"name\": \"Mexico\", \"orientation\": \"v\", \"showlegend\": true, \"type\": \"scatter\", \"x\": [9.797797203], \"xaxis\": \"x\", \"y\": [68.29902649], \"yaxis\": \"y\"}, {\"hovertemplate\": \"<b>%{hovertext}</b><br><br>Country=Taiwan Province of China<br>GDP per capita=%{x}<br>Healthy life expectancy=%{y}<br>Population=%{marker.size}<extra></extra>\", \"hovertext\": [\"Taiwan Province of China\"], \"legendgroup\": \"Taiwan Province of China\", \"marker\": {\"color\": \"#FFA15A\", \"size\": [23816775], \"sizemode\": \"area\", \"sizeref\": 91945.18083333333, \"symbol\": \"circle\"}, \"mode\": \"markers\", \"name\": \"Taiwan Province of China\", \"orientation\": \"v\", \"showlegend\": true, \"type\": \"scatter\", \"x\": [10.77568531], \"xaxis\": \"x\", \"y\": [69.59999847], \"yaxis\": \"y\"}, {\"hovertemplate\": \"<b>%{hovertext}</b><br><br>Country=Uruguay<br>GDP per capita=%{x}<br>Healthy life expectancy=%{y}<br>Population=%{marker.size}<extra></extra>\", \"hovertext\": [\"Uruguay\"], \"legendgroup\": \"Uruguay\", \"marker\": {\"color\": \"#19d3f3\", \"size\": [3473730], \"sizemode\": \"area\", \"sizeref\": 91945.18083333333, \"symbol\": \"circle\"}, \"mode\": \"markers\", \"name\": \"Uruguay\", \"orientation\": \"v\", \"showlegend\": true, \"type\": \"scatter\", \"x\": [9.948192596], \"xaxis\": \"x\", \"y\": [69.00254822], \"yaxis\": \"y\"}, {\"hovertemplate\": \"<b>%{hovertext}</b><br><br>Country=Saudi Arabia<br>GDP per capita=%{x}<br>Healthy life expectancy=%{y}<br>Population=%{marker.size}<extra></extra>\", \"hovertext\": [\"Saudi Arabia\"], \"legendgroup\": \"Saudi Arabia\", \"marker\": {\"color\": \"#FF6692\", \"size\": [34813871], \"sizemode\": \"area\", \"sizeref\": 91945.18083333333, \"symbol\": \"circle\"}, \"mode\": \"markers\", \"name\": \"Saudi Arabia\", \"orientation\": \"v\", \"showlegend\": true, \"type\": \"scatter\", \"x\": [10.79781246], \"xaxis\": \"x\", \"y\": [66.30514526], \"yaxis\": \"y\"}, {\"hovertemplate\": \"<b>%{hovertext}</b><br><br>Country=Spain<br>GDP per capita=%{x}<br>Healthy life expectancy=%{y}<br>Population=%{marker.size}<extra></extra>\", \"hovertext\": [\"Spain\"], \"legendgroup\": \"Spain\", \"marker\": {\"color\": \"#B6E880\", \"size\": [46754778], \"sizemode\": \"area\", \"sizeref\": 91945.18083333333, \"symbol\": \"circle\"}, \"mode\": \"markers\", \"name\": \"Spain\", \"orientation\": \"v\", \"showlegend\": true, \"type\": \"scatter\", \"x\": [10.46292686], \"xaxis\": \"x\", \"y\": [74.40270996], \"yaxis\": \"y\"}, {\"hovertemplate\": \"<b>%{hovertext}</b><br><br>Country=Guatemala<br>GDP per capita=%{x}<br>Healthy life expectancy=%{y}<br>Population=%{marker.size}<extra></extra>\", \"hovertext\": [\"Guatemala\"], \"legendgroup\": \"Guatemala\", \"marker\": {\"color\": \"#FF97FF\", \"size\": [17915568], \"sizemode\": \"area\", \"sizeref\": 91945.18083333333, \"symbol\": \"circle\"}, \"mode\": \"markers\", \"name\": \"Guatemala\", \"orientation\": \"v\", \"showlegend\": true, \"type\": \"scatter\", \"x\": [8.924805641], \"xaxis\": \"x\", \"y\": [64.8089447], \"yaxis\": \"y\"}, {\"hovertemplate\": \"<b>%{hovertext}</b><br><br>Country=Italy<br>GDP per capita=%{x}<br>Healthy life expectancy=%{y}<br>Population=%{marker.size}<extra></extra>\", \"hovertext\": [\"Italy\"], \"legendgroup\": \"Italy\", \"marker\": {\"color\": \"#FECB52\", \"size\": [60461826], \"sizemode\": \"area\", \"sizeref\": 91945.18083333333, \"symbol\": \"circle\"}, \"mode\": \"markers\", \"name\": \"Italy\", \"orientation\": \"v\", \"showlegend\": true, \"type\": \"scatter\", \"x\": [10.48183632], \"xaxis\": \"x\", \"y\": [73.60168457], \"yaxis\": \"y\"}],                        {\"height\": 500, \"legend\": {\"itemsizing\": \"constant\", \"title\": {\"text\": \"Country\"}, \"tracegroupgap\": 0}, \"template\": {\"data\": {\"bar\": [{\"error_x\": {\"color\": \"#2a3f5f\"}, \"error_y\": {\"color\": \"#2a3f5f\"}, \"marker\": {\"line\": {\"color\": \"#E5ECF6\", \"width\": 0.5}}, \"type\": \"bar\"}], \"barpolar\": [{\"marker\": {\"line\": {\"color\": \"#E5ECF6\", \"width\": 0.5}}, \"type\": \"barpolar\"}], \"carpet\": [{\"aaxis\": {\"endlinecolor\": \"#2a3f5f\", \"gridcolor\": \"white\", \"linecolor\": \"white\", \"minorgridcolor\": \"white\", \"startlinecolor\": \"#2a3f5f\"}, \"baxis\": {\"endlinecolor\": \"#2a3f5f\", \"gridcolor\": \"white\", \"linecolor\": \"white\", \"minorgridcolor\": \"white\", \"startlinecolor\": \"#2a3f5f\"}, \"type\": \"carpet\"}], \"choropleth\": [{\"colorbar\": {\"outlinewidth\": 0, \"ticks\": \"\"}, \"type\": \"choropleth\"}], \"contour\": [{\"colorbar\": {\"outlinewidth\": 0, \"ticks\": \"\"}, \"colorscale\": [[0.0, \"#0d0887\"], [0.1111111111111111, \"#46039f\"], [0.2222222222222222, \"#7201a8\"], [0.3333333333333333, \"#9c179e\"], [0.4444444444444444, \"#bd3786\"], [0.5555555555555556, \"#d8576b\"], [0.6666666666666666, \"#ed7953\"], [0.7777777777777778, \"#fb9f3a\"], [0.8888888888888888, \"#fdca26\"], [1.0, \"#f0f921\"]], \"type\": \"contour\"}], \"contourcarpet\": [{\"colorbar\": {\"outlinewidth\": 0, \"ticks\": \"\"}, \"type\": \"contourcarpet\"}], \"heatmap\": [{\"colorbar\": {\"outlinewidth\": 0, \"ticks\": \"\"}, \"colorscale\": [[0.0, \"#0d0887\"], [0.1111111111111111, \"#46039f\"], [0.2222222222222222, \"#7201a8\"], [0.3333333333333333, \"#9c179e\"], [0.4444444444444444, \"#bd3786\"], [0.5555555555555556, \"#d8576b\"], [0.6666666666666666, \"#ed7953\"], [0.7777777777777778, \"#fb9f3a\"], [0.8888888888888888, \"#fdca26\"], [1.0, \"#f0f921\"]], \"type\": \"heatmap\"}], \"heatmapgl\": [{\"colorbar\": {\"outlinewidth\": 0, \"ticks\": \"\"}, \"colorscale\": [[0.0, \"#0d0887\"], [0.1111111111111111, \"#46039f\"], [0.2222222222222222, \"#7201a8\"], [0.3333333333333333, \"#9c179e\"], [0.4444444444444444, \"#bd3786\"], [0.5555555555555556, \"#d8576b\"], [0.6666666666666666, \"#ed7953\"], [0.7777777777777778, \"#fb9f3a\"], [0.8888888888888888, \"#fdca26\"], [1.0, \"#f0f921\"]], \"type\": \"heatmapgl\"}], \"histogram\": [{\"marker\": {\"colorbar\": {\"outlinewidth\": 0, \"ticks\": \"\"}}, \"type\": \"histogram\"}], \"histogram2d\": [{\"colorbar\": {\"outlinewidth\": 0, \"ticks\": \"\"}, \"colorscale\": [[0.0, \"#0d0887\"], [0.1111111111111111, \"#46039f\"], [0.2222222222222222, \"#7201a8\"], [0.3333333333333333, \"#9c179e\"], [0.4444444444444444, \"#bd3786\"], [0.5555555555555556, \"#d8576b\"], [0.6666666666666666, \"#ed7953\"], [0.7777777777777778, \"#fb9f3a\"], [0.8888888888888888, \"#fdca26\"], [1.0, \"#f0f921\"]], \"type\": \"histogram2d\"}], \"histogram2dcontour\": [{\"colorbar\": {\"outlinewidth\": 0, \"ticks\": \"\"}, \"colorscale\": [[0.0, \"#0d0887\"], [0.1111111111111111, \"#46039f\"], [0.2222222222222222, \"#7201a8\"], [0.3333333333333333, \"#9c179e\"], [0.4444444444444444, \"#bd3786\"], [0.5555555555555556, \"#d8576b\"], [0.6666666666666666, \"#ed7953\"], [0.7777777777777778, \"#fb9f3a\"], [0.8888888888888888, \"#fdca26\"], [1.0, \"#f0f921\"]], \"type\": \"histogram2dcontour\"}], \"mesh3d\": [{\"colorbar\": {\"outlinewidth\": 0, \"ticks\": \"\"}, \"type\": \"mesh3d\"}], \"parcoords\": [{\"line\": {\"colorbar\": {\"outlinewidth\": 0, \"ticks\": \"\"}}, \"type\": \"parcoords\"}], \"pie\": [{\"automargin\": true, \"type\": \"pie\"}], \"scatter\": [{\"marker\": {\"colorbar\": {\"outlinewidth\": 0, \"ticks\": \"\"}}, \"type\": \"scatter\"}], \"scatter3d\": [{\"line\": {\"colorbar\": {\"outlinewidth\": 0, \"ticks\": \"\"}}, \"marker\": {\"colorbar\": {\"outlinewidth\": 0, \"ticks\": \"\"}}, \"type\": \"scatter3d\"}], \"scattercarpet\": [{\"marker\": {\"colorbar\": {\"outlinewidth\": 0, \"ticks\": \"\"}}, \"type\": \"scattercarpet\"}], \"scattergeo\": [{\"marker\": {\"colorbar\": {\"outlinewidth\": 0, \"ticks\": \"\"}}, \"type\": \"scattergeo\"}], \"scattergl\": [{\"marker\": {\"colorbar\": {\"outlinewidth\": 0, \"ticks\": \"\"}}, \"type\": \"scattergl\"}], \"scattermapbox\": [{\"marker\": {\"colorbar\": {\"outlinewidth\": 0, \"ticks\": \"\"}}, \"type\": \"scattermapbox\"}], \"scatterpolar\": [{\"marker\": {\"colorbar\": {\"outlinewidth\": 0, \"ticks\": \"\"}}, \"type\": \"scatterpolar\"}], \"scatterpolargl\": [{\"marker\": {\"colorbar\": {\"outlinewidth\": 0, \"ticks\": \"\"}}, \"type\": \"scatterpolargl\"}], \"scatterternary\": [{\"marker\": {\"colorbar\": {\"outlinewidth\": 0, \"ticks\": \"\"}}, \"type\": \"scatterternary\"}], \"surface\": [{\"colorbar\": {\"outlinewidth\": 0, \"ticks\": \"\"}, \"colorscale\": [[0.0, \"#0d0887\"], [0.1111111111111111, \"#46039f\"], [0.2222222222222222, \"#7201a8\"], [0.3333333333333333, \"#9c179e\"], [0.4444444444444444, \"#bd3786\"], [0.5555555555555556, \"#d8576b\"], [0.6666666666666666, \"#ed7953\"], [0.7777777777777778, \"#fb9f3a\"], [0.8888888888888888, \"#fdca26\"], [1.0, \"#f0f921\"]], \"type\": \"surface\"}], \"table\": [{\"cells\": {\"fill\": {\"color\": \"#EBF0F8\"}, \"line\": {\"color\": \"white\"}}, \"header\": {\"fill\": {\"color\": \"#C8D4E3\"}, \"line\": {\"color\": \"white\"}}, \"type\": \"table\"}]}, \"layout\": {\"annotationdefaults\": {\"arrowcolor\": \"#2a3f5f\", \"arrowhead\": 0, \"arrowwidth\": 1}, \"autotypenumbers\": \"strict\", \"coloraxis\": {\"colorbar\": {\"outlinewidth\": 0, \"ticks\": \"\"}}, \"colorscale\": {\"diverging\": [[0, \"#8e0152\"], [0.1, \"#c51b7d\"], [0.2, \"#de77ae\"], [0.3, \"#f1b6da\"], [0.4, \"#fde0ef\"], [0.5, \"#f7f7f7\"], [0.6, \"#e6f5d0\"], [0.7, \"#b8e186\"], [0.8, \"#7fbc41\"], [0.9, \"#4d9221\"], [1, \"#276419\"]], \"sequential\": [[0.0, \"#0d0887\"], [0.1111111111111111, \"#46039f\"], [0.2222222222222222, \"#7201a8\"], [0.3333333333333333, \"#9c179e\"], [0.4444444444444444, \"#bd3786\"], [0.5555555555555556, \"#d8576b\"], [0.6666666666666666, \"#ed7953\"], [0.7777777777777778, \"#fb9f3a\"], [0.8888888888888888, \"#fdca26\"], [1.0, \"#f0f921\"]], \"sequentialminus\": [[0.0, \"#0d0887\"], [0.1111111111111111, \"#46039f\"], [0.2222222222222222, \"#7201a8\"], [0.3333333333333333, \"#9c179e\"], [0.4444444444444444, \"#bd3786\"], [0.5555555555555556, \"#d8576b\"], [0.6666666666666666, \"#ed7953\"], [0.7777777777777778, \"#fb9f3a\"], [0.8888888888888888, \"#fdca26\"], [1.0, \"#f0f921\"]]}, \"colorway\": [\"#636efa\", \"#EF553B\", \"#00cc96\", \"#ab63fa\", \"#FFA15A\", \"#19d3f3\", \"#FF6692\", \"#B6E880\", \"#FF97FF\", \"#FECB52\"], \"font\": {\"color\": \"#2a3f5f\"}, \"geo\": {\"bgcolor\": \"white\", \"lakecolor\": \"white\", \"landcolor\": \"#E5ECF6\", \"showlakes\": true, \"showland\": true, \"subunitcolor\": \"white\"}, \"hoverlabel\": {\"align\": \"left\"}, \"hovermode\": \"closest\", \"mapbox\": {\"style\": \"light\"}, \"paper_bgcolor\": \"white\", \"plot_bgcolor\": \"#E5ECF6\", \"polar\": {\"angularaxis\": {\"gridcolor\": \"white\", \"linecolor\": \"white\", \"ticks\": \"\"}, \"bgcolor\": \"#E5ECF6\", \"radialaxis\": {\"gridcolor\": \"white\", \"linecolor\": \"white\", \"ticks\": \"\"}}, \"scene\": {\"xaxis\": {\"backgroundcolor\": \"#E5ECF6\", \"gridcolor\": \"white\", \"gridwidth\": 2, \"linecolor\": \"white\", \"showbackground\": true, \"ticks\": \"\", \"zerolinecolor\": \"white\"}, \"yaxis\": {\"backgroundcolor\": \"#E5ECF6\", \"gridcolor\": \"white\", \"gridwidth\": 2, \"linecolor\": \"white\", \"showbackground\": true, \"ticks\": \"\", \"zerolinecolor\": \"white\"}, \"zaxis\": {\"backgroundcolor\": \"#E5ECF6\", \"gridcolor\": \"white\", \"gridwidth\": 2, \"linecolor\": \"white\", \"showbackground\": true, \"ticks\": \"\", \"zerolinecolor\": \"white\"}}, \"shapedefaults\": {\"line\": {\"color\": \"#2a3f5f\"}}, \"ternary\": {\"aaxis\": {\"gridcolor\": \"white\", \"linecolor\": \"white\", \"ticks\": \"\"}, \"baxis\": {\"gridcolor\": \"white\", \"linecolor\": \"white\", \"ticks\": \"\"}, \"bgcolor\": \"#E5ECF6\", \"caxis\": {\"gridcolor\": \"white\", \"linecolor\": \"white\", \"ticks\": \"\"}}, \"title\": {\"x\": 0.05}, \"xaxis\": {\"automargin\": true, \"gridcolor\": \"white\", \"linecolor\": \"white\", \"ticks\": \"\", \"title\": {\"standoff\": 15}, \"zerolinecolor\": \"white\", \"zerolinewidth\": 2}, \"yaxis\": {\"automargin\": true, \"gridcolor\": \"white\", \"linecolor\": \"white\", \"ticks\": \"\", \"title\": {\"standoff\": 15}, \"zerolinecolor\": \"white\", \"zerolinewidth\": 2}}}, \"title\": {\"text\": \"GDP Vs Healthy Life Expectancy\"}, \"width\": 1080, \"xaxis\": {\"anchor\": \"y\", \"domain\": [0.0, 1.0], \"title\": {\"text\": \"GDP per capita\"}, \"type\": \"log\"}, \"yaxis\": {\"anchor\": \"x\", \"domain\": [0.0, 1.0], \"title\": {\"text\": \"Healthy life expectancy\"}}},                        {\"responsive\": true}                    ).then(function(){\n",
       "                            \n",
       "var gd = document.getElementById('15295340-f4c4-46f6-bddd-fb087b6eda83');\n",
       "var x = new MutationObserver(function (mutations, observer) {{\n",
       "        var display = window.getComputedStyle(gd).display;\n",
       "        if (!display || display === 'none') {{\n",
       "            console.log([gd, 'removed!']);\n",
       "            Plotly.purge(gd);\n",
       "            observer.disconnect();\n",
       "        }}\n",
       "}});\n",
       "\n",
       "// Listen for the removal of the full notebook cells\n",
       "var notebookContainer = gd.closest('#notebook-container');\n",
       "if (notebookContainer) {{\n",
       "    x.observe(notebookContainer, {childList: true});\n",
       "}}\n",
       "\n",
       "// Listen for the clearing of the current output cell\n",
       "var outputEl = gd.closest('.output');\n",
       "if (outputEl) {{\n",
       "    x.observe(outputEl, {childList: true});\n",
       "}}\n",
       "\n",
       "                        })                };                });            </script>        </div>"
      ]
     },
     "metadata": {},
     "output_type": "display_data"
    }
   ],
   "source": [
    "import plotly.express as px\n",
    "\n",
    "fig = px.scatter(df2020_new, x=\"GDP per capita\", y=\"Healthy life expectancy\", title = \"GDP Vs Healthy Life Expectancy\",\n",
    "         size=\"Population\", color=\"Country\",hover_name=\"Country\", log_x=True, size_max=60, width=1080, height=500)\n",
    "fig.show()\n"
   ]
  },
  {
   "cell_type": "markdown",
   "metadata": {},
   "source": [
    "### TOP 3 COUNTRY PLOTS FOR 2021"
   ]
  },
  {
   "cell_type": "code",
   "execution_count": 44,
   "metadata": {},
   "outputs": [
    {
     "data": {
      "application/vnd.plotly.v1+json": {
       "config": {
        "linkText": "Export to plot.ly",
        "plotlyServerURL": "https://plot.ly",
        "showLink": false
       },
       "data": [
        {
         "marker": {
          "color": "rgba(255, 0, 0, 0.5)",
          "line": {
           "color": "black",
           "width": 2
          }
         },
         "name": "Social support",
         "text": [
          1,
          2,
          3,
          4,
          5,
          6,
          7,
          8,
          9,
          10
         ],
         "type": "bar",
         "x": [
          "Finland",
          "Denmark",
          "Switzerland",
          "Iceland",
          "Norway",
          "Netherlands",
          "Sweden",
          "New Zealand",
          "Austria",
          "Luxembourg"
         ],
         "y": [
          0.954329729,
          0.955990791,
          0.942846596,
          0.9746695759999999,
          0.952486575,
          0.93913883,
          0.926311195,
          0.9491189720000001,
          0.9280458690000001,
          0.9069122079999999
         ]
        },
        {
         "marker": {
          "color": "rgba(0, 99, 0, 0.7)",
          "line": {
           "color": "black",
           "width": 2
          }
         },
         "name": "Freedom to make life choices",
         "text": [
          1,
          2,
          3,
          4,
          5,
          6,
          7,
          8,
          9,
          10
         ],
         "type": "bar",
         "x": [
          "Finland",
          "Denmark",
          "Switzerland",
          "Iceland",
          "Norway",
          "Netherlands",
          "Sweden",
          "New Zealand",
          "Austria",
          "Luxembourg"
         ],
         "y": [
          0.949172199,
          0.9514442679999999,
          0.921336651,
          0.948891878,
          0.955750287,
          0.908547819,
          0.939144194,
          0.9362174870000001,
          0.899989486,
          0.90563643
         ]
        },
        {
         "marker": {
          "color": "rgba(106, 90, 20, 1)",
          "line": {
           "color": "black",
           "width": 2
          }
         },
         "name": "Perceptions of corruption",
         "text": [
          1,
          2,
          3,
          4,
          5,
          6,
          7,
          8,
          9,
          10
         ],
         "type": "bar",
         "x": [
          "Finland",
          "Denmark",
          "Switzerland",
          "Iceland",
          "Norway",
          "Netherlands",
          "Sweden",
          "New Zealand",
          "Austria",
          "Luxembourg"
         ],
         "y": [
          0.19544458399999998,
          0.168489456,
          0.303728431,
          0.7117097379999999,
          0.26321819399999996,
          0.364717126,
          0.250880182,
          0.22113885,
          0.49995487899999996,
          0.367084295
         ]
        }
       ],
       "layout": {
        "barmode": "group",
        "template": {
         "data": {
          "bar": [
           {
            "error_x": {
             "color": "#2a3f5f"
            },
            "error_y": {
             "color": "#2a3f5f"
            },
            "marker": {
             "line": {
              "color": "#E5ECF6",
              "width": 0.5
             }
            },
            "type": "bar"
           }
          ],
          "barpolar": [
           {
            "marker": {
             "line": {
              "color": "#E5ECF6",
              "width": 0.5
             }
            },
            "type": "barpolar"
           }
          ],
          "carpet": [
           {
            "aaxis": {
             "endlinecolor": "#2a3f5f",
             "gridcolor": "white",
             "linecolor": "white",
             "minorgridcolor": "white",
             "startlinecolor": "#2a3f5f"
            },
            "baxis": {
             "endlinecolor": "#2a3f5f",
             "gridcolor": "white",
             "linecolor": "white",
             "minorgridcolor": "white",
             "startlinecolor": "#2a3f5f"
            },
            "type": "carpet"
           }
          ],
          "choropleth": [
           {
            "colorbar": {
             "outlinewidth": 0,
             "ticks": ""
            },
            "type": "choropleth"
           }
          ],
          "contour": [
           {
            "colorbar": {
             "outlinewidth": 0,
             "ticks": ""
            },
            "colorscale": [
             [
              0,
              "#0d0887"
             ],
             [
              0.1111111111111111,
              "#46039f"
             ],
             [
              0.2222222222222222,
              "#7201a8"
             ],
             [
              0.3333333333333333,
              "#9c179e"
             ],
             [
              0.4444444444444444,
              "#bd3786"
             ],
             [
              0.5555555555555556,
              "#d8576b"
             ],
             [
              0.6666666666666666,
              "#ed7953"
             ],
             [
              0.7777777777777778,
              "#fb9f3a"
             ],
             [
              0.8888888888888888,
              "#fdca26"
             ],
             [
              1,
              "#f0f921"
             ]
            ],
            "type": "contour"
           }
          ],
          "contourcarpet": [
           {
            "colorbar": {
             "outlinewidth": 0,
             "ticks": ""
            },
            "type": "contourcarpet"
           }
          ],
          "heatmap": [
           {
            "colorbar": {
             "outlinewidth": 0,
             "ticks": ""
            },
            "colorscale": [
             [
              0,
              "#0d0887"
             ],
             [
              0.1111111111111111,
              "#46039f"
             ],
             [
              0.2222222222222222,
              "#7201a8"
             ],
             [
              0.3333333333333333,
              "#9c179e"
             ],
             [
              0.4444444444444444,
              "#bd3786"
             ],
             [
              0.5555555555555556,
              "#d8576b"
             ],
             [
              0.6666666666666666,
              "#ed7953"
             ],
             [
              0.7777777777777778,
              "#fb9f3a"
             ],
             [
              0.8888888888888888,
              "#fdca26"
             ],
             [
              1,
              "#f0f921"
             ]
            ],
            "type": "heatmap"
           }
          ],
          "heatmapgl": [
           {
            "colorbar": {
             "outlinewidth": 0,
             "ticks": ""
            },
            "colorscale": [
             [
              0,
              "#0d0887"
             ],
             [
              0.1111111111111111,
              "#46039f"
             ],
             [
              0.2222222222222222,
              "#7201a8"
             ],
             [
              0.3333333333333333,
              "#9c179e"
             ],
             [
              0.4444444444444444,
              "#bd3786"
             ],
             [
              0.5555555555555556,
              "#d8576b"
             ],
             [
              0.6666666666666666,
              "#ed7953"
             ],
             [
              0.7777777777777778,
              "#fb9f3a"
             ],
             [
              0.8888888888888888,
              "#fdca26"
             ],
             [
              1,
              "#f0f921"
             ]
            ],
            "type": "heatmapgl"
           }
          ],
          "histogram": [
           {
            "marker": {
             "colorbar": {
              "outlinewidth": 0,
              "ticks": ""
             }
            },
            "type": "histogram"
           }
          ],
          "histogram2d": [
           {
            "colorbar": {
             "outlinewidth": 0,
             "ticks": ""
            },
            "colorscale": [
             [
              0,
              "#0d0887"
             ],
             [
              0.1111111111111111,
              "#46039f"
             ],
             [
              0.2222222222222222,
              "#7201a8"
             ],
             [
              0.3333333333333333,
              "#9c179e"
             ],
             [
              0.4444444444444444,
              "#bd3786"
             ],
             [
              0.5555555555555556,
              "#d8576b"
             ],
             [
              0.6666666666666666,
              "#ed7953"
             ],
             [
              0.7777777777777778,
              "#fb9f3a"
             ],
             [
              0.8888888888888888,
              "#fdca26"
             ],
             [
              1,
              "#f0f921"
             ]
            ],
            "type": "histogram2d"
           }
          ],
          "histogram2dcontour": [
           {
            "colorbar": {
             "outlinewidth": 0,
             "ticks": ""
            },
            "colorscale": [
             [
              0,
              "#0d0887"
             ],
             [
              0.1111111111111111,
              "#46039f"
             ],
             [
              0.2222222222222222,
              "#7201a8"
             ],
             [
              0.3333333333333333,
              "#9c179e"
             ],
             [
              0.4444444444444444,
              "#bd3786"
             ],
             [
              0.5555555555555556,
              "#d8576b"
             ],
             [
              0.6666666666666666,
              "#ed7953"
             ],
             [
              0.7777777777777778,
              "#fb9f3a"
             ],
             [
              0.8888888888888888,
              "#fdca26"
             ],
             [
              1,
              "#f0f921"
             ]
            ],
            "type": "histogram2dcontour"
           }
          ],
          "mesh3d": [
           {
            "colorbar": {
             "outlinewidth": 0,
             "ticks": ""
            },
            "type": "mesh3d"
           }
          ],
          "parcoords": [
           {
            "line": {
             "colorbar": {
              "outlinewidth": 0,
              "ticks": ""
             }
            },
            "type": "parcoords"
           }
          ],
          "pie": [
           {
            "automargin": true,
            "type": "pie"
           }
          ],
          "scatter": [
           {
            "marker": {
             "colorbar": {
              "outlinewidth": 0,
              "ticks": ""
             }
            },
            "type": "scatter"
           }
          ],
          "scatter3d": [
           {
            "line": {
             "colorbar": {
              "outlinewidth": 0,
              "ticks": ""
             }
            },
            "marker": {
             "colorbar": {
              "outlinewidth": 0,
              "ticks": ""
             }
            },
            "type": "scatter3d"
           }
          ],
          "scattercarpet": [
           {
            "marker": {
             "colorbar": {
              "outlinewidth": 0,
              "ticks": ""
             }
            },
            "type": "scattercarpet"
           }
          ],
          "scattergeo": [
           {
            "marker": {
             "colorbar": {
              "outlinewidth": 0,
              "ticks": ""
             }
            },
            "type": "scattergeo"
           }
          ],
          "scattergl": [
           {
            "marker": {
             "colorbar": {
              "outlinewidth": 0,
              "ticks": ""
             }
            },
            "type": "scattergl"
           }
          ],
          "scattermapbox": [
           {
            "marker": {
             "colorbar": {
              "outlinewidth": 0,
              "ticks": ""
             }
            },
            "type": "scattermapbox"
           }
          ],
          "scatterpolar": [
           {
            "marker": {
             "colorbar": {
              "outlinewidth": 0,
              "ticks": ""
             }
            },
            "type": "scatterpolar"
           }
          ],
          "scatterpolargl": [
           {
            "marker": {
             "colorbar": {
              "outlinewidth": 0,
              "ticks": ""
             }
            },
            "type": "scatterpolargl"
           }
          ],
          "scatterternary": [
           {
            "marker": {
             "colorbar": {
              "outlinewidth": 0,
              "ticks": ""
             }
            },
            "type": "scatterternary"
           }
          ],
          "surface": [
           {
            "colorbar": {
             "outlinewidth": 0,
             "ticks": ""
            },
            "colorscale": [
             [
              0,
              "#0d0887"
             ],
             [
              0.1111111111111111,
              "#46039f"
             ],
             [
              0.2222222222222222,
              "#7201a8"
             ],
             [
              0.3333333333333333,
              "#9c179e"
             ],
             [
              0.4444444444444444,
              "#bd3786"
             ],
             [
              0.5555555555555556,
              "#d8576b"
             ],
             [
              0.6666666666666666,
              "#ed7953"
             ],
             [
              0.7777777777777778,
              "#fb9f3a"
             ],
             [
              0.8888888888888888,
              "#fdca26"
             ],
             [
              1,
              "#f0f921"
             ]
            ],
            "type": "surface"
           }
          ],
          "table": [
           {
            "cells": {
             "fill": {
              "color": "#EBF0F8"
             },
             "line": {
              "color": "white"
             }
            },
            "header": {
             "fill": {
              "color": "#C8D4E3"
             },
             "line": {
              "color": "white"
             }
            },
            "type": "table"
           }
          ]
         },
         "layout": {
          "annotationdefaults": {
           "arrowcolor": "#2a3f5f",
           "arrowhead": 0,
           "arrowwidth": 1
          },
          "autotypenumbers": "strict",
          "coloraxis": {
           "colorbar": {
            "outlinewidth": 0,
            "ticks": ""
           }
          },
          "colorscale": {
           "diverging": [
            [
             0,
             "#8e0152"
            ],
            [
             0.1,
             "#c51b7d"
            ],
            [
             0.2,
             "#de77ae"
            ],
            [
             0.3,
             "#f1b6da"
            ],
            [
             0.4,
             "#fde0ef"
            ],
            [
             0.5,
             "#f7f7f7"
            ],
            [
             0.6,
             "#e6f5d0"
            ],
            [
             0.7,
             "#b8e186"
            ],
            [
             0.8,
             "#7fbc41"
            ],
            [
             0.9,
             "#4d9221"
            ],
            [
             1,
             "#276419"
            ]
           ],
           "sequential": [
            [
             0,
             "#0d0887"
            ],
            [
             0.1111111111111111,
             "#46039f"
            ],
            [
             0.2222222222222222,
             "#7201a8"
            ],
            [
             0.3333333333333333,
             "#9c179e"
            ],
            [
             0.4444444444444444,
             "#bd3786"
            ],
            [
             0.5555555555555556,
             "#d8576b"
            ],
            [
             0.6666666666666666,
             "#ed7953"
            ],
            [
             0.7777777777777778,
             "#fb9f3a"
            ],
            [
             0.8888888888888888,
             "#fdca26"
            ],
            [
             1,
             "#f0f921"
            ]
           ],
           "sequentialminus": [
            [
             0,
             "#0d0887"
            ],
            [
             0.1111111111111111,
             "#46039f"
            ],
            [
             0.2222222222222222,
             "#7201a8"
            ],
            [
             0.3333333333333333,
             "#9c179e"
            ],
            [
             0.4444444444444444,
             "#bd3786"
            ],
            [
             0.5555555555555556,
             "#d8576b"
            ],
            [
             0.6666666666666666,
             "#ed7953"
            ],
            [
             0.7777777777777778,
             "#fb9f3a"
            ],
            [
             0.8888888888888888,
             "#fdca26"
            ],
            [
             1,
             "#f0f921"
            ]
           ]
          },
          "colorway": [
           "#636efa",
           "#EF553B",
           "#00cc96",
           "#ab63fa",
           "#FFA15A",
           "#19d3f3",
           "#FF6692",
           "#B6E880",
           "#FF97FF",
           "#FECB52"
          ],
          "font": {
           "color": "#2a3f5f"
          },
          "geo": {
           "bgcolor": "white",
           "lakecolor": "white",
           "landcolor": "#E5ECF6",
           "showlakes": true,
           "showland": true,
           "subunitcolor": "white"
          },
          "hoverlabel": {
           "align": "left"
          },
          "hovermode": "closest",
          "mapbox": {
           "style": "light"
          },
          "paper_bgcolor": "white",
          "plot_bgcolor": "#E5ECF6",
          "polar": {
           "angularaxis": {
            "gridcolor": "white",
            "linecolor": "white",
            "ticks": ""
           },
           "bgcolor": "#E5ECF6",
           "radialaxis": {
            "gridcolor": "white",
            "linecolor": "white",
            "ticks": ""
           }
          },
          "scene": {
           "xaxis": {
            "backgroundcolor": "#E5ECF6",
            "gridcolor": "white",
            "gridwidth": 2,
            "linecolor": "white",
            "showbackground": true,
            "ticks": "",
            "zerolinecolor": "white"
           },
           "yaxis": {
            "backgroundcolor": "#E5ECF6",
            "gridcolor": "white",
            "gridwidth": 2,
            "linecolor": "white",
            "showbackground": true,
            "ticks": "",
            "zerolinecolor": "white"
           },
           "zaxis": {
            "backgroundcolor": "#E5ECF6",
            "gridcolor": "white",
            "gridwidth": 2,
            "linecolor": "white",
            "showbackground": true,
            "ticks": "",
            "zerolinecolor": "white"
           }
          },
          "shapedefaults": {
           "line": {
            "color": "#2a3f5f"
           }
          },
          "ternary": {
           "aaxis": {
            "gridcolor": "white",
            "linecolor": "white",
            "ticks": ""
           },
           "baxis": {
            "gridcolor": "white",
            "linecolor": "white",
            "ticks": ""
           },
           "bgcolor": "#E5ECF6",
           "caxis": {
            "gridcolor": "white",
            "linecolor": "white",
            "ticks": ""
           }
          },
          "title": {
           "x": 0.05
          },
          "xaxis": {
           "automargin": true,
           "gridcolor": "white",
           "linecolor": "white",
           "ticks": "",
           "title": {
            "standoff": 15
           },
           "zerolinecolor": "white",
           "zerolinewidth": 2
          },
          "yaxis": {
           "automargin": true,
           "gridcolor": "white",
           "linecolor": "white",
           "ticks": "",
           "title": {
            "standoff": 15
           },
           "zerolinecolor": "white",
           "zerolinewidth": 2
          }
         }
        }
       }
      },
      "text/html": [
       "<div>                            <div id=\"3a210708-1027-4c94-985f-368653585dde\" class=\"plotly-graph-div\" style=\"height:525px; width:100%;\"></div>            <script type=\"text/javascript\">                require([\"plotly\"], function(Plotly) {                    window.PLOTLYENV=window.PLOTLYENV || {};                                    if (document.getElementById(\"3a210708-1027-4c94-985f-368653585dde\")) {                    Plotly.newPlot(                        \"3a210708-1027-4c94-985f-368653585dde\",                        [{\"marker\": {\"color\": \"rgba(255, 0, 0, 0.5)\", \"line\": {\"color\": \"black\", \"width\": 2}}, \"name\": \"Social support\", \"text\": [1.0, 2.0, 3.0, 4.0, 5.0, 6.0, 7.0, 8.0, 9.0, 10.0], \"type\": \"bar\", \"x\": [\"Finland\", \"Denmark\", \"Switzerland\", \"Iceland\", \"Norway\", \"Netherlands\", \"Sweden\", \"New Zealand\", \"Austria\", \"Luxembourg\"], \"y\": [0.954329729, 0.955990791, 0.942846596, 0.9746695759999999, 0.952486575, 0.93913883, 0.926311195, 0.9491189720000001, 0.9280458690000001, 0.9069122079999999]}, {\"marker\": {\"color\": \"rgba(0, 99, 0, 0.7)\", \"line\": {\"color\": \"black\", \"width\": 2}}, \"name\": \"Freedom to make life choices\", \"text\": [1.0, 2.0, 3.0, 4.0, 5.0, 6.0, 7.0, 8.0, 9.0, 10.0], \"type\": \"bar\", \"x\": [\"Finland\", \"Denmark\", \"Switzerland\", \"Iceland\", \"Norway\", \"Netherlands\", \"Sweden\", \"New Zealand\", \"Austria\", \"Luxembourg\"], \"y\": [0.949172199, 0.9514442679999999, 0.921336651, 0.948891878, 0.955750287, 0.908547819, 0.939144194, 0.9362174870000001, 0.899989486, 0.90563643]}, {\"marker\": {\"color\": \"rgba(106, 90, 20, 1)\", \"line\": {\"color\": \"black\", \"width\": 2}}, \"name\": \"Perceptions of corruption\", \"text\": [1.0, 2.0, 3.0, 4.0, 5.0, 6.0, 7.0, 8.0, 9.0, 10.0], \"type\": \"bar\", \"x\": [\"Finland\", \"Denmark\", \"Switzerland\", \"Iceland\", \"Norway\", \"Netherlands\", \"Sweden\", \"New Zealand\", \"Austria\", \"Luxembourg\"], \"y\": [0.19544458399999998, 0.168489456, 0.303728431, 0.7117097379999999, 0.26321819399999996, 0.364717126, 0.250880182, 0.22113885, 0.49995487899999996, 0.367084295]}],                        {\"barmode\": \"group\", \"template\": {\"data\": {\"bar\": [{\"error_x\": {\"color\": \"#2a3f5f\"}, \"error_y\": {\"color\": \"#2a3f5f\"}, \"marker\": {\"line\": {\"color\": \"#E5ECF6\", \"width\": 0.5}}, \"type\": \"bar\"}], \"barpolar\": [{\"marker\": {\"line\": {\"color\": \"#E5ECF6\", \"width\": 0.5}}, \"type\": \"barpolar\"}], \"carpet\": [{\"aaxis\": {\"endlinecolor\": \"#2a3f5f\", \"gridcolor\": \"white\", \"linecolor\": \"white\", \"minorgridcolor\": \"white\", \"startlinecolor\": \"#2a3f5f\"}, \"baxis\": {\"endlinecolor\": \"#2a3f5f\", \"gridcolor\": \"white\", \"linecolor\": \"white\", \"minorgridcolor\": \"white\", \"startlinecolor\": \"#2a3f5f\"}, \"type\": \"carpet\"}], \"choropleth\": [{\"colorbar\": {\"outlinewidth\": 0, \"ticks\": \"\"}, \"type\": \"choropleth\"}], \"contour\": [{\"colorbar\": {\"outlinewidth\": 0, \"ticks\": \"\"}, \"colorscale\": [[0.0, \"#0d0887\"], [0.1111111111111111, \"#46039f\"], [0.2222222222222222, \"#7201a8\"], [0.3333333333333333, \"#9c179e\"], [0.4444444444444444, \"#bd3786\"], [0.5555555555555556, \"#d8576b\"], [0.6666666666666666, \"#ed7953\"], [0.7777777777777778, \"#fb9f3a\"], [0.8888888888888888, \"#fdca26\"], [1.0, \"#f0f921\"]], \"type\": \"contour\"}], \"contourcarpet\": [{\"colorbar\": {\"outlinewidth\": 0, \"ticks\": \"\"}, \"type\": \"contourcarpet\"}], \"heatmap\": [{\"colorbar\": {\"outlinewidth\": 0, \"ticks\": \"\"}, \"colorscale\": [[0.0, \"#0d0887\"], [0.1111111111111111, \"#46039f\"], [0.2222222222222222, \"#7201a8\"], [0.3333333333333333, \"#9c179e\"], [0.4444444444444444, \"#bd3786\"], [0.5555555555555556, \"#d8576b\"], [0.6666666666666666, \"#ed7953\"], [0.7777777777777778, \"#fb9f3a\"], [0.8888888888888888, \"#fdca26\"], [1.0, \"#f0f921\"]], \"type\": \"heatmap\"}], \"heatmapgl\": [{\"colorbar\": {\"outlinewidth\": 0, \"ticks\": \"\"}, \"colorscale\": [[0.0, \"#0d0887\"], [0.1111111111111111, \"#46039f\"], [0.2222222222222222, \"#7201a8\"], [0.3333333333333333, \"#9c179e\"], [0.4444444444444444, \"#bd3786\"], [0.5555555555555556, \"#d8576b\"], [0.6666666666666666, \"#ed7953\"], [0.7777777777777778, \"#fb9f3a\"], [0.8888888888888888, \"#fdca26\"], [1.0, \"#f0f921\"]], \"type\": \"heatmapgl\"}], \"histogram\": [{\"marker\": {\"colorbar\": {\"outlinewidth\": 0, \"ticks\": \"\"}}, \"type\": \"histogram\"}], \"histogram2d\": [{\"colorbar\": {\"outlinewidth\": 0, \"ticks\": \"\"}, \"colorscale\": [[0.0, \"#0d0887\"], [0.1111111111111111, \"#46039f\"], [0.2222222222222222, \"#7201a8\"], [0.3333333333333333, \"#9c179e\"], [0.4444444444444444, \"#bd3786\"], [0.5555555555555556, \"#d8576b\"], [0.6666666666666666, \"#ed7953\"], [0.7777777777777778, \"#fb9f3a\"], [0.8888888888888888, \"#fdca26\"], [1.0, \"#f0f921\"]], \"type\": \"histogram2d\"}], \"histogram2dcontour\": [{\"colorbar\": {\"outlinewidth\": 0, \"ticks\": \"\"}, \"colorscale\": [[0.0, \"#0d0887\"], [0.1111111111111111, \"#46039f\"], [0.2222222222222222, \"#7201a8\"], [0.3333333333333333, \"#9c179e\"], [0.4444444444444444, \"#bd3786\"], [0.5555555555555556, \"#d8576b\"], [0.6666666666666666, \"#ed7953\"], [0.7777777777777778, \"#fb9f3a\"], [0.8888888888888888, \"#fdca26\"], [1.0, \"#f0f921\"]], \"type\": \"histogram2dcontour\"}], \"mesh3d\": [{\"colorbar\": {\"outlinewidth\": 0, \"ticks\": \"\"}, \"type\": \"mesh3d\"}], \"parcoords\": [{\"line\": {\"colorbar\": {\"outlinewidth\": 0, \"ticks\": \"\"}}, \"type\": \"parcoords\"}], \"pie\": [{\"automargin\": true, \"type\": \"pie\"}], \"scatter\": [{\"marker\": {\"colorbar\": {\"outlinewidth\": 0, \"ticks\": \"\"}}, \"type\": \"scatter\"}], \"scatter3d\": [{\"line\": {\"colorbar\": {\"outlinewidth\": 0, \"ticks\": \"\"}}, \"marker\": {\"colorbar\": {\"outlinewidth\": 0, \"ticks\": \"\"}}, \"type\": \"scatter3d\"}], \"scattercarpet\": [{\"marker\": {\"colorbar\": {\"outlinewidth\": 0, \"ticks\": \"\"}}, \"type\": \"scattercarpet\"}], \"scattergeo\": [{\"marker\": {\"colorbar\": {\"outlinewidth\": 0, \"ticks\": \"\"}}, \"type\": \"scattergeo\"}], \"scattergl\": [{\"marker\": {\"colorbar\": {\"outlinewidth\": 0, \"ticks\": \"\"}}, \"type\": \"scattergl\"}], \"scattermapbox\": [{\"marker\": {\"colorbar\": {\"outlinewidth\": 0, \"ticks\": \"\"}}, \"type\": \"scattermapbox\"}], \"scatterpolar\": [{\"marker\": {\"colorbar\": {\"outlinewidth\": 0, \"ticks\": \"\"}}, \"type\": \"scatterpolar\"}], \"scatterpolargl\": [{\"marker\": {\"colorbar\": {\"outlinewidth\": 0, \"ticks\": \"\"}}, \"type\": \"scatterpolargl\"}], \"scatterternary\": [{\"marker\": {\"colorbar\": {\"outlinewidth\": 0, \"ticks\": \"\"}}, \"type\": \"scatterternary\"}], \"surface\": [{\"colorbar\": {\"outlinewidth\": 0, \"ticks\": \"\"}, \"colorscale\": [[0.0, \"#0d0887\"], [0.1111111111111111, \"#46039f\"], [0.2222222222222222, \"#7201a8\"], [0.3333333333333333, \"#9c179e\"], [0.4444444444444444, \"#bd3786\"], [0.5555555555555556, \"#d8576b\"], [0.6666666666666666, \"#ed7953\"], [0.7777777777777778, \"#fb9f3a\"], [0.8888888888888888, \"#fdca26\"], [1.0, \"#f0f921\"]], \"type\": \"surface\"}], \"table\": [{\"cells\": {\"fill\": {\"color\": \"#EBF0F8\"}, \"line\": {\"color\": \"white\"}}, \"header\": {\"fill\": {\"color\": \"#C8D4E3\"}, \"line\": {\"color\": \"white\"}}, \"type\": \"table\"}]}, \"layout\": {\"annotationdefaults\": {\"arrowcolor\": \"#2a3f5f\", \"arrowhead\": 0, \"arrowwidth\": 1}, \"autotypenumbers\": \"strict\", \"coloraxis\": {\"colorbar\": {\"outlinewidth\": 0, \"ticks\": \"\"}}, \"colorscale\": {\"diverging\": [[0, \"#8e0152\"], [0.1, \"#c51b7d\"], [0.2, \"#de77ae\"], [0.3, \"#f1b6da\"], [0.4, \"#fde0ef\"], [0.5, \"#f7f7f7\"], [0.6, \"#e6f5d0\"], [0.7, \"#b8e186\"], [0.8, \"#7fbc41\"], [0.9, \"#4d9221\"], [1, \"#276419\"]], \"sequential\": [[0.0, \"#0d0887\"], [0.1111111111111111, \"#46039f\"], [0.2222222222222222, \"#7201a8\"], [0.3333333333333333, \"#9c179e\"], [0.4444444444444444, \"#bd3786\"], [0.5555555555555556, \"#d8576b\"], [0.6666666666666666, \"#ed7953\"], [0.7777777777777778, \"#fb9f3a\"], [0.8888888888888888, \"#fdca26\"], [1.0, \"#f0f921\"]], \"sequentialminus\": [[0.0, \"#0d0887\"], [0.1111111111111111, \"#46039f\"], [0.2222222222222222, \"#7201a8\"], [0.3333333333333333, \"#9c179e\"], [0.4444444444444444, \"#bd3786\"], [0.5555555555555556, \"#d8576b\"], [0.6666666666666666, \"#ed7953\"], [0.7777777777777778, \"#fb9f3a\"], [0.8888888888888888, \"#fdca26\"], [1.0, \"#f0f921\"]]}, \"colorway\": [\"#636efa\", \"#EF553B\", \"#00cc96\", \"#ab63fa\", \"#FFA15A\", \"#19d3f3\", \"#FF6692\", \"#B6E880\", \"#FF97FF\", \"#FECB52\"], \"font\": {\"color\": \"#2a3f5f\"}, \"geo\": {\"bgcolor\": \"white\", \"lakecolor\": \"white\", \"landcolor\": \"#E5ECF6\", \"showlakes\": true, \"showland\": true, \"subunitcolor\": \"white\"}, \"hoverlabel\": {\"align\": \"left\"}, \"hovermode\": \"closest\", \"mapbox\": {\"style\": \"light\"}, \"paper_bgcolor\": \"white\", \"plot_bgcolor\": \"#E5ECF6\", \"polar\": {\"angularaxis\": {\"gridcolor\": \"white\", \"linecolor\": \"white\", \"ticks\": \"\"}, \"bgcolor\": \"#E5ECF6\", \"radialaxis\": {\"gridcolor\": \"white\", \"linecolor\": \"white\", \"ticks\": \"\"}}, \"scene\": {\"xaxis\": {\"backgroundcolor\": \"#E5ECF6\", \"gridcolor\": \"white\", \"gridwidth\": 2, \"linecolor\": \"white\", \"showbackground\": true, \"ticks\": \"\", \"zerolinecolor\": \"white\"}, \"yaxis\": {\"backgroundcolor\": \"#E5ECF6\", \"gridcolor\": \"white\", \"gridwidth\": 2, \"linecolor\": \"white\", \"showbackground\": true, \"ticks\": \"\", \"zerolinecolor\": \"white\"}, \"zaxis\": {\"backgroundcolor\": \"#E5ECF6\", \"gridcolor\": \"white\", \"gridwidth\": 2, \"linecolor\": \"white\", \"showbackground\": true, \"ticks\": \"\", \"zerolinecolor\": \"white\"}}, \"shapedefaults\": {\"line\": {\"color\": \"#2a3f5f\"}}, \"ternary\": {\"aaxis\": {\"gridcolor\": \"white\", \"linecolor\": \"white\", \"ticks\": \"\"}, \"baxis\": {\"gridcolor\": \"white\", \"linecolor\": \"white\", \"ticks\": \"\"}, \"bgcolor\": \"#E5ECF6\", \"caxis\": {\"gridcolor\": \"white\", \"linecolor\": \"white\", \"ticks\": \"\"}}, \"title\": {\"x\": 0.05}, \"xaxis\": {\"automargin\": true, \"gridcolor\": \"white\", \"linecolor\": \"white\", \"ticks\": \"\", \"title\": {\"standoff\": 15}, \"zerolinecolor\": \"white\", \"zerolinewidth\": 2}, \"yaxis\": {\"automargin\": true, \"gridcolor\": \"white\", \"linecolor\": \"white\", \"ticks\": \"\", \"title\": {\"standoff\": 15}, \"zerolinecolor\": \"white\", \"zerolinewidth\": 2}}}},                        {\"responsive\": true}                    ).then(function(){\n",
       "                            \n",
       "var gd = document.getElementById('3a210708-1027-4c94-985f-368653585dde');\n",
       "var x = new MutationObserver(function (mutations, observer) {{\n",
       "        var display = window.getComputedStyle(gd).display;\n",
       "        if (!display || display === 'none') {{\n",
       "            console.log([gd, 'removed!']);\n",
       "            Plotly.purge(gd);\n",
       "            observer.disconnect();\n",
       "        }}\n",
       "}});\n",
       "\n",
       "// Listen for the removal of the full notebook cells\n",
       "var notebookContainer = gd.closest('#notebook-container');\n",
       "if (notebookContainer) {{\n",
       "    x.observe(notebookContainer, {childList: true});\n",
       "}}\n",
       "\n",
       "// Listen for the clearing of the current output cell\n",
       "var outputEl = gd.closest('.output');\n",
       "if (outputEl) {{\n",
       "    x.observe(outputEl, {childList: true});\n",
       "}}\n",
       "\n",
       "                        })                };                });            </script>        </div>"
      ]
     },
     "metadata": {},
     "output_type": "display_data"
    }
   ],
   "source": [
    "### Comparison of the 3 values of the top five countries.\n",
    "### (Social support,Freedom to make life choices,Perceptions of corruption)\n",
    "\n",
    "# top 10 countries in happiness ranking\n",
    "df2021 = world_happiness_report_2020.iloc[:10,:]\n",
    "\n",
    "# create trace1(Social Support)\n",
    "trace1 = go.Bar(\n",
    "                x = df2021[\"Country\"], # x-axis\n",
    "                y = df2021[\"Social support\"], # y-axis\n",
    "                name = \"Social support\", # text to the right of the chart\n",
    "                marker = dict(color = 'rgba(255, 0, 0, 0.5)',\n",
    "                             line=dict(color='black',width=2)), # line color around bars\n",
    "                text = df2021[\"Overall rank\"]) # text on hover\n",
    "\n",
    "# create trace2(Freedom to make life choices)\n",
    "trace2 = go.Bar(\n",
    "                x = df2021[\"Country\"],\n",
    "                y = df2021[\"Freedom\"],\n",
    "                name = \"Freedom to make life choices\",\n",
    "                marker = dict(color = 'rgba(0, 99, 0, 0.7)',\n",
    "                              line=dict(color='black',width=2)),\n",
    "                text =df2021[\"Overall rank\"]) # text on hover\n",
    "\n",
    "# create trace3 (Perceptions of corruption)\n",
    "trace3 = go.Bar(\n",
    "                x = df2021[\"Country\"],\n",
    "                y = df2021[\"Perceptions of corruption\"],\n",
    "                name = \"Perceptions of corruption\",\n",
    "                marker = dict(color = 'rgba(106, 90, 20, 1)',\n",
    "                              line=dict(color='black',width=2)),\n",
    "                text =df2021[\"Overall rank\"]) # text on hover\n",
    "\n",
    "# We combine traces\n",
    "data = [trace1, trace2, trace3]\n",
    "\n",
    "layout = go.Layout(barmode = \"group\")\n",
    "fig = go.Figure(data = data, layout = layout)\n",
    "iplot(fig)"
   ]
  },
  {
   "cell_type": "code",
   "execution_count": 45,
   "metadata": {},
   "outputs": [
    {
     "data": {
      "application/vnd.plotly.v1+json": {
       "config": {
        "linkText": "Export to plot.ly",
        "plotlyServerURL": "https://plot.ly",
        "showLink": false
       },
       "data": [
        {
         "marker": {
          "color": "rgba(0, 200, 0.9, 0.5)",
          "line": {
           "color": "black",
           "width": 2
          }
         },
         "name": "GDP per capita",
         "text": [
          1,
          2,
          3,
          4,
          5,
          6,
          7,
          8,
          9,
          10
         ],
         "type": "bar",
         "x": [
          "Finland",
          "Denmark",
          "Switzerland",
          "Iceland",
          "Norway",
          "Netherlands",
          "Sweden",
          "New Zealand",
          "Austria",
          "Luxembourg"
         ],
         "y": [
          10.63926697,
          10.77400112,
          10.97993279,
          10.77255917,
          11.08780384,
          10.81271172,
          10.75879383,
          10.50094318,
          10.7428236,
          11.45068073
         ]
        },
        {
         "marker": {
          "color": "rgba(206, 100, 105, 0.5)",
          "line": {
           "color": "black",
           "width": 2
          }
         },
         "name": "Happiness Score",
         "text": [
          1,
          2,
          3,
          4,
          5,
          6,
          7,
          8,
          9,
          10
         ],
         "type": "bar",
         "x": [
          "Finland",
          "Denmark",
          "Switzerland",
          "Iceland",
          "Norway",
          "Netherlands",
          "Sweden",
          "New Zealand",
          "Austria",
          "Luxembourg"
         ],
         "y": [
          7.808700085,
          7.645599842,
          7.559899807000001,
          7.504499912000001,
          7.487999916000001,
          7.448900223,
          7.353499889,
          7.2996001239999995,
          7.294199944,
          7.2375001910000005
         ]
        },
        {
         "marker": {
          "color": "rgba(10, 80, 200, 3)",
          "line": {
           "color": "black",
           "width": 2
          }
         },
         "name": "Perceptions of corruption",
         "text": [
          1,
          2,
          3,
          4,
          5,
          6,
          7,
          8,
          9,
          10
         ],
         "type": "bar",
         "x": [
          "Finland",
          "Denmark",
          "Switzerland",
          "Iceland",
          "Norway",
          "Netherlands",
          "Sweden",
          "New Zealand",
          "Austria",
          "Luxembourg"
         ],
         "y": [
          0.19544458399999998,
          0.168489456,
          0.303728431,
          0.7117097379999999,
          0.26321819399999996,
          0.364717126,
          0.250880182,
          0.22113885,
          0.49995487899999996,
          0.367084295
         ]
        }
       ],
       "layout": {
        "barmode": "group",
        "template": {
         "data": {
          "bar": [
           {
            "error_x": {
             "color": "#2a3f5f"
            },
            "error_y": {
             "color": "#2a3f5f"
            },
            "marker": {
             "line": {
              "color": "#E5ECF6",
              "width": 0.5
             }
            },
            "type": "bar"
           }
          ],
          "barpolar": [
           {
            "marker": {
             "line": {
              "color": "#E5ECF6",
              "width": 0.5
             }
            },
            "type": "barpolar"
           }
          ],
          "carpet": [
           {
            "aaxis": {
             "endlinecolor": "#2a3f5f",
             "gridcolor": "white",
             "linecolor": "white",
             "minorgridcolor": "white",
             "startlinecolor": "#2a3f5f"
            },
            "baxis": {
             "endlinecolor": "#2a3f5f",
             "gridcolor": "white",
             "linecolor": "white",
             "minorgridcolor": "white",
             "startlinecolor": "#2a3f5f"
            },
            "type": "carpet"
           }
          ],
          "choropleth": [
           {
            "colorbar": {
             "outlinewidth": 0,
             "ticks": ""
            },
            "type": "choropleth"
           }
          ],
          "contour": [
           {
            "colorbar": {
             "outlinewidth": 0,
             "ticks": ""
            },
            "colorscale": [
             [
              0,
              "#0d0887"
             ],
             [
              0.1111111111111111,
              "#46039f"
             ],
             [
              0.2222222222222222,
              "#7201a8"
             ],
             [
              0.3333333333333333,
              "#9c179e"
             ],
             [
              0.4444444444444444,
              "#bd3786"
             ],
             [
              0.5555555555555556,
              "#d8576b"
             ],
             [
              0.6666666666666666,
              "#ed7953"
             ],
             [
              0.7777777777777778,
              "#fb9f3a"
             ],
             [
              0.8888888888888888,
              "#fdca26"
             ],
             [
              1,
              "#f0f921"
             ]
            ],
            "type": "contour"
           }
          ],
          "contourcarpet": [
           {
            "colorbar": {
             "outlinewidth": 0,
             "ticks": ""
            },
            "type": "contourcarpet"
           }
          ],
          "heatmap": [
           {
            "colorbar": {
             "outlinewidth": 0,
             "ticks": ""
            },
            "colorscale": [
             [
              0,
              "#0d0887"
             ],
             [
              0.1111111111111111,
              "#46039f"
             ],
             [
              0.2222222222222222,
              "#7201a8"
             ],
             [
              0.3333333333333333,
              "#9c179e"
             ],
             [
              0.4444444444444444,
              "#bd3786"
             ],
             [
              0.5555555555555556,
              "#d8576b"
             ],
             [
              0.6666666666666666,
              "#ed7953"
             ],
             [
              0.7777777777777778,
              "#fb9f3a"
             ],
             [
              0.8888888888888888,
              "#fdca26"
             ],
             [
              1,
              "#f0f921"
             ]
            ],
            "type": "heatmap"
           }
          ],
          "heatmapgl": [
           {
            "colorbar": {
             "outlinewidth": 0,
             "ticks": ""
            },
            "colorscale": [
             [
              0,
              "#0d0887"
             ],
             [
              0.1111111111111111,
              "#46039f"
             ],
             [
              0.2222222222222222,
              "#7201a8"
             ],
             [
              0.3333333333333333,
              "#9c179e"
             ],
             [
              0.4444444444444444,
              "#bd3786"
             ],
             [
              0.5555555555555556,
              "#d8576b"
             ],
             [
              0.6666666666666666,
              "#ed7953"
             ],
             [
              0.7777777777777778,
              "#fb9f3a"
             ],
             [
              0.8888888888888888,
              "#fdca26"
             ],
             [
              1,
              "#f0f921"
             ]
            ],
            "type": "heatmapgl"
           }
          ],
          "histogram": [
           {
            "marker": {
             "colorbar": {
              "outlinewidth": 0,
              "ticks": ""
             }
            },
            "type": "histogram"
           }
          ],
          "histogram2d": [
           {
            "colorbar": {
             "outlinewidth": 0,
             "ticks": ""
            },
            "colorscale": [
             [
              0,
              "#0d0887"
             ],
             [
              0.1111111111111111,
              "#46039f"
             ],
             [
              0.2222222222222222,
              "#7201a8"
             ],
             [
              0.3333333333333333,
              "#9c179e"
             ],
             [
              0.4444444444444444,
              "#bd3786"
             ],
             [
              0.5555555555555556,
              "#d8576b"
             ],
             [
              0.6666666666666666,
              "#ed7953"
             ],
             [
              0.7777777777777778,
              "#fb9f3a"
             ],
             [
              0.8888888888888888,
              "#fdca26"
             ],
             [
              1,
              "#f0f921"
             ]
            ],
            "type": "histogram2d"
           }
          ],
          "histogram2dcontour": [
           {
            "colorbar": {
             "outlinewidth": 0,
             "ticks": ""
            },
            "colorscale": [
             [
              0,
              "#0d0887"
             ],
             [
              0.1111111111111111,
              "#46039f"
             ],
             [
              0.2222222222222222,
              "#7201a8"
             ],
             [
              0.3333333333333333,
              "#9c179e"
             ],
             [
              0.4444444444444444,
              "#bd3786"
             ],
             [
              0.5555555555555556,
              "#d8576b"
             ],
             [
              0.6666666666666666,
              "#ed7953"
             ],
             [
              0.7777777777777778,
              "#fb9f3a"
             ],
             [
              0.8888888888888888,
              "#fdca26"
             ],
             [
              1,
              "#f0f921"
             ]
            ],
            "type": "histogram2dcontour"
           }
          ],
          "mesh3d": [
           {
            "colorbar": {
             "outlinewidth": 0,
             "ticks": ""
            },
            "type": "mesh3d"
           }
          ],
          "parcoords": [
           {
            "line": {
             "colorbar": {
              "outlinewidth": 0,
              "ticks": ""
             }
            },
            "type": "parcoords"
           }
          ],
          "pie": [
           {
            "automargin": true,
            "type": "pie"
           }
          ],
          "scatter": [
           {
            "marker": {
             "colorbar": {
              "outlinewidth": 0,
              "ticks": ""
             }
            },
            "type": "scatter"
           }
          ],
          "scatter3d": [
           {
            "line": {
             "colorbar": {
              "outlinewidth": 0,
              "ticks": ""
             }
            },
            "marker": {
             "colorbar": {
              "outlinewidth": 0,
              "ticks": ""
             }
            },
            "type": "scatter3d"
           }
          ],
          "scattercarpet": [
           {
            "marker": {
             "colorbar": {
              "outlinewidth": 0,
              "ticks": ""
             }
            },
            "type": "scattercarpet"
           }
          ],
          "scattergeo": [
           {
            "marker": {
             "colorbar": {
              "outlinewidth": 0,
              "ticks": ""
             }
            },
            "type": "scattergeo"
           }
          ],
          "scattergl": [
           {
            "marker": {
             "colorbar": {
              "outlinewidth": 0,
              "ticks": ""
             }
            },
            "type": "scattergl"
           }
          ],
          "scattermapbox": [
           {
            "marker": {
             "colorbar": {
              "outlinewidth": 0,
              "ticks": ""
             }
            },
            "type": "scattermapbox"
           }
          ],
          "scatterpolar": [
           {
            "marker": {
             "colorbar": {
              "outlinewidth": 0,
              "ticks": ""
             }
            },
            "type": "scatterpolar"
           }
          ],
          "scatterpolargl": [
           {
            "marker": {
             "colorbar": {
              "outlinewidth": 0,
              "ticks": ""
             }
            },
            "type": "scatterpolargl"
           }
          ],
          "scatterternary": [
           {
            "marker": {
             "colorbar": {
              "outlinewidth": 0,
              "ticks": ""
             }
            },
            "type": "scatterternary"
           }
          ],
          "surface": [
           {
            "colorbar": {
             "outlinewidth": 0,
             "ticks": ""
            },
            "colorscale": [
             [
              0,
              "#0d0887"
             ],
             [
              0.1111111111111111,
              "#46039f"
             ],
             [
              0.2222222222222222,
              "#7201a8"
             ],
             [
              0.3333333333333333,
              "#9c179e"
             ],
             [
              0.4444444444444444,
              "#bd3786"
             ],
             [
              0.5555555555555556,
              "#d8576b"
             ],
             [
              0.6666666666666666,
              "#ed7953"
             ],
             [
              0.7777777777777778,
              "#fb9f3a"
             ],
             [
              0.8888888888888888,
              "#fdca26"
             ],
             [
              1,
              "#f0f921"
             ]
            ],
            "type": "surface"
           }
          ],
          "table": [
           {
            "cells": {
             "fill": {
              "color": "#EBF0F8"
             },
             "line": {
              "color": "white"
             }
            },
            "header": {
             "fill": {
              "color": "#C8D4E3"
             },
             "line": {
              "color": "white"
             }
            },
            "type": "table"
           }
          ]
         },
         "layout": {
          "annotationdefaults": {
           "arrowcolor": "#2a3f5f",
           "arrowhead": 0,
           "arrowwidth": 1
          },
          "autotypenumbers": "strict",
          "coloraxis": {
           "colorbar": {
            "outlinewidth": 0,
            "ticks": ""
           }
          },
          "colorscale": {
           "diverging": [
            [
             0,
             "#8e0152"
            ],
            [
             0.1,
             "#c51b7d"
            ],
            [
             0.2,
             "#de77ae"
            ],
            [
             0.3,
             "#f1b6da"
            ],
            [
             0.4,
             "#fde0ef"
            ],
            [
             0.5,
             "#f7f7f7"
            ],
            [
             0.6,
             "#e6f5d0"
            ],
            [
             0.7,
             "#b8e186"
            ],
            [
             0.8,
             "#7fbc41"
            ],
            [
             0.9,
             "#4d9221"
            ],
            [
             1,
             "#276419"
            ]
           ],
           "sequential": [
            [
             0,
             "#0d0887"
            ],
            [
             0.1111111111111111,
             "#46039f"
            ],
            [
             0.2222222222222222,
             "#7201a8"
            ],
            [
             0.3333333333333333,
             "#9c179e"
            ],
            [
             0.4444444444444444,
             "#bd3786"
            ],
            [
             0.5555555555555556,
             "#d8576b"
            ],
            [
             0.6666666666666666,
             "#ed7953"
            ],
            [
             0.7777777777777778,
             "#fb9f3a"
            ],
            [
             0.8888888888888888,
             "#fdca26"
            ],
            [
             1,
             "#f0f921"
            ]
           ],
           "sequentialminus": [
            [
             0,
             "#0d0887"
            ],
            [
             0.1111111111111111,
             "#46039f"
            ],
            [
             0.2222222222222222,
             "#7201a8"
            ],
            [
             0.3333333333333333,
             "#9c179e"
            ],
            [
             0.4444444444444444,
             "#bd3786"
            ],
            [
             0.5555555555555556,
             "#d8576b"
            ],
            [
             0.6666666666666666,
             "#ed7953"
            ],
            [
             0.7777777777777778,
             "#fb9f3a"
            ],
            [
             0.8888888888888888,
             "#fdca26"
            ],
            [
             1,
             "#f0f921"
            ]
           ]
          },
          "colorway": [
           "#636efa",
           "#EF553B",
           "#00cc96",
           "#ab63fa",
           "#FFA15A",
           "#19d3f3",
           "#FF6692",
           "#B6E880",
           "#FF97FF",
           "#FECB52"
          ],
          "font": {
           "color": "#2a3f5f"
          },
          "geo": {
           "bgcolor": "white",
           "lakecolor": "white",
           "landcolor": "#E5ECF6",
           "showlakes": true,
           "showland": true,
           "subunitcolor": "white"
          },
          "hoverlabel": {
           "align": "left"
          },
          "hovermode": "closest",
          "mapbox": {
           "style": "light"
          },
          "paper_bgcolor": "white",
          "plot_bgcolor": "#E5ECF6",
          "polar": {
           "angularaxis": {
            "gridcolor": "white",
            "linecolor": "white",
            "ticks": ""
           },
           "bgcolor": "#E5ECF6",
           "radialaxis": {
            "gridcolor": "white",
            "linecolor": "white",
            "ticks": ""
           }
          },
          "scene": {
           "xaxis": {
            "backgroundcolor": "#E5ECF6",
            "gridcolor": "white",
            "gridwidth": 2,
            "linecolor": "white",
            "showbackground": true,
            "ticks": "",
            "zerolinecolor": "white"
           },
           "yaxis": {
            "backgroundcolor": "#E5ECF6",
            "gridcolor": "white",
            "gridwidth": 2,
            "linecolor": "white",
            "showbackground": true,
            "ticks": "",
            "zerolinecolor": "white"
           },
           "zaxis": {
            "backgroundcolor": "#E5ECF6",
            "gridcolor": "white",
            "gridwidth": 2,
            "linecolor": "white",
            "showbackground": true,
            "ticks": "",
            "zerolinecolor": "white"
           }
          },
          "shapedefaults": {
           "line": {
            "color": "#2a3f5f"
           }
          },
          "ternary": {
           "aaxis": {
            "gridcolor": "white",
            "linecolor": "white",
            "ticks": ""
           },
           "baxis": {
            "gridcolor": "white",
            "linecolor": "white",
            "ticks": ""
           },
           "bgcolor": "#E5ECF6",
           "caxis": {
            "gridcolor": "white",
            "linecolor": "white",
            "ticks": ""
           }
          },
          "title": {
           "x": 0.05
          },
          "xaxis": {
           "automargin": true,
           "gridcolor": "white",
           "linecolor": "white",
           "ticks": "",
           "title": {
            "standoff": 15
           },
           "zerolinecolor": "white",
           "zerolinewidth": 2
          },
          "yaxis": {
           "automargin": true,
           "gridcolor": "white",
           "linecolor": "white",
           "ticks": "",
           "title": {
            "standoff": 15
           },
           "zerolinecolor": "white",
           "zerolinewidth": 2
          }
         }
        }
       }
      },
      "text/html": [
       "<div>                            <div id=\"402139c0-9cf1-40bc-a169-2b29aac359d6\" class=\"plotly-graph-div\" style=\"height:525px; width:100%;\"></div>            <script type=\"text/javascript\">                require([\"plotly\"], function(Plotly) {                    window.PLOTLYENV=window.PLOTLYENV || {};                                    if (document.getElementById(\"402139c0-9cf1-40bc-a169-2b29aac359d6\")) {                    Plotly.newPlot(                        \"402139c0-9cf1-40bc-a169-2b29aac359d6\",                        [{\"marker\": {\"color\": \"rgba(0, 200, 0.9, 0.5)\", \"line\": {\"color\": \"black\", \"width\": 2}}, \"name\": \"GDP per capita\", \"text\": [1.0, 2.0, 3.0, 4.0, 5.0, 6.0, 7.0, 8.0, 9.0, 10.0], \"type\": \"bar\", \"x\": [\"Finland\", \"Denmark\", \"Switzerland\", \"Iceland\", \"Norway\", \"Netherlands\", \"Sweden\", \"New Zealand\", \"Austria\", \"Luxembourg\"], \"y\": [10.63926697, 10.77400112, 10.97993279, 10.77255917, 11.08780384, 10.81271172, 10.75879383, 10.50094318, 10.7428236, 11.45068073]}, {\"marker\": {\"color\": \"rgba(206, 100, 105, 0.5)\", \"line\": {\"color\": \"black\", \"width\": 2}}, \"name\": \"Happiness Score\", \"text\": [1.0, 2.0, 3.0, 4.0, 5.0, 6.0, 7.0, 8.0, 9.0, 10.0], \"type\": \"bar\", \"x\": [\"Finland\", \"Denmark\", \"Switzerland\", \"Iceland\", \"Norway\", \"Netherlands\", \"Sweden\", \"New Zealand\", \"Austria\", \"Luxembourg\"], \"y\": [7.808700085, 7.645599842, 7.559899807000001, 7.504499912000001, 7.487999916000001, 7.448900223, 7.353499889, 7.2996001239999995, 7.294199944, 7.2375001910000005]}, {\"marker\": {\"color\": \"rgba(10, 80, 200, 3)\", \"line\": {\"color\": \"black\", \"width\": 2}}, \"name\": \"Perceptions of corruption\", \"text\": [1.0, 2.0, 3.0, 4.0, 5.0, 6.0, 7.0, 8.0, 9.0, 10.0], \"type\": \"bar\", \"x\": [\"Finland\", \"Denmark\", \"Switzerland\", \"Iceland\", \"Norway\", \"Netherlands\", \"Sweden\", \"New Zealand\", \"Austria\", \"Luxembourg\"], \"y\": [0.19544458399999998, 0.168489456, 0.303728431, 0.7117097379999999, 0.26321819399999996, 0.364717126, 0.250880182, 0.22113885, 0.49995487899999996, 0.367084295]}],                        {\"barmode\": \"group\", \"template\": {\"data\": {\"bar\": [{\"error_x\": {\"color\": \"#2a3f5f\"}, \"error_y\": {\"color\": \"#2a3f5f\"}, \"marker\": {\"line\": {\"color\": \"#E5ECF6\", \"width\": 0.5}}, \"type\": \"bar\"}], \"barpolar\": [{\"marker\": {\"line\": {\"color\": \"#E5ECF6\", \"width\": 0.5}}, \"type\": \"barpolar\"}], \"carpet\": [{\"aaxis\": {\"endlinecolor\": \"#2a3f5f\", \"gridcolor\": \"white\", \"linecolor\": \"white\", \"minorgridcolor\": \"white\", \"startlinecolor\": \"#2a3f5f\"}, \"baxis\": {\"endlinecolor\": \"#2a3f5f\", \"gridcolor\": \"white\", \"linecolor\": \"white\", \"minorgridcolor\": \"white\", \"startlinecolor\": \"#2a3f5f\"}, \"type\": \"carpet\"}], \"choropleth\": [{\"colorbar\": {\"outlinewidth\": 0, \"ticks\": \"\"}, \"type\": \"choropleth\"}], \"contour\": [{\"colorbar\": {\"outlinewidth\": 0, \"ticks\": \"\"}, \"colorscale\": [[0.0, \"#0d0887\"], [0.1111111111111111, \"#46039f\"], [0.2222222222222222, \"#7201a8\"], [0.3333333333333333, \"#9c179e\"], [0.4444444444444444, \"#bd3786\"], [0.5555555555555556, \"#d8576b\"], [0.6666666666666666, \"#ed7953\"], [0.7777777777777778, \"#fb9f3a\"], [0.8888888888888888, \"#fdca26\"], [1.0, \"#f0f921\"]], \"type\": \"contour\"}], \"contourcarpet\": [{\"colorbar\": {\"outlinewidth\": 0, \"ticks\": \"\"}, \"type\": \"contourcarpet\"}], \"heatmap\": [{\"colorbar\": {\"outlinewidth\": 0, \"ticks\": \"\"}, \"colorscale\": [[0.0, \"#0d0887\"], [0.1111111111111111, \"#46039f\"], [0.2222222222222222, \"#7201a8\"], [0.3333333333333333, \"#9c179e\"], [0.4444444444444444, \"#bd3786\"], [0.5555555555555556, \"#d8576b\"], [0.6666666666666666, \"#ed7953\"], [0.7777777777777778, \"#fb9f3a\"], [0.8888888888888888, \"#fdca26\"], [1.0, \"#f0f921\"]], \"type\": \"heatmap\"}], \"heatmapgl\": [{\"colorbar\": {\"outlinewidth\": 0, \"ticks\": \"\"}, \"colorscale\": [[0.0, \"#0d0887\"], [0.1111111111111111, \"#46039f\"], [0.2222222222222222, \"#7201a8\"], [0.3333333333333333, \"#9c179e\"], [0.4444444444444444, \"#bd3786\"], [0.5555555555555556, \"#d8576b\"], [0.6666666666666666, \"#ed7953\"], [0.7777777777777778, \"#fb9f3a\"], [0.8888888888888888, \"#fdca26\"], [1.0, \"#f0f921\"]], \"type\": \"heatmapgl\"}], \"histogram\": [{\"marker\": {\"colorbar\": {\"outlinewidth\": 0, \"ticks\": \"\"}}, \"type\": \"histogram\"}], \"histogram2d\": [{\"colorbar\": {\"outlinewidth\": 0, \"ticks\": \"\"}, \"colorscale\": [[0.0, \"#0d0887\"], [0.1111111111111111, \"#46039f\"], [0.2222222222222222, \"#7201a8\"], [0.3333333333333333, \"#9c179e\"], [0.4444444444444444, \"#bd3786\"], [0.5555555555555556, \"#d8576b\"], [0.6666666666666666, \"#ed7953\"], [0.7777777777777778, \"#fb9f3a\"], [0.8888888888888888, \"#fdca26\"], [1.0, \"#f0f921\"]], \"type\": \"histogram2d\"}], \"histogram2dcontour\": [{\"colorbar\": {\"outlinewidth\": 0, \"ticks\": \"\"}, \"colorscale\": [[0.0, \"#0d0887\"], [0.1111111111111111, \"#46039f\"], [0.2222222222222222, \"#7201a8\"], [0.3333333333333333, \"#9c179e\"], [0.4444444444444444, \"#bd3786\"], [0.5555555555555556, \"#d8576b\"], [0.6666666666666666, \"#ed7953\"], [0.7777777777777778, \"#fb9f3a\"], [0.8888888888888888, \"#fdca26\"], [1.0, \"#f0f921\"]], \"type\": \"histogram2dcontour\"}], \"mesh3d\": [{\"colorbar\": {\"outlinewidth\": 0, \"ticks\": \"\"}, \"type\": \"mesh3d\"}], \"parcoords\": [{\"line\": {\"colorbar\": {\"outlinewidth\": 0, \"ticks\": \"\"}}, \"type\": \"parcoords\"}], \"pie\": [{\"automargin\": true, \"type\": \"pie\"}], \"scatter\": [{\"marker\": {\"colorbar\": {\"outlinewidth\": 0, \"ticks\": \"\"}}, \"type\": \"scatter\"}], \"scatter3d\": [{\"line\": {\"colorbar\": {\"outlinewidth\": 0, \"ticks\": \"\"}}, \"marker\": {\"colorbar\": {\"outlinewidth\": 0, \"ticks\": \"\"}}, \"type\": \"scatter3d\"}], \"scattercarpet\": [{\"marker\": {\"colorbar\": {\"outlinewidth\": 0, \"ticks\": \"\"}}, \"type\": \"scattercarpet\"}], \"scattergeo\": [{\"marker\": {\"colorbar\": {\"outlinewidth\": 0, \"ticks\": \"\"}}, \"type\": \"scattergeo\"}], \"scattergl\": [{\"marker\": {\"colorbar\": {\"outlinewidth\": 0, \"ticks\": \"\"}}, \"type\": \"scattergl\"}], \"scattermapbox\": [{\"marker\": {\"colorbar\": {\"outlinewidth\": 0, \"ticks\": \"\"}}, \"type\": \"scattermapbox\"}], \"scatterpolar\": [{\"marker\": {\"colorbar\": {\"outlinewidth\": 0, \"ticks\": \"\"}}, \"type\": \"scatterpolar\"}], \"scatterpolargl\": [{\"marker\": {\"colorbar\": {\"outlinewidth\": 0, \"ticks\": \"\"}}, \"type\": \"scatterpolargl\"}], \"scatterternary\": [{\"marker\": {\"colorbar\": {\"outlinewidth\": 0, \"ticks\": \"\"}}, \"type\": \"scatterternary\"}], \"surface\": [{\"colorbar\": {\"outlinewidth\": 0, \"ticks\": \"\"}, \"colorscale\": [[0.0, \"#0d0887\"], [0.1111111111111111, \"#46039f\"], [0.2222222222222222, \"#7201a8\"], [0.3333333333333333, \"#9c179e\"], [0.4444444444444444, \"#bd3786\"], [0.5555555555555556, \"#d8576b\"], [0.6666666666666666, \"#ed7953\"], [0.7777777777777778, \"#fb9f3a\"], [0.8888888888888888, \"#fdca26\"], [1.0, \"#f0f921\"]], \"type\": \"surface\"}], \"table\": [{\"cells\": {\"fill\": {\"color\": \"#EBF0F8\"}, \"line\": {\"color\": \"white\"}}, \"header\": {\"fill\": {\"color\": \"#C8D4E3\"}, \"line\": {\"color\": \"white\"}}, \"type\": \"table\"}]}, \"layout\": {\"annotationdefaults\": {\"arrowcolor\": \"#2a3f5f\", \"arrowhead\": 0, \"arrowwidth\": 1}, \"autotypenumbers\": \"strict\", \"coloraxis\": {\"colorbar\": {\"outlinewidth\": 0, \"ticks\": \"\"}}, \"colorscale\": {\"diverging\": [[0, \"#8e0152\"], [0.1, \"#c51b7d\"], [0.2, \"#de77ae\"], [0.3, \"#f1b6da\"], [0.4, \"#fde0ef\"], [0.5, \"#f7f7f7\"], [0.6, \"#e6f5d0\"], [0.7, \"#b8e186\"], [0.8, \"#7fbc41\"], [0.9, \"#4d9221\"], [1, \"#276419\"]], \"sequential\": [[0.0, \"#0d0887\"], [0.1111111111111111, \"#46039f\"], [0.2222222222222222, \"#7201a8\"], [0.3333333333333333, \"#9c179e\"], [0.4444444444444444, \"#bd3786\"], [0.5555555555555556, \"#d8576b\"], [0.6666666666666666, \"#ed7953\"], [0.7777777777777778, \"#fb9f3a\"], [0.8888888888888888, \"#fdca26\"], [1.0, \"#f0f921\"]], \"sequentialminus\": [[0.0, \"#0d0887\"], [0.1111111111111111, \"#46039f\"], [0.2222222222222222, \"#7201a8\"], [0.3333333333333333, \"#9c179e\"], [0.4444444444444444, \"#bd3786\"], [0.5555555555555556, \"#d8576b\"], [0.6666666666666666, \"#ed7953\"], [0.7777777777777778, \"#fb9f3a\"], [0.8888888888888888, \"#fdca26\"], [1.0, \"#f0f921\"]]}, \"colorway\": [\"#636efa\", \"#EF553B\", \"#00cc96\", \"#ab63fa\", \"#FFA15A\", \"#19d3f3\", \"#FF6692\", \"#B6E880\", \"#FF97FF\", \"#FECB52\"], \"font\": {\"color\": \"#2a3f5f\"}, \"geo\": {\"bgcolor\": \"white\", \"lakecolor\": \"white\", \"landcolor\": \"#E5ECF6\", \"showlakes\": true, \"showland\": true, \"subunitcolor\": \"white\"}, \"hoverlabel\": {\"align\": \"left\"}, \"hovermode\": \"closest\", \"mapbox\": {\"style\": \"light\"}, \"paper_bgcolor\": \"white\", \"plot_bgcolor\": \"#E5ECF6\", \"polar\": {\"angularaxis\": {\"gridcolor\": \"white\", \"linecolor\": \"white\", \"ticks\": \"\"}, \"bgcolor\": \"#E5ECF6\", \"radialaxis\": {\"gridcolor\": \"white\", \"linecolor\": \"white\", \"ticks\": \"\"}}, \"scene\": {\"xaxis\": {\"backgroundcolor\": \"#E5ECF6\", \"gridcolor\": \"white\", \"gridwidth\": 2, \"linecolor\": \"white\", \"showbackground\": true, \"ticks\": \"\", \"zerolinecolor\": \"white\"}, \"yaxis\": {\"backgroundcolor\": \"#E5ECF6\", \"gridcolor\": \"white\", \"gridwidth\": 2, \"linecolor\": \"white\", \"showbackground\": true, \"ticks\": \"\", \"zerolinecolor\": \"white\"}, \"zaxis\": {\"backgroundcolor\": \"#E5ECF6\", \"gridcolor\": \"white\", \"gridwidth\": 2, \"linecolor\": \"white\", \"showbackground\": true, \"ticks\": \"\", \"zerolinecolor\": \"white\"}}, \"shapedefaults\": {\"line\": {\"color\": \"#2a3f5f\"}}, \"ternary\": {\"aaxis\": {\"gridcolor\": \"white\", \"linecolor\": \"white\", \"ticks\": \"\"}, \"baxis\": {\"gridcolor\": \"white\", \"linecolor\": \"white\", \"ticks\": \"\"}, \"bgcolor\": \"#E5ECF6\", \"caxis\": {\"gridcolor\": \"white\", \"linecolor\": \"white\", \"ticks\": \"\"}}, \"title\": {\"x\": 0.05}, \"xaxis\": {\"automargin\": true, \"gridcolor\": \"white\", \"linecolor\": \"white\", \"ticks\": \"\", \"title\": {\"standoff\": 15}, \"zerolinecolor\": \"white\", \"zerolinewidth\": 2}, \"yaxis\": {\"automargin\": true, \"gridcolor\": \"white\", \"linecolor\": \"white\", \"ticks\": \"\", \"title\": {\"standoff\": 15}, \"zerolinecolor\": \"white\", \"zerolinewidth\": 2}}}},                        {\"responsive\": true}                    ).then(function(){\n",
       "                            \n",
       "var gd = document.getElementById('402139c0-9cf1-40bc-a169-2b29aac359d6');\n",
       "var x = new MutationObserver(function (mutations, observer) {{\n",
       "        var display = window.getComputedStyle(gd).display;\n",
       "        if (!display || display === 'none') {{\n",
       "            console.log([gd, 'removed!']);\n",
       "            Plotly.purge(gd);\n",
       "            observer.disconnect();\n",
       "        }}\n",
       "}});\n",
       "\n",
       "// Listen for the removal of the full notebook cells\n",
       "var notebookContainer = gd.closest('#notebook-container');\n",
       "if (notebookContainer) {{\n",
       "    x.observe(notebookContainer, {childList: true});\n",
       "}}\n",
       "\n",
       "// Listen for the clearing of the current output cell\n",
       "var outputEl = gd.closest('.output');\n",
       "if (outputEl) {{\n",
       "    x.observe(outputEl, {childList: true});\n",
       "}}\n",
       "\n",
       "                        })                };                });            </script>        </div>"
      ]
     },
     "metadata": {},
     "output_type": "display_data"
    }
   ],
   "source": [
    "### Comparison of the 3 values of the top five countries.\n",
    "### (Social support,Freedom to make life choices,Perceptions of corruption)\n",
    "\n",
    "# top 5 countries in happiness ranking\n",
    "df2020 = world_happiness_report_2020.iloc[:10,:]\n",
    "\n",
    "# create trace1(Social Support)\n",
    "trace1 = go.Bar(\n",
    "                x = df2020[\"Country\"], # x-axis\n",
    "                y = df2020[\"GDP per capita\"], # y-axis\n",
    "                name = \"GDP per capita\", # text to the right of the chart\n",
    "                marker = dict(color = 'rgba(0, 200, 0.9, 0.5)',\n",
    "                             line=dict(color='black',width=2)), # line color around bars\n",
    "                text = df2020[\"Overall rank\"]) # text on hover\n",
    "\n",
    "# create trace2(Freedom to make life choices)\n",
    "trace2 = go.Bar(\n",
    "                x = df2020[\"Country\"],\n",
    "                y = df2020[\"score\"],\n",
    "                name = \"Happiness Score\",\n",
    "                marker = dict(color = 'rgba(206, 100, 105, 0.5)',\n",
    "                              line=dict(color='black',width=2)),\n",
    "                text =df2020[\"Overall rank\"]) # text on hover\n",
    "\n",
    "# create trace3 (Perceptions of corruption)\n",
    "trace3 = go.Bar(\n",
    "                x = df2020[\"Country\"],\n",
    "                y = df2020[\"Perceptions of corruption\"],\n",
    "                name = \"Perceptions of corruption\",\n",
    "                marker = dict(color = 'rgba(10, 80, 200, 3)',\n",
    "                              line=dict(color='black',width=2)),\n",
    "                text =df2020[\"Overall rank\"]) # text on hover\n",
    "\n",
    "# We combine traces\n",
    "data = [trace1, trace2, trace3]\n",
    "\n",
    "layout = go.Layout(barmode = \"group\")\n",
    "fig = go.Figure(data = data, layout = layout)\n",
    "iplot(fig)"
   ]
  },
  {
   "cell_type": "markdown",
   "metadata": {},
   "source": [
    "Creating dataframe for India"
   ]
  },
  {
   "cell_type": "code",
   "execution_count": 46,
   "metadata": {},
   "outputs": [],
   "source": [
    "whr_India = world_happiness_report_2015.loc[world_happiness_report_2015['Country']=='India']\n",
    "whr_India = whr_India.append(world_happiness_report_2016.loc[world_happiness_report_2016['Country']=='India'], ignore_index = True)\n",
    "whr_India = whr_India.append(world_happiness_report_2017.loc[world_happiness_report_2017['Country']=='India'], ignore_index = True)\n",
    "whr_India = whr_India.append(world_happiness_report_2018.loc[world_happiness_report_2018['Country']=='India'], ignore_index = True)\n",
    "whr_India = whr_India.append(world_happiness_report_2019.loc[world_happiness_report_2019['Country']=='India'], ignore_index = True)\n",
    "whr_India = whr_India.append(world_happiness_report_2020.loc[world_happiness_report_2020['Country']=='India'], ignore_index = True)\n",
    "whr_India = whr_India.append(world_happiness_report_2021.loc[world_happiness_report_2021['Country']=='India'], ignore_index = True)"
   ]
  },
  {
   "cell_type": "code",
   "execution_count": 47,
   "metadata": {},
   "outputs": [],
   "source": [
    "whr_India['Year'] = [2015,2016,2017,2018,2019,2020,2021]"
   ]
  },
  {
   "cell_type": "code",
   "execution_count": 48,
   "metadata": {},
   "outputs": [
    {
     "name": "stdout",
     "output_type": "stream",
     "text": [
      "<class 'pandas.core.frame.DataFrame'>\n",
      "RangeIndex: 7 entries, 0 to 6\n",
      "Data columns (total 28 columns):\n",
      " #   Column                                      Non-Null Count  Dtype  \n",
      "---  ------                                      --------------  -----  \n",
      " 0   Country                                     7 non-null      object \n",
      " 1   Region                                      2 non-null      object \n",
      " 2   Overall rank                                7 non-null      int64  \n",
      " 3   score                                       7 non-null      float64\n",
      " 4   Standard Error                              1 non-null      float64\n",
      " 5   GDP per capita                              7 non-null      float64\n",
      " 6   Family                                      3 non-null      float64\n",
      " 7   Healthy life expectancy                     7 non-null      float64\n",
      " 8   Freedom                                     7 non-null      float64\n",
      " 9   Trust..Government.Corruption.               3 non-null      float64\n",
      " 10  Generosity                                  7 non-null      float64\n",
      " 11  Dystopia + residual                         5 non-null      float64\n",
      " 12  Year                                        7 non-null      int64  \n",
      " 13  Lower Confidence Interval                   1 non-null      float64\n",
      " 14  Upper Confidence Interval                   1 non-null      float64\n",
      " 15  upperwhisker                                3 non-null      float64\n",
      " 16  lowerwhisker                                3 non-null      float64\n",
      " 17  Social support                              4 non-null      float64\n",
      " 18  Perceptions of corruption                   4 non-null      float64\n",
      " 19  Regional indicator                          2 non-null      object \n",
      " 20  Standard error of ladder score              2 non-null      float64\n",
      " 21  Ladder score in Dystopia                    2 non-null      float64\n",
      " 22  Explained by: Log GDP per capita            2 non-null      float64\n",
      " 23  Explained by: Social support                2 non-null      float64\n",
      " 24  Explained by: Healthy life expectancy       2 non-null      float64\n",
      " 25  Explained by: Freedom to make life choices  2 non-null      float64\n",
      " 26  Explained by: Generosity                    2 non-null      float64\n",
      " 27  Explained by: Perceptions of corruption     2 non-null      float64\n",
      "dtypes: float64(23), int64(2), object(3)\n",
      "memory usage: 1.7+ KB\n"
     ]
    }
   ],
   "source": [
    "whr_India.info()"
   ]
  },
  {
   "cell_type": "code",
   "execution_count": 49,
   "metadata": {},
   "outputs": [],
   "source": [
    "whr_India.drop(['Region','Family','upperwhisker','Lower Confidence Interval','Upper Confidence Interval','lowerwhisker','Social support','Perceptions of corruption','Standard Error','Trust..Government.Corruption.','Regional indicator','Standard error of ladder score','Ladder score in Dystopia','Explained by: Log GDP per capita','Explained by: Social support','Explained by: Social support','Explained by: Healthy life expectancy','Explained by: Freedom to make life choices','Explained by: Generosity','Explained by: Perceptions of corruption'], axis=1, inplace=True)"
   ]
  },
  {
   "cell_type": "code",
   "execution_count": 50,
   "metadata": {
    "scrolled": true
   },
   "outputs": [
    {
     "data": {
      "text/html": [
       "<div>\n",
       "<style scoped>\n",
       "    .dataframe tbody tr th:only-of-type {\n",
       "        vertical-align: middle;\n",
       "    }\n",
       "\n",
       "    .dataframe tbody tr th {\n",
       "        vertical-align: top;\n",
       "    }\n",
       "\n",
       "    .dataframe thead th {\n",
       "        text-align: right;\n",
       "    }\n",
       "</style>\n",
       "<table border=\"1\" class=\"dataframe\">\n",
       "  <thead>\n",
       "    <tr style=\"text-align: right;\">\n",
       "      <th></th>\n",
       "      <th>Country</th>\n",
       "      <th>Overall rank</th>\n",
       "      <th>score</th>\n",
       "      <th>GDP per capita</th>\n",
       "      <th>Healthy life expectancy</th>\n",
       "      <th>Freedom</th>\n",
       "      <th>Generosity</th>\n",
       "      <th>Dystopia + residual</th>\n",
       "      <th>Year</th>\n",
       "    </tr>\n",
       "  </thead>\n",
       "  <tbody>\n",
       "    <tr>\n",
       "      <th>0</th>\n",
       "      <td>India</td>\n",
       "      <td>117</td>\n",
       "      <td>4.5650</td>\n",
       "      <td>0.644990</td>\n",
       "      <td>51.529000</td>\n",
       "      <td>0.397860</td>\n",
       "      <td>0.264750</td>\n",
       "      <td>2.275130</td>\n",
       "      <td>2015</td>\n",
       "    </tr>\n",
       "    <tr>\n",
       "      <th>1</th>\n",
       "      <td>India</td>\n",
       "      <td>118</td>\n",
       "      <td>4.4040</td>\n",
       "      <td>0.740360</td>\n",
       "      <td>45.091000</td>\n",
       "      <td>0.402850</td>\n",
       "      <td>0.250280</td>\n",
       "      <td>2.180320</td>\n",
       "      <td>2016</td>\n",
       "    </tr>\n",
       "    <tr>\n",
       "      <th>2</th>\n",
       "      <td>India</td>\n",
       "      <td>122</td>\n",
       "      <td>4.3150</td>\n",
       "      <td>0.792221</td>\n",
       "      <td>45.542762</td>\n",
       "      <td>0.469987</td>\n",
       "      <td>0.231538</td>\n",
       "      <td>1.519117</td>\n",
       "      <td>2017</td>\n",
       "    </tr>\n",
       "    <tr>\n",
       "      <th>3</th>\n",
       "      <td>India</td>\n",
       "      <td>133</td>\n",
       "      <td>4.1900</td>\n",
       "      <td>0.721000</td>\n",
       "      <td>48.500000</td>\n",
       "      <td>0.539000</td>\n",
       "      <td>0.172000</td>\n",
       "      <td>NaN</td>\n",
       "      <td>2018</td>\n",
       "    </tr>\n",
       "    <tr>\n",
       "      <th>4</th>\n",
       "      <td>India</td>\n",
       "      <td>140</td>\n",
       "      <td>4.0150</td>\n",
       "      <td>0.755000</td>\n",
       "      <td>58.800000</td>\n",
       "      <td>0.498000</td>\n",
       "      <td>0.200000</td>\n",
       "      <td>NaN</td>\n",
       "      <td>2019</td>\n",
       "    </tr>\n",
       "    <tr>\n",
       "      <th>5</th>\n",
       "      <td>India</td>\n",
       "      <td>144</td>\n",
       "      <td>3.5733</td>\n",
       "      <td>8.849824</td>\n",
       "      <td>60.215187</td>\n",
       "      <td>0.881445</td>\n",
       "      <td>0.057552</td>\n",
       "      <td>0.734131</td>\n",
       "      <td>2020</td>\n",
       "    </tr>\n",
       "    <tr>\n",
       "      <th>6</th>\n",
       "      <td>India</td>\n",
       "      <td>139</td>\n",
       "      <td>3.8190</td>\n",
       "      <td>8.755000</td>\n",
       "      <td>60.633000</td>\n",
       "      <td>0.893000</td>\n",
       "      <td>0.089000</td>\n",
       "      <td>1.405000</td>\n",
       "      <td>2021</td>\n",
       "    </tr>\n",
       "  </tbody>\n",
       "</table>\n",
       "</div>"
      ],
      "text/plain": [
       "  Country  Overall rank   score  GDP per capita  Healthy life expectancy  \\\n",
       "0   India           117  4.5650        0.644990                51.529000   \n",
       "1   India           118  4.4040        0.740360                45.091000   \n",
       "2   India           122  4.3150        0.792221                45.542762   \n",
       "3   India           133  4.1900        0.721000                48.500000   \n",
       "4   India           140  4.0150        0.755000                58.800000   \n",
       "5   India           144  3.5733        8.849824                60.215187   \n",
       "6   India           139  3.8190        8.755000                60.633000   \n",
       "\n",
       "    Freedom  Generosity  Dystopia + residual  Year  \n",
       "0  0.397860    0.264750             2.275130  2015  \n",
       "1  0.402850    0.250280             2.180320  2016  \n",
       "2  0.469987    0.231538             1.519117  2017  \n",
       "3  0.539000    0.172000                  NaN  2018  \n",
       "4  0.498000    0.200000                  NaN  2019  \n",
       "5  0.881445    0.057552             0.734131  2020  \n",
       "6  0.893000    0.089000             1.405000  2021  "
      ]
     },
     "execution_count": 50,
     "metadata": {},
     "output_type": "execute_result"
    }
   ],
   "source": [
    "whr_India"
   ]
  },
  {
   "cell_type": "code",
   "execution_count": 51,
   "metadata": {},
   "outputs": [],
   "source": [
    "whr_India[\"Dystopia + residual\"].fillna(whr_India[\"Dystopia + residual\"].median(),inplace=True)\n",
    "whr_India[\"GDP per capita\"].fillna(whr_India[\"GDP per capita\"].mean(),inplace=True)"
   ]
  },
  {
   "cell_type": "code",
   "execution_count": 52,
   "metadata": {
    "scrolled": true
   },
   "outputs": [
    {
     "data": {
      "text/plain": [
       "Country                    0\n",
       "Overall rank               0\n",
       "score                      0\n",
       "GDP per capita             0\n",
       "Healthy life expectancy    0\n",
       "Freedom                    0\n",
       "Generosity                 0\n",
       "Dystopia + residual        0\n",
       "Year                       0\n",
       "dtype: int64"
      ]
     },
     "execution_count": 52,
     "metadata": {},
     "output_type": "execute_result"
    }
   ],
   "source": [
    "whr_India.isnull().sum()"
   ]
  },
  {
   "cell_type": "code",
   "execution_count": 53,
   "metadata": {},
   "outputs": [],
   "source": [
    "whr_India_new = whr_India.assign(Pop = [1310152403,1324517249,1338676785,1352642280,1366417754,1380004385,1392517700])"
   ]
  },
  {
   "cell_type": "code",
   "execution_count": 54,
   "metadata": {},
   "outputs": [
    {
     "data": {
      "text/html": [
       "<div>\n",
       "<style scoped>\n",
       "    .dataframe tbody tr th:only-of-type {\n",
       "        vertical-align: middle;\n",
       "    }\n",
       "\n",
       "    .dataframe tbody tr th {\n",
       "        vertical-align: top;\n",
       "    }\n",
       "\n",
       "    .dataframe thead th {\n",
       "        text-align: right;\n",
       "    }\n",
       "</style>\n",
       "<table border=\"1\" class=\"dataframe\">\n",
       "  <thead>\n",
       "    <tr style=\"text-align: right;\">\n",
       "      <th></th>\n",
       "      <th>Country</th>\n",
       "      <th>Overall rank</th>\n",
       "      <th>score</th>\n",
       "      <th>GDP per capita</th>\n",
       "      <th>Healthy life expectancy</th>\n",
       "      <th>Freedom</th>\n",
       "      <th>Generosity</th>\n",
       "      <th>Dystopia + residual</th>\n",
       "      <th>Year</th>\n",
       "      <th>Pop</th>\n",
       "    </tr>\n",
       "  </thead>\n",
       "  <tbody>\n",
       "    <tr>\n",
       "      <th>0</th>\n",
       "      <td>India</td>\n",
       "      <td>117</td>\n",
       "      <td>4.5650</td>\n",
       "      <td>0.644990</td>\n",
       "      <td>51.529000</td>\n",
       "      <td>0.397860</td>\n",
       "      <td>0.264750</td>\n",
       "      <td>2.275130</td>\n",
       "      <td>2015</td>\n",
       "      <td>1310152403</td>\n",
       "    </tr>\n",
       "    <tr>\n",
       "      <th>1</th>\n",
       "      <td>India</td>\n",
       "      <td>118</td>\n",
       "      <td>4.4040</td>\n",
       "      <td>0.740360</td>\n",
       "      <td>45.091000</td>\n",
       "      <td>0.402850</td>\n",
       "      <td>0.250280</td>\n",
       "      <td>2.180320</td>\n",
       "      <td>2016</td>\n",
       "      <td>1324517249</td>\n",
       "    </tr>\n",
       "    <tr>\n",
       "      <th>2</th>\n",
       "      <td>India</td>\n",
       "      <td>122</td>\n",
       "      <td>4.3150</td>\n",
       "      <td>0.792221</td>\n",
       "      <td>45.542762</td>\n",
       "      <td>0.469987</td>\n",
       "      <td>0.231538</td>\n",
       "      <td>1.519117</td>\n",
       "      <td>2017</td>\n",
       "      <td>1338676785</td>\n",
       "    </tr>\n",
       "    <tr>\n",
       "      <th>3</th>\n",
       "      <td>India</td>\n",
       "      <td>133</td>\n",
       "      <td>4.1900</td>\n",
       "      <td>0.721000</td>\n",
       "      <td>48.500000</td>\n",
       "      <td>0.539000</td>\n",
       "      <td>0.172000</td>\n",
       "      <td>1.519117</td>\n",
       "      <td>2018</td>\n",
       "      <td>1352642280</td>\n",
       "    </tr>\n",
       "    <tr>\n",
       "      <th>4</th>\n",
       "      <td>India</td>\n",
       "      <td>140</td>\n",
       "      <td>4.0150</td>\n",
       "      <td>0.755000</td>\n",
       "      <td>58.800000</td>\n",
       "      <td>0.498000</td>\n",
       "      <td>0.200000</td>\n",
       "      <td>1.519117</td>\n",
       "      <td>2019</td>\n",
       "      <td>1366417754</td>\n",
       "    </tr>\n",
       "    <tr>\n",
       "      <th>5</th>\n",
       "      <td>India</td>\n",
       "      <td>144</td>\n",
       "      <td>3.5733</td>\n",
       "      <td>8.849824</td>\n",
       "      <td>60.215187</td>\n",
       "      <td>0.881445</td>\n",
       "      <td>0.057552</td>\n",
       "      <td>0.734131</td>\n",
       "      <td>2020</td>\n",
       "      <td>1380004385</td>\n",
       "    </tr>\n",
       "    <tr>\n",
       "      <th>6</th>\n",
       "      <td>India</td>\n",
       "      <td>139</td>\n",
       "      <td>3.8190</td>\n",
       "      <td>8.755000</td>\n",
       "      <td>60.633000</td>\n",
       "      <td>0.893000</td>\n",
       "      <td>0.089000</td>\n",
       "      <td>1.405000</td>\n",
       "      <td>2021</td>\n",
       "      <td>1392517700</td>\n",
       "    </tr>\n",
       "  </tbody>\n",
       "</table>\n",
       "</div>"
      ],
      "text/plain": [
       "  Country  Overall rank   score  GDP per capita  Healthy life expectancy  \\\n",
       "0   India           117  4.5650        0.644990                51.529000   \n",
       "1   India           118  4.4040        0.740360                45.091000   \n",
       "2   India           122  4.3150        0.792221                45.542762   \n",
       "3   India           133  4.1900        0.721000                48.500000   \n",
       "4   India           140  4.0150        0.755000                58.800000   \n",
       "5   India           144  3.5733        8.849824                60.215187   \n",
       "6   India           139  3.8190        8.755000                60.633000   \n",
       "\n",
       "    Freedom  Generosity  Dystopia + residual  Year         Pop  \n",
       "0  0.397860    0.264750             2.275130  2015  1310152403  \n",
       "1  0.402850    0.250280             2.180320  2016  1324517249  \n",
       "2  0.469987    0.231538             1.519117  2017  1338676785  \n",
       "3  0.539000    0.172000             1.519117  2018  1352642280  \n",
       "4  0.498000    0.200000             1.519117  2019  1366417754  \n",
       "5  0.881445    0.057552             0.734131  2020  1380004385  \n",
       "6  0.893000    0.089000             1.405000  2021  1392517700  "
      ]
     },
     "execution_count": 54,
     "metadata": {},
     "output_type": "execute_result"
    }
   ],
   "source": [
    "whr_India_new"
   ]
  },
  {
   "cell_type": "code",
   "execution_count": 55,
   "metadata": {},
   "outputs": [
    {
     "data": {
      "image/png": "[encoded data removed]",
      "text/plain": [
       "<Figure size 1440x432 with 1 Axes>"
      ]
     },
     "metadata": {},
     "output_type": "display_data"
    }
   ],
   "source": [
    "import pandas as pd\n",
    "import matplotlib.pyplot as plt\n",
    "\n",
    "plt.figure(figsize=(20,6))\n",
    "plt.plot(whr_India_new['Year'], whr_India_new['GDP per capita'], marker='o')\n",
    "plt.title('GDP per capita Vs Year', fontsize=18)\n",
    "plt.xlabel('Year', fontsize=18)\n",
    "plt.ylabel('GDP per capita', fontsize=18)\n",
    "plt.grid(True)\n",
    "plt.show()"
   ]
  },
  {
   "cell_type": "code",
   "execution_count": 56,
   "metadata": {},
   "outputs": [
    {
     "data": {
      "image/png": "[encoded data removed]",
      "text/plain": [
       "<Figure size 1440x576 with 1 Axes>"
      ]
     },
     "metadata": {},
     "output_type": "display_data"
    }
   ],
   "source": [
    "# importing the required library\n",
    "import seaborn as sns\n",
    "import matplotlib.pyplot as plt\n",
    " \n",
    "whr_India_new['Healthy life expectancy']=round(whr_India_new['Healthy life expectancy'],2)\n",
    "fig_dims = (20, 8)\n",
    "fig, ax = plt.subplots(figsize=fig_dims)\n",
    "# who v/s fare barplot\n",
    "sns.barplot(x = 'Healthy life expectancy',\n",
    "            y = 'GDP per capita',\n",
    "            data = whr_India_new,ax=ax,)\n",
    " \n",
    "# Show the plot\n",
    "plt.show()"
   ]
  },
  {
   "cell_type": "markdown",
   "metadata": {},
   "source": [
    "### Concatinating all the dataframes"
   ]
  },
  {
   "cell_type": "code",
   "execution_count": 57,
   "metadata": {},
   "outputs": [],
   "source": [
    "world_happiness_report_2021['Year'] = 2021\n",
    "world_happiness_report_2020['Year'] = 2020\n",
    "world_happiness_report_2019['Year'] = 2019\n",
    "world_happiness_report_2018['Year'] = 2018\n",
    "world_happiness_report_2017['Year'] = 2017\n",
    "world_happiness_report_2016['Year'] = 2016\n",
    "world_happiness_report_2015['Year'] = 2015"
   ]
  },
  {
   "cell_type": "code",
   "execution_count": 58,
   "metadata": {},
   "outputs": [
    {
     "data": {
      "text/html": [
       "<div>\n",
       "<style scoped>\n",
       "    .dataframe tbody tr th:only-of-type {\n",
       "        vertical-align: middle;\n",
       "    }\n",
       "\n",
       "    .dataframe tbody tr th {\n",
       "        vertical-align: top;\n",
       "    }\n",
       "\n",
       "    .dataframe thead th {\n",
       "        text-align: right;\n",
       "    }\n",
       "</style>\n",
       "<table border=\"1\" class=\"dataframe\">\n",
       "  <thead>\n",
       "    <tr style=\"text-align: right;\">\n",
       "      <th></th>\n",
       "      <th>Country</th>\n",
       "      <th>Region</th>\n",
       "      <th>Overall rank</th>\n",
       "      <th>score</th>\n",
       "      <th>Standard Error</th>\n",
       "      <th>GDP per capita</th>\n",
       "      <th>Family</th>\n",
       "      <th>Healthy life expectancy</th>\n",
       "      <th>Freedom</th>\n",
       "      <th>Trust..Government.Corruption.</th>\n",
       "      <th>Generosity</th>\n",
       "      <th>Dystopia + residual</th>\n",
       "      <th>Year</th>\n",
       "    </tr>\n",
       "  </thead>\n",
       "  <tbody>\n",
       "    <tr>\n",
       "      <th>0</th>\n",
       "      <td>Switzerland</td>\n",
       "      <td>Western Europe</td>\n",
       "      <td>1</td>\n",
       "      <td>7.587</td>\n",
       "      <td>0.03411</td>\n",
       "      <td>1.39651</td>\n",
       "      <td>1.34951</td>\n",
       "      <td>94.143</td>\n",
       "      <td>0.66557</td>\n",
       "      <td>0.41978</td>\n",
       "      <td>0.29678</td>\n",
       "      <td>2.51738</td>\n",
       "      <td>2015</td>\n",
       "    </tr>\n",
       "    <tr>\n",
       "      <th>1</th>\n",
       "      <td>Iceland</td>\n",
       "      <td>Western Europe</td>\n",
       "      <td>2</td>\n",
       "      <td>7.561</td>\n",
       "      <td>0.04884</td>\n",
       "      <td>1.30232</td>\n",
       "      <td>1.40223</td>\n",
       "      <td>94.784</td>\n",
       "      <td>0.62877</td>\n",
       "      <td>0.14145</td>\n",
       "      <td>0.43630</td>\n",
       "      <td>2.70201</td>\n",
       "      <td>2015</td>\n",
       "    </tr>\n",
       "    <tr>\n",
       "      <th>2</th>\n",
       "      <td>Denmark</td>\n",
       "      <td>Western Europe</td>\n",
       "      <td>3</td>\n",
       "      <td>7.527</td>\n",
       "      <td>0.03328</td>\n",
       "      <td>1.32548</td>\n",
       "      <td>1.36058</td>\n",
       "      <td>87.464</td>\n",
       "      <td>0.64938</td>\n",
       "      <td>0.48357</td>\n",
       "      <td>0.34139</td>\n",
       "      <td>2.49204</td>\n",
       "      <td>2015</td>\n",
       "    </tr>\n",
       "    <tr>\n",
       "      <th>3</th>\n",
       "      <td>Norway</td>\n",
       "      <td>Western Europe</td>\n",
       "      <td>4</td>\n",
       "      <td>7.522</td>\n",
       "      <td>0.03880</td>\n",
       "      <td>1.45900</td>\n",
       "      <td>1.33095</td>\n",
       "      <td>88.521</td>\n",
       "      <td>0.66973</td>\n",
       "      <td>0.36503</td>\n",
       "      <td>0.34699</td>\n",
       "      <td>2.46531</td>\n",
       "      <td>2015</td>\n",
       "    </tr>\n",
       "    <tr>\n",
       "      <th>4</th>\n",
       "      <td>Canada</td>\n",
       "      <td>North America</td>\n",
       "      <td>5</td>\n",
       "      <td>7.427</td>\n",
       "      <td>0.03553</td>\n",
       "      <td>1.32629</td>\n",
       "      <td>1.32261</td>\n",
       "      <td>90.563</td>\n",
       "      <td>0.63297</td>\n",
       "      <td>0.32957</td>\n",
       "      <td>0.45811</td>\n",
       "      <td>2.45176</td>\n",
       "      <td>2015</td>\n",
       "    </tr>\n",
       "    <tr>\n",
       "      <th>...</th>\n",
       "      <td>...</td>\n",
       "      <td>...</td>\n",
       "      <td>...</td>\n",
       "      <td>...</td>\n",
       "      <td>...</td>\n",
       "      <td>...</td>\n",
       "      <td>...</td>\n",
       "      <td>...</td>\n",
       "      <td>...</td>\n",
       "      <td>...</td>\n",
       "      <td>...</td>\n",
       "      <td>...</td>\n",
       "      <td>...</td>\n",
       "    </tr>\n",
       "    <tr>\n",
       "      <th>153</th>\n",
       "      <td>Rwanda</td>\n",
       "      <td>Sub-Saharan Africa</td>\n",
       "      <td>154</td>\n",
       "      <td>3.465</td>\n",
       "      <td>0.03464</td>\n",
       "      <td>0.22208</td>\n",
       "      <td>0.77370</td>\n",
       "      <td>42.864</td>\n",
       "      <td>0.59201</td>\n",
       "      <td>0.55191</td>\n",
       "      <td>0.22628</td>\n",
       "      <td>0.67042</td>\n",
       "      <td>2015</td>\n",
       "    </tr>\n",
       "    <tr>\n",
       "      <th>154</th>\n",
       "      <td>Benin</td>\n",
       "      <td>Sub-Saharan Africa</td>\n",
       "      <td>155</td>\n",
       "      <td>3.340</td>\n",
       "      <td>0.03656</td>\n",
       "      <td>0.28665</td>\n",
       "      <td>0.35386</td>\n",
       "      <td>31.910</td>\n",
       "      <td>0.48450</td>\n",
       "      <td>0.08010</td>\n",
       "      <td>0.18260</td>\n",
       "      <td>1.63328</td>\n",
       "      <td>2015</td>\n",
       "    </tr>\n",
       "    <tr>\n",
       "      <th>155</th>\n",
       "      <td>Syria</td>\n",
       "      <td>Middle East and Northern Africa</td>\n",
       "      <td>156</td>\n",
       "      <td>3.006</td>\n",
       "      <td>0.05015</td>\n",
       "      <td>0.66320</td>\n",
       "      <td>0.47489</td>\n",
       "      <td>72.193</td>\n",
       "      <td>0.15684</td>\n",
       "      <td>0.18906</td>\n",
       "      <td>0.47179</td>\n",
       "      <td>0.32858</td>\n",
       "      <td>2015</td>\n",
       "    </tr>\n",
       "    <tr>\n",
       "      <th>156</th>\n",
       "      <td>Burundi</td>\n",
       "      <td>Sub-Saharan Africa</td>\n",
       "      <td>157</td>\n",
       "      <td>2.905</td>\n",
       "      <td>0.08658</td>\n",
       "      <td>0.01530</td>\n",
       "      <td>0.41587</td>\n",
       "      <td>22.396</td>\n",
       "      <td>0.11850</td>\n",
       "      <td>0.10062</td>\n",
       "      <td>0.19727</td>\n",
       "      <td>1.83302</td>\n",
       "      <td>2015</td>\n",
       "    </tr>\n",
       "    <tr>\n",
       "      <th>157</th>\n",
       "      <td>Togo</td>\n",
       "      <td>Sub-Saharan Africa</td>\n",
       "      <td>158</td>\n",
       "      <td>2.839</td>\n",
       "      <td>0.06727</td>\n",
       "      <td>0.20868</td>\n",
       "      <td>0.13995</td>\n",
       "      <td>28.443</td>\n",
       "      <td>0.36453</td>\n",
       "      <td>0.10731</td>\n",
       "      <td>0.16681</td>\n",
       "      <td>1.56726</td>\n",
       "      <td>2015</td>\n",
       "    </tr>\n",
       "  </tbody>\n",
       "</table>\n",
       "<p>158 rows × 13 columns</p>\n",
       "</div>"
      ],
      "text/plain": [
       "         Country                           Region  Overall rank  score  \\\n",
       "0    Switzerland                   Western Europe             1  7.587   \n",
       "1        Iceland                   Western Europe             2  7.561   \n",
       "2        Denmark                   Western Europe             3  7.527   \n",
       "3         Norway                   Western Europe             4  7.522   \n",
       "4         Canada                    North America             5  7.427   \n",
       "..           ...                              ...           ...    ...   \n",
       "153       Rwanda               Sub-Saharan Africa           154  3.465   \n",
       "154        Benin               Sub-Saharan Africa           155  3.340   \n",
       "155        Syria  Middle East and Northern Africa           156  3.006   \n",
       "156      Burundi               Sub-Saharan Africa           157  2.905   \n",
       "157         Togo               Sub-Saharan Africa           158  2.839   \n",
       "\n",
       "     Standard Error  GDP per capita   Family  Healthy life expectancy  \\\n",
       "0           0.03411         1.39651  1.34951                   94.143   \n",
       "1           0.04884         1.30232  1.40223                   94.784   \n",
       "2           0.03328         1.32548  1.36058                   87.464   \n",
       "3           0.03880         1.45900  1.33095                   88.521   \n",
       "4           0.03553         1.32629  1.32261                   90.563   \n",
       "..              ...             ...      ...                      ...   \n",
       "153         0.03464         0.22208  0.77370                   42.864   \n",
       "154         0.03656         0.28665  0.35386                   31.910   \n",
       "155         0.05015         0.66320  0.47489                   72.193   \n",
       "156         0.08658         0.01530  0.41587                   22.396   \n",
       "157         0.06727         0.20868  0.13995                   28.443   \n",
       "\n",
       "     Freedom  Trust..Government.Corruption.  Generosity  Dystopia + residual  \\\n",
       "0    0.66557                        0.41978     0.29678              2.51738   \n",
       "1    0.62877                        0.14145     0.43630              2.70201   \n",
       "2    0.64938                        0.48357     0.34139              2.49204   \n",
       "3    0.66973                        0.36503     0.34699              2.46531   \n",
       "4    0.63297                        0.32957     0.45811              2.45176   \n",
       "..       ...                            ...         ...                  ...   \n",
       "153  0.59201                        0.55191     0.22628              0.67042   \n",
       "154  0.48450                        0.08010     0.18260              1.63328   \n",
       "155  0.15684                        0.18906     0.47179              0.32858   \n",
       "156  0.11850                        0.10062     0.19727              1.83302   \n",
       "157  0.36453                        0.10731     0.16681              1.56726   \n",
       "\n",
       "     Year  \n",
       "0    2015  \n",
       "1    2015  \n",
       "2    2015  \n",
       "3    2015  \n",
       "4    2015  \n",
       "..    ...  \n",
       "153  2015  \n",
       "154  2015  \n",
       "155  2015  \n",
       "156  2015  \n",
       "157  2015  \n",
       "\n",
       "[158 rows x 13 columns]"
      ]
     },
     "execution_count": 58,
     "metadata": {},
     "output_type": "execute_result"
    }
   ],
   "source": [
    "world_happiness_report_2015"
   ]
  },
  {
   "cell_type": "code",
   "execution_count": 59,
   "metadata": {},
   "outputs": [],
   "source": [
    "world_happiness_report_2015 = world_happiness_report_2015[[\"Overall rank\",\"score\",\"Healthy life expectancy\",\"Freedom\",\"Generosity\",\"GDP per capita\",\"Year\",\"Country\"]]\n",
    "world_happiness_report_2016 = world_happiness_report_2016[[\"Overall rank\",\"score\",\"Healthy life expectancy\",\"Freedom\",\"Generosity\",\"GDP per capita\",\"Year\",\"Country\"]]\n",
    "world_happiness_report_2017 = world_happiness_report_2017[[\"Overall rank\",\"score\",\"Healthy life expectancy\",\"Freedom\",\"Generosity\",\"GDP per capita\",\"Year\",\"Country\"]]\n",
    "world_happiness_report_2018 = world_happiness_report_2018[[\"Overall rank\",\"score\",\"Healthy life expectancy\",\"Freedom\",\"Generosity\",\"GDP per capita\",\"Year\",\"Country\"]]\n",
    "world_happiness_report_2019 = world_happiness_report_2019[[\"Overall rank\",\"score\",\"Healthy life expectancy\",\"Freedom\",\"Generosity\",\"GDP per capita\",\"Year\",\"Country\"]]\n",
    "world_happiness_report_2020 = world_happiness_report_2020[[\"Overall rank\",\"score\",\"Healthy life expectancy\",\"Freedom\",\"Generosity\",\"GDP per capita\",\"Year\",\"Country\"]]\n",
    "world_happiness_report_2021 = world_happiness_report_2021[[\"Overall rank\",\"score\",\"Healthy life expectancy\",\"Freedom\",\"Generosity\",\"GDP per capita\",\"Year\",\"Country\"]]"
   ]
  },
  {
   "cell_type": "code",
   "execution_count": 60,
   "metadata": {},
   "outputs": [],
   "source": [
    "new = [world_happiness_report_2015,world_happiness_report_2016,world_happiness_report_2017,world_happiness_report_2018,world_happiness_report_2019, world_happiness_report_2020, world_happiness_report_2021]"
   ]
  },
  {
   "cell_type": "code",
   "execution_count": 61,
   "metadata": {},
   "outputs": [
    {
     "data": {
      "text/html": [
       "<div>\n",
       "<style scoped>\n",
       "    .dataframe tbody tr th:only-of-type {\n",
       "        vertical-align: middle;\n",
       "    }\n",
       "\n",
       "    .dataframe tbody tr th {\n",
       "        vertical-align: top;\n",
       "    }\n",
       "\n",
       "    .dataframe thead th {\n",
       "        text-align: right;\n",
       "    }\n",
       "</style>\n",
       "<table border=\"1\" class=\"dataframe\">\n",
       "  <thead>\n",
       "    <tr style=\"text-align: right;\">\n",
       "      <th></th>\n",
       "      <th>Overall rank</th>\n",
       "      <th>score</th>\n",
       "      <th>Healthy life expectancy</th>\n",
       "      <th>Freedom</th>\n",
       "      <th>Generosity</th>\n",
       "      <th>GDP per capita</th>\n",
       "      <th>Year</th>\n",
       "      <th>Country</th>\n",
       "    </tr>\n",
       "  </thead>\n",
       "  <tbody>\n",
       "    <tr>\n",
       "      <th>0</th>\n",
       "      <td>1</td>\n",
       "      <td>7.587</td>\n",
       "      <td>94.143</td>\n",
       "      <td>0.66557</td>\n",
       "      <td>0.29678</td>\n",
       "      <td>1.39651</td>\n",
       "      <td>2015</td>\n",
       "      <td>Switzerland</td>\n",
       "    </tr>\n",
       "    <tr>\n",
       "      <th>1</th>\n",
       "      <td>2</td>\n",
       "      <td>7.561</td>\n",
       "      <td>94.784</td>\n",
       "      <td>0.62877</td>\n",
       "      <td>0.43630</td>\n",
       "      <td>1.30232</td>\n",
       "      <td>2015</td>\n",
       "      <td>Iceland</td>\n",
       "    </tr>\n",
       "    <tr>\n",
       "      <th>2</th>\n",
       "      <td>3</td>\n",
       "      <td>7.527</td>\n",
       "      <td>87.464</td>\n",
       "      <td>0.64938</td>\n",
       "      <td>0.34139</td>\n",
       "      <td>1.32548</td>\n",
       "      <td>2015</td>\n",
       "      <td>Denmark</td>\n",
       "    </tr>\n",
       "    <tr>\n",
       "      <th>3</th>\n",
       "      <td>4</td>\n",
       "      <td>7.522</td>\n",
       "      <td>88.521</td>\n",
       "      <td>0.66973</td>\n",
       "      <td>0.34699</td>\n",
       "      <td>1.45900</td>\n",
       "      <td>2015</td>\n",
       "      <td>Norway</td>\n",
       "    </tr>\n",
       "    <tr>\n",
       "      <th>4</th>\n",
       "      <td>5</td>\n",
       "      <td>7.427</td>\n",
       "      <td>90.563</td>\n",
       "      <td>0.63297</td>\n",
       "      <td>0.45811</td>\n",
       "      <td>1.32629</td>\n",
       "      <td>2015</td>\n",
       "      <td>Canada</td>\n",
       "    </tr>\n",
       "    <tr>\n",
       "      <th>...</th>\n",
       "      <td>...</td>\n",
       "      <td>...</td>\n",
       "      <td>...</td>\n",
       "      <td>...</td>\n",
       "      <td>...</td>\n",
       "      <td>...</td>\n",
       "      <td>...</td>\n",
       "      <td>...</td>\n",
       "    </tr>\n",
       "    <tr>\n",
       "      <th>144</th>\n",
       "      <td>145</td>\n",
       "      <td>3.512</td>\n",
       "      <td>48.700</td>\n",
       "      <td>0.71500</td>\n",
       "      <td>-0.13100</td>\n",
       "      <td>7.92600</td>\n",
       "      <td>2021</td>\n",
       "      <td>Lesotho</td>\n",
       "    </tr>\n",
       "    <tr>\n",
       "      <th>145</th>\n",
       "      <td>146</td>\n",
       "      <td>3.467</td>\n",
       "      <td>59.269</td>\n",
       "      <td>0.82400</td>\n",
       "      <td>-0.24600</td>\n",
       "      <td>9.78200</td>\n",
       "      <td>2021</td>\n",
       "      <td>Botswana</td>\n",
       "    </tr>\n",
       "    <tr>\n",
       "      <th>146</th>\n",
       "      <td>147</td>\n",
       "      <td>3.415</td>\n",
       "      <td>61.400</td>\n",
       "      <td>0.89700</td>\n",
       "      <td>0.06100</td>\n",
       "      <td>7.67600</td>\n",
       "      <td>2021</td>\n",
       "      <td>Rwanda</td>\n",
       "    </tr>\n",
       "    <tr>\n",
       "      <th>147</th>\n",
       "      <td>148</td>\n",
       "      <td>3.145</td>\n",
       "      <td>56.201</td>\n",
       "      <td>0.67700</td>\n",
       "      <td>-0.04700</td>\n",
       "      <td>7.94300</td>\n",
       "      <td>2021</td>\n",
       "      <td>Zimbabwe</td>\n",
       "    </tr>\n",
       "    <tr>\n",
       "      <th>148</th>\n",
       "      <td>149</td>\n",
       "      <td>2.523</td>\n",
       "      <td>52.493</td>\n",
       "      <td>0.38200</td>\n",
       "      <td>-0.10200</td>\n",
       "      <td>7.69500</td>\n",
       "      <td>2021</td>\n",
       "      <td>Afghanistan</td>\n",
       "    </tr>\n",
       "  </tbody>\n",
       "</table>\n",
       "<p>1084 rows × 8 columns</p>\n",
       "</div>"
      ],
      "text/plain": [
       "     Overall rank  score  Healthy life expectancy  Freedom  Generosity  \\\n",
       "0               1  7.587                   94.143  0.66557     0.29678   \n",
       "1               2  7.561                   94.784  0.62877     0.43630   \n",
       "2               3  7.527                   87.464  0.64938     0.34139   \n",
       "3               4  7.522                   88.521  0.66973     0.34699   \n",
       "4               5  7.427                   90.563  0.63297     0.45811   \n",
       "..            ...    ...                      ...      ...         ...   \n",
       "144           145  3.512                   48.700  0.71500    -0.13100   \n",
       "145           146  3.467                   59.269  0.82400    -0.24600   \n",
       "146           147  3.415                   61.400  0.89700     0.06100   \n",
       "147           148  3.145                   56.201  0.67700    -0.04700   \n",
       "148           149  2.523                   52.493  0.38200    -0.10200   \n",
       "\n",
       "     GDP per capita  Year      Country  \n",
       "0           1.39651  2015  Switzerland  \n",
       "1           1.30232  2015      Iceland  \n",
       "2           1.32548  2015      Denmark  \n",
       "3           1.45900  2015       Norway  \n",
       "4           1.32629  2015       Canada  \n",
       "..              ...   ...          ...  \n",
       "144         7.92600  2021      Lesotho  \n",
       "145         9.78200  2021     Botswana  \n",
       "146         7.67600  2021       Rwanda  \n",
       "147         7.94300  2021     Zimbabwe  \n",
       "148         7.69500  2021  Afghanistan  \n",
       "\n",
       "[1084 rows x 8 columns]"
      ]
     },
     "execution_count": 61,
     "metadata": {},
     "output_type": "execute_result"
    }
   ],
   "source": [
    "df = pd.concat(new)\n",
    "df"
   ]
  },
  {
   "cell_type": "code",
   "execution_count": 62,
   "metadata": {},
   "outputs": [
    {
     "data": {
      "image/png": "[encoded data removed]",
      "text/plain": [
       "<Figure size 1152x432 with 2 Axes>"
      ]
     },
     "metadata": {},
     "output_type": "display_data"
    }
   ],
   "source": [
    "plt.figure(figsize=(16, 6))\n",
    "heatmap = sns.heatmap(df.corr(), vmin=-1, vmax=1, annot=True, cmap='BrBG')\n",
    "heatmap.set_title('Correlation Heatmap', fontdict={'fontsize':18}, pad=12);"
   ]
  },
  {
   "cell_type": "code",
   "execution_count": 63,
   "metadata": {},
   "outputs": [
    {
     "name": "stdout",
     "output_type": "stream",
     "text": [
      "<class 'pandas.core.frame.DataFrame'>\n",
      "Int64Index: 1084 entries, 0 to 148\n",
      "Data columns (total 8 columns):\n",
      " #   Column                   Non-Null Count  Dtype  \n",
      "---  ------                   --------------  -----  \n",
      " 0   Overall rank             1084 non-null   int64  \n",
      " 1   score                    1084 non-null   float64\n",
      " 2   Healthy life expectancy  1084 non-null   float64\n",
      " 3   Freedom                  1084 non-null   float64\n",
      " 4   Generosity               1084 non-null   float64\n",
      " 5   GDP per capita           1084 non-null   float64\n",
      " 6   Year                     1084 non-null   int64  \n",
      " 7   Country                  1084 non-null   object \n",
      "dtypes: float64(5), int64(2), object(1)\n",
      "memory usage: 76.2+ KB\n"
     ]
    }
   ],
   "source": [
    "df.info()"
   ]
  },
  {
   "cell_type": "code",
   "execution_count": 64,
   "metadata": {},
   "outputs": [
    {
     "data": {
      "text/plain": [
       "Overall rank              -0.989891\n",
       "score                      1.000000\n",
       "Healthy life expectancy    0.695387\n",
       "Freedom                    0.399134\n",
       "Generosity                 0.048637\n",
       "GDP per capita             0.174340\n",
       "Year                       0.044499\n",
       "Name: score, dtype: float64"
      ]
     },
     "execution_count": 64,
     "metadata": {},
     "output_type": "execute_result"
    }
   ],
   "source": [
    "df.corr()['score']"
   ]
  },
  {
   "cell_type": "code",
   "execution_count": 65,
   "metadata": {},
   "outputs": [],
   "source": [
    "df = df.drop(['Generosity'],axis=1)"
   ]
  },
  {
   "cell_type": "markdown",
   "metadata": {},
   "source": [
    "### Linear Regression"
   ]
  },
  {
   "cell_type": "code",
   "execution_count": 66,
   "metadata": {},
   "outputs": [
    {
     "data": {
      "text/plain": [
       "LinearRegression()"
      ]
     },
     "execution_count": 66,
     "metadata": {},
     "output_type": "execute_result"
    }
   ],
   "source": [
    "from sklearn.linear_model import LinearRegression\n",
    "X = df.drop([\"score\",\"Country\"], axis = 1)\n",
    "lm = LinearRegression()\n",
    "lm.fit(X, df.score)"
   ]
  },
  {
   "cell_type": "code",
   "execution_count": 67,
   "metadata": {},
   "outputs": [
    {
     "name": "stdout",
     "output_type": "stream",
     "text": [
      "Estimated Intercept is 12.19032967955169\n"
     ]
    }
   ],
   "source": [
    "print(\"Estimated Intercept is\", lm.intercept_)"
   ]
  },
  {
   "cell_type": "code",
   "execution_count": 68,
   "metadata": {},
   "outputs": [
    {
     "name": "stdout",
     "output_type": "stream",
     "text": [
      "The number of coefficients in this model are [-2.41774772e-02  6.75295532e-04  1.81904036e-01 -1.67157668e-04\n",
      " -2.49138906e-03]\n"
     ]
    }
   ],
   "source": [
    "print(\"The number of coefficients in this model are\", lm.coef_)"
   ]
  },
  {
   "cell_type": "code",
   "execution_count": 69,
   "metadata": {},
   "outputs": [
    {
     "data": {
      "text/html": [
       "<div>\n",
       "<style scoped>\n",
       "    .dataframe tbody tr th:only-of-type {\n",
       "        vertical-align: middle;\n",
       "    }\n",
       "\n",
       "    .dataframe tbody tr th {\n",
       "        vertical-align: top;\n",
       "    }\n",
       "\n",
       "    .dataframe thead th {\n",
       "        text-align: right;\n",
       "    }\n",
       "</style>\n",
       "<table border=\"1\" class=\"dataframe\">\n",
       "  <thead>\n",
       "    <tr style=\"text-align: right;\">\n",
       "      <th></th>\n",
       "      <th>features</th>\n",
       "      <th>coefficients</th>\n",
       "    </tr>\n",
       "  </thead>\n",
       "  <tbody>\n",
       "    <tr>\n",
       "      <th>0</th>\n",
       "      <td>Overall rank</td>\n",
       "      <td>-0.024177</td>\n",
       "    </tr>\n",
       "    <tr>\n",
       "      <th>1</th>\n",
       "      <td>Healthy life expectancy</td>\n",
       "      <td>0.000675</td>\n",
       "    </tr>\n",
       "    <tr>\n",
       "      <th>2</th>\n",
       "      <td>Freedom</td>\n",
       "      <td>0.181904</td>\n",
       "    </tr>\n",
       "    <tr>\n",
       "      <th>3</th>\n",
       "      <td>GDP per capita</td>\n",
       "      <td>-0.000167</td>\n",
       "    </tr>\n",
       "    <tr>\n",
       "      <th>4</th>\n",
       "      <td>Year</td>\n",
       "      <td>-0.002491</td>\n",
       "    </tr>\n",
       "  </tbody>\n",
       "</table>\n",
       "</div>"
      ],
      "text/plain": [
       "                  features  coefficients\n",
       "0             Overall rank     -0.024177\n",
       "1  Healthy life expectancy      0.000675\n",
       "2                  Freedom      0.181904\n",
       "3           GDP per capita     -0.000167\n",
       "4                     Year     -0.002491"
      ]
     },
     "execution_count": 69,
     "metadata": {},
     "output_type": "execute_result"
    }
   ],
   "source": [
    "coef = zip(X.columns, lm.coef_)\n",
    "coef_df = pd.DataFrame(list(zip(X.columns, lm.coef_)), columns=['features', 'coefficients'])\n",
    "coef_df"
   ]
  },
  {
   "cell_type": "code",
   "execution_count": 70,
   "metadata": {},
   "outputs": [],
   "source": [
    "pred_lr1 = lm.predict(X)"
   ]
  },
  {
   "cell_type": "code",
   "execution_count": 71,
   "metadata": {},
   "outputs": [
    {
     "name": "stdout",
     "output_type": "stream",
     "text": [
      "0.02389399665946903\n"
     ]
    }
   ],
   "source": [
    "mse = np.mean((df.score - lm.predict(X)) ** 2 ) \n",
    "print(mse)"
   ]
  },
  {
   "cell_type": "code",
   "execution_count": 72,
   "metadata": {},
   "outputs": [
    {
     "data": {
      "text/plain": [
       "0.9808863331845268"
      ]
     },
     "execution_count": 72,
     "metadata": {},
     "output_type": "execute_result"
    }
   ],
   "source": [
    "lm.score(X,df.score) # score on train data"
   ]
  },
  {
   "cell_type": "code",
   "execution_count": 73,
   "metadata": {},
   "outputs": [],
   "source": [
    " m = X.shape[0]"
   ]
  },
  {
   "cell_type": "code",
   "execution_count": 74,
   "metadata": {},
   "outputs": [],
   "source": [
    "# root mean squared error\n",
    "# m is the number of training examples\n",
    "rmse = np.sqrt(mse/m)"
   ]
  },
  {
   "cell_type": "code",
   "execution_count": 75,
   "metadata": {},
   "outputs": [
    {
     "name": "stdout",
     "output_type": "stream",
     "text": [
      "0.1545768309271122\n"
     ]
    }
   ],
   "source": [
    "import math\n",
    "rmse = math.sqrt(mse)\n",
    "\n",
    "print(rmse)"
   ]
  },
  {
   "cell_type": "code",
   "execution_count": 76,
   "metadata": {},
   "outputs": [
    {
     "name": "stdout",
     "output_type": "stream",
     "text": [
      "Mean Absolute Error: 0.11567857468989363\n",
      "Mean Squared Error: 0.023893996659469032\n",
      "Root Mean Squared Error: 0.1545768309271122\n"
     ]
    }
   ],
   "source": [
    "from sklearn import metrics\n",
    "rmse_lr1 =  np.sqrt(metrics.mean_squared_error(df.score, pred_lr1))\n",
    "\n",
    "print('Mean Absolute Error:', metrics.mean_absolute_error(df.score, pred_lr1))  \n",
    "print('Mean Squared Error:', metrics.mean_squared_error(df.score, pred_lr1))  \n",
    "print('Root Mean Squared Error:', np.sqrt(metrics.mean_squared_error(df.score, pred_lr1)))"
   ]
  },
  {
   "cell_type": "markdown",
   "metadata": {},
   "source": [
    "\n",
    "\n",
    "### Train Test Split\n",
    "\n"
   ]
  },
  {
   "cell_type": "code",
   "execution_count": 77,
   "metadata": {},
   "outputs": [],
   "source": [
    "from sklearn.model_selection import train_test_split\n",
    "train , test = train_test_split(df, test_size = 0.3)\n",
    "\n",
    "x_train = df.drop(['score','Country'], axis=1)\n",
    "y_train = df['score']\n",
    "\n",
    "x_test = test.drop(['score','Country'], axis = 1)\n",
    "y_test = test['score']"
   ]
  },
  {
   "cell_type": "code",
   "execution_count": 78,
   "metadata": {},
   "outputs": [],
   "source": [
    "from sklearn.linear_model import LinearRegression\n",
    "lm = LinearRegression()\n",
    "lm.fit(x_train, y_train)\n",
    "\n",
    "pred_lr = lm.predict(x_test)"
   ]
  },
  {
   "cell_type": "code",
   "execution_count": 79,
   "metadata": {},
   "outputs": [
    {
     "name": "stdout",
     "output_type": "stream",
     "text": [
      "Mean Absolute Error: 0.11836642319337856\n",
      "Mean Squared Error: 0.02547273051235716\n",
      "Root Mean Squared Error: 0.1596017873094069\n"
     ]
    }
   ],
   "source": [
    "from sklearn import metrics\n",
    "rmse_lr =  np.sqrt(metrics.mean_squared_error(y_test, pred_lr))\n",
    "\n",
    "print('Mean Absolute Error:', metrics.mean_absolute_error(y_test, pred_lr))  \n",
    "print('Mean Squared Error:', metrics.mean_squared_error(y_test, pred_lr))  \n",
    "print('Root Mean Squared Error:', np.sqrt(metrics.mean_squared_error(y_test, pred_lr)))\n"
   ]
  },
  {
   "cell_type": "code",
   "execution_count": 80,
   "metadata": {},
   "outputs": [],
   "source": [
    "def evaluate(model, test_features, test_labels):\n",
    "    predictions = model.predict(test_features)\n",
    "    errors = abs(predictions - test_labels)\n",
    "    mape = 100 * np.mean(errors / test_labels)\n",
    "    accuracy = 100 - mape\n",
    "    print('Model Performance')\n",
    "    print('Average Error: {:0.4f} degrees.'.format(np.mean(errors)))\n",
    "    print('Accuracy = {:0.2f}%.'.format(accuracy))\n",
    "    \n",
    "    return accuracy"
   ]
  },
  {
   "cell_type": "code",
   "execution_count": 81,
   "metadata": {},
   "outputs": [
    {
     "name": "stdout",
     "output_type": "stream",
     "text": [
      "Model Performance\n",
      "Average Error: 0.1184 degrees.\n",
      "Accuracy = 97.56%.\n"
     ]
    }
   ],
   "source": [
    "accuracy_lr = evaluate(lm, x_test, y_test)"
   ]
  },
  {
   "cell_type": "code",
   "execution_count": 82,
   "metadata": {},
   "outputs": [
    {
     "data": {
      "text/plain": [
       "0.979454527223355"
      ]
     },
     "execution_count": 82,
     "metadata": {},
     "output_type": "execute_result"
    }
   ],
   "source": [
    "lm_score = lm.score(x_test,y_test)\n",
    "lm_score"
   ]
  },
  {
   "cell_type": "code",
   "execution_count": 83,
   "metadata": {},
   "outputs": [
    {
     "data": {
      "text/plain": [
       "0.9791335042112199"
      ]
     },
     "execution_count": 83,
     "metadata": {},
     "output_type": "execute_result"
    }
   ],
   "source": [
    "#display adjusted R-squared\n",
    "1 - (1-lm.score(x_test, y_test))*(len(y_test)-1)/(len(y_test)-x_test.shape[1]-1)"
   ]
  },
  {
   "cell_type": "markdown",
   "metadata": {},
   "source": [
    "## Scaling The Features"
   ]
  },
  {
   "cell_type": "code",
   "execution_count": 84,
   "metadata": {},
   "outputs": [],
   "source": [
    "from sklearn.preprocessing import MinMaxScaler\n",
    "scaler = MinMaxScaler(feature_range=(0, 1))\n",
    "\n",
    "x_train_scaled = scaler.fit_transform(x_train)\n",
    "x_train = pd.DataFrame(x_train_scaled)\n",
    "\n",
    "x_test_scaled = scaler.fit_transform(x_test)\n",
    "x_test = pd.DataFrame(x_test_scaled)"
   ]
  },
  {
   "cell_type": "markdown",
   "metadata": {},
   "source": [
    "## KNN"
   ]
  },
  {
   "cell_type": "code",
   "execution_count": 85,
   "metadata": {},
   "outputs": [],
   "source": [
    "from sklearn import neighbors\n",
    "from sklearn.metrics import mean_squared_error\n",
    "from math import sqrt"
   ]
  },
  {
   "cell_type": "code",
   "execution_count": 86,
   "metadata": {},
   "outputs": [
    {
     "name": "stdout",
     "output_type": "stream",
     "text": [
      "RMSE value for k=  1 is: 0.05071365161285495\n",
      "RMSE value for k=  2 is: 0.10951301035643285\n",
      "RMSE value for k=  3 is: 0.1267817117275937\n",
      "RMSE value for k=  4 is: 0.1339987346059596\n",
      "RMSE value for k=  5 is: 0.14008768617342626\n",
      "RMSE value for k=  6 is: 0.14761211985856204\n",
      "RMSE value for k=  7 is: 0.15047725913376295\n",
      "RMSE value for k=  8 is: 0.15447416532184755\n",
      "RMSE value for k=  9 is: 0.16252950613797715\n",
      "RMSE value for k=  10 is: 0.1705198055824854\n",
      "RMSE value for k=  11 is: 0.1749302305071412\n",
      "RMSE value for k=  12 is: 0.17990500274777319\n",
      "RMSE value for k=  13 is: 0.18441424338680062\n",
      "RMSE value for k=  14 is: 0.1864700061881051\n",
      "RMSE value for k=  15 is: 0.1914364126752508\n",
      "RMSE value for k=  16 is: 0.19353227225222014\n",
      "RMSE value for k=  17 is: 0.19591901964124292\n",
      "RMSE value for k=  18 is: 0.19840930931249218\n",
      "RMSE value for k=  19 is: 0.2011347118971728\n",
      "RMSE value for k=  20 is: 0.20550448393947265\n"
     ]
    }
   ],
   "source": [
    "rmse_val = [] #to store rmse values for different k\n",
    "for K in range(20):\n",
    "    K = K+1\n",
    "    model = neighbors.KNeighborsRegressor(n_neighbors = K)\n",
    "\n",
    "    model.fit(x_train, y_train)  #fit the model\n",
    "    pred_knn=model.predict(x_test) #make prediction on test set\n",
    "    error = sqrt(mean_squared_error(y_test,pred_knn)) #calculate rmse\n",
    "    rmse_val.append(error) #store rmse values\n",
    "    print('RMSE value for k= ' , K , 'is:', error)"
   ]
  },
  {
   "cell_type": "code",
   "execution_count": 87,
   "metadata": {},
   "outputs": [
    {
     "data": {
      "text/plain": [
       "{'n_neighbors': 2}"
      ]
     },
     "execution_count": 87,
     "metadata": {},
     "output_type": "execute_result"
    }
   ],
   "source": [
    "from sklearn.model_selection import GridSearchCV\n",
    "params = {'n_neighbors':[1,2,3,4,5,6,7,8,9]}\n",
    "\n",
    "knn = neighbors.KNeighborsRegressor()\n",
    "\n",
    "model = GridSearchCV(knn, params, cv=5)\n",
    "model.fit(x_train,y_train)\n",
    "model.best_params_"
   ]
  },
  {
   "cell_type": "code",
   "execution_count": 88,
   "metadata": {},
   "outputs": [
    {
     "data": {
      "text/plain": [
       "0.9903267575544095"
      ]
     },
     "execution_count": 88,
     "metadata": {},
     "output_type": "execute_result"
    }
   ],
   "source": [
    "knn_score = model.score(x_test,y_test)\n",
    "knn_score"
   ]
  },
  {
   "cell_type": "code",
   "execution_count": 89,
   "metadata": {},
   "outputs": [
    {
     "data": {
      "text/plain": [
       "0.9901756131411971"
      ]
     },
     "execution_count": 89,
     "metadata": {},
     "output_type": "execute_result"
    }
   ],
   "source": [
    "#display adjusted R-squared\n",
    "1 - (1-model.score(x_test, y_test))*(len(y_test)-1)/(len(y_test)-x_test.shape[1]-1)"
   ]
  },
  {
   "cell_type": "code",
   "execution_count": 90,
   "metadata": {},
   "outputs": [
    {
     "name": "stdout",
     "output_type": "stream",
     "text": [
      "Model Performance\n",
      "Average Error: 0.0769 degrees.\n",
      "Accuracy = 98.39%.\n"
     ]
    }
   ],
   "source": [
    "accuracy_knn = evaluate(model, x_test, y_test)"
   ]
  },
  {
   "cell_type": "code",
   "execution_count": 91,
   "metadata": {},
   "outputs": [
    {
     "name": "stdout",
     "output_type": "stream",
     "text": [
      "Accuracy: 95.96 %.\n"
     ]
    }
   ],
   "source": [
    "#Calculate mean absolute percentage error (MAPE)\n",
    "mape = 100 * (error / y_test)\n",
    "# Calculate and display accuracy\n",
    "accuracy = 100 - np.mean(mape)\n",
    "print('Accuracy:', round(accuracy, 2), '%.')"
   ]
  },
  {
   "cell_type": "code",
   "execution_count": 92,
   "metadata": {},
   "outputs": [
    {
     "name": "stdout",
     "output_type": "stream",
     "text": [
      "Mean Absolute Error: 0.13672392778164597\n",
      "Mean Squared Error: 0.042232092919228977\n",
      "Root Mean Squared Error: 0.20550448393947265\n"
     ]
    }
   ],
   "source": [
    "from sklearn import metrics\n",
    "rmse_knn =  np.sqrt(metrics.mean_squared_error(y_test, pred_knn))\n",
    "\n",
    "print('Mean Absolute Error:', metrics.mean_absolute_error(y_test, pred_knn))  \n",
    "print('Mean Squared Error:', metrics.mean_squared_error(y_test, pred_knn))  \n",
    "print('Root Mean Squared Error:', np.sqrt(metrics.mean_squared_error(y_test, pred_knn)))\n"
   ]
  },
  {
   "cell_type": "markdown",
   "metadata": {},
   "source": [
    "### Desicion Tree"
   ]
  },
  {
   "cell_type": "code",
   "execution_count": 93,
   "metadata": {},
   "outputs": [
    {
     "data": {
      "text/plain": [
       "DecisionTreeRegressor(random_state=0)"
      ]
     },
     "execution_count": 93,
     "metadata": {},
     "output_type": "execute_result"
    }
   ],
   "source": [
    "from sklearn.tree import DecisionTreeRegressor\n",
    "#DecisionTreeRegressor class has many parameters. Input only #random_state=0 or 42.\n",
    "regressor = DecisionTreeRegressor(random_state=0)\n",
    "#Fit the regressor object to the dataset.\n",
    "regressor.fit(x_train,y_train)"
   ]
  },
  {
   "cell_type": "code",
   "execution_count": 94,
   "metadata": {},
   "outputs": [],
   "source": [
    "pred_dt = regressor.predict(x_test)"
   ]
  },
  {
   "cell_type": "code",
   "execution_count": 95,
   "metadata": {},
   "outputs": [
    {
     "name": "stdout",
     "output_type": "stream",
     "text": [
      "Model Performance\n",
      "Average Error: 0.0087 degrees.\n",
      "Accuracy = 99.84%.\n"
     ]
    }
   ],
   "source": [
    "accuracy_dt = evaluate(regressor, x_test, y_test)"
   ]
  },
  {
   "cell_type": "code",
   "execution_count": 96,
   "metadata": {},
   "outputs": [
    {
     "name": "stdout",
     "output_type": "stream",
     "text": [
      "Mean Absolute Error: 0.008655216081033899\n",
      "Mean Squared Error: 0.0007890331353921341\n",
      "Root Mean Squared Error: 0.028089733629782503\n"
     ]
    }
   ],
   "source": [
    "from sklearn import metrics\n",
    "rmse_dt =  np.sqrt(metrics.mean_squared_error(y_test, pred_dt))\n",
    "\n",
    "print('Mean Absolute Error:', metrics.mean_absolute_error(y_test, pred_dt))  \n",
    "print('Mean Squared Error:', metrics.mean_squared_error(y_test, pred_dt))  \n",
    "print('Root Mean Squared Error:', np.sqrt(metrics.mean_squared_error(y_test, pred_dt)))"
   ]
  },
  {
   "cell_type": "code",
   "execution_count": 97,
   "metadata": {},
   "outputs": [
    {
     "data": {
      "text/plain": [
       "0.9993635916339945"
      ]
     },
     "execution_count": 97,
     "metadata": {},
     "output_type": "execute_result"
    }
   ],
   "source": [
    "dt_score = regressor.score(x_test,y_test)\n",
    "dt_score"
   ]
  },
  {
   "cell_type": "code",
   "execution_count": 98,
   "metadata": {},
   "outputs": [
    {
     "data": {
      "text/plain": [
       "0.9993536477532756"
      ]
     },
     "execution_count": 98,
     "metadata": {},
     "output_type": "execute_result"
    }
   ],
   "source": [
    "#display adjusted R-squared\n",
    "1 - (1-regressor.score(x_test, y_test))*(len(y_test)-1)/(len(y_test)-x_test.shape[1]-1)"
   ]
  },
  {
   "cell_type": "markdown",
   "metadata": {},
   "source": [
    "### Random Forest"
   ]
  },
  {
   "cell_type": "code",
   "execution_count": 99,
   "metadata": {},
   "outputs": [],
   "source": [
    "# Import the model we are using\n",
    "from sklearn.ensemble import RandomForestRegressor\n",
    "# Instantiate model with 1000 decision trees\n",
    "rf = RandomForestRegressor(n_estimators = 1000, random_state = 42)\n",
    "# Train the model on training data\n",
    "rf.fit(x_train, y_train);"
   ]
  },
  {
   "cell_type": "code",
   "execution_count": 100,
   "metadata": {},
   "outputs": [
    {
     "name": "stdout",
     "output_type": "stream",
     "text": [
      "Mean Absolute Error: 0.02 degrees.\n",
      "Acuracy train 0.9996083247349824\n",
      "Acuracy test 0.9990723912338189\n"
     ]
    },
    {
     "data": {
      "text/plain": [
       "0.9990723912338189"
      ]
     },
     "execution_count": 100,
     "metadata": {},
     "output_type": "execute_result"
    }
   ],
   "source": [
    "# Use the forest's predict method on the test data\n",
    "predict_rf = rf.predict(x_test)\n",
    "# Calculate the absolute errors\n",
    "errors = abs(predict_rf - y_test)\n",
    "# Print out the mean absolute error (mae)\n",
    "print('Mean Absolute Error:', round(np.mean(errors), 2), 'degrees.')\n",
    "\n",
    "print(\"Acuracy train\",rf.score(x_train,y_train)) #score on train data\n",
    "\n",
    "print(\"Acuracy test\",rf.score(x_test,y_test)) #score on test data\n",
    "\n",
    "rf_score = rf.score(x_test,y_test)\n",
    "rf_score"
   ]
  },
  {
   "cell_type": "code",
   "execution_count": 101,
   "metadata": {},
   "outputs": [
    {
     "data": {
      "text/plain": [
       "array([6.22333247, 5.986693  , 6.550188  , 4.7353778 , 3.740619  ,\n",
       "       4.72996928, 7.40936712, 5.3503563 , 6.8248428 , 4.80860989,\n",
       "       4.72664303, 5.9872079 , 5.19927882, 5.15127491, 4.1395301 ,\n",
       "       4.58812891, 7.01389683, 5.9252661 , 4.90190559, 5.31040001,\n",
       "       4.22532781, 4.90173016, 6.3243328 , 7.33144081, 5.68970312,\n",
       "       3.86814778, 5.14665981, 3.61055447, 7.498025  , 4.80603892,\n",
       "       4.45908321, 5.98221601, 6.56737101, 5.3027573 , 6.76871255,\n",
       "       4.71061998, 4.43701262, 6.18341382, 5.15587763, 3.65511962,\n",
       "       4.30648466, 6.4154324 , 5.29922597, 4.61741573, 7.3340191 ,\n",
       "       4.5100223 , 3.32122158, 7.35077101, 5.15972563, 5.40522579,\n",
       "       6.36089399, 4.9268556 , 6.472808  , 4.07239565, 4.717643  ,\n",
       "       4.56355932, 4.14400301, 4.28306112, 5.4464533 , 5.99067081,\n",
       "       3.7523709 , 5.15746383, 7.30162459, 6.43008668, 7.06215557,\n",
       "       4.3383029 , 5.20745181, 5.93096349, 6.355842  , 7.58554342,\n",
       "       5.6593788 , 5.26207261, 4.288094  , 7.67755838, 2.920701  ,\n",
       "       7.31632805, 4.53862301, 4.513457  , 6.3635777 , 7.25434575,\n",
       "       5.941571  , 4.624334  , 6.20019261, 5.46568531, 6.45559653,\n",
       "       6.15098632, 6.05406371, 5.82382193, 5.06430551, 4.3789009 ,\n",
       "       7.5471179 , 7.325479  , 4.67435674, 5.28292441, 4.68526505,\n",
       "       3.62760496, 5.22896256, 4.02070661, 6.00575883, 4.854543  ,\n",
       "       7.42036912, 3.7383229 , 3.49672894, 5.58921118, 5.23896301,\n",
       "       6.0288932 , 4.0791044 , 5.7471823 , 3.72532476, 6.2886548 ,\n",
       "       3.8113186 , 5.81489097, 3.32307911, 3.84362721, 4.9706176 ,\n",
       "       4.21570905, 6.09930117, 7.31717646, 4.8800389 , 7.53637151,\n",
       "       5.58152699, 5.78052906, 4.8521101 , 5.6520353 , 5.25540351,\n",
       "       6.3357119 , 5.79796636, 6.00434772, 6.38828721, 5.63519729,\n",
       "       6.2734934 , 3.90389951, 5.1428627 , 6.16524701, 4.4491517 ,\n",
       "       4.3026641 , 3.650397  , 4.65640736, 6.88958636, 4.2333732 ,\n",
       "       4.00331501, 4.53884492, 5.69485   , 6.36637959, 6.05035099,\n",
       "       5.96419841, 5.9131034 , 6.09706203, 6.1430254 , 7.5870082 ,\n",
       "       6.4366635 , 5.18593023, 3.82054095, 5.8693108 , 4.834286  ,\n",
       "       3.46951739, 7.53282125, 4.94753983, 5.88192259, 3.67789433,\n",
       "       6.18344021, 6.4916564 , 7.130004  , 7.27523951, 5.4341629 ,\n",
       "       6.385175  , 6.1293277 , 5.28125003, 5.22159901, 5.90472069,\n",
       "       2.911602  , 5.23727524, 6.33554199, 6.1678165 , 7.6630994 ,\n",
       "       5.28622239, 4.24014699, 5.9253745 , 6.1513034 , 6.25332473,\n",
       "       6.252116  , 5.52969955, 5.95845602, 3.51198487, 5.06685144,\n",
       "       5.87765   , 6.9078506 , 4.15740439, 6.247734  , 6.2370148 ,\n",
       "       3.57377244, 5.63491912, 6.72124349, 4.9547729 , 5.16976703,\n",
       "       4.1267778 , 6.3160156 , 5.8872775 , 6.3362987 , 4.354236  ,\n",
       "       3.0252878 , 5.0805184 , 5.27397861, 5.16077678, 6.89536496,\n",
       "       4.73389181, 7.2004263 , 5.6561355 , 5.5305522 , 7.29010816,\n",
       "       5.10988965, 5.78483807, 4.296217  , 4.517053  , 4.77520179,\n",
       "       5.04396227, 4.29337807, 5.21920496, 5.689832  , 6.98837544,\n",
       "       5.97370979, 5.20201743, 6.43270199, 5.04093046, 5.5503729 ,\n",
       "       5.38919929, 3.4431828 , 6.9497889 , 4.26444589, 4.743206  ,\n",
       "       3.8655548 , 7.06671241, 5.4483701 , 7.2236502 , 5.5933463 ,\n",
       "       5.96697809, 5.55206954, 3.7512451 , 5.1002757 , 5.87356061,\n",
       "       3.6688564 , 5.74074442, 4.31701291, 5.98941832, 5.14410968,\n",
       "       4.47462701, 6.30493403, 5.83583799, 3.9197729 , 4.6665205 ,\n",
       "       6.2902616 , 4.6361284 , 5.4308999 , 4.423394  , 6.08372952,\n",
       "       5.5972733 , 3.69289108, 4.29111433, 4.172775  , 5.99958561,\n",
       "       6.69716269, 5.2537035 , 4.9007317 , 4.422594  , 3.0381256 ,\n",
       "       3.496297  , 5.86820979, 4.88424068, 3.45974379, 6.601692  ,\n",
       "       4.89485   , 5.203095  , 5.95673193, 4.3030668 , 4.30922801,\n",
       "       4.6764625 , 6.1249133 , 4.070229  , 5.65204242, 3.3940182 ,\n",
       "       5.1468223 , 5.1580835 , 4.708434  , 4.81734321, 3.347574  ,\n",
       "       4.590087  , 4.95354376, 3.61945   , 3.3746679 , 5.1193051 ,\n",
       "       5.09258411, 6.38971089, 6.4490146 , 4.4574179 , 4.63142018,\n",
       "       7.54698667, 3.89893911, 6.56575771, 4.624581  , 4.315717  ,\n",
       "       6.13114802, 5.82141899, 3.1918481 , 5.85294147, 6.15998605,\n",
       "       6.32232371, 6.4294141 , 3.754764  , 4.405152  , 5.22535175,\n",
       "       4.58004729, 5.66256329, 7.42883396, 3.85165995, 4.53659892,\n",
       "       5.47067889, 6.64063   , 2.9405023 , 5.037531  , 4.1266987 ,\n",
       "       4.6239467 , 5.71299591, 5.92596754, 3.6668743 , 5.23943128,\n",
       "       5.15860981])"
      ]
     },
     "execution_count": 101,
     "metadata": {},
     "output_type": "execute_result"
    }
   ],
   "source": [
    "predict_rf"
   ]
  },
  {
   "cell_type": "code",
   "execution_count": 102,
   "metadata": {},
   "outputs": [
    {
     "data": {
      "text/plain": [
       "0.9990578973468472"
      ]
     },
     "execution_count": 102,
     "metadata": {},
     "output_type": "execute_result"
    }
   ],
   "source": [
    "#display adjusted R-squared\n",
    "1 - (1-rf.score(x_test, y_test))*(len(y_test)-1)/(len(y_test)-x_test.shape[1]-1)"
   ]
  },
  {
   "cell_type": "code",
   "execution_count": 103,
   "metadata": {},
   "outputs": [
    {
     "name": "stdout",
     "output_type": "stream",
     "text": [
      "Accuracy: 99.61 %.\n"
     ]
    }
   ],
   "source": [
    "#Calculate mean absolute percentage error (MAPE)\n",
    "mape = 100 * (errors / y_test)\n",
    "# Calculate and display accuracy\n",
    "accuracy = 100 - np.mean(mape)\n",
    "print('Accuracy:', round(accuracy, 2), '%.')"
   ]
  },
  {
   "cell_type": "code",
   "execution_count": 104,
   "metadata": {},
   "outputs": [
    {
     "data": {
      "text/plain": [
       "38     0.005167\n",
       "47     0.005307\n",
       "28     0.005188\n",
       "107    0.018622\n",
       "144    0.001619\n",
       "         ...   \n",
       "66     0.020896\n",
       "56     0.024032\n",
       "146    0.014126\n",
       "83     0.004431\n",
       "88     0.003610\n",
       "Name: score, Length: 326, dtype: float64"
      ]
     },
     "execution_count": 104,
     "metadata": {},
     "output_type": "execute_result"
    }
   ],
   "source": [
    "errors"
   ]
  },
  {
   "cell_type": "code",
   "execution_count": 105,
   "metadata": {},
   "outputs": [
    {
     "data": {
      "text/plain": [
       "38     6.2285\n",
       "47     5.9920\n",
       "28     6.5450\n",
       "107    4.7540\n",
       "144    3.7390\n",
       "        ...  \n",
       "66     5.6921\n",
       "56     5.9500\n",
       "146    3.6810\n",
       "83     5.2350\n",
       "88     5.1550\n",
       "Name: score, Length: 326, dtype: float64"
      ]
     },
     "execution_count": 105,
     "metadata": {},
     "output_type": "execute_result"
    }
   ],
   "source": [
    "y_test"
   ]
  },
  {
   "cell_type": "code",
   "execution_count": 106,
   "metadata": {},
   "outputs": [
    {
     "name": "stdout",
     "output_type": "stream",
     "text": [
      "Model Performance\n",
      "Average Error: 0.0177 degrees.\n",
      "Accuracy = 99.61%.\n"
     ]
    }
   ],
   "source": [
    "accuracy_rf = evaluate(rf, x_test, y_test)"
   ]
  },
  {
   "cell_type": "code",
   "execution_count": 107,
   "metadata": {},
   "outputs": [
    {
     "name": "stdout",
     "output_type": "stream",
     "text": [
      "Mean Absolute Error: 0.01771503135963953\n",
      "Mean Squared Error: 0.0011500698172637657\n",
      "Root Mean Squared Error: 0.03391267929939723\n"
     ]
    }
   ],
   "source": [
    "from sklearn import metrics\n",
    "rmse_rf =  np.sqrt(metrics.mean_squared_error(y_test, predict_rf))\n",
    "\n",
    "print('Mean Absolute Error:', metrics.mean_absolute_error(y_test, predict_rf))  \n",
    "print('Mean Squared Error:', metrics.mean_squared_error(y_test, predict_rf))  \n",
    "print('Root Mean Squared Error:', np.sqrt(metrics.mean_squared_error(y_test, predict_rf)))"
   ]
  },
  {
   "cell_type": "markdown",
   "metadata": {},
   "source": [
    "### Comparison Of All The Algorithms Used"
   ]
  },
  {
   "cell_type": "code",
   "execution_count": 108,
   "metadata": {},
   "outputs": [],
   "source": [
    "data = {'Algorithm':['Linear', 'KNN', 'Decision Tree', 'Random Forest'],\n",
    "        'R Square':[lm_score, knn_score, dt_score, rf_score]}\n",
    "  "
   ]
  },
  {
   "cell_type": "code",
   "execution_count": 109,
   "metadata": {},
   "outputs": [
    {
     "data": {
      "text/html": [
       "<div>\n",
       "<style scoped>\n",
       "    .dataframe tbody tr th:only-of-type {\n",
       "        vertical-align: middle;\n",
       "    }\n",
       "\n",
       "    .dataframe tbody tr th {\n",
       "        vertical-align: top;\n",
       "    }\n",
       "\n",
       "    .dataframe thead th {\n",
       "        text-align: right;\n",
       "    }\n",
       "</style>\n",
       "<table border=\"1\" class=\"dataframe\">\n",
       "  <thead>\n",
       "    <tr style=\"text-align: right;\">\n",
       "      <th></th>\n",
       "      <th>Algorithm</th>\n",
       "      <th>R Square</th>\n",
       "    </tr>\n",
       "  </thead>\n",
       "  <tbody>\n",
       "    <tr>\n",
       "      <th>0</th>\n",
       "      <td>Linear</td>\n",
       "      <td>0.979455</td>\n",
       "    </tr>\n",
       "    <tr>\n",
       "      <th>1</th>\n",
       "      <td>KNN</td>\n",
       "      <td>0.990327</td>\n",
       "    </tr>\n",
       "    <tr>\n",
       "      <th>2</th>\n",
       "      <td>Decision Tree</td>\n",
       "      <td>0.999364</td>\n",
       "    </tr>\n",
       "    <tr>\n",
       "      <th>3</th>\n",
       "      <td>Random Forest</td>\n",
       "      <td>0.999072</td>\n",
       "    </tr>\n",
       "  </tbody>\n",
       "</table>\n",
       "</div>"
      ],
      "text/plain": [
       "       Algorithm  R Square\n",
       "0         Linear  0.979455\n",
       "1            KNN  0.990327\n",
       "2  Decision Tree  0.999364\n",
       "3  Random Forest  0.999072"
      ]
     },
     "execution_count": 109,
     "metadata": {},
     "output_type": "execute_result"
    }
   ],
   "source": [
    "pd.DataFrame(data)"
   ]
  },
  {
   "cell_type": "code",
   "execution_count": 110,
   "metadata": {},
   "outputs": [
    {
     "data": {
      "image/png": "[encoded data removed]",
      "text/plain": [
       "<Figure size 1152x360 with 1 Axes>"
      ]
     },
     "metadata": {},
     "output_type": "display_data"
    }
   ],
   "source": [
    "# Defining the plot size\n",
    "plt.figure(figsize=(16, 5))\n",
    "  \n",
    "# Defining the values for x-axis, y-axis\n",
    "# and from which datafarme the values are to be picked\n",
    "plots = sns.barplot(x=\"Algorithm\", y=\"R Square\", data=data)\n",
    "  \n",
    "# Iterrating over the bars one-by-one\n",
    "for bar in plots.patches:\n",
    "    \n",
    "  # Using Matplotlib's annotate function and\n",
    "  # passing the coordinates where the annotation shall be done\n",
    "  # x-coordinate: bar.get_x() + bar.get_width() / 2\n",
    "  # y-coordinate: bar.get_height()\n",
    "  # free space to be left to make graph pleasing: (0, 8)\n",
    "  # ha and va stand for the horizontal and vertical alignment\n",
    "    plots.annotate(format(bar.get_height(), '.4f'), \n",
    "                   (bar.get_x() + bar.get_width() / 2, \n",
    "                    bar.get_height()), ha='center', va='center',\n",
    "                   size=15, xytext=(0, 8),\n",
    "                   textcoords='offset points')\n",
    "  \n",
    "# Setting the label for x-axis\n",
    "plt.xlabel(\"Algorithm\", size=14)\n",
    "  \n",
    "# Setting the label for y-axis\n",
    "plt.ylabel(\"R Square\", size=14)\n",
    "  \n",
    "# Setting the title for the graph\n",
    "plt.title(\"This is an annotated barplot\")\n",
    "\n",
    "  \n",
    "# Fianlly showing the plot\n",
    "plt.show()"
   ]
  },
  {
   "cell_type": "code",
   "execution_count": 111,
   "metadata": {},
   "outputs": [],
   "source": [
    "data = {'Algorithm':['Linear', 'KNN', 'Decision Tree', 'Random Forest'],\n",
    "        'RMSE':[rmse_lr, rmse_knn, rmse_dt, rmse_rf]}\n",
    " "
   ]
  },
  {
   "cell_type": "code",
   "execution_count": 112,
   "metadata": {
    "scrolled": false
   },
   "outputs": [
    {
     "data": {
      "image/png": "[encoded data removed]",
      "text/plain": [
       "<Figure size 1152x360 with 1 Axes>"
      ]
     },
     "metadata": {},
     "output_type": "display_data"
    }
   ],
   "source": [
    "# Defining the plot size\n",
    "plt.figure(figsize=(16, 5))\n",
    "  \n",
    "# Defining the values for x-axis, y-axis\n",
    "# and from which datafarme the values are to be picked\n",
    "plots = sns.barplot(x=\"Algorithm\", y=\"RMSE\", data=data)\n",
    "  \n",
    "# Iterrating over the bars one-by-one\n",
    "for bar in plots.patches:\n",
    "    \n",
    "  # Using Matplotlib's annotate function and\n",
    "  # passing the coordinates where the annotation shall be done\n",
    "  # x-coordinate: bar.get_x() + bar.get_width() / 2\n",
    "  # y-coordinate: bar.get_height()\n",
    "  # free space to be left to make graph pleasing: (0, 8)\n",
    "  # ha and va stand for the horizontal and vertical alignment\n",
    "    plots.annotate(format(bar.get_height(), '.2f'), \n",
    "                   (bar.get_x() + bar.get_width() / 2, \n",
    "                    bar.get_height()), ha='center', va='center',\n",
    "                   size=15, xytext=(0, 8),\n",
    "                   textcoords='offset points')\n",
    "  \n",
    "# Setting the label for x-axis\n",
    "plt.xlabel(\"Algorithm\", size=14)\n",
    "  \n",
    "# Setting the label for y-axis\n",
    "plt.ylabel(\"RMSE\", size=14)\n",
    "  \n",
    "# Setting the title for the graph\n",
    "plt.title(\"This is an annotated barplot\")\n",
    "  \n",
    "# Fianlly showing the plot\n",
    "plt.show()"
   ]
  },
  {
   "cell_type": "markdown",
   "metadata": {},
   "source": [
    "### Prediction"
   ]
  },
  {
   "cell_type": "code",
   "execution_count": 113,
   "metadata": {},
   "outputs": [],
   "source": [
    "#df_new = data[:2277].copy()\n",
    "#df_new.head()"
   ]
  },
  {
   "cell_type": "code",
   "execution_count": null,
   "metadata": {},
   "outputs": [],
   "source": []
  },
  {
   "cell_type": "code",
   "execution_count": 114,
   "metadata": {},
   "outputs": [
    {
     "data": {
      "text/plain": [
       "(149, 8)"
      ]
     },
     "execution_count": 114,
     "metadata": {},
     "output_type": "execute_result"
    }
   ],
   "source": [
    "world_happiness_report_2021.shape"
   ]
  },
  {
   "cell_type": "code",
   "execution_count": 115,
   "metadata": {},
   "outputs": [
    {
     "data": {
      "text/html": [
       "<div>\n",
       "<style scoped>\n",
       "    .dataframe tbody tr th:only-of-type {\n",
       "        vertical-align: middle;\n",
       "    }\n",
       "\n",
       "    .dataframe tbody tr th {\n",
       "        vertical-align: top;\n",
       "    }\n",
       "\n",
       "    .dataframe thead th {\n",
       "        text-align: right;\n",
       "    }\n",
       "</style>\n",
       "<table border=\"1\" class=\"dataframe\">\n",
       "  <thead>\n",
       "    <tr style=\"text-align: right;\">\n",
       "      <th></th>\n",
       "      <th>Overall rank</th>\n",
       "      <th>score</th>\n",
       "      <th>Healthy life expectancy</th>\n",
       "      <th>Freedom</th>\n",
       "      <th>GDP per capita</th>\n",
       "      <th>Year</th>\n",
       "      <th>Country</th>\n",
       "    </tr>\n",
       "  </thead>\n",
       "  <tbody>\n",
       "    <tr>\n",
       "      <th>0</th>\n",
       "      <td>1</td>\n",
       "      <td>7.587</td>\n",
       "      <td>94.143</td>\n",
       "      <td>0.66557</td>\n",
       "      <td>1.39651</td>\n",
       "      <td>2015</td>\n",
       "      <td>Switzerland</td>\n",
       "    </tr>\n",
       "    <tr>\n",
       "      <th>1</th>\n",
       "      <td>2</td>\n",
       "      <td>7.561</td>\n",
       "      <td>94.784</td>\n",
       "      <td>0.62877</td>\n",
       "      <td>1.30232</td>\n",
       "      <td>2015</td>\n",
       "      <td>Iceland</td>\n",
       "    </tr>\n",
       "    <tr>\n",
       "      <th>2</th>\n",
       "      <td>3</td>\n",
       "      <td>7.527</td>\n",
       "      <td>87.464</td>\n",
       "      <td>0.64938</td>\n",
       "      <td>1.32548</td>\n",
       "      <td>2015</td>\n",
       "      <td>Denmark</td>\n",
       "    </tr>\n",
       "    <tr>\n",
       "      <th>3</th>\n",
       "      <td>4</td>\n",
       "      <td>7.522</td>\n",
       "      <td>88.521</td>\n",
       "      <td>0.66973</td>\n",
       "      <td>1.45900</td>\n",
       "      <td>2015</td>\n",
       "      <td>Norway</td>\n",
       "    </tr>\n",
       "    <tr>\n",
       "      <th>4</th>\n",
       "      <td>5</td>\n",
       "      <td>7.427</td>\n",
       "      <td>90.563</td>\n",
       "      <td>0.63297</td>\n",
       "      <td>1.32629</td>\n",
       "      <td>2015</td>\n",
       "      <td>Canada</td>\n",
       "    </tr>\n",
       "  </tbody>\n",
       "</table>\n",
       "</div>"
      ],
      "text/plain": [
       "   Overall rank  score  Healthy life expectancy  Freedom  GDP per capita  \\\n",
       "0             1  7.587                   94.143  0.66557         1.39651   \n",
       "1             2  7.561                   94.784  0.62877         1.30232   \n",
       "2             3  7.527                   87.464  0.64938         1.32548   \n",
       "3             4  7.522                   88.521  0.66973         1.45900   \n",
       "4             5  7.427                   90.563  0.63297         1.32629   \n",
       "\n",
       "   Year      Country  \n",
       "0  2015  Switzerland  \n",
       "1  2015      Iceland  \n",
       "2  2015      Denmark  \n",
       "3  2015       Norway  \n",
       "4  2015       Canada  "
      ]
     },
     "execution_count": 115,
     "metadata": {},
     "output_type": "execute_result"
    }
   ],
   "source": [
    "df_new = df[:149].copy()\n",
    "df_new.head()"
   ]
  },
  {
   "cell_type": "code",
   "execution_count": 116,
   "metadata": {},
   "outputs": [
    {
     "data": {
      "text/html": [
       "<div>\n",
       "<style scoped>\n",
       "    .dataframe tbody tr th:only-of-type {\n",
       "        vertical-align: middle;\n",
       "    }\n",
       "\n",
       "    .dataframe tbody tr th {\n",
       "        vertical-align: top;\n",
       "    }\n",
       "\n",
       "    .dataframe thead th {\n",
       "        text-align: right;\n",
       "    }\n",
       "</style>\n",
       "<table border=\"1\" class=\"dataframe\">\n",
       "  <thead>\n",
       "    <tr style=\"text-align: right;\">\n",
       "      <th></th>\n",
       "      <th>Overall rank</th>\n",
       "      <th>Healthy life expectancy</th>\n",
       "      <th>Freedom</th>\n",
       "      <th>GDP per capita</th>\n",
       "      <th>Year</th>\n",
       "      <th>Country</th>\n",
       "    </tr>\n",
       "  </thead>\n",
       "  <tbody>\n",
       "    <tr>\n",
       "      <th>0</th>\n",
       "      <td>1</td>\n",
       "      <td>94.143</td>\n",
       "      <td>0.66557</td>\n",
       "      <td>1.39651</td>\n",
       "      <td>2015</td>\n",
       "      <td>Switzerland</td>\n",
       "    </tr>\n",
       "    <tr>\n",
       "      <th>1</th>\n",
       "      <td>2</td>\n",
       "      <td>94.784</td>\n",
       "      <td>0.62877</td>\n",
       "      <td>1.30232</td>\n",
       "      <td>2015</td>\n",
       "      <td>Iceland</td>\n",
       "    </tr>\n",
       "    <tr>\n",
       "      <th>2</th>\n",
       "      <td>3</td>\n",
       "      <td>87.464</td>\n",
       "      <td>0.64938</td>\n",
       "      <td>1.32548</td>\n",
       "      <td>2015</td>\n",
       "      <td>Denmark</td>\n",
       "    </tr>\n",
       "    <tr>\n",
       "      <th>3</th>\n",
       "      <td>4</td>\n",
       "      <td>88.521</td>\n",
       "      <td>0.66973</td>\n",
       "      <td>1.45900</td>\n",
       "      <td>2015</td>\n",
       "      <td>Norway</td>\n",
       "    </tr>\n",
       "    <tr>\n",
       "      <th>4</th>\n",
       "      <td>5</td>\n",
       "      <td>90.563</td>\n",
       "      <td>0.63297</td>\n",
       "      <td>1.32629</td>\n",
       "      <td>2015</td>\n",
       "      <td>Canada</td>\n",
       "    </tr>\n",
       "  </tbody>\n",
       "</table>\n",
       "</div>"
      ],
      "text/plain": [
       "   Overall rank  Healthy life expectancy  Freedom  GDP per capita  Year  \\\n",
       "0             1                   94.143  0.66557         1.39651  2015   \n",
       "1             2                   94.784  0.62877         1.30232  2015   \n",
       "2             3                   87.464  0.64938         1.32548  2015   \n",
       "3             4                   88.521  0.66973         1.45900  2015   \n",
       "4             5                   90.563  0.63297         1.32629  2015   \n",
       "\n",
       "       Country  \n",
       "0  Switzerland  \n",
       "1      Iceland  \n",
       "2      Denmark  \n",
       "3       Norway  \n",
       "4       Canada  "
      ]
     },
     "execution_count": 116,
     "metadata": {},
     "output_type": "execute_result"
    }
   ],
   "source": [
    "length = df_new.shape[0]\n",
    "arr = [2022]*149\n",
    "df_new.drop(['score'], axis=1,inplace=True)\n",
    "df_new.head()"
   ]
  },
  {
   "cell_type": "code",
   "execution_count": 117,
   "metadata": {},
   "outputs": [],
   "source": [
    "predictions_2022 = regressor.predict(df_new.drop('Country',axis=1))\n",
    "df2022 = pd.DataFrame(df_new)\n",
    "df2022['score'] = predictions_2022"
   ]
  },
  {
   "cell_type": "code",
   "execution_count": 138,
   "metadata": {},
   "outputs": [
    {
     "data": {
      "text/plain": [
       "array([2.92741061, 2.92576411, 2.92576411, 2.92741061, 2.92576411,\n",
       "       2.92576411, 2.92576411, 2.92662131, 2.92576411, 2.92572931,\n",
       "       2.85172991, 2.92576411, 2.92576411, 2.90486721, 2.91137281,\n",
       "       2.90486721, 2.92576411, 2.92576411, 2.91824081, 2.92576411,\n",
       "       2.91898881, 2.92576411, 2.86311251, 2.91075081, 2.91044451,\n",
       "       2.92576411, 2.89251131, 2.92576411, 2.91137281, 2.89261052,\n",
       "       2.89461372, 2.92576411, 2.91044451, 2.91404581, 2.82292901,\n",
       "       2.89365572, 2.92576411, 2.82878551, 2.91404581, 2.92576411,\n",
       "       2.91404581, 2.82531401, 2.91613421, 2.93385402, 2.82415421,\n",
       "       2.90497221, 2.82430021, 2.90486721, 2.89365572, 2.82369051,\n",
       "       2.91547181, 2.84461901, 2.91044451, 2.91041951, 2.92576411,\n",
       "       2.83162911, 2.93446782, 2.85172991, 2.82884781, 2.91041951,\n",
       "       2.91041951, 2.82419761, 2.85172991, 2.82884781, 2.90497221,\n",
       "       2.90486721, 2.82712691, 2.82013311, 2.82993421, 2.89534602,\n",
       "       2.91466781, 2.91898881, 2.89261052, 2.89461372, 2.92732582,\n",
       "       2.83096811, 2.88377201, 2.82566961, 2.91045051, 2.82884781,\n",
       "       2.84508051, 2.82712691, 2.82886751, 2.91041951, 2.92583252,\n",
       "       2.83018791, 2.83064851, 2.90861761, 2.82292901, 2.92576411,\n",
       "       2.99515621, 2.85172991, 2.83217021, 2.94091261, 2.83063191,\n",
       "       2.82925421, 2.84432701, 2.91613421, 2.93754482, 2.89251131,\n",
       "       2.82292901, 2.82765221, 2.83154411, 2.82415421, 2.85033031,\n",
       "       2.91684612, 2.82369051, 2.84869191, 2.87293961, 2.82292901,\n",
       "       2.82980221, 2.83013281, 2.82430021, 2.88277781, 2.92794491,\n",
       "       2.92398351, 2.82470251, 2.84768251, 2.93403031, 2.83445322,\n",
       "       2.84981501, 2.96770161, 2.96891351, 2.84869191, 2.88205241,\n",
       "       2.91636352, 2.83064851, 2.90486721, 2.99320411, 2.82762901,\n",
       "       2.93534481, 2.91044451, 2.92583252, 2.82292901, 2.82808951,\n",
       "       2.85049671, 2.82923201, 2.94071141, 2.85106751, 2.93360961,\n",
       "       2.99376621, 2.84889191, 2.82415421, 2.99549021, 2.94063872,\n",
       "       2.93137071, 2.93274201, 3.00298631, 2.92661201])"
      ]
     },
     "execution_count": 138,
     "metadata": {},
     "output_type": "execute_result"
    }
   ],
   "source": [
    "predictions_2023\n"
   ]
  },
  {
   "cell_type": "code",
   "execution_count": 119,
   "metadata": {},
   "outputs": [],
   "source": [
    "df2022['Year'] = arr"
   ]
  },
  {
   "cell_type": "code",
   "execution_count": 120,
   "metadata": {},
   "outputs": [
    {
     "data": {
      "text/html": [
       "<div>\n",
       "<style scoped>\n",
       "    .dataframe tbody tr th:only-of-type {\n",
       "        vertical-align: middle;\n",
       "    }\n",
       "\n",
       "    .dataframe tbody tr th {\n",
       "        vertical-align: top;\n",
       "    }\n",
       "\n",
       "    .dataframe thead th {\n",
       "        text-align: right;\n",
       "    }\n",
       "</style>\n",
       "<table border=\"1\" class=\"dataframe\">\n",
       "  <thead>\n",
       "    <tr style=\"text-align: right;\">\n",
       "      <th></th>\n",
       "      <th>Overall rank</th>\n",
       "      <th>score</th>\n",
       "      <th>Healthy life expectancy</th>\n",
       "      <th>Freedom</th>\n",
       "      <th>Generosity</th>\n",
       "      <th>GDP per capita</th>\n",
       "      <th>Year</th>\n",
       "      <th>Country</th>\n",
       "    </tr>\n",
       "  </thead>\n",
       "  <tbody>\n",
       "    <tr>\n",
       "      <th>0</th>\n",
       "      <td>1</td>\n",
       "      <td>7.842</td>\n",
       "      <td>72.000</td>\n",
       "      <td>0.949</td>\n",
       "      <td>-0.098</td>\n",
       "      <td>10.775</td>\n",
       "      <td>2021</td>\n",
       "      <td>Finland</td>\n",
       "    </tr>\n",
       "    <tr>\n",
       "      <th>1</th>\n",
       "      <td>2</td>\n",
       "      <td>7.620</td>\n",
       "      <td>72.700</td>\n",
       "      <td>0.946</td>\n",
       "      <td>0.030</td>\n",
       "      <td>10.933</td>\n",
       "      <td>2021</td>\n",
       "      <td>Denmark</td>\n",
       "    </tr>\n",
       "    <tr>\n",
       "      <th>2</th>\n",
       "      <td>3</td>\n",
       "      <td>7.571</td>\n",
       "      <td>74.400</td>\n",
       "      <td>0.919</td>\n",
       "      <td>0.025</td>\n",
       "      <td>11.117</td>\n",
       "      <td>2021</td>\n",
       "      <td>Switzerland</td>\n",
       "    </tr>\n",
       "    <tr>\n",
       "      <th>3</th>\n",
       "      <td>4</td>\n",
       "      <td>7.554</td>\n",
       "      <td>73.000</td>\n",
       "      <td>0.955</td>\n",
       "      <td>0.160</td>\n",
       "      <td>10.878</td>\n",
       "      <td>2021</td>\n",
       "      <td>Iceland</td>\n",
       "    </tr>\n",
       "    <tr>\n",
       "      <th>4</th>\n",
       "      <td>5</td>\n",
       "      <td>7.464</td>\n",
       "      <td>72.400</td>\n",
       "      <td>0.913</td>\n",
       "      <td>0.175</td>\n",
       "      <td>10.932</td>\n",
       "      <td>2021</td>\n",
       "      <td>Netherlands</td>\n",
       "    </tr>\n",
       "    <tr>\n",
       "      <th>...</th>\n",
       "      <td>...</td>\n",
       "      <td>...</td>\n",
       "      <td>...</td>\n",
       "      <td>...</td>\n",
       "      <td>...</td>\n",
       "      <td>...</td>\n",
       "      <td>...</td>\n",
       "      <td>...</td>\n",
       "    </tr>\n",
       "    <tr>\n",
       "      <th>144</th>\n",
       "      <td>145</td>\n",
       "      <td>3.512</td>\n",
       "      <td>48.700</td>\n",
       "      <td>0.715</td>\n",
       "      <td>-0.131</td>\n",
       "      <td>7.926</td>\n",
       "      <td>2021</td>\n",
       "      <td>Lesotho</td>\n",
       "    </tr>\n",
       "    <tr>\n",
       "      <th>145</th>\n",
       "      <td>146</td>\n",
       "      <td>3.467</td>\n",
       "      <td>59.269</td>\n",
       "      <td>0.824</td>\n",
       "      <td>-0.246</td>\n",
       "      <td>9.782</td>\n",
       "      <td>2021</td>\n",
       "      <td>Botswana</td>\n",
       "    </tr>\n",
       "    <tr>\n",
       "      <th>146</th>\n",
       "      <td>147</td>\n",
       "      <td>3.415</td>\n",
       "      <td>61.400</td>\n",
       "      <td>0.897</td>\n",
       "      <td>0.061</td>\n",
       "      <td>7.676</td>\n",
       "      <td>2021</td>\n",
       "      <td>Rwanda</td>\n",
       "    </tr>\n",
       "    <tr>\n",
       "      <th>147</th>\n",
       "      <td>148</td>\n",
       "      <td>3.145</td>\n",
       "      <td>56.201</td>\n",
       "      <td>0.677</td>\n",
       "      <td>-0.047</td>\n",
       "      <td>7.943</td>\n",
       "      <td>2021</td>\n",
       "      <td>Zimbabwe</td>\n",
       "    </tr>\n",
       "    <tr>\n",
       "      <th>148</th>\n",
       "      <td>149</td>\n",
       "      <td>2.523</td>\n",
       "      <td>52.493</td>\n",
       "      <td>0.382</td>\n",
       "      <td>-0.102</td>\n",
       "      <td>7.695</td>\n",
       "      <td>2021</td>\n",
       "      <td>Afghanistan</td>\n",
       "    </tr>\n",
       "  </tbody>\n",
       "</table>\n",
       "<p>149 rows × 8 columns</p>\n",
       "</div>"
      ],
      "text/plain": [
       "     Overall rank  score  Healthy life expectancy  Freedom  Generosity  \\\n",
       "0               1  7.842                   72.000    0.949      -0.098   \n",
       "1               2  7.620                   72.700    0.946       0.030   \n",
       "2               3  7.571                   74.400    0.919       0.025   \n",
       "3               4  7.554                   73.000    0.955       0.160   \n",
       "4               5  7.464                   72.400    0.913       0.175   \n",
       "..            ...    ...                      ...      ...         ...   \n",
       "144           145  3.512                   48.700    0.715      -0.131   \n",
       "145           146  3.467                   59.269    0.824      -0.246   \n",
       "146           147  3.415                   61.400    0.897       0.061   \n",
       "147           148  3.145                   56.201    0.677      -0.047   \n",
       "148           149  2.523                   52.493    0.382      -0.102   \n",
       "\n",
       "     GDP per capita  Year      Country  \n",
       "0            10.775  2021      Finland  \n",
       "1            10.933  2021      Denmark  \n",
       "2            11.117  2021  Switzerland  \n",
       "3            10.878  2021      Iceland  \n",
       "4            10.932  2021  Netherlands  \n",
       "..              ...   ...          ...  \n",
       "144           7.926  2021      Lesotho  \n",
       "145           9.782  2021     Botswana  \n",
       "146           7.676  2021       Rwanda  \n",
       "147           7.943  2021     Zimbabwe  \n",
       "148           7.695  2021  Afghanistan  \n",
       "\n",
       "[149 rows x 8 columns]"
      ]
     },
     "execution_count": 120,
     "metadata": {},
     "output_type": "execute_result"
    }
   ],
   "source": [
    "world_happiness_report_2021"
   ]
  },
  {
   "cell_type": "code",
   "execution_count": 121,
   "metadata": {},
   "outputs": [
    {
     "data": {
      "text/html": [
       "<div>\n",
       "<style scoped>\n",
       "    .dataframe tbody tr th:only-of-type {\n",
       "        vertical-align: middle;\n",
       "    }\n",
       "\n",
       "    .dataframe tbody tr th {\n",
       "        vertical-align: top;\n",
       "    }\n",
       "\n",
       "    .dataframe thead th {\n",
       "        text-align: right;\n",
       "    }\n",
       "</style>\n",
       "<table border=\"1\" class=\"dataframe\">\n",
       "  <thead>\n",
       "    <tr style=\"text-align: right;\">\n",
       "      <th></th>\n",
       "      <th>Overall rank</th>\n",
       "      <th>Healthy life expectancy</th>\n",
       "      <th>Freedom</th>\n",
       "      <th>GDP per capita</th>\n",
       "      <th>Year</th>\n",
       "      <th>Country</th>\n",
       "      <th>score</th>\n",
       "    </tr>\n",
       "  </thead>\n",
       "  <tbody>\n",
       "    <tr>\n",
       "      <th>0</th>\n",
       "      <td>1</td>\n",
       "      <td>94.143</td>\n",
       "      <td>0.66557</td>\n",
       "      <td>1.39651</td>\n",
       "      <td>2022</td>\n",
       "      <td>Switzerland</td>\n",
       "      <td>2.5669</td>\n",
       "    </tr>\n",
       "    <tr>\n",
       "      <th>1</th>\n",
       "      <td>2</td>\n",
       "      <td>94.784</td>\n",
       "      <td>0.62877</td>\n",
       "      <td>1.30232</td>\n",
       "      <td>2022</td>\n",
       "      <td>Iceland</td>\n",
       "      <td>2.5669</td>\n",
       "    </tr>\n",
       "    <tr>\n",
       "      <th>2</th>\n",
       "      <td>3</td>\n",
       "      <td>87.464</td>\n",
       "      <td>0.64938</td>\n",
       "      <td>1.32548</td>\n",
       "      <td>2022</td>\n",
       "      <td>Denmark</td>\n",
       "      <td>2.5669</td>\n",
       "    </tr>\n",
       "    <tr>\n",
       "      <th>3</th>\n",
       "      <td>4</td>\n",
       "      <td>88.521</td>\n",
       "      <td>0.66973</td>\n",
       "      <td>1.45900</td>\n",
       "      <td>2022</td>\n",
       "      <td>Norway</td>\n",
       "      <td>2.5669</td>\n",
       "    </tr>\n",
       "    <tr>\n",
       "      <th>4</th>\n",
       "      <td>5</td>\n",
       "      <td>90.563</td>\n",
       "      <td>0.63297</td>\n",
       "      <td>1.32629</td>\n",
       "      <td>2022</td>\n",
       "      <td>Canada</td>\n",
       "      <td>2.5669</td>\n",
       "    </tr>\n",
       "    <tr>\n",
       "      <th>...</th>\n",
       "      <td>...</td>\n",
       "      <td>...</td>\n",
       "      <td>...</td>\n",
       "      <td>...</td>\n",
       "      <td>...</td>\n",
       "      <td>...</td>\n",
       "      <td>...</td>\n",
       "    </tr>\n",
       "    <tr>\n",
       "      <th>144</th>\n",
       "      <td>145</td>\n",
       "      <td>61.114</td>\n",
       "      <td>0.66246</td>\n",
       "      <td>0.46038</td>\n",
       "      <td>2022</td>\n",
       "      <td>Cambodia</td>\n",
       "      <td>2.5669</td>\n",
       "    </tr>\n",
       "    <tr>\n",
       "      <th>145</th>\n",
       "      <td>146</td>\n",
       "      <td>38.215</td>\n",
       "      <td>0.32878</td>\n",
       "      <td>0.28520</td>\n",
       "      <td>2022</td>\n",
       "      <td>Tanzania</td>\n",
       "      <td>2.5669</td>\n",
       "    </tr>\n",
       "    <tr>\n",
       "      <th>146</th>\n",
       "      <td>147</td>\n",
       "      <td>46.721</td>\n",
       "      <td>0.19184</td>\n",
       "      <td>0.20824</td>\n",
       "      <td>2022</td>\n",
       "      <td>Madagascar</td>\n",
       "      <td>2.5669</td>\n",
       "    </tr>\n",
       "    <tr>\n",
       "      <th>147</th>\n",
       "      <td>148</td>\n",
       "      <td>6.699</td>\n",
       "      <td>0.48879</td>\n",
       "      <td>0.07850</td>\n",
       "      <td>2022</td>\n",
       "      <td>Central African Republic</td>\n",
       "      <td>2.5669</td>\n",
       "    </tr>\n",
       "    <tr>\n",
       "      <th>148</th>\n",
       "      <td>149</td>\n",
       "      <td>15.010</td>\n",
       "      <td>0.23501</td>\n",
       "      <td>0.34193</td>\n",
       "      <td>2022</td>\n",
       "      <td>Chad</td>\n",
       "      <td>2.5669</td>\n",
       "    </tr>\n",
       "  </tbody>\n",
       "</table>\n",
       "<p>149 rows × 7 columns</p>\n",
       "</div>"
      ],
      "text/plain": [
       "     Overall rank  Healthy life expectancy  Freedom  GDP per capita  Year  \\\n",
       "0               1                   94.143  0.66557         1.39651  2022   \n",
       "1               2                   94.784  0.62877         1.30232  2022   \n",
       "2               3                   87.464  0.64938         1.32548  2022   \n",
       "3               4                   88.521  0.66973         1.45900  2022   \n",
       "4               5                   90.563  0.63297         1.32629  2022   \n",
       "..            ...                      ...      ...             ...   ...   \n",
       "144           145                   61.114  0.66246         0.46038  2022   \n",
       "145           146                   38.215  0.32878         0.28520  2022   \n",
       "146           147                   46.721  0.19184         0.20824  2022   \n",
       "147           148                    6.699  0.48879         0.07850  2022   \n",
       "148           149                   15.010  0.23501         0.34193  2022   \n",
       "\n",
       "                      Country   score  \n",
       "0                 Switzerland  2.5669  \n",
       "1                     Iceland  2.5669  \n",
       "2                     Denmark  2.5669  \n",
       "3                      Norway  2.5669  \n",
       "4                      Canada  2.5669  \n",
       "..                        ...     ...  \n",
       "144                  Cambodia  2.5669  \n",
       "145                  Tanzania  2.5669  \n",
       "146                Madagascar  2.5669  \n",
       "147  Central African Republic  2.5669  \n",
       "148                      Chad  2.5669  \n",
       "\n",
       "[149 rows x 7 columns]"
      ]
     },
     "execution_count": 121,
     "metadata": {},
     "output_type": "execute_result"
    }
   ],
   "source": [
    "df2022"
   ]
  },
  {
   "cell_type": "code",
   "execution_count": 122,
   "metadata": {},
   "outputs": [],
   "source": [
    "df_new = df[:149].copy()\n",
    "length = df_new.shape[0]\n",
    "arr = [2023]*149\n",
    "df_new.drop(['score'], axis=1,inplace=True)"
   ]
  },
  {
   "cell_type": "code",
   "execution_count": 123,
   "metadata": {},
   "outputs": [],
   "source": [
    "predictions_2023 = rf.predict(df_new.drop('Country',axis=1))\n",
    "df2023 = pd.DataFrame(df_new)\n",
    "df2023['score'] = predictions_2023"
   ]
  },
  {
   "cell_type": "code",
   "execution_count": 124,
   "metadata": {},
   "outputs": [],
   "source": [
    "df2023['Year'] = arr"
   ]
  },
  {
   "cell_type": "code",
   "execution_count": 125,
   "metadata": {},
   "outputs": [],
   "source": [
    "df_new = df[:149].copy()\n",
    "length = df_new.shape[0]\n",
    "arr = [2024]*149\n",
    "df_new.drop(['score'], axis=1,inplace=True)"
   ]
  },
  {
   "cell_type": "code",
   "execution_count": 126,
   "metadata": {},
   "outputs": [],
   "source": [
    "predictions_2024 = rf.predict(df_new.drop('Country',axis=1))\n",
    "df2024 = pd.DataFrame(df_new)\n",
    "df2024['score'] = predictions_2024"
   ]
  },
  {
   "cell_type": "code",
   "execution_count": 127,
   "metadata": {},
   "outputs": [],
   "source": [
    "df2024['Year'] = arr"
   ]
  },
  {
   "cell_type": "code",
   "execution_count": 128,
   "metadata": {},
   "outputs": [],
   "source": [
    "df_new = df[:149].copy()\n",
    "length = df_new.shape[0]\n",
    "arr = [2025]*149\n",
    "df_new.drop(['score'], axis=1,inplace=True)"
   ]
  },
  {
   "cell_type": "code",
   "execution_count": 129,
   "metadata": {},
   "outputs": [],
   "source": [
    "predictions_2025 = rf.predict(df_new.drop('Country',axis=1))\n",
    "df2025 = pd.DataFrame(df_new)\n",
    "df2025['score'] = predictions_2025"
   ]
  },
  {
   "cell_type": "code",
   "execution_count": 130,
   "metadata": {},
   "outputs": [],
   "source": [
    "df2025['Year'] = arr"
   ]
  },
  {
   "cell_type": "code",
   "execution_count": 131,
   "metadata": {},
   "outputs": [],
   "source": [
    "new = [df,df2022,df2023,df2024,df2025]"
   ]
  },
  {
   "cell_type": "code",
   "execution_count": 132,
   "metadata": {},
   "outputs": [
    {
     "data": {
      "text/html": [
       "<div>\n",
       "<style scoped>\n",
       "    .dataframe tbody tr th:only-of-type {\n",
       "        vertical-align: middle;\n",
       "    }\n",
       "\n",
       "    .dataframe tbody tr th {\n",
       "        vertical-align: top;\n",
       "    }\n",
       "\n",
       "    .dataframe thead th {\n",
       "        text-align: right;\n",
       "    }\n",
       "</style>\n",
       "<table border=\"1\" class=\"dataframe\">\n",
       "  <thead>\n",
       "    <tr style=\"text-align: right;\">\n",
       "      <th></th>\n",
       "      <th>Overall rank</th>\n",
       "      <th>Healthy life expectancy</th>\n",
       "      <th>Freedom</th>\n",
       "      <th>GDP per capita</th>\n",
       "      <th>Year</th>\n",
       "      <th>Country</th>\n",
       "      <th>score</th>\n",
       "    </tr>\n",
       "  </thead>\n",
       "  <tbody>\n",
       "    <tr>\n",
       "      <th>0</th>\n",
       "      <td>1</td>\n",
       "      <td>94.143</td>\n",
       "      <td>0.66557</td>\n",
       "      <td>1.39651</td>\n",
       "      <td>2025</td>\n",
       "      <td>Switzerland</td>\n",
       "      <td>2.927411</td>\n",
       "    </tr>\n",
       "    <tr>\n",
       "      <th>1</th>\n",
       "      <td>2</td>\n",
       "      <td>94.784</td>\n",
       "      <td>0.62877</td>\n",
       "      <td>1.30232</td>\n",
       "      <td>2025</td>\n",
       "      <td>Iceland</td>\n",
       "      <td>2.925764</td>\n",
       "    </tr>\n",
       "    <tr>\n",
       "      <th>2</th>\n",
       "      <td>3</td>\n",
       "      <td>87.464</td>\n",
       "      <td>0.64938</td>\n",
       "      <td>1.32548</td>\n",
       "      <td>2025</td>\n",
       "      <td>Denmark</td>\n",
       "      <td>2.925764</td>\n",
       "    </tr>\n",
       "    <tr>\n",
       "      <th>3</th>\n",
       "      <td>4</td>\n",
       "      <td>88.521</td>\n",
       "      <td>0.66973</td>\n",
       "      <td>1.45900</td>\n",
       "      <td>2025</td>\n",
       "      <td>Norway</td>\n",
       "      <td>2.927411</td>\n",
       "    </tr>\n",
       "    <tr>\n",
       "      <th>4</th>\n",
       "      <td>5</td>\n",
       "      <td>90.563</td>\n",
       "      <td>0.63297</td>\n",
       "      <td>1.32629</td>\n",
       "      <td>2025</td>\n",
       "      <td>Canada</td>\n",
       "      <td>2.925764</td>\n",
       "    </tr>\n",
       "    <tr>\n",
       "      <th>...</th>\n",
       "      <td>...</td>\n",
       "      <td>...</td>\n",
       "      <td>...</td>\n",
       "      <td>...</td>\n",
       "      <td>...</td>\n",
       "      <td>...</td>\n",
       "      <td>...</td>\n",
       "    </tr>\n",
       "    <tr>\n",
       "      <th>144</th>\n",
       "      <td>145</td>\n",
       "      <td>61.114</td>\n",
       "      <td>0.66246</td>\n",
       "      <td>0.46038</td>\n",
       "      <td>2025</td>\n",
       "      <td>Cambodia</td>\n",
       "      <td>2.940639</td>\n",
       "    </tr>\n",
       "    <tr>\n",
       "      <th>145</th>\n",
       "      <td>146</td>\n",
       "      <td>38.215</td>\n",
       "      <td>0.32878</td>\n",
       "      <td>0.28520</td>\n",
       "      <td>2025</td>\n",
       "      <td>Tanzania</td>\n",
       "      <td>2.931371</td>\n",
       "    </tr>\n",
       "    <tr>\n",
       "      <th>146</th>\n",
       "      <td>147</td>\n",
       "      <td>46.721</td>\n",
       "      <td>0.19184</td>\n",
       "      <td>0.20824</td>\n",
       "      <td>2025</td>\n",
       "      <td>Madagascar</td>\n",
       "      <td>2.932742</td>\n",
       "    </tr>\n",
       "    <tr>\n",
       "      <th>147</th>\n",
       "      <td>148</td>\n",
       "      <td>6.699</td>\n",
       "      <td>0.48879</td>\n",
       "      <td>0.07850</td>\n",
       "      <td>2025</td>\n",
       "      <td>Central African Republic</td>\n",
       "      <td>3.002986</td>\n",
       "    </tr>\n",
       "    <tr>\n",
       "      <th>148</th>\n",
       "      <td>149</td>\n",
       "      <td>15.010</td>\n",
       "      <td>0.23501</td>\n",
       "      <td>0.34193</td>\n",
       "      <td>2025</td>\n",
       "      <td>Chad</td>\n",
       "      <td>2.926612</td>\n",
       "    </tr>\n",
       "  </tbody>\n",
       "</table>\n",
       "<p>149 rows × 7 columns</p>\n",
       "</div>"
      ],
      "text/plain": [
       "     Overall rank  Healthy life expectancy  Freedom  GDP per capita  Year  \\\n",
       "0               1                   94.143  0.66557         1.39651  2025   \n",
       "1               2                   94.784  0.62877         1.30232  2025   \n",
       "2               3                   87.464  0.64938         1.32548  2025   \n",
       "3               4                   88.521  0.66973         1.45900  2025   \n",
       "4               5                   90.563  0.63297         1.32629  2025   \n",
       "..            ...                      ...      ...             ...   ...   \n",
       "144           145                   61.114  0.66246         0.46038  2025   \n",
       "145           146                   38.215  0.32878         0.28520  2025   \n",
       "146           147                   46.721  0.19184         0.20824  2025   \n",
       "147           148                    6.699  0.48879         0.07850  2025   \n",
       "148           149                   15.010  0.23501         0.34193  2025   \n",
       "\n",
       "                      Country     score  \n",
       "0                 Switzerland  2.927411  \n",
       "1                     Iceland  2.925764  \n",
       "2                     Denmark  2.925764  \n",
       "3                      Norway  2.927411  \n",
       "4                      Canada  2.925764  \n",
       "..                        ...       ...  \n",
       "144                  Cambodia  2.940639  \n",
       "145                  Tanzania  2.931371  \n",
       "146                Madagascar  2.932742  \n",
       "147  Central African Republic  3.002986  \n",
       "148                      Chad  2.926612  \n",
       "\n",
       "[149 rows x 7 columns]"
      ]
     },
     "execution_count": 132,
     "metadata": {},
     "output_type": "execute_result"
    }
   ],
   "source": [
    "df2025"
   ]
  },
  {
   "cell_type": "code",
   "execution_count": 133,
   "metadata": {},
   "outputs": [
    {
     "data": {
      "text/html": [
       "<div>\n",
       "<style scoped>\n",
       "    .dataframe tbody tr th:only-of-type {\n",
       "        vertical-align: middle;\n",
       "    }\n",
       "\n",
       "    .dataframe tbody tr th {\n",
       "        vertical-align: top;\n",
       "    }\n",
       "\n",
       "    .dataframe thead th {\n",
       "        text-align: right;\n",
       "    }\n",
       "</style>\n",
       "<table border=\"1\" class=\"dataframe\">\n",
       "  <thead>\n",
       "    <tr style=\"text-align: right;\">\n",
       "      <th></th>\n",
       "      <th>Overall rank</th>\n",
       "      <th>score</th>\n",
       "      <th>Healthy life expectancy</th>\n",
       "      <th>Freedom</th>\n",
       "      <th>GDP per capita</th>\n",
       "      <th>Year</th>\n",
       "      <th>Country</th>\n",
       "    </tr>\n",
       "  </thead>\n",
       "  <tbody>\n",
       "    <tr>\n",
       "      <th>0</th>\n",
       "      <td>1</td>\n",
       "      <td>7.587000</td>\n",
       "      <td>94.143</td>\n",
       "      <td>0.66557</td>\n",
       "      <td>1.39651</td>\n",
       "      <td>2015</td>\n",
       "      <td>Switzerland</td>\n",
       "    </tr>\n",
       "    <tr>\n",
       "      <th>1</th>\n",
       "      <td>2</td>\n",
       "      <td>7.561000</td>\n",
       "      <td>94.784</td>\n",
       "      <td>0.62877</td>\n",
       "      <td>1.30232</td>\n",
       "      <td>2015</td>\n",
       "      <td>Iceland</td>\n",
       "    </tr>\n",
       "    <tr>\n",
       "      <th>2</th>\n",
       "      <td>3</td>\n",
       "      <td>7.527000</td>\n",
       "      <td>87.464</td>\n",
       "      <td>0.64938</td>\n",
       "      <td>1.32548</td>\n",
       "      <td>2015</td>\n",
       "      <td>Denmark</td>\n",
       "    </tr>\n",
       "    <tr>\n",
       "      <th>3</th>\n",
       "      <td>4</td>\n",
       "      <td>7.522000</td>\n",
       "      <td>88.521</td>\n",
       "      <td>0.66973</td>\n",
       "      <td>1.45900</td>\n",
       "      <td>2015</td>\n",
       "      <td>Norway</td>\n",
       "    </tr>\n",
       "    <tr>\n",
       "      <th>4</th>\n",
       "      <td>5</td>\n",
       "      <td>7.427000</td>\n",
       "      <td>90.563</td>\n",
       "      <td>0.63297</td>\n",
       "      <td>1.32629</td>\n",
       "      <td>2015</td>\n",
       "      <td>Canada</td>\n",
       "    </tr>\n",
       "    <tr>\n",
       "      <th>...</th>\n",
       "      <td>...</td>\n",
       "      <td>...</td>\n",
       "      <td>...</td>\n",
       "      <td>...</td>\n",
       "      <td>...</td>\n",
       "      <td>...</td>\n",
       "      <td>...</td>\n",
       "    </tr>\n",
       "    <tr>\n",
       "      <th>144</th>\n",
       "      <td>145</td>\n",
       "      <td>2.940639</td>\n",
       "      <td>61.114</td>\n",
       "      <td>0.66246</td>\n",
       "      <td>0.46038</td>\n",
       "      <td>2025</td>\n",
       "      <td>Cambodia</td>\n",
       "    </tr>\n",
       "    <tr>\n",
       "      <th>145</th>\n",
       "      <td>146</td>\n",
       "      <td>2.931371</td>\n",
       "      <td>38.215</td>\n",
       "      <td>0.32878</td>\n",
       "      <td>0.28520</td>\n",
       "      <td>2025</td>\n",
       "      <td>Tanzania</td>\n",
       "    </tr>\n",
       "    <tr>\n",
       "      <th>146</th>\n",
       "      <td>147</td>\n",
       "      <td>2.932742</td>\n",
       "      <td>46.721</td>\n",
       "      <td>0.19184</td>\n",
       "      <td>0.20824</td>\n",
       "      <td>2025</td>\n",
       "      <td>Madagascar</td>\n",
       "    </tr>\n",
       "    <tr>\n",
       "      <th>147</th>\n",
       "      <td>148</td>\n",
       "      <td>3.002986</td>\n",
       "      <td>6.699</td>\n",
       "      <td>0.48879</td>\n",
       "      <td>0.07850</td>\n",
       "      <td>2025</td>\n",
       "      <td>Central African Republic</td>\n",
       "    </tr>\n",
       "    <tr>\n",
       "      <th>148</th>\n",
       "      <td>149</td>\n",
       "      <td>2.926612</td>\n",
       "      <td>15.010</td>\n",
       "      <td>0.23501</td>\n",
       "      <td>0.34193</td>\n",
       "      <td>2025</td>\n",
       "      <td>Chad</td>\n",
       "    </tr>\n",
       "  </tbody>\n",
       "</table>\n",
       "<p>1680 rows × 7 columns</p>\n",
       "</div>"
      ],
      "text/plain": [
       "     Overall rank     score  Healthy life expectancy  Freedom  GDP per capita  \\\n",
       "0               1  7.587000                   94.143  0.66557         1.39651   \n",
       "1               2  7.561000                   94.784  0.62877         1.30232   \n",
       "2               3  7.527000                   87.464  0.64938         1.32548   \n",
       "3               4  7.522000                   88.521  0.66973         1.45900   \n",
       "4               5  7.427000                   90.563  0.63297         1.32629   \n",
       "..            ...       ...                      ...      ...             ...   \n",
       "144           145  2.940639                   61.114  0.66246         0.46038   \n",
       "145           146  2.931371                   38.215  0.32878         0.28520   \n",
       "146           147  2.932742                   46.721  0.19184         0.20824   \n",
       "147           148  3.002986                    6.699  0.48879         0.07850   \n",
       "148           149  2.926612                   15.010  0.23501         0.34193   \n",
       "\n",
       "     Year                   Country  \n",
       "0    2015               Switzerland  \n",
       "1    2015                   Iceland  \n",
       "2    2015                   Denmark  \n",
       "3    2015                    Norway  \n",
       "4    2015                    Canada  \n",
       "..    ...                       ...  \n",
       "144  2025                  Cambodia  \n",
       "145  2025                  Tanzania  \n",
       "146  2025                Madagascar  \n",
       "147  2025  Central African Republic  \n",
       "148  2025                      Chad  \n",
       "\n",
       "[1680 rows x 7 columns]"
      ]
     },
     "execution_count": 133,
     "metadata": {},
     "output_type": "execute_result"
    }
   ],
   "source": [
    "df = pd.concat(new)\n",
    "df"
   ]
  },
  {
   "cell_type": "code",
   "execution_count": 134,
   "metadata": {},
   "outputs": [],
   "source": [
    "df0 = df.iloc[:30,:]"
   ]
  },
  {
   "cell_type": "code",
   "execution_count": 135,
   "metadata": {},
   "outputs": [
    {
     "data": {
      "text/html": [
       "<div>\n",
       "<style scoped>\n",
       "    .dataframe tbody tr th:only-of-type {\n",
       "        vertical-align: middle;\n",
       "    }\n",
       "\n",
       "    .dataframe tbody tr th {\n",
       "        vertical-align: top;\n",
       "    }\n",
       "\n",
       "    .dataframe thead th {\n",
       "        text-align: right;\n",
       "    }\n",
       "</style>\n",
       "<table border=\"1\" class=\"dataframe\">\n",
       "  <thead>\n",
       "    <tr style=\"text-align: right;\">\n",
       "      <th></th>\n",
       "      <th>Overall rank</th>\n",
       "      <th>score</th>\n",
       "      <th>Healthy life expectancy</th>\n",
       "      <th>Freedom</th>\n",
       "      <th>GDP per capita</th>\n",
       "      <th>Year</th>\n",
       "      <th>Country</th>\n",
       "    </tr>\n",
       "  </thead>\n",
       "  <tbody>\n",
       "    <tr>\n",
       "      <th>0</th>\n",
       "      <td>1</td>\n",
       "      <td>7.587</td>\n",
       "      <td>94.143</td>\n",
       "      <td>0.66557</td>\n",
       "      <td>1.39651</td>\n",
       "      <td>2015</td>\n",
       "      <td>Switzerland</td>\n",
       "    </tr>\n",
       "    <tr>\n",
       "      <th>1</th>\n",
       "      <td>2</td>\n",
       "      <td>7.561</td>\n",
       "      <td>94.784</td>\n",
       "      <td>0.62877</td>\n",
       "      <td>1.30232</td>\n",
       "      <td>2015</td>\n",
       "      <td>Iceland</td>\n",
       "    </tr>\n",
       "    <tr>\n",
       "      <th>2</th>\n",
       "      <td>3</td>\n",
       "      <td>7.527</td>\n",
       "      <td>87.464</td>\n",
       "      <td>0.64938</td>\n",
       "      <td>1.32548</td>\n",
       "      <td>2015</td>\n",
       "      <td>Denmark</td>\n",
       "    </tr>\n",
       "    <tr>\n",
       "      <th>3</th>\n",
       "      <td>4</td>\n",
       "      <td>7.522</td>\n",
       "      <td>88.521</td>\n",
       "      <td>0.66973</td>\n",
       "      <td>1.45900</td>\n",
       "      <td>2015</td>\n",
       "      <td>Norway</td>\n",
       "    </tr>\n",
       "    <tr>\n",
       "      <th>4</th>\n",
       "      <td>5</td>\n",
       "      <td>7.427</td>\n",
       "      <td>90.563</td>\n",
       "      <td>0.63297</td>\n",
       "      <td>1.32629</td>\n",
       "      <td>2015</td>\n",
       "      <td>Canada</td>\n",
       "    </tr>\n",
       "    <tr>\n",
       "      <th>5</th>\n",
       "      <td>6</td>\n",
       "      <td>7.406</td>\n",
       "      <td>88.911</td>\n",
       "      <td>0.64169</td>\n",
       "      <td>1.29025</td>\n",
       "      <td>2015</td>\n",
       "      <td>Finland</td>\n",
       "    </tr>\n",
       "    <tr>\n",
       "      <th>6</th>\n",
       "      <td>7</td>\n",
       "      <td>7.378</td>\n",
       "      <td>89.284</td>\n",
       "      <td>0.61576</td>\n",
       "      <td>1.32944</td>\n",
       "      <td>2015</td>\n",
       "      <td>Netherlands</td>\n",
       "    </tr>\n",
       "    <tr>\n",
       "      <th>7</th>\n",
       "      <td>8</td>\n",
       "      <td>7.364</td>\n",
       "      <td>91.087</td>\n",
       "      <td>0.65980</td>\n",
       "      <td>1.33171</td>\n",
       "      <td>2015</td>\n",
       "      <td>Sweden</td>\n",
       "    </tr>\n",
       "    <tr>\n",
       "      <th>8</th>\n",
       "      <td>9</td>\n",
       "      <td>7.286</td>\n",
       "      <td>90.837</td>\n",
       "      <td>0.63938</td>\n",
       "      <td>1.25018</td>\n",
       "      <td>2015</td>\n",
       "      <td>New Zealand</td>\n",
       "    </tr>\n",
       "    <tr>\n",
       "      <th>9</th>\n",
       "      <td>10</td>\n",
       "      <td>7.284</td>\n",
       "      <td>93.156</td>\n",
       "      <td>0.65124</td>\n",
       "      <td>1.33358</td>\n",
       "      <td>2015</td>\n",
       "      <td>Australia</td>\n",
       "    </tr>\n",
       "    <tr>\n",
       "      <th>10</th>\n",
       "      <td>11</td>\n",
       "      <td>7.278</td>\n",
       "      <td>91.387</td>\n",
       "      <td>0.41319</td>\n",
       "      <td>1.22857</td>\n",
       "      <td>2015</td>\n",
       "      <td>Israel</td>\n",
       "    </tr>\n",
       "    <tr>\n",
       "      <th>11</th>\n",
       "      <td>12</td>\n",
       "      <td>7.226</td>\n",
       "      <td>86.027</td>\n",
       "      <td>0.63376</td>\n",
       "      <td>0.95578</td>\n",
       "      <td>2015</td>\n",
       "      <td>Costa Rica</td>\n",
       "    </tr>\n",
       "    <tr>\n",
       "      <th>12</th>\n",
       "      <td>13</td>\n",
       "      <td>7.200</td>\n",
       "      <td>89.042</td>\n",
       "      <td>0.62433</td>\n",
       "      <td>1.33723</td>\n",
       "      <td>2015</td>\n",
       "      <td>Austria</td>\n",
       "    </tr>\n",
       "    <tr>\n",
       "      <th>13</th>\n",
       "      <td>14</td>\n",
       "      <td>7.187</td>\n",
       "      <td>81.444</td>\n",
       "      <td>0.48181</td>\n",
       "      <td>1.02054</td>\n",
       "      <td>2015</td>\n",
       "      <td>Mexico</td>\n",
       "    </tr>\n",
       "    <tr>\n",
       "      <th>14</th>\n",
       "      <td>15</td>\n",
       "      <td>7.119</td>\n",
       "      <td>86.179</td>\n",
       "      <td>0.54604</td>\n",
       "      <td>1.39451</td>\n",
       "      <td>2015</td>\n",
       "      <td>United States</td>\n",
       "    </tr>\n",
       "    <tr>\n",
       "      <th>15</th>\n",
       "      <td>16</td>\n",
       "      <td>6.983</td>\n",
       "      <td>69.702</td>\n",
       "      <td>0.49049</td>\n",
       "      <td>0.98124</td>\n",
       "      <td>2015</td>\n",
       "      <td>Brazil</td>\n",
       "    </tr>\n",
       "    <tr>\n",
       "      <th>16</th>\n",
       "      <td>17</td>\n",
       "      <td>6.946</td>\n",
       "      <td>91.894</td>\n",
       "      <td>0.61583</td>\n",
       "      <td>1.56391</td>\n",
       "      <td>2015</td>\n",
       "      <td>Luxembourg</td>\n",
       "    </tr>\n",
       "    <tr>\n",
       "      <th>17</th>\n",
       "      <td>18</td>\n",
       "      <td>6.940</td>\n",
       "      <td>89.533</td>\n",
       "      <td>0.61777</td>\n",
       "      <td>1.33596</td>\n",
       "      <td>2015</td>\n",
       "      <td>Ireland</td>\n",
       "    </tr>\n",
       "    <tr>\n",
       "      <th>18</th>\n",
       "      <td>19</td>\n",
       "      <td>6.937</td>\n",
       "      <td>89.667</td>\n",
       "      <td>0.58450</td>\n",
       "      <td>1.30782</td>\n",
       "      <td>2015</td>\n",
       "      <td>Belgium</td>\n",
       "    </tr>\n",
       "    <tr>\n",
       "      <th>19</th>\n",
       "      <td>20</td>\n",
       "      <td>6.901</td>\n",
       "      <td>80.925</td>\n",
       "      <td>0.64157</td>\n",
       "      <td>1.42727</td>\n",
       "      <td>2015</td>\n",
       "      <td>United Arab Emirates</td>\n",
       "    </tr>\n",
       "    <tr>\n",
       "      <th>20</th>\n",
       "      <td>21</td>\n",
       "      <td>6.867</td>\n",
       "      <td>90.943</td>\n",
       "      <td>0.59625</td>\n",
       "      <td>1.26637</td>\n",
       "      <td>2015</td>\n",
       "      <td>United Kingdom</td>\n",
       "    </tr>\n",
       "    <tr>\n",
       "      <th>21</th>\n",
       "      <td>22</td>\n",
       "      <td>6.853</td>\n",
       "      <td>76.276</td>\n",
       "      <td>0.63274</td>\n",
       "      <td>1.36011</td>\n",
       "      <td>2015</td>\n",
       "      <td>Oman</td>\n",
       "    </tr>\n",
       "    <tr>\n",
       "      <th>22</th>\n",
       "      <td>23</td>\n",
       "      <td>6.810</td>\n",
       "      <td>72.052</td>\n",
       "      <td>0.42908</td>\n",
       "      <td>1.04424</td>\n",
       "      <td>2015</td>\n",
       "      <td>Venezuela</td>\n",
       "    </tr>\n",
       "    <tr>\n",
       "      <th>23</th>\n",
       "      <td>24</td>\n",
       "      <td>6.798</td>\n",
       "      <td>102.525</td>\n",
       "      <td>0.54252</td>\n",
       "      <td>1.52186</td>\n",
       "      <td>2015</td>\n",
       "      <td>Singapore</td>\n",
       "    </tr>\n",
       "    <tr>\n",
       "      <th>24</th>\n",
       "      <td>25</td>\n",
       "      <td>6.786</td>\n",
       "      <td>79.661</td>\n",
       "      <td>0.54210</td>\n",
       "      <td>1.06353</td>\n",
       "      <td>2015</td>\n",
       "      <td>Panama</td>\n",
       "    </tr>\n",
       "    <tr>\n",
       "      <th>25</th>\n",
       "      <td>26</td>\n",
       "      <td>6.750</td>\n",
       "      <td>89.186</td>\n",
       "      <td>0.61477</td>\n",
       "      <td>1.32792</td>\n",
       "      <td>2015</td>\n",
       "      <td>Germany</td>\n",
       "    </tr>\n",
       "    <tr>\n",
       "      <th>26</th>\n",
       "      <td>27</td>\n",
       "      <td>6.670</td>\n",
       "      <td>85.857</td>\n",
       "      <td>0.44132</td>\n",
       "      <td>1.10715</td>\n",
       "      <td>2015</td>\n",
       "      <td>Chile</td>\n",
       "    </tr>\n",
       "    <tr>\n",
       "      <th>27</th>\n",
       "      <td>28</td>\n",
       "      <td>6.611</td>\n",
       "      <td>79.733</td>\n",
       "      <td>0.64040</td>\n",
       "      <td>1.69042</td>\n",
       "      <td>2015</td>\n",
       "      <td>Qatar</td>\n",
       "    </tr>\n",
       "    <tr>\n",
       "      <th>28</th>\n",
       "      <td>29</td>\n",
       "      <td>6.575</td>\n",
       "      <td>94.579</td>\n",
       "      <td>0.55011</td>\n",
       "      <td>1.27778</td>\n",
       "      <td>2015</td>\n",
       "      <td>France</td>\n",
       "    </tr>\n",
       "    <tr>\n",
       "      <th>29</th>\n",
       "      <td>30</td>\n",
       "      <td>6.574</td>\n",
       "      <td>78.723</td>\n",
       "      <td>0.44974</td>\n",
       "      <td>1.05351</td>\n",
       "      <td>2015</td>\n",
       "      <td>Argentina</td>\n",
       "    </tr>\n",
       "  </tbody>\n",
       "</table>\n",
       "</div>"
      ],
      "text/plain": [
       "    Overall rank  score  Healthy life expectancy  Freedom  GDP per capita  \\\n",
       "0              1  7.587                   94.143  0.66557         1.39651   \n",
       "1              2  7.561                   94.784  0.62877         1.30232   \n",
       "2              3  7.527                   87.464  0.64938         1.32548   \n",
       "3              4  7.522                   88.521  0.66973         1.45900   \n",
       "4              5  7.427                   90.563  0.63297         1.32629   \n",
       "5              6  7.406                   88.911  0.64169         1.29025   \n",
       "6              7  7.378                   89.284  0.61576         1.32944   \n",
       "7              8  7.364                   91.087  0.65980         1.33171   \n",
       "8              9  7.286                   90.837  0.63938         1.25018   \n",
       "9             10  7.284                   93.156  0.65124         1.33358   \n",
       "10            11  7.278                   91.387  0.41319         1.22857   \n",
       "11            12  7.226                   86.027  0.63376         0.95578   \n",
       "12            13  7.200                   89.042  0.62433         1.33723   \n",
       "13            14  7.187                   81.444  0.48181         1.02054   \n",
       "14            15  7.119                   86.179  0.54604         1.39451   \n",
       "15            16  6.983                   69.702  0.49049         0.98124   \n",
       "16            17  6.946                   91.894  0.61583         1.56391   \n",
       "17            18  6.940                   89.533  0.61777         1.33596   \n",
       "18            19  6.937                   89.667  0.58450         1.30782   \n",
       "19            20  6.901                   80.925  0.64157         1.42727   \n",
       "20            21  6.867                   90.943  0.59625         1.26637   \n",
       "21            22  6.853                   76.276  0.63274         1.36011   \n",
       "22            23  6.810                   72.052  0.42908         1.04424   \n",
       "23            24  6.798                  102.525  0.54252         1.52186   \n",
       "24            25  6.786                   79.661  0.54210         1.06353   \n",
       "25            26  6.750                   89.186  0.61477         1.32792   \n",
       "26            27  6.670                   85.857  0.44132         1.10715   \n",
       "27            28  6.611                   79.733  0.64040         1.69042   \n",
       "28            29  6.575                   94.579  0.55011         1.27778   \n",
       "29            30  6.574                   78.723  0.44974         1.05351   \n",
       "\n",
       "    Year               Country  \n",
       "0   2015           Switzerland  \n",
       "1   2015               Iceland  \n",
       "2   2015               Denmark  \n",
       "3   2015                Norway  \n",
       "4   2015                Canada  \n",
       "5   2015               Finland  \n",
       "6   2015           Netherlands  \n",
       "7   2015                Sweden  \n",
       "8   2015           New Zealand  \n",
       "9   2015             Australia  \n",
       "10  2015                Israel  \n",
       "11  2015            Costa Rica  \n",
       "12  2015               Austria  \n",
       "13  2015                Mexico  \n",
       "14  2015         United States  \n",
       "15  2015                Brazil  \n",
       "16  2015            Luxembourg  \n",
       "17  2015               Ireland  \n",
       "18  2015               Belgium  \n",
       "19  2015  United Arab Emirates  \n",
       "20  2015        United Kingdom  \n",
       "21  2015                  Oman  \n",
       "22  2015             Venezuela  \n",
       "23  2015             Singapore  \n",
       "24  2015                Panama  \n",
       "25  2015               Germany  \n",
       "26  2015                 Chile  \n",
       "27  2015                 Qatar  \n",
       "28  2015                France  \n",
       "29  2015             Argentina  "
      ]
     },
     "execution_count": 135,
     "metadata": {},
     "output_type": "execute_result"
    }
   ],
   "source": [
    "df0"
   ]
  },
  {
   "cell_type": "code",
   "execution_count": 136,
   "metadata": {},
   "outputs": [
    {
     "data": {
      "text/html": [
       "<div>\n",
       "<style scoped>\n",
       "    .dataframe tbody tr th:only-of-type {\n",
       "        vertical-align: middle;\n",
       "    }\n",
       "\n",
       "    .dataframe tbody tr th {\n",
       "        vertical-align: top;\n",
       "    }\n",
       "\n",
       "    .dataframe thead th {\n",
       "        text-align: right;\n",
       "    }\n",
       "</style>\n",
       "<table border=\"1\" class=\"dataframe\">\n",
       "  <thead>\n",
       "    <tr style=\"text-align: right;\">\n",
       "      <th></th>\n",
       "      <th>Overall rank</th>\n",
       "      <th>score</th>\n",
       "      <th>Healthy life expectancy</th>\n",
       "      <th>Freedom</th>\n",
       "      <th>GDP per capita</th>\n",
       "      <th>Year</th>\n",
       "      <th>Country</th>\n",
       "    </tr>\n",
       "  </thead>\n",
       "  <tbody>\n",
       "    <tr>\n",
       "      <th>148</th>\n",
       "      <td>149</td>\n",
       "      <td>2.926612</td>\n",
       "      <td>15.010</td>\n",
       "      <td>0.23501</td>\n",
       "      <td>0.34193</td>\n",
       "      <td>2024</td>\n",
       "      <td>Chad</td>\n",
       "    </tr>\n",
       "    <tr>\n",
       "      <th>0</th>\n",
       "      <td>1</td>\n",
       "      <td>2.927411</td>\n",
       "      <td>94.143</td>\n",
       "      <td>0.66557</td>\n",
       "      <td>1.39651</td>\n",
       "      <td>2025</td>\n",
       "      <td>Switzerland</td>\n",
       "    </tr>\n",
       "    <tr>\n",
       "      <th>1</th>\n",
       "      <td>2</td>\n",
       "      <td>2.925764</td>\n",
       "      <td>94.784</td>\n",
       "      <td>0.62877</td>\n",
       "      <td>1.30232</td>\n",
       "      <td>2025</td>\n",
       "      <td>Iceland</td>\n",
       "    </tr>\n",
       "    <tr>\n",
       "      <th>2</th>\n",
       "      <td>3</td>\n",
       "      <td>2.925764</td>\n",
       "      <td>87.464</td>\n",
       "      <td>0.64938</td>\n",
       "      <td>1.32548</td>\n",
       "      <td>2025</td>\n",
       "      <td>Denmark</td>\n",
       "    </tr>\n",
       "    <tr>\n",
       "      <th>3</th>\n",
       "      <td>4</td>\n",
       "      <td>2.927411</td>\n",
       "      <td>88.521</td>\n",
       "      <td>0.66973</td>\n",
       "      <td>1.45900</td>\n",
       "      <td>2025</td>\n",
       "      <td>Norway</td>\n",
       "    </tr>\n",
       "    <tr>\n",
       "      <th>...</th>\n",
       "      <td>...</td>\n",
       "      <td>...</td>\n",
       "      <td>...</td>\n",
       "      <td>...</td>\n",
       "      <td>...</td>\n",
       "      <td>...</td>\n",
       "      <td>...</td>\n",
       "    </tr>\n",
       "    <tr>\n",
       "      <th>144</th>\n",
       "      <td>145</td>\n",
       "      <td>2.940639</td>\n",
       "      <td>61.114</td>\n",
       "      <td>0.66246</td>\n",
       "      <td>0.46038</td>\n",
       "      <td>2025</td>\n",
       "      <td>Cambodia</td>\n",
       "    </tr>\n",
       "    <tr>\n",
       "      <th>145</th>\n",
       "      <td>146</td>\n",
       "      <td>2.931371</td>\n",
       "      <td>38.215</td>\n",
       "      <td>0.32878</td>\n",
       "      <td>0.28520</td>\n",
       "      <td>2025</td>\n",
       "      <td>Tanzania</td>\n",
       "    </tr>\n",
       "    <tr>\n",
       "      <th>146</th>\n",
       "      <td>147</td>\n",
       "      <td>2.932742</td>\n",
       "      <td>46.721</td>\n",
       "      <td>0.19184</td>\n",
       "      <td>0.20824</td>\n",
       "      <td>2025</td>\n",
       "      <td>Madagascar</td>\n",
       "    </tr>\n",
       "    <tr>\n",
       "      <th>147</th>\n",
       "      <td>148</td>\n",
       "      <td>3.002986</td>\n",
       "      <td>6.699</td>\n",
       "      <td>0.48879</td>\n",
       "      <td>0.07850</td>\n",
       "      <td>2025</td>\n",
       "      <td>Central African Republic</td>\n",
       "    </tr>\n",
       "    <tr>\n",
       "      <th>148</th>\n",
       "      <td>149</td>\n",
       "      <td>2.926612</td>\n",
       "      <td>15.010</td>\n",
       "      <td>0.23501</td>\n",
       "      <td>0.34193</td>\n",
       "      <td>2025</td>\n",
       "      <td>Chad</td>\n",
       "    </tr>\n",
       "  </tbody>\n",
       "</table>\n",
       "<p>150 rows × 7 columns</p>\n",
       "</div>"
      ],
      "text/plain": [
       "     Overall rank     score  Healthy life expectancy  Freedom  GDP per capita  \\\n",
       "148           149  2.926612                   15.010  0.23501         0.34193   \n",
       "0               1  2.927411                   94.143  0.66557         1.39651   \n",
       "1               2  2.925764                   94.784  0.62877         1.30232   \n",
       "2               3  2.925764                   87.464  0.64938         1.32548   \n",
       "3               4  2.927411                   88.521  0.66973         1.45900   \n",
       "..            ...       ...                      ...      ...             ...   \n",
       "144           145  2.940639                   61.114  0.66246         0.46038   \n",
       "145           146  2.931371                   38.215  0.32878         0.28520   \n",
       "146           147  2.932742                   46.721  0.19184         0.20824   \n",
       "147           148  3.002986                    6.699  0.48879         0.07850   \n",
       "148           149  2.926612                   15.010  0.23501         0.34193   \n",
       "\n",
       "     Year                   Country  \n",
       "148  2024                      Chad  \n",
       "0    2025               Switzerland  \n",
       "1    2025                   Iceland  \n",
       "2    2025                   Denmark  \n",
       "3    2025                    Norway  \n",
       "..    ...                       ...  \n",
       "144  2025                  Cambodia  \n",
       "145  2025                  Tanzania  \n",
       "146  2025                Madagascar  \n",
       "147  2025  Central African Republic  \n",
       "148  2025                      Chad  \n",
       "\n",
       "[150 rows x 7 columns]"
      ]
     },
     "execution_count": 136,
     "metadata": {},
     "output_type": "execute_result"
    }
   ],
   "source": [
    "df.tail(150)"
   ]
  },
  {
   "cell_type": "code",
   "execution_count": 137,
   "metadata": {},
   "outputs": [
    {
     "data": {
      "text/plain": [
       "<AxesSubplot:xlabel='Year', ylabel='score'>"
      ]
     },
     "execution_count": 137,
     "metadata": {},
     "output_type": "execute_result"
    },
    {
     "data": {
      "image/png": "[encoded data removed]",
      "text/plain": [
       "<Figure size 432x288 with 1 Axes>"
      ]
     },
     "metadata": {},
     "output_type": "display_data"
    }
   ],
   "source": [
    "import seaborn as sns\n",
    "sns.lineplot(data=df, x=\"Year\", y=\"score\")"
   ]
  },
  {
   "cell_type": "code",
   "execution_count": null,
   "metadata": {},
   "outputs": [],
   "source": []
  }
 ],
 "metadata": {
  "kernelspec": {
   "display_name": "Python 3",
   "language": "python",
   "name": "python3"
  },
  "language_info": {
   "codemirror_mode": {
    "name": "ipython",
    "version": 3
   },
   "file_extension": ".py",
   "mimetype": "text/x-python",
   "name": "python",
   "nbconvert_exporter": "python",
   "pygments_lexer": "ipython3",
   "version": "3.8.5"
  }
 },
 "nbformat": 4,
 "nbformat_minor": 4
}
